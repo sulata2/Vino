{
  "nbformat": 4,
  "nbformat_minor": 0,
  "metadata": {
    "accelerator": "GPU",
    "colab": {
      "name": "Untitled0.ipynb",
      "provenance": [],
      "collapsed_sections": []
    },
    "kernelspec": {
      "display_name": "Python 3",
      "language": "python",
      "name": "python3"
    },
    "language_info": {
      "codemirror_mode": {
        "name": "ipython",
        "version": 3
      },
      "file_extension": ".py",
      "mimetype": "text/x-python",
      "name": "python",
      "nbconvert_exporter": "python",
      "pygments_lexer": "ipython3",
      "version": "3.7.6"
    },
    "widgets": {
      "application/vnd.jupyter.widget-state+json": {
        "9643f59cf71d4e40b162699a8b67e47a": {
          "model_module": "@jupyter-widgets/controls",
          "model_name": "HBoxModel",
          "state": {
            "_view_name": "HBoxView",
            "_dom_classes": [],
            "_model_name": "HBoxModel",
            "_view_module": "@jupyter-widgets/controls",
            "_model_module_version": "1.5.0",
            "_view_count": null,
            "_view_module_version": "1.5.0",
            "box_style": "",
            "layout": "IPY_MODEL_87ab76fa68e643e7a61bcebdcbc84e00",
            "_model_module": "@jupyter-widgets/controls",
            "children": [
              "IPY_MODEL_b994fb0ae3f0404689437e3e6fb2b057",
              "IPY_MODEL_98400d01848e43428b563889de99a861"
            ]
          }
        },
        "87ab76fa68e643e7a61bcebdcbc84e00": {
          "model_module": "@jupyter-widgets/base",
          "model_name": "LayoutModel",
          "state": {
            "_view_name": "LayoutView",
            "grid_template_rows": null,
            "right": null,
            "justify_content": null,
            "_view_module": "@jupyter-widgets/base",
            "overflow": null,
            "_model_module_version": "1.2.0",
            "_view_count": null,
            "flex_flow": null,
            "width": null,
            "min_width": null,
            "border": null,
            "align_items": null,
            "bottom": null,
            "_model_module": "@jupyter-widgets/base",
            "top": null,
            "grid_column": null,
            "overflow_y": null,
            "overflow_x": null,
            "grid_auto_flow": null,
            "grid_area": null,
            "grid_template_columns": null,
            "flex": null,
            "_model_name": "LayoutModel",
            "justify_items": null,
            "grid_row": null,
            "max_height": null,
            "align_content": null,
            "visibility": null,
            "align_self": null,
            "height": null,
            "min_height": null,
            "padding": null,
            "grid_auto_rows": null,
            "grid_gap": null,
            "max_width": null,
            "order": null,
            "_view_module_version": "1.2.0",
            "grid_template_areas": null,
            "object_position": null,
            "object_fit": null,
            "grid_auto_columns": null,
            "margin": null,
            "display": null,
            "left": null
          }
        },
        "b994fb0ae3f0404689437e3e6fb2b057": {
          "model_module": "@jupyter-widgets/controls",
          "model_name": "FloatProgressModel",
          "state": {
            "_view_name": "ProgressView",
            "style": "IPY_MODEL_1e5bbef99a9040208bf091600ff38c60",
            "_dom_classes": [],
            "description": "Downloading: 100%",
            "_model_name": "FloatProgressModel",
            "bar_style": "success",
            "max": 1912529,
            "_view_module": "@jupyter-widgets/controls",
            "_model_module_version": "1.5.0",
            "value": 1912529,
            "_view_count": null,
            "_view_module_version": "1.5.0",
            "orientation": "horizontal",
            "min": 0,
            "description_tooltip": null,
            "_model_module": "@jupyter-widgets/controls",
            "layout": "IPY_MODEL_d4b7d3ab3b3f4ec788876300a59ee789"
          }
        },
        "98400d01848e43428b563889de99a861": {
          "model_module": "@jupyter-widgets/controls",
          "model_name": "HTMLModel",
          "state": {
            "_view_name": "HTMLView",
            "style": "IPY_MODEL_937d5cc092ea43569cce4e54e842f338",
            "_dom_classes": [],
            "description": "",
            "_model_name": "HTMLModel",
            "placeholder": "​",
            "_view_module": "@jupyter-widgets/controls",
            "_model_module_version": "1.5.0",
            "value": " 1.91M/1.91M [00:03&lt;00:00, 636kB/s]",
            "_view_count": null,
            "_view_module_version": "1.5.0",
            "description_tooltip": null,
            "_model_module": "@jupyter-widgets/controls",
            "layout": "IPY_MODEL_63fee552087145efb58632591b7e017b"
          }
        },
        "1e5bbef99a9040208bf091600ff38c60": {
          "model_module": "@jupyter-widgets/controls",
          "model_name": "ProgressStyleModel",
          "state": {
            "_view_name": "StyleView",
            "_model_name": "ProgressStyleModel",
            "description_width": "initial",
            "_view_module": "@jupyter-widgets/base",
            "_model_module_version": "1.5.0",
            "_view_count": null,
            "_view_module_version": "1.2.0",
            "bar_color": null,
            "_model_module": "@jupyter-widgets/controls"
          }
        },
        "d4b7d3ab3b3f4ec788876300a59ee789": {
          "model_module": "@jupyter-widgets/base",
          "model_name": "LayoutModel",
          "state": {
            "_view_name": "LayoutView",
            "grid_template_rows": null,
            "right": null,
            "justify_content": null,
            "_view_module": "@jupyter-widgets/base",
            "overflow": null,
            "_model_module_version": "1.2.0",
            "_view_count": null,
            "flex_flow": null,
            "width": null,
            "min_width": null,
            "border": null,
            "align_items": null,
            "bottom": null,
            "_model_module": "@jupyter-widgets/base",
            "top": null,
            "grid_column": null,
            "overflow_y": null,
            "overflow_x": null,
            "grid_auto_flow": null,
            "grid_area": null,
            "grid_template_columns": null,
            "flex": null,
            "_model_name": "LayoutModel",
            "justify_items": null,
            "grid_row": null,
            "max_height": null,
            "align_content": null,
            "visibility": null,
            "align_self": null,
            "height": null,
            "min_height": null,
            "padding": null,
            "grid_auto_rows": null,
            "grid_gap": null,
            "max_width": null,
            "order": null,
            "_view_module_version": "1.2.0",
            "grid_template_areas": null,
            "object_position": null,
            "object_fit": null,
            "grid_auto_columns": null,
            "margin": null,
            "display": null,
            "left": null
          }
        },
        "937d5cc092ea43569cce4e54e842f338": {
          "model_module": "@jupyter-widgets/controls",
          "model_name": "DescriptionStyleModel",
          "state": {
            "_view_name": "StyleView",
            "_model_name": "DescriptionStyleModel",
            "description_width": "",
            "_view_module": "@jupyter-widgets/base",
            "_model_module_version": "1.5.0",
            "_view_count": null,
            "_view_module_version": "1.2.0",
            "_model_module": "@jupyter-widgets/controls"
          }
        },
        "63fee552087145efb58632591b7e017b": {
          "model_module": "@jupyter-widgets/base",
          "model_name": "LayoutModel",
          "state": {
            "_view_name": "LayoutView",
            "grid_template_rows": null,
            "right": null,
            "justify_content": null,
            "_view_module": "@jupyter-widgets/base",
            "overflow": null,
            "_model_module_version": "1.2.0",
            "_view_count": null,
            "flex_flow": null,
            "width": null,
            "min_width": null,
            "border": null,
            "align_items": null,
            "bottom": null,
            "_model_module": "@jupyter-widgets/base",
            "top": null,
            "grid_column": null,
            "overflow_y": null,
            "overflow_x": null,
            "grid_auto_flow": null,
            "grid_area": null,
            "grid_template_columns": null,
            "flex": null,
            "_model_name": "LayoutModel",
            "justify_items": null,
            "grid_row": null,
            "max_height": null,
            "align_content": null,
            "visibility": null,
            "align_self": null,
            "height": null,
            "min_height": null,
            "padding": null,
            "grid_auto_rows": null,
            "grid_gap": null,
            "max_width": null,
            "order": null,
            "_view_module_version": "1.2.0",
            "grid_template_areas": null,
            "object_position": null,
            "object_fit": null,
            "grid_auto_columns": null,
            "margin": null,
            "display": null,
            "left": null
          }
        },
        "32b73457deeb4d04bd893fa444a51237": {
          "model_module": "@jupyter-widgets/controls",
          "model_name": "HBoxModel",
          "state": {
            "_view_name": "HBoxView",
            "_dom_classes": [],
            "_model_name": "HBoxModel",
            "_view_module": "@jupyter-widgets/controls",
            "_model_module_version": "1.5.0",
            "_view_count": null,
            "_view_module_version": "1.5.0",
            "box_style": "",
            "layout": "IPY_MODEL_193311bc0d0e4377bad7d3f8179813e0",
            "_model_module": "@jupyter-widgets/controls",
            "children": [
              "IPY_MODEL_d00a1aa924694c49bc35c95433e8afb3",
              "IPY_MODEL_c6d4fcfc99104280a9e5ea02b45a0a5b"
            ]
          }
        },
        "193311bc0d0e4377bad7d3f8179813e0": {
          "model_module": "@jupyter-widgets/base",
          "model_name": "LayoutModel",
          "state": {
            "_view_name": "LayoutView",
            "grid_template_rows": null,
            "right": null,
            "justify_content": null,
            "_view_module": "@jupyter-widgets/base",
            "overflow": null,
            "_model_module_version": "1.2.0",
            "_view_count": null,
            "flex_flow": null,
            "width": null,
            "min_width": null,
            "border": null,
            "align_items": null,
            "bottom": null,
            "_model_module": "@jupyter-widgets/base",
            "top": null,
            "grid_column": null,
            "overflow_y": null,
            "overflow_x": null,
            "grid_auto_flow": null,
            "grid_area": null,
            "grid_template_columns": null,
            "flex": null,
            "_model_name": "LayoutModel",
            "justify_items": null,
            "grid_row": null,
            "max_height": null,
            "align_content": null,
            "visibility": null,
            "align_self": null,
            "height": null,
            "min_height": null,
            "padding": null,
            "grid_auto_rows": null,
            "grid_gap": null,
            "max_width": null,
            "order": null,
            "_view_module_version": "1.2.0",
            "grid_template_areas": null,
            "object_position": null,
            "object_fit": null,
            "grid_auto_columns": null,
            "margin": null,
            "display": null,
            "left": null
          }
        },
        "d00a1aa924694c49bc35c95433e8afb3": {
          "model_module": "@jupyter-widgets/controls",
          "model_name": "FloatProgressModel",
          "state": {
            "_view_name": "ProgressView",
            "style": "IPY_MODEL_1b67837f7d824fb8946cb907abec3072",
            "_dom_classes": [],
            "description": "Downloading: 100%",
            "_model_name": "FloatProgressModel",
            "bar_style": "success",
            "max": 65,
            "_view_module": "@jupyter-widgets/controls",
            "_model_module_version": "1.5.0",
            "value": 65,
            "_view_count": null,
            "_view_module_version": "1.5.0",
            "orientation": "horizontal",
            "min": 0,
            "description_tooltip": null,
            "_model_module": "@jupyter-widgets/controls",
            "layout": "IPY_MODEL_ccdfaa0fb35f4760825185aa5325bda0"
          }
        },
        "c6d4fcfc99104280a9e5ea02b45a0a5b": {
          "model_module": "@jupyter-widgets/controls",
          "model_name": "HTMLModel",
          "state": {
            "_view_name": "HTMLView",
            "style": "IPY_MODEL_a3e504c817ed415ab677baa0d05134c1",
            "_dom_classes": [],
            "description": "",
            "_model_name": "HTMLModel",
            "placeholder": "​",
            "_view_module": "@jupyter-widgets/controls",
            "_model_module_version": "1.5.0",
            "value": " 65.0/65.0 [00:01&lt;00:00, 39.9B/s]",
            "_view_count": null,
            "_view_module_version": "1.5.0",
            "description_tooltip": null,
            "_model_module": "@jupyter-widgets/controls",
            "layout": "IPY_MODEL_50b21f0e79c842699cf79e106ac2d0ce"
          }
        },
        "1b67837f7d824fb8946cb907abec3072": {
          "model_module": "@jupyter-widgets/controls",
          "model_name": "ProgressStyleModel",
          "state": {
            "_view_name": "StyleView",
            "_model_name": "ProgressStyleModel",
            "description_width": "initial",
            "_view_module": "@jupyter-widgets/base",
            "_model_module_version": "1.5.0",
            "_view_count": null,
            "_view_module_version": "1.2.0",
            "bar_color": null,
            "_model_module": "@jupyter-widgets/controls"
          }
        },
        "ccdfaa0fb35f4760825185aa5325bda0": {
          "model_module": "@jupyter-widgets/base",
          "model_name": "LayoutModel",
          "state": {
            "_view_name": "LayoutView",
            "grid_template_rows": null,
            "right": null,
            "justify_content": null,
            "_view_module": "@jupyter-widgets/base",
            "overflow": null,
            "_model_module_version": "1.2.0",
            "_view_count": null,
            "flex_flow": null,
            "width": null,
            "min_width": null,
            "border": null,
            "align_items": null,
            "bottom": null,
            "_model_module": "@jupyter-widgets/base",
            "top": null,
            "grid_column": null,
            "overflow_y": null,
            "overflow_x": null,
            "grid_auto_flow": null,
            "grid_area": null,
            "grid_template_columns": null,
            "flex": null,
            "_model_name": "LayoutModel",
            "justify_items": null,
            "grid_row": null,
            "max_height": null,
            "align_content": null,
            "visibility": null,
            "align_self": null,
            "height": null,
            "min_height": null,
            "padding": null,
            "grid_auto_rows": null,
            "grid_gap": null,
            "max_width": null,
            "order": null,
            "_view_module_version": "1.2.0",
            "grid_template_areas": null,
            "object_position": null,
            "object_fit": null,
            "grid_auto_columns": null,
            "margin": null,
            "display": null,
            "left": null
          }
        },
        "a3e504c817ed415ab677baa0d05134c1": {
          "model_module": "@jupyter-widgets/controls",
          "model_name": "DescriptionStyleModel",
          "state": {
            "_view_name": "StyleView",
            "_model_name": "DescriptionStyleModel",
            "description_width": "",
            "_view_module": "@jupyter-widgets/base",
            "_model_module_version": "1.5.0",
            "_view_count": null,
            "_view_module_version": "1.2.0",
            "_model_module": "@jupyter-widgets/controls"
          }
        },
        "50b21f0e79c842699cf79e106ac2d0ce": {
          "model_module": "@jupyter-widgets/base",
          "model_name": "LayoutModel",
          "state": {
            "_view_name": "LayoutView",
            "grid_template_rows": null,
            "right": null,
            "justify_content": null,
            "_view_module": "@jupyter-widgets/base",
            "overflow": null,
            "_model_module_version": "1.2.0",
            "_view_count": null,
            "flex_flow": null,
            "width": null,
            "min_width": null,
            "border": null,
            "align_items": null,
            "bottom": null,
            "_model_module": "@jupyter-widgets/base",
            "top": null,
            "grid_column": null,
            "overflow_y": null,
            "overflow_x": null,
            "grid_auto_flow": null,
            "grid_area": null,
            "grid_template_columns": null,
            "flex": null,
            "_model_name": "LayoutModel",
            "justify_items": null,
            "grid_row": null,
            "max_height": null,
            "align_content": null,
            "visibility": null,
            "align_self": null,
            "height": null,
            "min_height": null,
            "padding": null,
            "grid_auto_rows": null,
            "grid_gap": null,
            "max_width": null,
            "order": null,
            "_view_module_version": "1.2.0",
            "grid_template_areas": null,
            "object_position": null,
            "object_fit": null,
            "grid_auto_columns": null,
            "margin": null,
            "display": null,
            "left": null
          }
        },
        "94c89ba02b444b2180a721dd8bd924d5": {
          "model_module": "@jupyter-widgets/controls",
          "model_name": "HBoxModel",
          "state": {
            "_view_name": "HBoxView",
            "_dom_classes": [],
            "_model_name": "HBoxModel",
            "_view_module": "@jupyter-widgets/controls",
            "_model_module_version": "1.5.0",
            "_view_count": null,
            "_view_module_version": "1.5.0",
            "box_style": "",
            "layout": "IPY_MODEL_3f65e3472467411681c6b6916833def0",
            "_model_module": "@jupyter-widgets/controls",
            "children": [
              "IPY_MODEL_95748e12e5674e42a2db6b6705e669f3",
              "IPY_MODEL_d4fdbe6b73dd4b329d4bc29102ea378b"
            ]
          }
        },
        "3f65e3472467411681c6b6916833def0": {
          "model_module": "@jupyter-widgets/base",
          "model_name": "LayoutModel",
          "state": {
            "_view_name": "LayoutView",
            "grid_template_rows": null,
            "right": null,
            "justify_content": null,
            "_view_module": "@jupyter-widgets/base",
            "overflow": null,
            "_model_module_version": "1.2.0",
            "_view_count": null,
            "flex_flow": null,
            "width": null,
            "min_width": null,
            "border": null,
            "align_items": null,
            "bottom": null,
            "_model_module": "@jupyter-widgets/base",
            "top": null,
            "grid_column": null,
            "overflow_y": null,
            "overflow_x": null,
            "grid_auto_flow": null,
            "grid_area": null,
            "grid_template_columns": null,
            "flex": null,
            "_model_name": "LayoutModel",
            "justify_items": null,
            "grid_row": null,
            "max_height": null,
            "align_content": null,
            "visibility": null,
            "align_self": null,
            "height": null,
            "min_height": null,
            "padding": null,
            "grid_auto_rows": null,
            "grid_gap": null,
            "max_width": null,
            "order": null,
            "_view_module_version": "1.2.0",
            "grid_template_areas": null,
            "object_position": null,
            "object_fit": null,
            "grid_auto_columns": null,
            "margin": null,
            "display": null,
            "left": null
          }
        },
        "95748e12e5674e42a2db6b6705e669f3": {
          "model_module": "@jupyter-widgets/controls",
          "model_name": "FloatProgressModel",
          "state": {
            "_view_name": "ProgressView",
            "style": "IPY_MODEL_c6a552f905154d0594c1bd3b2fc82f60",
            "_dom_classes": [],
            "description": "Downloading: 100%",
            "_model_name": "FloatProgressModel",
            "bar_style": "success",
            "max": 88,
            "_view_module": "@jupyter-widgets/controls",
            "_model_module_version": "1.5.0",
            "value": 88,
            "_view_count": null,
            "_view_module_version": "1.5.0",
            "orientation": "horizontal",
            "min": 0,
            "description_tooltip": null,
            "_model_module": "@jupyter-widgets/controls",
            "layout": "IPY_MODEL_70f250777f3a45adbba8d3671c2e79e9"
          }
        },
        "d4fdbe6b73dd4b329d4bc29102ea378b": {
          "model_module": "@jupyter-widgets/controls",
          "model_name": "HTMLModel",
          "state": {
            "_view_name": "HTMLView",
            "style": "IPY_MODEL_d4f7e329fdc447cebd78a3b3f2a43cc8",
            "_dom_classes": [],
            "description": "",
            "_model_name": "HTMLModel",
            "placeholder": "​",
            "_view_module": "@jupyter-widgets/controls",
            "_model_module_version": "1.5.0",
            "value": " 88.0/88.0 [00:01&lt;00:00, 82.7B/s]",
            "_view_count": null,
            "_view_module_version": "1.5.0",
            "description_tooltip": null,
            "_model_module": "@jupyter-widgets/controls",
            "layout": "IPY_MODEL_d83d117b70cf44a5ba0365ad71b44d29"
          }
        },
        "c6a552f905154d0594c1bd3b2fc82f60": {
          "model_module": "@jupyter-widgets/controls",
          "model_name": "ProgressStyleModel",
          "state": {
            "_view_name": "StyleView",
            "_model_name": "ProgressStyleModel",
            "description_width": "initial",
            "_view_module": "@jupyter-widgets/base",
            "_model_module_version": "1.5.0",
            "_view_count": null,
            "_view_module_version": "1.2.0",
            "bar_color": null,
            "_model_module": "@jupyter-widgets/controls"
          }
        },
        "70f250777f3a45adbba8d3671c2e79e9": {
          "model_module": "@jupyter-widgets/base",
          "model_name": "LayoutModel",
          "state": {
            "_view_name": "LayoutView",
            "grid_template_rows": null,
            "right": null,
            "justify_content": null,
            "_view_module": "@jupyter-widgets/base",
            "overflow": null,
            "_model_module_version": "1.2.0",
            "_view_count": null,
            "flex_flow": null,
            "width": null,
            "min_width": null,
            "border": null,
            "align_items": null,
            "bottom": null,
            "_model_module": "@jupyter-widgets/base",
            "top": null,
            "grid_column": null,
            "overflow_y": null,
            "overflow_x": null,
            "grid_auto_flow": null,
            "grid_area": null,
            "grid_template_columns": null,
            "flex": null,
            "_model_name": "LayoutModel",
            "justify_items": null,
            "grid_row": null,
            "max_height": null,
            "align_content": null,
            "visibility": null,
            "align_self": null,
            "height": null,
            "min_height": null,
            "padding": null,
            "grid_auto_rows": null,
            "grid_gap": null,
            "max_width": null,
            "order": null,
            "_view_module_version": "1.2.0",
            "grid_template_areas": null,
            "object_position": null,
            "object_fit": null,
            "grid_auto_columns": null,
            "margin": null,
            "display": null,
            "left": null
          }
        },
        "d4f7e329fdc447cebd78a3b3f2a43cc8": {
          "model_module": "@jupyter-widgets/controls",
          "model_name": "DescriptionStyleModel",
          "state": {
            "_view_name": "StyleView",
            "_model_name": "DescriptionStyleModel",
            "description_width": "",
            "_view_module": "@jupyter-widgets/base",
            "_model_module_version": "1.5.0",
            "_view_count": null,
            "_view_module_version": "1.2.0",
            "_model_module": "@jupyter-widgets/controls"
          }
        },
        "d83d117b70cf44a5ba0365ad71b44d29": {
          "model_module": "@jupyter-widgets/base",
          "model_name": "LayoutModel",
          "state": {
            "_view_name": "LayoutView",
            "grid_template_rows": null,
            "right": null,
            "justify_content": null,
            "_view_module": "@jupyter-widgets/base",
            "overflow": null,
            "_model_module_version": "1.2.0",
            "_view_count": null,
            "flex_flow": null,
            "width": null,
            "min_width": null,
            "border": null,
            "align_items": null,
            "bottom": null,
            "_model_module": "@jupyter-widgets/base",
            "top": null,
            "grid_column": null,
            "overflow_y": null,
            "overflow_x": null,
            "grid_auto_flow": null,
            "grid_area": null,
            "grid_template_columns": null,
            "flex": null,
            "_model_name": "LayoutModel",
            "justify_items": null,
            "grid_row": null,
            "max_height": null,
            "align_content": null,
            "visibility": null,
            "align_self": null,
            "height": null,
            "min_height": null,
            "padding": null,
            "grid_auto_rows": null,
            "grid_gap": null,
            "max_width": null,
            "order": null,
            "_view_module_version": "1.2.0",
            "grid_template_areas": null,
            "object_position": null,
            "object_fit": null,
            "grid_auto_columns": null,
            "margin": null,
            "display": null,
            "left": null
          }
        },
        "328b66a9dd354b3880951dd6f0695307": {
          "model_module": "@jupyter-widgets/controls",
          "model_name": "HBoxModel",
          "state": {
            "_view_name": "HBoxView",
            "_dom_classes": [],
            "_model_name": "HBoxModel",
            "_view_module": "@jupyter-widgets/controls",
            "_model_module_version": "1.5.0",
            "_view_count": null,
            "_view_module_version": "1.5.0",
            "box_style": "",
            "layout": "IPY_MODEL_59c6937314824247a0ba71fbba1dbc7e",
            "_model_module": "@jupyter-widgets/controls",
            "children": [
              "IPY_MODEL_d422f03c00e4460b9154b1d916f4ee9c",
              "IPY_MODEL_0875c8539a1a4b0fba02a2e529628f6b"
            ]
          }
        },
        "59c6937314824247a0ba71fbba1dbc7e": {
          "model_module": "@jupyter-widgets/base",
          "model_name": "LayoutModel",
          "state": {
            "_view_name": "LayoutView",
            "grid_template_rows": null,
            "right": null,
            "justify_content": null,
            "_view_module": "@jupyter-widgets/base",
            "overflow": null,
            "_model_module_version": "1.2.0",
            "_view_count": null,
            "flex_flow": null,
            "width": null,
            "min_width": null,
            "border": null,
            "align_items": null,
            "bottom": null,
            "_model_module": "@jupyter-widgets/base",
            "top": null,
            "grid_column": null,
            "overflow_y": null,
            "overflow_x": null,
            "grid_auto_flow": null,
            "grid_area": null,
            "grid_template_columns": null,
            "flex": null,
            "_model_name": "LayoutModel",
            "justify_items": null,
            "grid_row": null,
            "max_height": null,
            "align_content": null,
            "visibility": null,
            "align_self": null,
            "height": null,
            "min_height": null,
            "padding": null,
            "grid_auto_rows": null,
            "grid_gap": null,
            "max_width": null,
            "order": null,
            "_view_module_version": "1.2.0",
            "grid_template_areas": null,
            "object_position": null,
            "object_fit": null,
            "grid_auto_columns": null,
            "margin": null,
            "display": null,
            "left": null
          }
        },
        "d422f03c00e4460b9154b1d916f4ee9c": {
          "model_module": "@jupyter-widgets/controls",
          "model_name": "FloatProgressModel",
          "state": {
            "_view_name": "ProgressView",
            "style": "IPY_MODEL_066c7cc7c1764e72b5e5443ae9301b94",
            "_dom_classes": [],
            "description": "Downloading: 100%",
            "_model_name": "FloatProgressModel",
            "bar_style": "success",
            "max": 1120,
            "_view_module": "@jupyter-widgets/controls",
            "_model_module_version": "1.5.0",
            "value": 1120,
            "_view_count": null,
            "_view_module_version": "1.5.0",
            "orientation": "horizontal",
            "min": 0,
            "description_tooltip": null,
            "_model_module": "@jupyter-widgets/controls",
            "layout": "IPY_MODEL_db64dbfa825d48a28ace830396ab8c69"
          }
        },
        "0875c8539a1a4b0fba02a2e529628f6b": {
          "model_module": "@jupyter-widgets/controls",
          "model_name": "HTMLModel",
          "state": {
            "_view_name": "HTMLView",
            "style": "IPY_MODEL_da6ae4bc9f684f94ac4ad1baf9014fc9",
            "_dom_classes": [],
            "description": "",
            "_model_name": "HTMLModel",
            "placeholder": "​",
            "_view_module": "@jupyter-widgets/controls",
            "_model_module_version": "1.5.0",
            "value": " 1.12k/1.12k [00:00&lt;00:00, 32.5kB/s]",
            "_view_count": null,
            "_view_module_version": "1.5.0",
            "description_tooltip": null,
            "_model_module": "@jupyter-widgets/controls",
            "layout": "IPY_MODEL_2d16dab9e9bd4b2ea55670a28386655f"
          }
        },
        "066c7cc7c1764e72b5e5443ae9301b94": {
          "model_module": "@jupyter-widgets/controls",
          "model_name": "ProgressStyleModel",
          "state": {
            "_view_name": "StyleView",
            "_model_name": "ProgressStyleModel",
            "description_width": "initial",
            "_view_module": "@jupyter-widgets/base",
            "_model_module_version": "1.5.0",
            "_view_count": null,
            "_view_module_version": "1.2.0",
            "bar_color": null,
            "_model_module": "@jupyter-widgets/controls"
          }
        },
        "db64dbfa825d48a28ace830396ab8c69": {
          "model_module": "@jupyter-widgets/base",
          "model_name": "LayoutModel",
          "state": {
            "_view_name": "LayoutView",
            "grid_template_rows": null,
            "right": null,
            "justify_content": null,
            "_view_module": "@jupyter-widgets/base",
            "overflow": null,
            "_model_module_version": "1.2.0",
            "_view_count": null,
            "flex_flow": null,
            "width": null,
            "min_width": null,
            "border": null,
            "align_items": null,
            "bottom": null,
            "_model_module": "@jupyter-widgets/base",
            "top": null,
            "grid_column": null,
            "overflow_y": null,
            "overflow_x": null,
            "grid_auto_flow": null,
            "grid_area": null,
            "grid_template_columns": null,
            "flex": null,
            "_model_name": "LayoutModel",
            "justify_items": null,
            "grid_row": null,
            "max_height": null,
            "align_content": null,
            "visibility": null,
            "align_self": null,
            "height": null,
            "min_height": null,
            "padding": null,
            "grid_auto_rows": null,
            "grid_gap": null,
            "max_width": null,
            "order": null,
            "_view_module_version": "1.2.0",
            "grid_template_areas": null,
            "object_position": null,
            "object_fit": null,
            "grid_auto_columns": null,
            "margin": null,
            "display": null,
            "left": null
          }
        },
        "da6ae4bc9f684f94ac4ad1baf9014fc9": {
          "model_module": "@jupyter-widgets/controls",
          "model_name": "DescriptionStyleModel",
          "state": {
            "_view_name": "StyleView",
            "_model_name": "DescriptionStyleModel",
            "description_width": "",
            "_view_module": "@jupyter-widgets/base",
            "_model_module_version": "1.5.0",
            "_view_count": null,
            "_view_module_version": "1.2.0",
            "_model_module": "@jupyter-widgets/controls"
          }
        },
        "2d16dab9e9bd4b2ea55670a28386655f": {
          "model_module": "@jupyter-widgets/base",
          "model_name": "LayoutModel",
          "state": {
            "_view_name": "LayoutView",
            "grid_template_rows": null,
            "right": null,
            "justify_content": null,
            "_view_module": "@jupyter-widgets/base",
            "overflow": null,
            "_model_module_version": "1.2.0",
            "_view_count": null,
            "flex_flow": null,
            "width": null,
            "min_width": null,
            "border": null,
            "align_items": null,
            "bottom": null,
            "_model_module": "@jupyter-widgets/base",
            "top": null,
            "grid_column": null,
            "overflow_y": null,
            "overflow_x": null,
            "grid_auto_flow": null,
            "grid_area": null,
            "grid_template_columns": null,
            "flex": null,
            "_model_name": "LayoutModel",
            "justify_items": null,
            "grid_row": null,
            "max_height": null,
            "align_content": null,
            "visibility": null,
            "align_self": null,
            "height": null,
            "min_height": null,
            "padding": null,
            "grid_auto_rows": null,
            "grid_gap": null,
            "max_width": null,
            "order": null,
            "_view_module_version": "1.2.0",
            "grid_template_areas": null,
            "object_position": null,
            "object_fit": null,
            "grid_auto_columns": null,
            "margin": null,
            "display": null,
            "left": null
          }
        },
        "e6eae36a166a45a8962ddba05f7dcdb5": {
          "model_module": "@jupyter-widgets/controls",
          "model_name": "HBoxModel",
          "state": {
            "_view_name": "HBoxView",
            "_dom_classes": [],
            "_model_name": "HBoxModel",
            "_view_module": "@jupyter-widgets/controls",
            "_model_module_version": "1.5.0",
            "_view_count": null,
            "_view_module_version": "1.5.0",
            "box_style": "",
            "layout": "IPY_MODEL_961dc5dfdadd41a6a776ebe3bd636903",
            "_model_module": "@jupyter-widgets/controls",
            "children": [
              "IPY_MODEL_a59b15c4b9394c2f9f33e060cff8a6ec",
              "IPY_MODEL_1c856a2ec94d440583a7712f789a27e6"
            ]
          }
        },
        "961dc5dfdadd41a6a776ebe3bd636903": {
          "model_module": "@jupyter-widgets/base",
          "model_name": "LayoutModel",
          "state": {
            "_view_name": "LayoutView",
            "grid_template_rows": null,
            "right": null,
            "justify_content": null,
            "_view_module": "@jupyter-widgets/base",
            "overflow": null,
            "_model_module_version": "1.2.0",
            "_view_count": null,
            "flex_flow": null,
            "width": null,
            "min_width": null,
            "border": null,
            "align_items": null,
            "bottom": null,
            "_model_module": "@jupyter-widgets/base",
            "top": null,
            "grid_column": null,
            "overflow_y": null,
            "overflow_x": null,
            "grid_auto_flow": null,
            "grid_area": null,
            "grid_template_columns": null,
            "flex": null,
            "_model_name": "LayoutModel",
            "justify_items": null,
            "grid_row": null,
            "max_height": null,
            "align_content": null,
            "visibility": null,
            "align_self": null,
            "height": null,
            "min_height": null,
            "padding": null,
            "grid_auto_rows": null,
            "grid_gap": null,
            "max_width": null,
            "order": null,
            "_view_module_version": "1.2.0",
            "grid_template_areas": null,
            "object_position": null,
            "object_fit": null,
            "grid_auto_columns": null,
            "margin": null,
            "display": null,
            "left": null
          }
        },
        "a59b15c4b9394c2f9f33e060cff8a6ec": {
          "model_module": "@jupyter-widgets/controls",
          "model_name": "FloatProgressModel",
          "state": {
            "_view_name": "ProgressView",
            "style": "IPY_MODEL_5063908ad09846d5b756c5c265aa3081",
            "_dom_classes": [],
            "description": "Downloading: 100%",
            "_model_name": "FloatProgressModel",
            "bar_style": "success",
            "max": 2275327883,
            "_view_module": "@jupyter-widgets/controls",
            "_model_module_version": "1.5.0",
            "value": 2275327883,
            "_view_count": null,
            "_view_module_version": "1.5.0",
            "orientation": "horizontal",
            "min": 0,
            "description_tooltip": null,
            "_model_module": "@jupyter-widgets/controls",
            "layout": "IPY_MODEL_6b17b817c4824725b2188e9ba31ec7b6"
          }
        },
        "1c856a2ec94d440583a7712f789a27e6": {
          "model_module": "@jupyter-widgets/controls",
          "model_name": "HTMLModel",
          "state": {
            "_view_name": "HTMLView",
            "style": "IPY_MODEL_53b7b564f8824da3929455d3a2b1bcc9",
            "_dom_classes": [],
            "description": "",
            "_model_name": "HTMLModel",
            "placeholder": "​",
            "_view_module": "@jupyter-widgets/controls",
            "_model_module_version": "1.5.0",
            "value": " 2.28G/2.28G [00:38&lt;00:00, 58.8MB/s]",
            "_view_count": null,
            "_view_module_version": "1.5.0",
            "description_tooltip": null,
            "_model_module": "@jupyter-widgets/controls",
            "layout": "IPY_MODEL_84357a8d60ee44d29ca94defe0080336"
          }
        },
        "5063908ad09846d5b756c5c265aa3081": {
          "model_module": "@jupyter-widgets/controls",
          "model_name": "ProgressStyleModel",
          "state": {
            "_view_name": "StyleView",
            "_model_name": "ProgressStyleModel",
            "description_width": "initial",
            "_view_module": "@jupyter-widgets/base",
            "_model_module_version": "1.5.0",
            "_view_count": null,
            "_view_module_version": "1.2.0",
            "bar_color": null,
            "_model_module": "@jupyter-widgets/controls"
          }
        },
        "6b17b817c4824725b2188e9ba31ec7b6": {
          "model_module": "@jupyter-widgets/base",
          "model_name": "LayoutModel",
          "state": {
            "_view_name": "LayoutView",
            "grid_template_rows": null,
            "right": null,
            "justify_content": null,
            "_view_module": "@jupyter-widgets/base",
            "overflow": null,
            "_model_module_version": "1.2.0",
            "_view_count": null,
            "flex_flow": null,
            "width": null,
            "min_width": null,
            "border": null,
            "align_items": null,
            "bottom": null,
            "_model_module": "@jupyter-widgets/base",
            "top": null,
            "grid_column": null,
            "overflow_y": null,
            "overflow_x": null,
            "grid_auto_flow": null,
            "grid_area": null,
            "grid_template_columns": null,
            "flex": null,
            "_model_name": "LayoutModel",
            "justify_items": null,
            "grid_row": null,
            "max_height": null,
            "align_content": null,
            "visibility": null,
            "align_self": null,
            "height": null,
            "min_height": null,
            "padding": null,
            "grid_auto_rows": null,
            "grid_gap": null,
            "max_width": null,
            "order": null,
            "_view_module_version": "1.2.0",
            "grid_template_areas": null,
            "object_position": null,
            "object_fit": null,
            "grid_auto_columns": null,
            "margin": null,
            "display": null,
            "left": null
          }
        },
        "53b7b564f8824da3929455d3a2b1bcc9": {
          "model_module": "@jupyter-widgets/controls",
          "model_name": "DescriptionStyleModel",
          "state": {
            "_view_name": "StyleView",
            "_model_name": "DescriptionStyleModel",
            "description_width": "",
            "_view_module": "@jupyter-widgets/base",
            "_model_module_version": "1.5.0",
            "_view_count": null,
            "_view_module_version": "1.2.0",
            "_model_module": "@jupyter-widgets/controls"
          }
        },
        "84357a8d60ee44d29ca94defe0080336": {
          "model_module": "@jupyter-widgets/base",
          "model_name": "LayoutModel",
          "state": {
            "_view_name": "LayoutView",
            "grid_template_rows": null,
            "right": null,
            "justify_content": null,
            "_view_module": "@jupyter-widgets/base",
            "overflow": null,
            "_model_module_version": "1.2.0",
            "_view_count": null,
            "flex_flow": null,
            "width": null,
            "min_width": null,
            "border": null,
            "align_items": null,
            "bottom": null,
            "_model_module": "@jupyter-widgets/base",
            "top": null,
            "grid_column": null,
            "overflow_y": null,
            "overflow_x": null,
            "grid_auto_flow": null,
            "grid_area": null,
            "grid_template_columns": null,
            "flex": null,
            "_model_name": "LayoutModel",
            "justify_items": null,
            "grid_row": null,
            "max_height": null,
            "align_content": null,
            "visibility": null,
            "align_self": null,
            "height": null,
            "min_height": null,
            "padding": null,
            "grid_auto_rows": null,
            "grid_gap": null,
            "max_width": null,
            "order": null,
            "_view_module_version": "1.2.0",
            "grid_template_areas": null,
            "object_position": null,
            "object_fit": null,
            "grid_auto_columns": null,
            "margin": null,
            "display": null,
            "left": null
          }
        }
      }
    }
  },
  "cells": [
    {
      "cell_type": "code",
      "metadata": {
        "colab": {
          "base_uri": "https://localhost:8080/"
        },
        "id": "5HGnnfYQ8MuO",
        "outputId": "6b68beda-3da7-4b4a-ef67-cfb7ebd18cfb"
      },
      "source": [
        "!pip install transformers"
      ],
      "execution_count": 4,
      "outputs": [
        {
          "output_type": "stream",
          "text": [
            "Collecting transformers\n",
            "\u001b[?25l  Downloading https://files.pythonhosted.org/packages/ed/d5/f4157a376b8a79489a76ce6cfe147f4f3be1e029b7144fa7b8432e8acb26/transformers-4.4.2-py3-none-any.whl (2.0MB)\n",
            "\u001b[K     |████████████████████████████████| 2.0MB 12.9MB/s \n",
            "\u001b[?25hCollecting sacremoses\n",
            "\u001b[?25l  Downloading https://files.pythonhosted.org/packages/7d/34/09d19aff26edcc8eb2a01bed8e98f13a1537005d31e95233fd48216eed10/sacremoses-0.0.43.tar.gz (883kB)\n",
            "\u001b[K     |████████████████████████████████| 890kB 52.9MB/s \n",
            "\u001b[?25hCollecting tokenizers<0.11,>=0.10.1\n",
            "\u001b[?25l  Downloading https://files.pythonhosted.org/packages/71/23/2ddc317b2121117bf34dd00f5b0de194158f2a44ee2bf5e47c7166878a97/tokenizers-0.10.1-cp37-cp37m-manylinux2010_x86_64.whl (3.2MB)\n",
            "\u001b[K     |████████████████████████████████| 3.2MB 50.6MB/s \n",
            "\u001b[?25hRequirement already satisfied: regex!=2019.12.17 in /usr/local/lib/python3.7/dist-packages (from transformers) (2019.12.20)\n",
            "Requirement already satisfied: tqdm>=4.27 in /usr/local/lib/python3.7/dist-packages (from transformers) (4.41.1)\n",
            "Requirement already satisfied: numpy>=1.17 in /usr/local/lib/python3.7/dist-packages (from transformers) (1.19.5)\n",
            "Requirement already satisfied: importlib-metadata; python_version < \"3.8\" in /usr/local/lib/python3.7/dist-packages (from transformers) (3.7.2)\n",
            "Requirement already satisfied: packaging in /usr/local/lib/python3.7/dist-packages (from transformers) (20.9)\n",
            "Requirement already satisfied: requests in /usr/local/lib/python3.7/dist-packages (from transformers) (2.23.0)\n",
            "Requirement already satisfied: filelock in /usr/local/lib/python3.7/dist-packages (from transformers) (3.0.12)\n",
            "Requirement already satisfied: six in /usr/local/lib/python3.7/dist-packages (from sacremoses->transformers) (1.15.0)\n",
            "Requirement already satisfied: click in /usr/local/lib/python3.7/dist-packages (from sacremoses->transformers) (7.1.2)\n",
            "Requirement already satisfied: joblib in /usr/local/lib/python3.7/dist-packages (from sacremoses->transformers) (1.0.1)\n",
            "Requirement already satisfied: zipp>=0.5 in /usr/local/lib/python3.7/dist-packages (from importlib-metadata; python_version < \"3.8\"->transformers) (3.4.1)\n",
            "Requirement already satisfied: typing-extensions>=3.6.4; python_version < \"3.8\" in /usr/local/lib/python3.7/dist-packages (from importlib-metadata; python_version < \"3.8\"->transformers) (3.7.4.3)\n",
            "Requirement already satisfied: pyparsing>=2.0.2 in /usr/local/lib/python3.7/dist-packages (from packaging->transformers) (2.4.7)\n",
            "Requirement already satisfied: urllib3!=1.25.0,!=1.25.1,<1.26,>=1.21.1 in /usr/local/lib/python3.7/dist-packages (from requests->transformers) (1.24.3)\n",
            "Requirement already satisfied: certifi>=2017.4.17 in /usr/local/lib/python3.7/dist-packages (from requests->transformers) (2020.12.5)\n",
            "Requirement already satisfied: chardet<4,>=3.0.2 in /usr/local/lib/python3.7/dist-packages (from requests->transformers) (3.0.4)\n",
            "Requirement already satisfied: idna<3,>=2.5 in /usr/local/lib/python3.7/dist-packages (from requests->transformers) (2.10)\n",
            "Building wheels for collected packages: sacremoses\n",
            "  Building wheel for sacremoses (setup.py) ... \u001b[?25l\u001b[?25hdone\n",
            "  Created wheel for sacremoses: filename=sacremoses-0.0.43-cp37-none-any.whl size=893262 sha256=d745c99acde95bbabd344e738b032b5b392f3b10b2fbc8e4123d5077c3a2e526\n",
            "  Stored in directory: /root/.cache/pip/wheels/29/3c/fd/7ce5c3f0666dab31a50123635e6fb5e19ceb42ce38d4e58f45\n",
            "Successfully built sacremoses\n",
            "Installing collected packages: sacremoses, tokenizers, transformers\n",
            "Successfully installed sacremoses-0.0.43 tokenizers-0.10.1 transformers-4.4.2\n"
          ],
          "name": "stdout"
        }
      ]
    },
    {
      "cell_type": "code",
      "metadata": {
        "colab": {
          "base_uri": "https://localhost:8080/"
        },
        "id": "fQBNZM-Kdynm",
        "outputId": "1300a1c0-9256-4f93-d265-59caa3c83078"
      },
      "source": [
        "!pip install SentencePiece"
      ],
      "execution_count": 1,
      "outputs": [
        {
          "output_type": "stream",
          "text": [
            "Collecting SentencePiece\n",
            "\u001b[?25l  Downloading https://files.pythonhosted.org/packages/f5/99/e0808cb947ba10f575839c43e8fafc9cc44e4a7a2c8f79c60db48220a577/sentencepiece-0.1.95-cp37-cp37m-manylinux2014_x86_64.whl (1.2MB)\n",
            "\r\u001b[K     |▎                               | 10kB 18.1MB/s eta 0:00:01\r\u001b[K     |▌                               | 20kB 24.4MB/s eta 0:00:01\r\u001b[K     |▉                               | 30kB 28.2MB/s eta 0:00:01\r\u001b[K     |█                               | 40kB 20.1MB/s eta 0:00:01\r\u001b[K     |█▍                              | 51kB 17.1MB/s eta 0:00:01\r\u001b[K     |█▋                              | 61kB 14.3MB/s eta 0:00:01\r\u001b[K     |██                              | 71kB 15.8MB/s eta 0:00:01\r\u001b[K     |██▏                             | 81kB 14.1MB/s eta 0:00:01\r\u001b[K     |██▌                             | 92kB 14.9MB/s eta 0:00:01\r\u001b[K     |██▊                             | 102kB 16.1MB/s eta 0:00:01\r\u001b[K     |███                             | 112kB 16.1MB/s eta 0:00:01\r\u001b[K     |███▎                            | 122kB 16.1MB/s eta 0:00:01\r\u001b[K     |███▌                            | 133kB 16.1MB/s eta 0:00:01\r\u001b[K     |███▉                            | 143kB 16.1MB/s eta 0:00:01\r\u001b[K     |████                            | 153kB 16.1MB/s eta 0:00:01\r\u001b[K     |████▍                           | 163kB 16.1MB/s eta 0:00:01\r\u001b[K     |████▋                           | 174kB 16.1MB/s eta 0:00:01\r\u001b[K     |█████                           | 184kB 16.1MB/s eta 0:00:01\r\u001b[K     |█████▏                          | 194kB 16.1MB/s eta 0:00:01\r\u001b[K     |█████▌                          | 204kB 16.1MB/s eta 0:00:01\r\u001b[K     |█████▊                          | 215kB 16.1MB/s eta 0:00:01\r\u001b[K     |██████                          | 225kB 16.1MB/s eta 0:00:01\r\u001b[K     |██████▎                         | 235kB 16.1MB/s eta 0:00:01\r\u001b[K     |██████▌                         | 245kB 16.1MB/s eta 0:00:01\r\u001b[K     |██████▉                         | 256kB 16.1MB/s eta 0:00:01\r\u001b[K     |███████                         | 266kB 16.1MB/s eta 0:00:01\r\u001b[K     |███████▍                        | 276kB 16.1MB/s eta 0:00:01\r\u001b[K     |███████▋                        | 286kB 16.1MB/s eta 0:00:01\r\u001b[K     |████████                        | 296kB 16.1MB/s eta 0:00:01\r\u001b[K     |████████▏                       | 307kB 16.1MB/s eta 0:00:01\r\u001b[K     |████████▍                       | 317kB 16.1MB/s eta 0:00:01\r\u001b[K     |████████▊                       | 327kB 16.1MB/s eta 0:00:01\r\u001b[K     |█████████                       | 337kB 16.1MB/s eta 0:00:01\r\u001b[K     |█████████▎                      | 348kB 16.1MB/s eta 0:00:01\r\u001b[K     |█████████▌                      | 358kB 16.1MB/s eta 0:00:01\r\u001b[K     |█████████▉                      | 368kB 16.1MB/s eta 0:00:01\r\u001b[K     |██████████                      | 378kB 16.1MB/s eta 0:00:01\r\u001b[K     |██████████▍                     | 389kB 16.1MB/s eta 0:00:01\r\u001b[K     |██████████▋                     | 399kB 16.1MB/s eta 0:00:01\r\u001b[K     |███████████                     | 409kB 16.1MB/s eta 0:00:01\r\u001b[K     |███████████▏                    | 419kB 16.1MB/s eta 0:00:01\r\u001b[K     |███████████▍                    | 430kB 16.1MB/s eta 0:00:01\r\u001b[K     |███████████▊                    | 440kB 16.1MB/s eta 0:00:01\r\u001b[K     |████████████                    | 450kB 16.1MB/s eta 0:00:01\r\u001b[K     |████████████▎                   | 460kB 16.1MB/s eta 0:00:01\r\u001b[K     |████████████▌                   | 471kB 16.1MB/s eta 0:00:01\r\u001b[K     |████████████▉                   | 481kB 16.1MB/s eta 0:00:01\r\u001b[K     |█████████████                   | 491kB 16.1MB/s eta 0:00:01\r\u001b[K     |█████████████▍                  | 501kB 16.1MB/s eta 0:00:01\r\u001b[K     |█████████████▋                  | 512kB 16.1MB/s eta 0:00:01\r\u001b[K     |█████████████▉                  | 522kB 16.1MB/s eta 0:00:01\r\u001b[K     |██████████████▏                 | 532kB 16.1MB/s eta 0:00:01\r\u001b[K     |██████████████▍                 | 542kB 16.1MB/s eta 0:00:01\r\u001b[K     |██████████████▊                 | 552kB 16.1MB/s eta 0:00:01\r\u001b[K     |███████████████                 | 563kB 16.1MB/s eta 0:00:01\r\u001b[K     |███████████████▎                | 573kB 16.1MB/s eta 0:00:01\r\u001b[K     |███████████████▌                | 583kB 16.1MB/s eta 0:00:01\r\u001b[K     |███████████████▉                | 593kB 16.1MB/s eta 0:00:01\r\u001b[K     |████████████████                | 604kB 16.1MB/s eta 0:00:01\r\u001b[K     |████████████████▍               | 614kB 16.1MB/s eta 0:00:01\r\u001b[K     |████████████████▋               | 624kB 16.1MB/s eta 0:00:01\r\u001b[K     |████████████████▉               | 634kB 16.1MB/s eta 0:00:01\r\u001b[K     |█████████████████▏              | 645kB 16.1MB/s eta 0:00:01\r\u001b[K     |█████████████████▍              | 655kB 16.1MB/s eta 0:00:01\r\u001b[K     |█████████████████▊              | 665kB 16.1MB/s eta 0:00:01\r\u001b[K     |██████████████████              | 675kB 16.1MB/s eta 0:00:01\r\u001b[K     |██████████████████▎             | 686kB 16.1MB/s eta 0:00:01\r\u001b[K     |██████████████████▌             | 696kB 16.1MB/s eta 0:00:01\r\u001b[K     |██████████████████▉             | 706kB 16.1MB/s eta 0:00:01\r\u001b[K     |███████████████████             | 716kB 16.1MB/s eta 0:00:01\r\u001b[K     |███████████████████▎            | 727kB 16.1MB/s eta 0:00:01\r\u001b[K     |███████████████████▋            | 737kB 16.1MB/s eta 0:00:01\r\u001b[K     |███████████████████▉            | 747kB 16.1MB/s eta 0:00:01\r\u001b[K     |████████████████████▏           | 757kB 16.1MB/s eta 0:00:01\r\u001b[K     |████████████████████▍           | 768kB 16.1MB/s eta 0:00:01\r\u001b[K     |████████████████████▊           | 778kB 16.1MB/s eta 0:00:01\r\u001b[K     |█████████████████████           | 788kB 16.1MB/s eta 0:00:01\r\u001b[K     |█████████████████████▎          | 798kB 16.1MB/s eta 0:00:01\r\u001b[K     |█████████████████████▌          | 808kB 16.1MB/s eta 0:00:01\r\u001b[K     |█████████████████████▉          | 819kB 16.1MB/s eta 0:00:01\r\u001b[K     |██████████████████████          | 829kB 16.1MB/s eta 0:00:01\r\u001b[K     |██████████████████████▎         | 839kB 16.1MB/s eta 0:00:01\r\u001b[K     |██████████████████████▋         | 849kB 16.1MB/s eta 0:00:01\r\u001b[K     |██████████████████████▉         | 860kB 16.1MB/s eta 0:00:01\r\u001b[K     |███████████████████████▏        | 870kB 16.1MB/s eta 0:00:01\r\u001b[K     |███████████████████████▍        | 880kB 16.1MB/s eta 0:00:01\r\u001b[K     |███████████████████████▊        | 890kB 16.1MB/s eta 0:00:01\r\u001b[K     |████████████████████████        | 901kB 16.1MB/s eta 0:00:01\r\u001b[K     |████████████████████████▎       | 911kB 16.1MB/s eta 0:00:01\r\u001b[K     |████████████████████████▌       | 921kB 16.1MB/s eta 0:00:01\r\u001b[K     |████████████████████████▊       | 931kB 16.1MB/s eta 0:00:01\r\u001b[K     |█████████████████████████       | 942kB 16.1MB/s eta 0:00:01\r\u001b[K     |█████████████████████████▎      | 952kB 16.1MB/s eta 0:00:01\r\u001b[K     |█████████████████████████▋      | 962kB 16.1MB/s eta 0:00:01\r\u001b[K     |█████████████████████████▉      | 972kB 16.1MB/s eta 0:00:01\r\u001b[K     |██████████████████████████▏     | 983kB 16.1MB/s eta 0:00:01\r\u001b[K     |██████████████████████████▍     | 993kB 16.1MB/s eta 0:00:01\r\u001b[K     |██████████████████████████▊     | 1.0MB 16.1MB/s eta 0:00:01\r\u001b[K     |███████████████████████████     | 1.0MB 16.1MB/s eta 0:00:01\r\u001b[K     |███████████████████████████▎    | 1.0MB 16.1MB/s eta 0:00:01\r\u001b[K     |███████████████████████████▌    | 1.0MB 16.1MB/s eta 0:00:01\r\u001b[K     |███████████████████████████▊    | 1.0MB 16.1MB/s eta 0:00:01\r\u001b[K     |████████████████████████████    | 1.1MB 16.1MB/s eta 0:00:01\r\u001b[K     |████████████████████████████▎   | 1.1MB 16.1MB/s eta 0:00:01\r\u001b[K     |████████████████████████████▋   | 1.1MB 16.1MB/s eta 0:00:01\r\u001b[K     |████████████████████████████▉   | 1.1MB 16.1MB/s eta 0:00:01\r\u001b[K     |█████████████████████████████▏  | 1.1MB 16.1MB/s eta 0:00:01\r\u001b[K     |█████████████████████████████▍  | 1.1MB 16.1MB/s eta 0:00:01\r\u001b[K     |█████████████████████████████▊  | 1.1MB 16.1MB/s eta 0:00:01\r\u001b[K     |██████████████████████████████  | 1.1MB 16.1MB/s eta 0:00:01\r\u001b[K     |██████████████████████████████▏ | 1.1MB 16.1MB/s eta 0:00:01\r\u001b[K     |██████████████████████████████▌ | 1.1MB 16.1MB/s eta 0:00:01\r\u001b[K     |██████████████████████████████▊ | 1.2MB 16.1MB/s eta 0:00:01\r\u001b[K     |███████████████████████████████ | 1.2MB 16.1MB/s eta 0:00:01\r\u001b[K     |███████████████████████████████▎| 1.2MB 16.1MB/s eta 0:00:01\r\u001b[K     |███████████████████████████████▋| 1.2MB 16.1MB/s eta 0:00:01\r\u001b[K     |███████████████████████████████▉| 1.2MB 16.1MB/s eta 0:00:01\r\u001b[K     |████████████████████████████████| 1.2MB 16.1MB/s \n",
            "\u001b[?25hInstalling collected packages: SentencePiece\n",
            "Successfully installed SentencePiece-0.1.95\n"
          ],
          "name": "stdout"
        }
      ]
    },
    {
      "cell_type": "code",
      "metadata": {
        "colab": {
          "base_uri": "https://localhost:8080/"
        },
        "id": "XDg4ZsNJlY87",
        "outputId": "b16f2a27-5b1f-4ca9-e7fd-f38d9e6aa141"
      },
      "source": [
        "from transformers import pipeline\n",
        "\n",
        "from transformers import PegasusForConditionalGeneration, PegasusTokenizer\n",
        "import torch\n",
        "src_text = open(\"/content/data/conversation4-POC-ftp.txt\", \"r\").readlines()\n",
        "#src_text = [\n",
        "#    \"\"\" PG&E stated it scheduled the blackouts in response to forecasts for high winds amid dry conditions. The aim is to reduce the risk of wildfires. Nearly 800 thousand customers were scheduled to be affected by the shutoffs which were expected to last through at least midday tomorrow.\"\"\"\n",
        "#]\n",
        "\n",
        "model_name = 'google/pegasus-xsum'\n",
        "torch_device = 'cuda' if torch.cuda.is_available() else 'cpu'\n",
        "tokenizer = PegasusTokenizer.from_pretrained(model_name)\n",
        "model = PegasusForConditionalGeneration.from_pretrained(model_name).to(torch_device)\n",
        "\n",
        "batch = tokenizer.prepare_seq2seq_batch(src_text, truncation=True, padding='longest', return_tensors=\"pt\").to(torch_device)\n",
        "translated = model.generate(**batch)\n",
        "\n",
        "tgt_text = tokenizer.batch_decode(translated, skip_special_tokens=True)\n",
        "\n",
        "print('tgt_text' , tgt_text)"
      ],
      "execution_count": 10,
      "outputs": [
        {
          "output_type": "stream",
          "text": [
            "/usr/local/lib/python3.7/dist-packages/transformers/tokenization_utils_base.py:3221: FutureWarning: `prepare_seq2seq_batch` is deprecated and will be removed in version 5 of 🤗 Transformers. Use the regular `__call__` method to prepare your inputs and the tokenizer under the `with_target_tokenizer` context manager to prepare your targets. See the documentation of your specific tokenizer for more details\n",
            "  FutureWarning,\n"
          ],
          "name": "stderr"
        },
        {
          "output_type": "stream",
          "text": [
            "tgt_text ['Call centre agent: Hi, thanks for calling net service.', 'A selection of photos from around the world this week:', 'Customer: Hi, my Internet keeps disconnecting.', 'A selection of photos from around the world this week:', \"Agent: Hi, I'm sorry, but I'm not able to help you at the moment.\", 'How much do you know about your bank account?', 'A selection of photos from around the world this week:', \"A look back at some of the most memorable moments from this year's BBC Sports Personality of the Year awards.\", 'A selection of photos from around the world this week:', 'Sir, can you tell me the name of the customer?', 'A selection of photos from around the world this week:', \"Agent: What's the name of the city?\", 'A selection of photos from around the world this week:', 'Daniel:', 'What is the best way to get a refund on your car insurance?', 'A selection of photos from around the world this week:', \"Customer: I'm having problems with my internet.\", 'A selection of photos from around the world this week:', 'Agent : Is your house without power?', 'A selection of photos from around the world this week:', 'Customer: are you serious?', 'A selection of photos from around the world this week:', 'Can you tell me what is going on?', 'A selection of photos from around the world this week:', \"Customer: I've been very camp.\"]\n"
          ],
          "name": "stdout"
        }
      ]
    },
    {
      "cell_type": "code",
      "metadata": {
        "colab": {
          "base_uri": "https://localhost:8080/",
          "height": 336,
          "referenced_widgets": [
            "9643f59cf71d4e40b162699a8b67e47a",
            "87ab76fa68e643e7a61bcebdcbc84e00",
            "b994fb0ae3f0404689437e3e6fb2b057",
            "98400d01848e43428b563889de99a861",
            "1e5bbef99a9040208bf091600ff38c60",
            "d4b7d3ab3b3f4ec788876300a59ee789",
            "937d5cc092ea43569cce4e54e842f338",
            "63fee552087145efb58632591b7e017b",
            "32b73457deeb4d04bd893fa444a51237",
            "193311bc0d0e4377bad7d3f8179813e0",
            "d00a1aa924694c49bc35c95433e8afb3",
            "c6d4fcfc99104280a9e5ea02b45a0a5b",
            "1b67837f7d824fb8946cb907abec3072",
            "ccdfaa0fb35f4760825185aa5325bda0",
            "a3e504c817ed415ab677baa0d05134c1",
            "50b21f0e79c842699cf79e106ac2d0ce",
            "94c89ba02b444b2180a721dd8bd924d5",
            "3f65e3472467411681c6b6916833def0",
            "95748e12e5674e42a2db6b6705e669f3",
            "d4fdbe6b73dd4b329d4bc29102ea378b",
            "c6a552f905154d0594c1bd3b2fc82f60",
            "70f250777f3a45adbba8d3671c2e79e9",
            "d4f7e329fdc447cebd78a3b3f2a43cc8",
            "d83d117b70cf44a5ba0365ad71b44d29",
            "328b66a9dd354b3880951dd6f0695307",
            "59c6937314824247a0ba71fbba1dbc7e",
            "d422f03c00e4460b9154b1d916f4ee9c",
            "0875c8539a1a4b0fba02a2e529628f6b",
            "066c7cc7c1764e72b5e5443ae9301b94",
            "db64dbfa825d48a28ace830396ab8c69",
            "da6ae4bc9f684f94ac4ad1baf9014fc9",
            "2d16dab9e9bd4b2ea55670a28386655f",
            "e6eae36a166a45a8962ddba05f7dcdb5",
            "961dc5dfdadd41a6a776ebe3bd636903",
            "a59b15c4b9394c2f9f33e060cff8a6ec",
            "1c856a2ec94d440583a7712f789a27e6",
            "5063908ad09846d5b756c5c265aa3081",
            "6b17b817c4824725b2188e9ba31ec7b6",
            "53b7b564f8824da3929455d3a2b1bcc9",
            "84357a8d60ee44d29ca94defe0080336"
          ]
        },
        "id": "xXcdxVoMmxiJ",
        "outputId": "9c0159b9-8d33-4b8c-a0a0-ea7437e987fa"
      },
      "source": [
        "from transformers import pipeline\n",
        "\n",
        "from transformers import PegasusForConditionalGeneration, PegasusTokenizer\n",
        "import torch\n",
        "src_text = open(\"/content/data/conversation4-POC-ftp.txt\", \"r\").readlines()\n",
        "#src_text = [\n",
        "#    \"\"\" PG&E stated it scheduled the blackouts in response to forecasts for high winds amid dry conditions. The aim is to reduce the risk of wildfires. Nearly 800 thousand customers were scheduled to be affected by the shutoffs which were expected to last through at least midday tomorrow.\"\"\"\n",
        "#]\n",
        "\n",
        "model_name = 'google/pegasus-cnn_dailymail'\n",
        "torch_device = 'cuda' if torch.cuda.is_available() else 'cpu'\n",
        "tokenizer = PegasusTokenizer.from_pretrained(model_name)\n",
        "model = PegasusForConditionalGeneration.from_pretrained(model_name).to(torch_device)\n",
        "\n",
        "batch = tokenizer.prepare_seq2seq_batch(src_text, truncation=True, padding='longest', return_tensors=\"pt\").to(torch_device)\n",
        "translated = model.generate(**batch)\n",
        "\n",
        "tgt_text = tokenizer.batch_decode(translated, skip_special_tokens=True)\n",
        "\n",
        "print('tgt_text' , tgt_text)"
      ],
      "execution_count": 18,
      "outputs": [
        {
          "output_type": "display_data",
          "data": {
            "application/vnd.jupyter.widget-view+json": {
              "model_id": "9643f59cf71d4e40b162699a8b67e47a",
              "version_minor": 0,
              "version_major": 2
            },
            "text/plain": [
              "HBox(children=(FloatProgress(value=0.0, description='Downloading', max=1912529.0, style=ProgressStyle(descript…"
            ]
          },
          "metadata": {
            "tags": []
          }
        },
        {
          "output_type": "stream",
          "text": [
            "\n"
          ],
          "name": "stdout"
        },
        {
          "output_type": "display_data",
          "data": {
            "application/vnd.jupyter.widget-view+json": {
              "model_id": "32b73457deeb4d04bd893fa444a51237",
              "version_minor": 0,
              "version_major": 2
            },
            "text/plain": [
              "HBox(children=(FloatProgress(value=0.0, description='Downloading', max=65.0, style=ProgressStyle(description_w…"
            ]
          },
          "metadata": {
            "tags": []
          }
        },
        {
          "output_type": "stream",
          "text": [
            "\n"
          ],
          "name": "stdout"
        },
        {
          "output_type": "display_data",
          "data": {
            "application/vnd.jupyter.widget-view+json": {
              "model_id": "94c89ba02b444b2180a721dd8bd924d5",
              "version_minor": 0,
              "version_major": 2
            },
            "text/plain": [
              "HBox(children=(FloatProgress(value=0.0, description='Downloading', max=88.0, style=ProgressStyle(description_w…"
            ]
          },
          "metadata": {
            "tags": []
          }
        },
        {
          "output_type": "stream",
          "text": [
            "\n"
          ],
          "name": "stdout"
        },
        {
          "output_type": "display_data",
          "data": {
            "application/vnd.jupyter.widget-view+json": {
              "model_id": "328b66a9dd354b3880951dd6f0695307",
              "version_minor": 0,
              "version_major": 2
            },
            "text/plain": [
              "HBox(children=(FloatProgress(value=0.0, description='Downloading', max=1120.0, style=ProgressStyle(description…"
            ]
          },
          "metadata": {
            "tags": []
          }
        },
        {
          "output_type": "stream",
          "text": [
            "\n"
          ],
          "name": "stdout"
        },
        {
          "output_type": "display_data",
          "data": {
            "application/vnd.jupyter.widget-view+json": {
              "model_id": "e6eae36a166a45a8962ddba05f7dcdb5",
              "version_minor": 0,
              "version_major": 2
            },
            "text/plain": [
              "HBox(children=(FloatProgress(value=0.0, description='Downloading', max=2275327883.0, style=ProgressStyle(descr…"
            ]
          },
          "metadata": {
            "tags": []
          }
        },
        {
          "output_type": "stream",
          "text": [
            "\n"
          ],
          "name": "stdout"
        },
        {
          "output_type": "stream",
          "text": [
            "/usr/local/lib/python3.7/dist-packages/transformers/tokenization_utils_base.py:3221: FutureWarning: `prepare_seq2seq_batch` is deprecated and will be removed in version 5 of 🤗 Transformers. Use the regular `__call__` method to prepare your inputs and the tokenizer under the `with_target_tokenizer` context manager to prepare your targets. See the documentation of your specific tokenizer for more details\n",
            "  FutureWarning,\n"
          ],
          "name": "stderr"
        },
        {
          "output_type": "stream",
          "text": [
            "tgt_text ['Hi, thanks for calling net service. How can I help you?<n>Hi, thanks for calling net service. How can I help you?<n>Hi, thanks for calling net service. How can I help you?', '.<n>Have a personal essay to share with the world.<n>Have a personal essay to share with the U.S..<n>Have a personal essay to share with the world.', 'Yes, my Internet keeps disconnecting.<n>Hi. Yes, my Internet keeps disconnecting.<n>Hi. Yes, my Internet keeps disconnecting.<n>Hi. Yes, my Internet keeps disconnecting.', '.<n>Have a personal essay to share with the world.<n>Have a personal essay to share with the U.S..<n>Have a personal essay to share with the world.', 'I would definitely help you with this issue, but before that may,.<n>I would definitely help you with this issue, but before that may,.<n>I would definitely help you with this issue, but before that may,.', 'I know your nine digit customer ID.<n>I know your nine digit customer ID.<n>I know your nine digit customer ID.<n>I know your nine digit customer ID.', '.<n>Have a personal essay to share with the world.<n>Have a personal essay to share with the U.S..<n>Have a personal essay to share with the world.', 'Agent: Oh, come on. Can you just search by my registration phone number?<n>Agent: Oh, come on. Can you just search by my registration phone number?', '.<n>Have a personal essay to share with the world.<n>Have a personal essay to share with the U.S..<n>Have a personal essay to share with the world.', 'Sir, our system only recognizes nine digit customer ID.<n>Sir, our system only recognizes nine digit customer ID.<n>Sir, our system only recognizes nine digit customer ID.', '.<n>Have a personal essay to share with the world.<n>Have a personal essay to share with the U.S..<n>Have a personal essay to share with the world.', \"It's 345-93-9420.<n>Let me check. Okay, I found it it's 345-93-9420.<n>That's ridiculous.\", '.<n>Have a personal essay to share with the world.<n>Have a personal essay to share with the U.S..<n>Have a personal essay to share with the world.', 'Agent: great. Thanks, Mr Daniel, let me transfer you to our Internet Department as they are the only ones who can help you with the issue.<n>Agent: great. Thanks, Mr Daniel, let me transfer you to our Internet Department as they are the only ones who can help you with the issue.', 'Thanks for calling. How may I help you.<n>Have a personal essay to share with the world? Submit at the bottom of the page.<n>For confidential support call the Samaritans on 08457 90 90 90 or visit a local Samaritans branch, see www.samaritans.org for details.<n>In the U.S. call the National Suicide Prevention Line on 1-800-273-8255.', '.<n>Have a personal essay to share with the world.<n>Have a personal essay to share with the U.S..<n>Have a personal essay to share with the world.', 'Just now my Internet keeps disconnecting.<n>Just now my Internet keeps disconnecting.<n>Just now my Internet keeps disconnecting.<n>Just now my Internet keeps disconnecting.', '.<n>Have a personal essay to share with the world.<n>Have a personal essay to share with the U.S..<n>Have a personal essay to share with the world.', \"Can you please confirm if there's uninterrupted power supply at your house.<n>Agent : Very. Sorry to hear that, sir.<n>Can you please confirm if there's uninterrupted power supply at your house.\", '.<n>Have a personal essay to share with the world.<n>Have a personal essay to share with the U.S..<n>Have a personal essay to share with the world.', \"You think I'm stupid, of course there's no issue with my poor supplier at my home.<n>You think I'm stupid, of course there's no issue with my poor supplier at my home.<n>You think I'm stupid, of course there's no issue with my poor supplier at my home.\", '.<n>Have a personal essay to share with the world.<n>Have a personal essay to share with the U.S..<n>Have a personal essay to share with the world.', 'So. We are following our standard diagnostic procedure.<n>Currently calm down and restrain from using. Any cuss words.<n>We are following our standard diagnostic procedure.', '.<n>Have a personal essay to share with the world.<n>Have a personal essay to share with the U.S..<n>Have a personal essay to share with the world.', \"Customer: Came down. Did you just ask me to calm down I've been very camp.<n>Now, however, you guys absolutely useless I'm going to end this contract.\"]\n"
          ],
          "name": "stdout"
        }
      ]
    },
    {
      "cell_type": "code",
      "metadata": {
        "id": "qBKYAbz6y5pF"
      },
      "source": [
        "#with open(\"/content/data/summary_poc1.txt\", \"w\") as output:\n",
        "#    output.write(str(tgt_text))"
      ],
      "execution_count": 14,
      "outputs": []
    },
    {
      "cell_type": "code",
      "metadata": {
        "id": "NfgtWVsj0n8j"
      },
      "source": [
        "#with open(\"/content/data/summary_poc2.txt\", 'w') as output:\n",
        "#    for row in tgt_text:\n",
        "#        output.write(str(row))"
      ],
      "execution_count": 17,
      "outputs": []
    },
    {
      "cell_type": "code",
      "metadata": {
        "colab": {
          "base_uri": "https://localhost:8080/"
        },
        "id": "1RW6yoQ28QJE",
        "outputId": "a271dda5-6c24-4399-bce0-6317bc664f4b"
      },
      "source": [
        "!python \"/content/data/pegasus-summary.py\""
      ],
      "execution_count": 8,
      "outputs": [
        {
          "output_type": "stream",
          "text": [
            "2021-03-22 10:51:54.318624: I tensorflow/stream_executor/platform/default/dso_loader.cc:49] Successfully opened dynamic library libcudart.so.11.0\n",
            "/usr/local/lib/python3.7/dist-packages/transformers/tokenization_utils_base.py:3221: FutureWarning: `prepare_seq2seq_batch` is deprecated and will be removed in version 5 of 🤗 Transformers. Use the regular `__call__` method to prepare your inputs and the tokenizer under the `with_target_tokenizer` context manager to prepare your targets. See the documentation of your specific tokenizer for more details\n",
            "  FutureWarning,\n",
            "tgt_text ['Call centre agent: Hi, thanks for calling net service.', 'A selection of photos from around the world this week:', 'Customer: Hi, my Internet keeps disconnecting.', 'A selection of photos from around the world this week:', \"Agent: Hi, I'm sorry, but I'm not able to help you at the moment.\", 'How much do you know about your bank account?', 'A selection of photos from around the world this week:', \"A look back at some of the most memorable moments from this year's BBC Sports Personality of the Year awards.\", 'A selection of photos from around the world this week:', 'Sir, can you tell me the name of the customer?', 'A selection of photos from around the world this week:', \"Agent: What's the name of the city?\", 'A selection of photos from around the world this week:', 'Daniel:', 'What is the best way to get a refund on your car insurance?', 'A selection of photos from around the world this week:', \"Customer: I'm having problems with my internet.\", 'A selection of photos from around the world this week:', 'Agent : Is your house without power?', 'A selection of photos from around the world this week:', 'Customer: are you serious?', 'A selection of photos from around the world this week:', 'Can you tell me what is going on?', 'A selection of photos from around the world this week:', \"Customer: I've been very camp.\"]\n",
            "Traceback (most recent call last):\n",
            "  File \"/content/data/pegasus-summary.py\", line 26, in <module>\n",
            "    f.write(tgt_text)\n",
            "TypeError: write() argument must be str, not list\n"
          ],
          "name": "stdout"
        }
      ]
    },
    {
      "cell_type": "code",
      "metadata": {
        "id": "R7b29ya3jZlC"
      },
      "source": [
        ""
      ],
      "execution_count": null,
      "outputs": []
    }
  ]
}