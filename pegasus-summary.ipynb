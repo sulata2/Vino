{
  "nbformat": 4,
  "nbformat_minor": 0,
  "metadata": {
    "accelerator": "GPU",
    "colab": {
      "name": "Untitled0.ipynb",
      "provenance": [],
      "collapsed_sections": []
    },
    "kernelspec": {
      "display_name": "Python 3",
      "language": "python",
      "name": "python3"
    },
    "language_info": {
      "codemirror_mode": {
        "name": "ipython",
        "version": 3
      },
      "file_extension": ".py",
      "mimetype": "text/x-python",
      "name": "python",
      "nbconvert_exporter": "python",
      "pygments_lexer": "ipython3",
      "version": "3.7.6"
    },
    "widgets": {
      "application/vnd.jupyter.widget-state+json": {
        "9643f59cf71d4e40b162699a8b67e47a": {
          "model_module": "@jupyter-widgets/controls",
          "model_name": "HBoxModel",
          "state": {
            "_view_name": "HBoxView",
            "_dom_classes": [],
            "_model_name": "HBoxModel",
            "_view_module": "@jupyter-widgets/controls",
            "_model_module_version": "1.5.0",
            "_view_count": null,
            "_view_module_version": "1.5.0",
            "box_style": "",
            "layout": "IPY_MODEL_87ab76fa68e643e7a61bcebdcbc84e00",
            "_model_module": "@jupyter-widgets/controls",
            "children": [
              "IPY_MODEL_b994fb0ae3f0404689437e3e6fb2b057",
              "IPY_MODEL_98400d01848e43428b563889de99a861"
            ]
          }
        },
        "87ab76fa68e643e7a61bcebdcbc84e00": {
          "model_module": "@jupyter-widgets/base",
          "model_name": "LayoutModel",
          "state": {
            "_view_name": "LayoutView",
            "grid_template_rows": null,
            "right": null,
            "justify_content": null,
            "_view_module": "@jupyter-widgets/base",
            "overflow": null,
            "_model_module_version": "1.2.0",
            "_view_count": null,
            "flex_flow": null,
            "width": null,
            "min_width": null,
            "border": null,
            "align_items": null,
            "bottom": null,
            "_model_module": "@jupyter-widgets/base",
            "top": null,
            "grid_column": null,
            "overflow_y": null,
            "overflow_x": null,
            "grid_auto_flow": null,
            "grid_area": null,
            "grid_template_columns": null,
            "flex": null,
            "_model_name": "LayoutModel",
            "justify_items": null,
            "grid_row": null,
            "max_height": null,
            "align_content": null,
            "visibility": null,
            "align_self": null,
            "height": null,
            "min_height": null,
            "padding": null,
            "grid_auto_rows": null,
            "grid_gap": null,
            "max_width": null,
            "order": null,
            "_view_module_version": "1.2.0",
            "grid_template_areas": null,
            "object_position": null,
            "object_fit": null,
            "grid_auto_columns": null,
            "margin": null,
            "display": null,
            "left": null
          }
        },
        "b994fb0ae3f0404689437e3e6fb2b057": {
          "model_module": "@jupyter-widgets/controls",
          "model_name": "FloatProgressModel",
          "state": {
            "_view_name": "ProgressView",
            "style": "IPY_MODEL_1e5bbef99a9040208bf091600ff38c60",
            "_dom_classes": [],
            "description": "Downloading: 100%",
            "_model_name": "FloatProgressModel",
            "bar_style": "success",
            "max": 1912529,
            "_view_module": "@jupyter-widgets/controls",
            "_model_module_version": "1.5.0",
            "value": 1912529,
            "_view_count": null,
            "_view_module_version": "1.5.0",
            "orientation": "horizontal",
            "min": 0,
            "description_tooltip": null,
            "_model_module": "@jupyter-widgets/controls",
            "layout": "IPY_MODEL_d4b7d3ab3b3f4ec788876300a59ee789"
          }
        },
        "98400d01848e43428b563889de99a861": {
          "model_module": "@jupyter-widgets/controls",
          "model_name": "HTMLModel",
          "state": {
            "_view_name": "HTMLView",
            "style": "IPY_MODEL_937d5cc092ea43569cce4e54e842f338",
            "_dom_classes": [],
            "description": "",
            "_model_name": "HTMLModel",
            "placeholder": "​",
            "_view_module": "@jupyter-widgets/controls",
            "_model_module_version": "1.5.0",
            "value": " 1.91M/1.91M [00:03&lt;00:00, 636kB/s]",
            "_view_count": null,
            "_view_module_version": "1.5.0",
            "description_tooltip": null,
            "_model_module": "@jupyter-widgets/controls",
            "layout": "IPY_MODEL_63fee552087145efb58632591b7e017b"
          }
        },
        "1e5bbef99a9040208bf091600ff38c60": {
          "model_module": "@jupyter-widgets/controls",
          "model_name": "ProgressStyleModel",
          "state": {
            "_view_name": "StyleView",
            "_model_name": "ProgressStyleModel",
            "description_width": "initial",
            "_view_module": "@jupyter-widgets/base",
            "_model_module_version": "1.5.0",
            "_view_count": null,
            "_view_module_version": "1.2.0",
            "bar_color": null,
            "_model_module": "@jupyter-widgets/controls"
          }
        },
        "d4b7d3ab3b3f4ec788876300a59ee789": {
          "model_module": "@jupyter-widgets/base",
          "model_name": "LayoutModel",
          "state": {
            "_view_name": "LayoutView",
            "grid_template_rows": null,
            "right": null,
            "justify_content": null,
            "_view_module": "@jupyter-widgets/base",
            "overflow": null,
            "_model_module_version": "1.2.0",
            "_view_count": null,
            "flex_flow": null,
            "width": null,
            "min_width": null,
            "border": null,
            "align_items": null,
            "bottom": null,
            "_model_module": "@jupyter-widgets/base",
            "top": null,
            "grid_column": null,
            "overflow_y": null,
            "overflow_x": null,
            "grid_auto_flow": null,
            "grid_area": null,
            "grid_template_columns": null,
            "flex": null,
            "_model_name": "LayoutModel",
            "justify_items": null,
            "grid_row": null,
            "max_height": null,
            "align_content": null,
            "visibility": null,
            "align_self": null,
            "height": null,
            "min_height": null,
            "padding": null,
            "grid_auto_rows": null,
            "grid_gap": null,
            "max_width": null,
            "order": null,
            "_view_module_version": "1.2.0",
            "grid_template_areas": null,
            "object_position": null,
            "object_fit": null,
            "grid_auto_columns": null,
            "margin": null,
            "display": null,
            "left": null
          }
        },
        "937d5cc092ea43569cce4e54e842f338": {
          "model_module": "@jupyter-widgets/controls",
          "model_name": "DescriptionStyleModel",
          "state": {
            "_view_name": "StyleView",
            "_model_name": "DescriptionStyleModel",
            "description_width": "",
            "_view_module": "@jupyter-widgets/base",
            "_model_module_version": "1.5.0",
            "_view_count": null,
            "_view_module_version": "1.2.0",
            "_model_module": "@jupyter-widgets/controls"
          }
        },
        "63fee552087145efb58632591b7e017b": {
          "model_module": "@jupyter-widgets/base",
          "model_name": "LayoutModel",
          "state": {
            "_view_name": "LayoutView",
            "grid_template_rows": null,
            "right": null,
            "justify_content": null,
            "_view_module": "@jupyter-widgets/base",
            "overflow": null,
            "_model_module_version": "1.2.0",
            "_view_count": null,
            "flex_flow": null,
            "width": null,
            "min_width": null,
            "border": null,
            "align_items": null,
            "bottom": null,
            "_model_module": "@jupyter-widgets/base",
            "top": null,
            "grid_column": null,
            "overflow_y": null,
            "overflow_x": null,
            "grid_auto_flow": null,
            "grid_area": null,
            "grid_template_columns": null,
            "flex": null,
            "_model_name": "LayoutModel",
            "justify_items": null,
            "grid_row": null,
            "max_height": null,
            "align_content": null,
            "visibility": null,
            "align_self": null,
            "height": null,
            "min_height": null,
            "padding": null,
            "grid_auto_rows": null,
            "grid_gap": null,
            "max_width": null,
            "order": null,
            "_view_module_version": "1.2.0",
            "grid_template_areas": null,
            "object_position": null,
            "object_fit": null,
            "grid_auto_columns": null,
            "margin": null,
            "display": null,
            "left": null
          }
        },
        "32b73457deeb4d04bd893fa444a51237": {
          "model_module": "@jupyter-widgets/controls",
          "model_name": "HBoxModel",
          "state": {
            "_view_name": "HBoxView",
            "_dom_classes": [],
            "_model_name": "HBoxModel",
            "_view_module": "@jupyter-widgets/controls",
            "_model_module_version": "1.5.0",
            "_view_count": null,
            "_view_module_version": "1.5.0",
            "box_style": "",
            "layout": "IPY_MODEL_193311bc0d0e4377bad7d3f8179813e0",
            "_model_module": "@jupyter-widgets/controls",
            "children": [
              "IPY_MODEL_d00a1aa924694c49bc35c95433e8afb3",
              "IPY_MODEL_c6d4fcfc99104280a9e5ea02b45a0a5b"
            ]
          }
        },
        "193311bc0d0e4377bad7d3f8179813e0": {
          "model_module": "@jupyter-widgets/base",
          "model_name": "LayoutModel",
          "state": {
            "_view_name": "LayoutView",
            "grid_template_rows": null,
            "right": null,
            "justify_content": null,
            "_view_module": "@jupyter-widgets/base",
            "overflow": null,
            "_model_module_version": "1.2.0",
            "_view_count": null,
            "flex_flow": null,
            "width": null,
            "min_width": null,
            "border": null,
            "align_items": null,
            "bottom": null,
            "_model_module": "@jupyter-widgets/base",
            "top": null,
            "grid_column": null,
            "overflow_y": null,
            "overflow_x": null,
            "grid_auto_flow": null,
            "grid_area": null,
            "grid_template_columns": null,
            "flex": null,
            "_model_name": "LayoutModel",
            "justify_items": null,
            "grid_row": null,
            "max_height": null,
            "align_content": null,
            "visibility": null,
            "align_self": null,
            "height": null,
            "min_height": null,
            "padding": null,
            "grid_auto_rows": null,
            "grid_gap": null,
            "max_width": null,
            "order": null,
            "_view_module_version": "1.2.0",
            "grid_template_areas": null,
            "object_position": null,
            "object_fit": null,
            "grid_auto_columns": null,
            "margin": null,
            "display": null,
            "left": null
          }
        },
        "d00a1aa924694c49bc35c95433e8afb3": {
          "model_module": "@jupyter-widgets/controls",
          "model_name": "FloatProgressModel",
          "state": {
            "_view_name": "ProgressView",
            "style": "IPY_MODEL_1b67837f7d824fb8946cb907abec3072",
            "_dom_classes": [],
            "description": "Downloading: 100%",
            "_model_name": "FloatProgressModel",
            "bar_style": "success",
            "max": 65,
            "_view_module": "@jupyter-widgets/controls",
            "_model_module_version": "1.5.0",
            "value": 65,
            "_view_count": null,
            "_view_module_version": "1.5.0",
            "orientation": "horizontal",
            "min": 0,
            "description_tooltip": null,
            "_model_module": "@jupyter-widgets/controls",
            "layout": "IPY_MODEL_ccdfaa0fb35f4760825185aa5325bda0"
          }
        },
        "c6d4fcfc99104280a9e5ea02b45a0a5b": {
          "model_module": "@jupyter-widgets/controls",
          "model_name": "HTMLModel",
          "state": {
            "_view_name": "HTMLView",
            "style": "IPY_MODEL_a3e504c817ed415ab677baa0d05134c1",
            "_dom_classes": [],
            "description": "",
            "_model_name": "HTMLModel",
            "placeholder": "​",
            "_view_module": "@jupyter-widgets/controls",
            "_model_module_version": "1.5.0",
            "value": " 65.0/65.0 [00:01&lt;00:00, 39.9B/s]",
            "_view_count": null,
            "_view_module_version": "1.5.0",
            "description_tooltip": null,
            "_model_module": "@jupyter-widgets/controls",
            "layout": "IPY_MODEL_50b21f0e79c842699cf79e106ac2d0ce"
          }
        },
        "1b67837f7d824fb8946cb907abec3072": {
          "model_module": "@jupyter-widgets/controls",
          "model_name": "ProgressStyleModel",
          "state": {
            "_view_name": "StyleView",
            "_model_name": "ProgressStyleModel",
            "description_width": "initial",
            "_view_module": "@jupyter-widgets/base",
            "_model_module_version": "1.5.0",
            "_view_count": null,
            "_view_module_version": "1.2.0",
            "bar_color": null,
            "_model_module": "@jupyter-widgets/controls"
          }
        },
        "ccdfaa0fb35f4760825185aa5325bda0": {
          "model_module": "@jupyter-widgets/base",
          "model_name": "LayoutModel",
          "state": {
            "_view_name": "LayoutView",
            "grid_template_rows": null,
            "right": null,
            "justify_content": null,
            "_view_module": "@jupyter-widgets/base",
            "overflow": null,
            "_model_module_version": "1.2.0",
            "_view_count": null,
            "flex_flow": null,
            "width": null,
            "min_width": null,
            "border": null,
            "align_items": null,
            "bottom": null,
            "_model_module": "@jupyter-widgets/base",
            "top": null,
            "grid_column": null,
            "overflow_y": null,
            "overflow_x": null,
            "grid_auto_flow": null,
            "grid_area": null,
            "grid_template_columns": null,
            "flex": null,
            "_model_name": "LayoutModel",
            "justify_items": null,
            "grid_row": null,
            "max_height": null,
            "align_content": null,
            "visibility": null,
            "align_self": null,
            "height": null,
            "min_height": null,
            "padding": null,
            "grid_auto_rows": null,
            "grid_gap": null,
            "max_width": null,
            "order": null,
            "_view_module_version": "1.2.0",
            "grid_template_areas": null,
            "object_position": null,
            "object_fit": null,
            "grid_auto_columns": null,
            "margin": null,
            "display": null,
            "left": null
          }
        },
        "a3e504c817ed415ab677baa0d05134c1": {
          "model_module": "@jupyter-widgets/controls",
          "model_name": "DescriptionStyleModel",
          "state": {
            "_view_name": "StyleView",
            "_model_name": "DescriptionStyleModel",
            "description_width": "",
            "_view_module": "@jupyter-widgets/base",
            "_model_module_version": "1.5.0",
            "_view_count": null,
            "_view_module_version": "1.2.0",
            "_model_module": "@jupyter-widgets/controls"
          }
        },
        "50b21f0e79c842699cf79e106ac2d0ce": {
          "model_module": "@jupyter-widgets/base",
          "model_name": "LayoutModel",
          "state": {
            "_view_name": "LayoutView",
            "grid_template_rows": null,
            "right": null,
            "justify_content": null,
            "_view_module": "@jupyter-widgets/base",
            "overflow": null,
            "_model_module_version": "1.2.0",
            "_view_count": null,
            "flex_flow": null,
            "width": null,
            "min_width": null,
            "border": null,
            "align_items": null,
            "bottom": null,
            "_model_module": "@jupyter-widgets/base",
            "top": null,
            "grid_column": null,
            "overflow_y": null,
            "overflow_x": null,
            "grid_auto_flow": null,
            "grid_area": null,
            "grid_template_columns": null,
            "flex": null,
            "_model_name": "LayoutModel",
            "justify_items": null,
            "grid_row": null,
            "max_height": null,
            "align_content": null,
            "visibility": null,
            "align_self": null,
            "height": null,
            "min_height": null,
            "padding": null,
            "grid_auto_rows": null,
            "grid_gap": null,
            "max_width": null,
            "order": null,
            "_view_module_version": "1.2.0",
            "grid_template_areas": null,
            "object_position": null,
            "object_fit": null,
            "grid_auto_columns": null,
            "margin": null,
            "display": null,
            "left": null
          }
        },
        "94c89ba02b444b2180a721dd8bd924d5": {
          "model_module": "@jupyter-widgets/controls",
          "model_name": "HBoxModel",
          "state": {
            "_view_name": "HBoxView",
            "_dom_classes": [],
            "_model_name": "HBoxModel",
            "_view_module": "@jupyter-widgets/controls",
            "_model_module_version": "1.5.0",
            "_view_count": null,
            "_view_module_version": "1.5.0",
            "box_style": "",
            "layout": "IPY_MODEL_3f65e3472467411681c6b6916833def0",
            "_model_module": "@jupyter-widgets/controls",
            "children": [
              "IPY_MODEL_95748e12e5674e42a2db6b6705e669f3",
              "IPY_MODEL_d4fdbe6b73dd4b329d4bc29102ea378b"
            ]
          }
        },
        "3f65e3472467411681c6b6916833def0": {
          "model_module": "@jupyter-widgets/base",
          "model_name": "LayoutModel",
          "state": {
            "_view_name": "LayoutView",
            "grid_template_rows": null,
            "right": null,
            "justify_content": null,
            "_view_module": "@jupyter-widgets/base",
            "overflow": null,
            "_model_module_version": "1.2.0",
            "_view_count": null,
            "flex_flow": null,
            "width": null,
            "min_width": null,
            "border": null,
            "align_items": null,
            "bottom": null,
            "_model_module": "@jupyter-widgets/base",
            "top": null,
            "grid_column": null,
            "overflow_y": null,
            "overflow_x": null,
            "grid_auto_flow": null,
            "grid_area": null,
            "grid_template_columns": null,
            "flex": null,
            "_model_name": "LayoutModel",
            "justify_items": null,
            "grid_row": null,
            "max_height": null,
            "align_content": null,
            "visibility": null,
            "align_self": null,
            "height": null,
            "min_height": null,
            "padding": null,
            "grid_auto_rows": null,
            "grid_gap": null,
            "max_width": null,
            "order": null,
            "_view_module_version": "1.2.0",
            "grid_template_areas": null,
            "object_position": null,
            "object_fit": null,
            "grid_auto_columns": null,
            "margin": null,
            "display": null,
            "left": null
          }
        },
        "95748e12e5674e42a2db6b6705e669f3": {
          "model_module": "@jupyter-widgets/controls",
          "model_name": "FloatProgressModel",
          "state": {
            "_view_name": "ProgressView",
            "style": "IPY_MODEL_c6a552f905154d0594c1bd3b2fc82f60",
            "_dom_classes": [],
            "description": "Downloading: 100%",
            "_model_name": "FloatProgressModel",
            "bar_style": "success",
            "max": 88,
            "_view_module": "@jupyter-widgets/controls",
            "_model_module_version": "1.5.0",
            "value": 88,
            "_view_count": null,
            "_view_module_version": "1.5.0",
            "orientation": "horizontal",
            "min": 0,
            "description_tooltip": null,
            "_model_module": "@jupyter-widgets/controls",
            "layout": "IPY_MODEL_70f250777f3a45adbba8d3671c2e79e9"
          }
        },
        "d4fdbe6b73dd4b329d4bc29102ea378b": {
          "model_module": "@jupyter-widgets/controls",
          "model_name": "HTMLModel",
          "state": {
            "_view_name": "HTMLView",
            "style": "IPY_MODEL_d4f7e329fdc447cebd78a3b3f2a43cc8",
            "_dom_classes": [],
            "description": "",
            "_model_name": "HTMLModel",
            "placeholder": "​",
            "_view_module": "@jupyter-widgets/controls",
            "_model_module_version": "1.5.0",
            "value": " 88.0/88.0 [00:01&lt;00:00, 82.7B/s]",
            "_view_count": null,
            "_view_module_version": "1.5.0",
            "description_tooltip": null,
            "_model_module": "@jupyter-widgets/controls",
            "layout": "IPY_MODEL_d83d117b70cf44a5ba0365ad71b44d29"
          }
        },
        "c6a552f905154d0594c1bd3b2fc82f60": {
          "model_module": "@jupyter-widgets/controls",
          "model_name": "ProgressStyleModel",
          "state": {
            "_view_name": "StyleView",
            "_model_name": "ProgressStyleModel",
            "description_width": "initial",
            "_view_module": "@jupyter-widgets/base",
            "_model_module_version": "1.5.0",
            "_view_count": null,
            "_view_module_version": "1.2.0",
            "bar_color": null,
            "_model_module": "@jupyter-widgets/controls"
          }
        },
        "70f250777f3a45adbba8d3671c2e79e9": {
          "model_module": "@jupyter-widgets/base",
          "model_name": "LayoutModel",
          "state": {
            "_view_name": "LayoutView",
            "grid_template_rows": null,
            "right": null,
            "justify_content": null,
            "_view_module": "@jupyter-widgets/base",
            "overflow": null,
            "_model_module_version": "1.2.0",
            "_view_count": null,
            "flex_flow": null,
            "width": null,
            "min_width": null,
            "border": null,
            "align_items": null,
            "bottom": null,
            "_model_module": "@jupyter-widgets/base",
            "top": null,
            "grid_column": null,
            "overflow_y": null,
            "overflow_x": null,
            "grid_auto_flow": null,
            "grid_area": null,
            "grid_template_columns": null,
            "flex": null,
            "_model_name": "LayoutModel",
            "justify_items": null,
            "grid_row": null,
            "max_height": null,
            "align_content": null,
            "visibility": null,
            "align_self": null,
            "height": null,
            "min_height": null,
            "padding": null,
            "grid_auto_rows": null,
            "grid_gap": null,
            "max_width": null,
            "order": null,
            "_view_module_version": "1.2.0",
            "grid_template_areas": null,
            "object_position": null,
            "object_fit": null,
            "grid_auto_columns": null,
            "margin": null,
            "display": null,
            "left": null
          }
        },
        "d4f7e329fdc447cebd78a3b3f2a43cc8": {
          "model_module": "@jupyter-widgets/controls",
          "model_name": "DescriptionStyleModel",
          "state": {
            "_view_name": "StyleView",
            "_model_name": "DescriptionStyleModel",
            "description_width": "",
            "_view_module": "@jupyter-widgets/base",
            "_model_module_version": "1.5.0",
            "_view_count": null,
            "_view_module_version": "1.2.0",
            "_model_module": "@jupyter-widgets/controls"
          }
        },
        "d83d117b70cf44a5ba0365ad71b44d29": {
          "model_module": "@jupyter-widgets/base",
          "model_name": "LayoutModel",
          "state": {
            "_view_name": "LayoutView",
            "grid_template_rows": null,
            "right": null,
            "justify_content": null,
            "_view_module": "@jupyter-widgets/base",
            "overflow": null,
            "_model_module_version": "1.2.0",
            "_view_count": null,
            "flex_flow": null,
            "width": null,
            "min_width": null,
            "border": null,
            "align_items": null,
            "bottom": null,
            "_model_module": "@jupyter-widgets/base",
            "top": null,
            "grid_column": null,
            "overflow_y": null,
            "overflow_x": null,
            "grid_auto_flow": null,
            "grid_area": null,
            "grid_template_columns": null,
            "flex": null,
            "_model_name": "LayoutModel",
            "justify_items": null,
            "grid_row": null,
            "max_height": null,
            "align_content": null,
            "visibility": null,
            "align_self": null,
            "height": null,
            "min_height": null,
            "padding": null,
            "grid_auto_rows": null,
            "grid_gap": null,
            "max_width": null,
            "order": null,
            "_view_module_version": "1.2.0",
            "grid_template_areas": null,
            "object_position": null,
            "object_fit": null,
            "grid_auto_columns": null,
            "margin": null,
            "display": null,
            "left": null
          }
        },
        "328b66a9dd354b3880951dd6f0695307": {
          "model_module": "@jupyter-widgets/controls",
          "model_name": "HBoxModel",
          "state": {
            "_view_name": "HBoxView",
            "_dom_classes": [],
            "_model_name": "HBoxModel",
            "_view_module": "@jupyter-widgets/controls",
            "_model_module_version": "1.5.0",
            "_view_count": null,
            "_view_module_version": "1.5.0",
            "box_style": "",
            "layout": "IPY_MODEL_59c6937314824247a0ba71fbba1dbc7e",
            "_model_module": "@jupyter-widgets/controls",
            "children": [
              "IPY_MODEL_d422f03c00e4460b9154b1d916f4ee9c",
              "IPY_MODEL_0875c8539a1a4b0fba02a2e529628f6b"
            ]
          }
        },
        "59c6937314824247a0ba71fbba1dbc7e": {
          "model_module": "@jupyter-widgets/base",
          "model_name": "LayoutModel",
          "state": {
            "_view_name": "LayoutView",
            "grid_template_rows": null,
            "right": null,
            "justify_content": null,
            "_view_module": "@jupyter-widgets/base",
            "overflow": null,
            "_model_module_version": "1.2.0",
            "_view_count": null,
            "flex_flow": null,
            "width": null,
            "min_width": null,
            "border": null,
            "align_items": null,
            "bottom": null,
            "_model_module": "@jupyter-widgets/base",
            "top": null,
            "grid_column": null,
            "overflow_y": null,
            "overflow_x": null,
            "grid_auto_flow": null,
            "grid_area": null,
            "grid_template_columns": null,
            "flex": null,
            "_model_name": "LayoutModel",
            "justify_items": null,
            "grid_row": null,
            "max_height": null,
            "align_content": null,
            "visibility": null,
            "align_self": null,
            "height": null,
            "min_height": null,
            "padding": null,
            "grid_auto_rows": null,
            "grid_gap": null,
            "max_width": null,
            "order": null,
            "_view_module_version": "1.2.0",
            "grid_template_areas": null,
            "object_position": null,
            "object_fit": null,
            "grid_auto_columns": null,
            "margin": null,
            "display": null,
            "left": null
          }
        },
        "d422f03c00e4460b9154b1d916f4ee9c": {
          "model_module": "@jupyter-widgets/controls",
          "model_name": "FloatProgressModel",
          "state": {
            "_view_name": "ProgressView",
            "style": "IPY_MODEL_066c7cc7c1764e72b5e5443ae9301b94",
            "_dom_classes": [],
            "description": "Downloading: 100%",
            "_model_name": "FloatProgressModel",
            "bar_style": "success",
            "max": 1120,
            "_view_module": "@jupyter-widgets/controls",
            "_model_module_version": "1.5.0",
            "value": 1120,
            "_view_count": null,
            "_view_module_version": "1.5.0",
            "orientation": "horizontal",
            "min": 0,
            "description_tooltip": null,
            "_model_module": "@jupyter-widgets/controls",
            "layout": "IPY_MODEL_db64dbfa825d48a28ace830396ab8c69"
          }
        },
        "0875c8539a1a4b0fba02a2e529628f6b": {
          "model_module": "@jupyter-widgets/controls",
          "model_name": "HTMLModel",
          "state": {
            "_view_name": "HTMLView",
            "style": "IPY_MODEL_da6ae4bc9f684f94ac4ad1baf9014fc9",
            "_dom_classes": [],
            "description": "",
            "_model_name": "HTMLModel",
            "placeholder": "​",
            "_view_module": "@jupyter-widgets/controls",
            "_model_module_version": "1.5.0",
            "value": " 1.12k/1.12k [00:00&lt;00:00, 32.5kB/s]",
            "_view_count": null,
            "_view_module_version": "1.5.0",
            "description_tooltip": null,
            "_model_module": "@jupyter-widgets/controls",
            "layout": "IPY_MODEL_2d16dab9e9bd4b2ea55670a28386655f"
          }
        },
        "066c7cc7c1764e72b5e5443ae9301b94": {
          "model_module": "@jupyter-widgets/controls",
          "model_name": "ProgressStyleModel",
          "state": {
            "_view_name": "StyleView",
            "_model_name": "ProgressStyleModel",
            "description_width": "initial",
            "_view_module": "@jupyter-widgets/base",
            "_model_module_version": "1.5.0",
            "_view_count": null,
            "_view_module_version": "1.2.0",
            "bar_color": null,
            "_model_module": "@jupyter-widgets/controls"
          }
        },
        "db64dbfa825d48a28ace830396ab8c69": {
          "model_module": "@jupyter-widgets/base",
          "model_name": "LayoutModel",
          "state": {
            "_view_name": "LayoutView",
            "grid_template_rows": null,
            "right": null,
            "justify_content": null,
            "_view_module": "@jupyter-widgets/base",
            "overflow": null,
            "_model_module_version": "1.2.0",
            "_view_count": null,
            "flex_flow": null,
            "width": null,
            "min_width": null,
            "border": null,
            "align_items": null,
            "bottom": null,
            "_model_module": "@jupyter-widgets/base",
            "top": null,
            "grid_column": null,
            "overflow_y": null,
            "overflow_x": null,
            "grid_auto_flow": null,
            "grid_area": null,
            "grid_template_columns": null,
            "flex": null,
            "_model_name": "LayoutModel",
            "justify_items": null,
            "grid_row": null,
            "max_height": null,
            "align_content": null,
            "visibility": null,
            "align_self": null,
            "height": null,
            "min_height": null,
            "padding": null,
            "grid_auto_rows": null,
            "grid_gap": null,
            "max_width": null,
            "order": null,
            "_view_module_version": "1.2.0",
            "grid_template_areas": null,
            "object_position": null,
            "object_fit": null,
            "grid_auto_columns": null,
            "margin": null,
            "display": null,
            "left": null
          }
        },
        "da6ae4bc9f684f94ac4ad1baf9014fc9": {
          "model_module": "@jupyter-widgets/controls",
          "model_name": "DescriptionStyleModel",
          "state": {
            "_view_name": "StyleView",
            "_model_name": "DescriptionStyleModel",
            "description_width": "",
            "_view_module": "@jupyter-widgets/base",
            "_model_module_version": "1.5.0",
            "_view_count": null,
            "_view_module_version": "1.2.0",
            "_model_module": "@jupyter-widgets/controls"
          }
        },
        "2d16dab9e9bd4b2ea55670a28386655f": {
          "model_module": "@jupyter-widgets/base",
          "model_name": "LayoutModel",
          "state": {
            "_view_name": "LayoutView",
            "grid_template_rows": null,
            "right": null,
            "justify_content": null,
            "_view_module": "@jupyter-widgets/base",
            "overflow": null,
            "_model_module_version": "1.2.0",
            "_view_count": null,
            "flex_flow": null,
            "width": null,
            "min_width": null,
            "border": null,
            "align_items": null,
            "bottom": null,
            "_model_module": "@jupyter-widgets/base",
            "top": null,
            "grid_column": null,
            "overflow_y": null,
            "overflow_x": null,
            "grid_auto_flow": null,
            "grid_area": null,
            "grid_template_columns": null,
            "flex": null,
            "_model_name": "LayoutModel",
            "justify_items": null,
            "grid_row": null,
            "max_height": null,
            "align_content": null,
            "visibility": null,
            "align_self": null,
            "height": null,
            "min_height": null,
            "padding": null,
            "grid_auto_rows": null,
            "grid_gap": null,
            "max_width": null,
            "order": null,
            "_view_module_version": "1.2.0",
            "grid_template_areas": null,
            "object_position": null,
            "object_fit": null,
            "grid_auto_columns": null,
            "margin": null,
            "display": null,
            "left": null
          }
        },
        "e6eae36a166a45a8962ddba05f7dcdb5": {
          "model_module": "@jupyter-widgets/controls",
          "model_name": "HBoxModel",
          "state": {
            "_view_name": "HBoxView",
            "_dom_classes": [],
            "_model_name": "HBoxModel",
            "_view_module": "@jupyter-widgets/controls",
            "_model_module_version": "1.5.0",
            "_view_count": null,
            "_view_module_version": "1.5.0",
            "box_style": "",
            "layout": "IPY_MODEL_961dc5dfdadd41a6a776ebe3bd636903",
            "_model_module": "@jupyter-widgets/controls",
            "children": [
              "IPY_MODEL_a59b15c4b9394c2f9f33e060cff8a6ec",
              "IPY_MODEL_1c856a2ec94d440583a7712f789a27e6"
            ]
          }
        },
        "961dc5dfdadd41a6a776ebe3bd636903": {
          "model_module": "@jupyter-widgets/base",
          "model_name": "LayoutModel",
          "state": {
            "_view_name": "LayoutView",
            "grid_template_rows": null,
            "right": null,
            "justify_content": null,
            "_view_module": "@jupyter-widgets/base",
            "overflow": null,
            "_model_module_version": "1.2.0",
            "_view_count": null,
            "flex_flow": null,
            "width": null,
            "min_width": null,
            "border": null,
            "align_items": null,
            "bottom": null,
            "_model_module": "@jupyter-widgets/base",
            "top": null,
            "grid_column": null,
            "overflow_y": null,
            "overflow_x": null,
            "grid_auto_flow": null,
            "grid_area": null,
            "grid_template_columns": null,
            "flex": null,
            "_model_name": "LayoutModel",
            "justify_items": null,
            "grid_row": null,
            "max_height": null,
            "align_content": null,
            "visibility": null,
            "align_self": null,
            "height": null,
            "min_height": null,
            "padding": null,
            "grid_auto_rows": null,
            "grid_gap": null,
            "max_width": null,
            "order": null,
            "_view_module_version": "1.2.0",
            "grid_template_areas": null,
            "object_position": null,
            "object_fit": null,
            "grid_auto_columns": null,
            "margin": null,
            "display": null,
            "left": null
          }
        },
        "a59b15c4b9394c2f9f33e060cff8a6ec": {
          "model_module": "@jupyter-widgets/controls",
          "model_name": "FloatProgressModel",
          "state": {
            "_view_name": "ProgressView",
            "style": "IPY_MODEL_5063908ad09846d5b756c5c265aa3081",
            "_dom_classes": [],
            "description": "Downloading: 100%",
            "_model_name": "FloatProgressModel",
            "bar_style": "success",
            "max": 2275327883,
            "_view_module": "@jupyter-widgets/controls",
            "_model_module_version": "1.5.0",
            "value": 2275327883,
            "_view_count": null,
            "_view_module_version": "1.5.0",
            "orientation": "horizontal",
            "min": 0,
            "description_tooltip": null,
            "_model_module": "@jupyter-widgets/controls",
            "layout": "IPY_MODEL_6b17b817c4824725b2188e9ba31ec7b6"
          }
        },
        "1c856a2ec94d440583a7712f789a27e6": {
          "model_module": "@jupyter-widgets/controls",
          "model_name": "HTMLModel",
          "state": {
            "_view_name": "HTMLView",
            "style": "IPY_MODEL_53b7b564f8824da3929455d3a2b1bcc9",
            "_dom_classes": [],
            "description": "",
            "_model_name": "HTMLModel",
            "placeholder": "​",
            "_view_module": "@jupyter-widgets/controls",
            "_model_module_version": "1.5.0",
            "value": " 2.28G/2.28G [00:38&lt;00:00, 58.8MB/s]",
            "_view_count": null,
            "_view_module_version": "1.5.0",
            "description_tooltip": null,
            "_model_module": "@jupyter-widgets/controls",
            "layout": "IPY_MODEL_84357a8d60ee44d29ca94defe0080336"
          }
        },
        "5063908ad09846d5b756c5c265aa3081": {
          "model_module": "@jupyter-widgets/controls",
          "model_name": "ProgressStyleModel",
          "state": {
            "_view_name": "StyleView",
            "_model_name": "ProgressStyleModel",
            "description_width": "initial",
            "_view_module": "@jupyter-widgets/base",
            "_model_module_version": "1.5.0",
            "_view_count": null,
            "_view_module_version": "1.2.0",
            "bar_color": null,
            "_model_module": "@jupyter-widgets/controls"
          }
        },
        "6b17b817c4824725b2188e9ba31ec7b6": {
          "model_module": "@jupyter-widgets/base",
          "model_name": "LayoutModel",
          "state": {
            "_view_name": "LayoutView",
            "grid_template_rows": null,
            "right": null,
            "justify_content": null,
            "_view_module": "@jupyter-widgets/base",
            "overflow": null,
            "_model_module_version": "1.2.0",
            "_view_count": null,
            "flex_flow": null,
            "width": null,
            "min_width": null,
            "border": null,
            "align_items": null,
            "bottom": null,
            "_model_module": "@jupyter-widgets/base",
            "top": null,
            "grid_column": null,
            "overflow_y": null,
            "overflow_x": null,
            "grid_auto_flow": null,
            "grid_area": null,
            "grid_template_columns": null,
            "flex": null,
            "_model_name": "LayoutModel",
            "justify_items": null,
            "grid_row": null,
            "max_height": null,
            "align_content": null,
            "visibility": null,
            "align_self": null,
            "height": null,
            "min_height": null,
            "padding": null,
            "grid_auto_rows": null,
            "grid_gap": null,
            "max_width": null,
            "order": null,
            "_view_module_version": "1.2.0",
            "grid_template_areas": null,
            "object_position": null,
            "object_fit": null,
            "grid_auto_columns": null,
            "margin": null,
            "display": null,
            "left": null
          }
        },
        "53b7b564f8824da3929455d3a2b1bcc9": {
          "model_module": "@jupyter-widgets/controls",
          "model_name": "DescriptionStyleModel",
          "state": {
            "_view_name": "StyleView",
            "_model_name": "DescriptionStyleModel",
            "description_width": "",
            "_view_module": "@jupyter-widgets/base",
            "_model_module_version": "1.5.0",
            "_view_count": null,
            "_view_module_version": "1.2.0",
            "_model_module": "@jupyter-widgets/controls"
          }
        },
        "84357a8d60ee44d29ca94defe0080336": {
          "model_module": "@jupyter-widgets/base",
          "model_name": "LayoutModel",
          "state": {
            "_view_name": "LayoutView",
            "grid_template_rows": null,
            "right": null,
            "justify_content": null,
            "_view_module": "@jupyter-widgets/base",
            "overflow": null,
            "_model_module_version": "1.2.0",
            "_view_count": null,
            "flex_flow": null,
            "width": null,
            "min_width": null,
            "border": null,
            "align_items": null,
            "bottom": null,
            "_model_module": "@jupyter-widgets/base",
            "top": null,
            "grid_column": null,
            "overflow_y": null,
            "overflow_x": null,
            "grid_auto_flow": null,
            "grid_area": null,
            "grid_template_columns": null,
            "flex": null,
            "_model_name": "LayoutModel",
            "justify_items": null,
            "grid_row": null,
            "max_height": null,
            "align_content": null,
            "visibility": null,
            "align_self": null,
            "height": null,
            "min_height": null,
            "padding": null,
            "grid_auto_rows": null,
            "grid_gap": null,
            "max_width": null,
            "order": null,
            "_view_module_version": "1.2.0",
            "grid_template_areas": null,
            "object_position": null,
            "object_fit": null,
            "grid_auto_columns": null,
            "margin": null,
            "display": null,
            "left": null
          }
        },
        "317097cc7b2444b7b507d7c5f2246d83": {
          "model_module": "@jupyter-widgets/controls",
          "model_name": "HBoxModel",
          "state": {
            "_view_name": "HBoxView",
            "_dom_classes": [],
            "_model_name": "HBoxModel",
            "_view_module": "@jupyter-widgets/controls",
            "_model_module_version": "1.5.0",
            "_view_count": null,
            "_view_module_version": "1.5.0",
            "box_style": "",
            "layout": "IPY_MODEL_d37eeea8a7ca4f2aac59cc3c2b902671",
            "_model_module": "@jupyter-widgets/controls",
            "children": [
              "IPY_MODEL_6c88bef7647f4e72955cd220e4f0649b",
              "IPY_MODEL_5d0d5af79d5840639fdf2744669d3d86"
            ]
          }
        },
        "d37eeea8a7ca4f2aac59cc3c2b902671": {
          "model_module": "@jupyter-widgets/base",
          "model_name": "LayoutModel",
          "state": {
            "_view_name": "LayoutView",
            "grid_template_rows": null,
            "right": null,
            "justify_content": null,
            "_view_module": "@jupyter-widgets/base",
            "overflow": null,
            "_model_module_version": "1.2.0",
            "_view_count": null,
            "flex_flow": null,
            "width": null,
            "min_width": null,
            "border": null,
            "align_items": null,
            "bottom": null,
            "_model_module": "@jupyter-widgets/base",
            "top": null,
            "grid_column": null,
            "overflow_y": null,
            "overflow_x": null,
            "grid_auto_flow": null,
            "grid_area": null,
            "grid_template_columns": null,
            "flex": null,
            "_model_name": "LayoutModel",
            "justify_items": null,
            "grid_row": null,
            "max_height": null,
            "align_content": null,
            "visibility": null,
            "align_self": null,
            "height": null,
            "min_height": null,
            "padding": null,
            "grid_auto_rows": null,
            "grid_gap": null,
            "max_width": null,
            "order": null,
            "_view_module_version": "1.2.0",
            "grid_template_areas": null,
            "object_position": null,
            "object_fit": null,
            "grid_auto_columns": null,
            "margin": null,
            "display": null,
            "left": null
          }
        },
        "6c88bef7647f4e72955cd220e4f0649b": {
          "model_module": "@jupyter-widgets/controls",
          "model_name": "FloatProgressModel",
          "state": {
            "_view_name": "ProgressView",
            "style": "IPY_MODEL_216fa10ed60842e9a63a2eec305bb594",
            "_dom_classes": [],
            "description": "Downloading: 100%",
            "_model_name": "FloatProgressModel",
            "bar_style": "success",
            "max": 1343,
            "_view_module": "@jupyter-widgets/controls",
            "_model_module_version": "1.5.0",
            "value": 1343,
            "_view_count": null,
            "_view_module_version": "1.5.0",
            "orientation": "horizontal",
            "min": 0,
            "description_tooltip": null,
            "_model_module": "@jupyter-widgets/controls",
            "layout": "IPY_MODEL_16150b8250a341a5aca8c78eecb432f9"
          }
        },
        "5d0d5af79d5840639fdf2744669d3d86": {
          "model_module": "@jupyter-widgets/controls",
          "model_name": "HTMLModel",
          "state": {
            "_view_name": "HTMLView",
            "style": "IPY_MODEL_be0f3591ab2f48c1bef8a3ca5a433ff9",
            "_dom_classes": [],
            "description": "",
            "_model_name": "HTMLModel",
            "placeholder": "​",
            "_view_module": "@jupyter-widgets/controls",
            "_model_module_version": "1.5.0",
            "value": " 1.34k/1.34k [00:01&lt;00:00, 912B/s]",
            "_view_count": null,
            "_view_module_version": "1.5.0",
            "description_tooltip": null,
            "_model_module": "@jupyter-widgets/controls",
            "layout": "IPY_MODEL_e8035266d42f4cd6a78890cc2f563dc4"
          }
        },
        "216fa10ed60842e9a63a2eec305bb594": {
          "model_module": "@jupyter-widgets/controls",
          "model_name": "ProgressStyleModel",
          "state": {
            "_view_name": "StyleView",
            "_model_name": "ProgressStyleModel",
            "description_width": "initial",
            "_view_module": "@jupyter-widgets/base",
            "_model_module_version": "1.5.0",
            "_view_count": null,
            "_view_module_version": "1.2.0",
            "bar_color": null,
            "_model_module": "@jupyter-widgets/controls"
          }
        },
        "16150b8250a341a5aca8c78eecb432f9": {
          "model_module": "@jupyter-widgets/base",
          "model_name": "LayoutModel",
          "state": {
            "_view_name": "LayoutView",
            "grid_template_rows": null,
            "right": null,
            "justify_content": null,
            "_view_module": "@jupyter-widgets/base",
            "overflow": null,
            "_model_module_version": "1.2.0",
            "_view_count": null,
            "flex_flow": null,
            "width": null,
            "min_width": null,
            "border": null,
            "align_items": null,
            "bottom": null,
            "_model_module": "@jupyter-widgets/base",
            "top": null,
            "grid_column": null,
            "overflow_y": null,
            "overflow_x": null,
            "grid_auto_flow": null,
            "grid_area": null,
            "grid_template_columns": null,
            "flex": null,
            "_model_name": "LayoutModel",
            "justify_items": null,
            "grid_row": null,
            "max_height": null,
            "align_content": null,
            "visibility": null,
            "align_self": null,
            "height": null,
            "min_height": null,
            "padding": null,
            "grid_auto_rows": null,
            "grid_gap": null,
            "max_width": null,
            "order": null,
            "_view_module_version": "1.2.0",
            "grid_template_areas": null,
            "object_position": null,
            "object_fit": null,
            "grid_auto_columns": null,
            "margin": null,
            "display": null,
            "left": null
          }
        },
        "be0f3591ab2f48c1bef8a3ca5a433ff9": {
          "model_module": "@jupyter-widgets/controls",
          "model_name": "DescriptionStyleModel",
          "state": {
            "_view_name": "StyleView",
            "_model_name": "DescriptionStyleModel",
            "description_width": "",
            "_view_module": "@jupyter-widgets/base",
            "_model_module_version": "1.5.0",
            "_view_count": null,
            "_view_module_version": "1.2.0",
            "_model_module": "@jupyter-widgets/controls"
          }
        },
        "e8035266d42f4cd6a78890cc2f563dc4": {
          "model_module": "@jupyter-widgets/base",
          "model_name": "LayoutModel",
          "state": {
            "_view_name": "LayoutView",
            "grid_template_rows": null,
            "right": null,
            "justify_content": null,
            "_view_module": "@jupyter-widgets/base",
            "overflow": null,
            "_model_module_version": "1.2.0",
            "_view_count": null,
            "flex_flow": null,
            "width": null,
            "min_width": null,
            "border": null,
            "align_items": null,
            "bottom": null,
            "_model_module": "@jupyter-widgets/base",
            "top": null,
            "grid_column": null,
            "overflow_y": null,
            "overflow_x": null,
            "grid_auto_flow": null,
            "grid_area": null,
            "grid_template_columns": null,
            "flex": null,
            "_model_name": "LayoutModel",
            "justify_items": null,
            "grid_row": null,
            "max_height": null,
            "align_content": null,
            "visibility": null,
            "align_self": null,
            "height": null,
            "min_height": null,
            "padding": null,
            "grid_auto_rows": null,
            "grid_gap": null,
            "max_width": null,
            "order": null,
            "_view_module_version": "1.2.0",
            "grid_template_areas": null,
            "object_position": null,
            "object_fit": null,
            "grid_auto_columns": null,
            "margin": null,
            "display": null,
            "left": null
          }
        },
        "8ffa4413f5414c9baca588ba76adf8fe": {
          "model_module": "@jupyter-widgets/controls",
          "model_name": "HBoxModel",
          "state": {
            "_view_name": "HBoxView",
            "_dom_classes": [],
            "_model_name": "HBoxModel",
            "_view_module": "@jupyter-widgets/controls",
            "_model_module_version": "1.5.0",
            "_view_count": null,
            "_view_module_version": "1.5.0",
            "box_style": "",
            "layout": "IPY_MODEL_8f27c7252c5a4dfd948a4f39c119b5f9",
            "_model_module": "@jupyter-widgets/controls",
            "children": [
              "IPY_MODEL_0ecffcb40d2943c4afbb5283623b7128",
              "IPY_MODEL_69e874ce3cca40f2a1545a76e5626dce"
            ]
          }
        },
        "8f27c7252c5a4dfd948a4f39c119b5f9": {
          "model_module": "@jupyter-widgets/base",
          "model_name": "LayoutModel",
          "state": {
            "_view_name": "LayoutView",
            "grid_template_rows": null,
            "right": null,
            "justify_content": null,
            "_view_module": "@jupyter-widgets/base",
            "overflow": null,
            "_model_module_version": "1.2.0",
            "_view_count": null,
            "flex_flow": null,
            "width": null,
            "min_width": null,
            "border": null,
            "align_items": null,
            "bottom": null,
            "_model_module": "@jupyter-widgets/base",
            "top": null,
            "grid_column": null,
            "overflow_y": null,
            "overflow_x": null,
            "grid_auto_flow": null,
            "grid_area": null,
            "grid_template_columns": null,
            "flex": null,
            "_model_name": "LayoutModel",
            "justify_items": null,
            "grid_row": null,
            "max_height": null,
            "align_content": null,
            "visibility": null,
            "align_self": null,
            "height": null,
            "min_height": null,
            "padding": null,
            "grid_auto_rows": null,
            "grid_gap": null,
            "max_width": null,
            "order": null,
            "_view_module_version": "1.2.0",
            "grid_template_areas": null,
            "object_position": null,
            "object_fit": null,
            "grid_auto_columns": null,
            "margin": null,
            "display": null,
            "left": null
          }
        },
        "0ecffcb40d2943c4afbb5283623b7128": {
          "model_module": "@jupyter-widgets/controls",
          "model_name": "FloatProgressModel",
          "state": {
            "_view_name": "ProgressView",
            "style": "IPY_MODEL_6115c4104e66470a9c1330a9a81af59d",
            "_dom_classes": [],
            "description": "Downloading: 100%",
            "_model_name": "FloatProgressModel",
            "bar_style": "success",
            "max": 1625270765,
            "_view_module": "@jupyter-widgets/controls",
            "_model_module_version": "1.5.0",
            "value": 1625270765,
            "_view_count": null,
            "_view_module_version": "1.5.0",
            "orientation": "horizontal",
            "min": 0,
            "description_tooltip": null,
            "_model_module": "@jupyter-widgets/controls",
            "layout": "IPY_MODEL_d03520312699492d986e1e3bc66d017b"
          }
        },
        "69e874ce3cca40f2a1545a76e5626dce": {
          "model_module": "@jupyter-widgets/controls",
          "model_name": "HTMLModel",
          "state": {
            "_view_name": "HTMLView",
            "style": "IPY_MODEL_840bc69de9b84f1fa65a75e279ada388",
            "_dom_classes": [],
            "description": "",
            "_model_name": "HTMLModel",
            "placeholder": "​",
            "_view_module": "@jupyter-widgets/controls",
            "_model_module_version": "1.5.0",
            "value": " 1.63G/1.63G [02:13&lt;00:00, 12.2MB/s]",
            "_view_count": null,
            "_view_module_version": "1.5.0",
            "description_tooltip": null,
            "_model_module": "@jupyter-widgets/controls",
            "layout": "IPY_MODEL_602e0872208a46ce8e36a943c56758b6"
          }
        },
        "6115c4104e66470a9c1330a9a81af59d": {
          "model_module": "@jupyter-widgets/controls",
          "model_name": "ProgressStyleModel",
          "state": {
            "_view_name": "StyleView",
            "_model_name": "ProgressStyleModel",
            "description_width": "initial",
            "_view_module": "@jupyter-widgets/base",
            "_model_module_version": "1.5.0",
            "_view_count": null,
            "_view_module_version": "1.2.0",
            "bar_color": null,
            "_model_module": "@jupyter-widgets/controls"
          }
        },
        "d03520312699492d986e1e3bc66d017b": {
          "model_module": "@jupyter-widgets/base",
          "model_name": "LayoutModel",
          "state": {
            "_view_name": "LayoutView",
            "grid_template_rows": null,
            "right": null,
            "justify_content": null,
            "_view_module": "@jupyter-widgets/base",
            "overflow": null,
            "_model_module_version": "1.2.0",
            "_view_count": null,
            "flex_flow": null,
            "width": null,
            "min_width": null,
            "border": null,
            "align_items": null,
            "bottom": null,
            "_model_module": "@jupyter-widgets/base",
            "top": null,
            "grid_column": null,
            "overflow_y": null,
            "overflow_x": null,
            "grid_auto_flow": null,
            "grid_area": null,
            "grid_template_columns": null,
            "flex": null,
            "_model_name": "LayoutModel",
            "justify_items": null,
            "grid_row": null,
            "max_height": null,
            "align_content": null,
            "visibility": null,
            "align_self": null,
            "height": null,
            "min_height": null,
            "padding": null,
            "grid_auto_rows": null,
            "grid_gap": null,
            "max_width": null,
            "order": null,
            "_view_module_version": "1.2.0",
            "grid_template_areas": null,
            "object_position": null,
            "object_fit": null,
            "grid_auto_columns": null,
            "margin": null,
            "display": null,
            "left": null
          }
        },
        "840bc69de9b84f1fa65a75e279ada388": {
          "model_module": "@jupyter-widgets/controls",
          "model_name": "DescriptionStyleModel",
          "state": {
            "_view_name": "StyleView",
            "_model_name": "DescriptionStyleModel",
            "description_width": "",
            "_view_module": "@jupyter-widgets/base",
            "_model_module_version": "1.5.0",
            "_view_count": null,
            "_view_module_version": "1.2.0",
            "_model_module": "@jupyter-widgets/controls"
          }
        },
        "602e0872208a46ce8e36a943c56758b6": {
          "model_module": "@jupyter-widgets/base",
          "model_name": "LayoutModel",
          "state": {
            "_view_name": "LayoutView",
            "grid_template_rows": null,
            "right": null,
            "justify_content": null,
            "_view_module": "@jupyter-widgets/base",
            "overflow": null,
            "_model_module_version": "1.2.0",
            "_view_count": null,
            "flex_flow": null,
            "width": null,
            "min_width": null,
            "border": null,
            "align_items": null,
            "bottom": null,
            "_model_module": "@jupyter-widgets/base",
            "top": null,
            "grid_column": null,
            "overflow_y": null,
            "overflow_x": null,
            "grid_auto_flow": null,
            "grid_area": null,
            "grid_template_columns": null,
            "flex": null,
            "_model_name": "LayoutModel",
            "justify_items": null,
            "grid_row": null,
            "max_height": null,
            "align_content": null,
            "visibility": null,
            "align_self": null,
            "height": null,
            "min_height": null,
            "padding": null,
            "grid_auto_rows": null,
            "grid_gap": null,
            "max_width": null,
            "order": null,
            "_view_module_version": "1.2.0",
            "grid_template_areas": null,
            "object_position": null,
            "object_fit": null,
            "grid_auto_columns": null,
            "margin": null,
            "display": null,
            "left": null
          }
        },
        "7216b3455b1c4fa485e957cdd8beb5de": {
          "model_module": "@jupyter-widgets/controls",
          "model_name": "HBoxModel",
          "state": {
            "_view_name": "HBoxView",
            "_dom_classes": [],
            "_model_name": "HBoxModel",
            "_view_module": "@jupyter-widgets/controls",
            "_model_module_version": "1.5.0",
            "_view_count": null,
            "_view_module_version": "1.5.0",
            "box_style": "",
            "layout": "IPY_MODEL_749b1b5253104142b434d349e733bbaa",
            "_model_module": "@jupyter-widgets/controls",
            "children": [
              "IPY_MODEL_b412fdd44c9d4a54963d2a7543b5c7a9",
              "IPY_MODEL_ceb5a0c668cc473297c62857eb77738d"
            ]
          }
        },
        "749b1b5253104142b434d349e733bbaa": {
          "model_module": "@jupyter-widgets/base",
          "model_name": "LayoutModel",
          "state": {
            "_view_name": "LayoutView",
            "grid_template_rows": null,
            "right": null,
            "justify_content": null,
            "_view_module": "@jupyter-widgets/base",
            "overflow": null,
            "_model_module_version": "1.2.0",
            "_view_count": null,
            "flex_flow": null,
            "width": null,
            "min_width": null,
            "border": null,
            "align_items": null,
            "bottom": null,
            "_model_module": "@jupyter-widgets/base",
            "top": null,
            "grid_column": null,
            "overflow_y": null,
            "overflow_x": null,
            "grid_auto_flow": null,
            "grid_area": null,
            "grid_template_columns": null,
            "flex": null,
            "_model_name": "LayoutModel",
            "justify_items": null,
            "grid_row": null,
            "max_height": null,
            "align_content": null,
            "visibility": null,
            "align_self": null,
            "height": null,
            "min_height": null,
            "padding": null,
            "grid_auto_rows": null,
            "grid_gap": null,
            "max_width": null,
            "order": null,
            "_view_module_version": "1.2.0",
            "grid_template_areas": null,
            "object_position": null,
            "object_fit": null,
            "grid_auto_columns": null,
            "margin": null,
            "display": null,
            "left": null
          }
        },
        "b412fdd44c9d4a54963d2a7543b5c7a9": {
          "model_module": "@jupyter-widgets/controls",
          "model_name": "FloatProgressModel",
          "state": {
            "_view_name": "ProgressView",
            "style": "IPY_MODEL_28fb1fb4063c4245a07a2fa3fb018b9b",
            "_dom_classes": [],
            "description": "Downloading: 100%",
            "_model_name": "FloatProgressModel",
            "bar_style": "success",
            "max": 898823,
            "_view_module": "@jupyter-widgets/controls",
            "_model_module_version": "1.5.0",
            "value": 898823,
            "_view_count": null,
            "_view_module_version": "1.5.0",
            "orientation": "horizontal",
            "min": 0,
            "description_tooltip": null,
            "_model_module": "@jupyter-widgets/controls",
            "layout": "IPY_MODEL_d35bd62eb67047c9b10bde423efe8a8a"
          }
        },
        "ceb5a0c668cc473297c62857eb77738d": {
          "model_module": "@jupyter-widgets/controls",
          "model_name": "HTMLModel",
          "state": {
            "_view_name": "HTMLView",
            "style": "IPY_MODEL_76aace67de5944359dfc4fa9c7ed4699",
            "_dom_classes": [],
            "description": "",
            "_model_name": "HTMLModel",
            "placeholder": "​",
            "_view_module": "@jupyter-widgets/controls",
            "_model_module_version": "1.5.0",
            "value": " 899k/899k [00:02&lt;00:00, 340kB/s]",
            "_view_count": null,
            "_view_module_version": "1.5.0",
            "description_tooltip": null,
            "_model_module": "@jupyter-widgets/controls",
            "layout": "IPY_MODEL_18dfb0e4323e4c2898eee3524ba02204"
          }
        },
        "28fb1fb4063c4245a07a2fa3fb018b9b": {
          "model_module": "@jupyter-widgets/controls",
          "model_name": "ProgressStyleModel",
          "state": {
            "_view_name": "StyleView",
            "_model_name": "ProgressStyleModel",
            "description_width": "initial",
            "_view_module": "@jupyter-widgets/base",
            "_model_module_version": "1.5.0",
            "_view_count": null,
            "_view_module_version": "1.2.0",
            "bar_color": null,
            "_model_module": "@jupyter-widgets/controls"
          }
        },
        "d35bd62eb67047c9b10bde423efe8a8a": {
          "model_module": "@jupyter-widgets/base",
          "model_name": "LayoutModel",
          "state": {
            "_view_name": "LayoutView",
            "grid_template_rows": null,
            "right": null,
            "justify_content": null,
            "_view_module": "@jupyter-widgets/base",
            "overflow": null,
            "_model_module_version": "1.2.0",
            "_view_count": null,
            "flex_flow": null,
            "width": null,
            "min_width": null,
            "border": null,
            "align_items": null,
            "bottom": null,
            "_model_module": "@jupyter-widgets/base",
            "top": null,
            "grid_column": null,
            "overflow_y": null,
            "overflow_x": null,
            "grid_auto_flow": null,
            "grid_area": null,
            "grid_template_columns": null,
            "flex": null,
            "_model_name": "LayoutModel",
            "justify_items": null,
            "grid_row": null,
            "max_height": null,
            "align_content": null,
            "visibility": null,
            "align_self": null,
            "height": null,
            "min_height": null,
            "padding": null,
            "grid_auto_rows": null,
            "grid_gap": null,
            "max_width": null,
            "order": null,
            "_view_module_version": "1.2.0",
            "grid_template_areas": null,
            "object_position": null,
            "object_fit": null,
            "grid_auto_columns": null,
            "margin": null,
            "display": null,
            "left": null
          }
        },
        "76aace67de5944359dfc4fa9c7ed4699": {
          "model_module": "@jupyter-widgets/controls",
          "model_name": "DescriptionStyleModel",
          "state": {
            "_view_name": "StyleView",
            "_model_name": "DescriptionStyleModel",
            "description_width": "",
            "_view_module": "@jupyter-widgets/base",
            "_model_module_version": "1.5.0",
            "_view_count": null,
            "_view_module_version": "1.2.0",
            "_model_module": "@jupyter-widgets/controls"
          }
        },
        "18dfb0e4323e4c2898eee3524ba02204": {
          "model_module": "@jupyter-widgets/base",
          "model_name": "LayoutModel",
          "state": {
            "_view_name": "LayoutView",
            "grid_template_rows": null,
            "right": null,
            "justify_content": null,
            "_view_module": "@jupyter-widgets/base",
            "overflow": null,
            "_model_module_version": "1.2.0",
            "_view_count": null,
            "flex_flow": null,
            "width": null,
            "min_width": null,
            "border": null,
            "align_items": null,
            "bottom": null,
            "_model_module": "@jupyter-widgets/base",
            "top": null,
            "grid_column": null,
            "overflow_y": null,
            "overflow_x": null,
            "grid_auto_flow": null,
            "grid_area": null,
            "grid_template_columns": null,
            "flex": null,
            "_model_name": "LayoutModel",
            "justify_items": null,
            "grid_row": null,
            "max_height": null,
            "align_content": null,
            "visibility": null,
            "align_self": null,
            "height": null,
            "min_height": null,
            "padding": null,
            "grid_auto_rows": null,
            "grid_gap": null,
            "max_width": null,
            "order": null,
            "_view_module_version": "1.2.0",
            "grid_template_areas": null,
            "object_position": null,
            "object_fit": null,
            "grid_auto_columns": null,
            "margin": null,
            "display": null,
            "left": null
          }
        },
        "8adfb61bebf04e12a14658a4eded50c5": {
          "model_module": "@jupyter-widgets/controls",
          "model_name": "HBoxModel",
          "state": {
            "_view_name": "HBoxView",
            "_dom_classes": [],
            "_model_name": "HBoxModel",
            "_view_module": "@jupyter-widgets/controls",
            "_model_module_version": "1.5.0",
            "_view_count": null,
            "_view_module_version": "1.5.0",
            "box_style": "",
            "layout": "IPY_MODEL_fa0966b485954d6e9a205039ffd3176f",
            "_model_module": "@jupyter-widgets/controls",
            "children": [
              "IPY_MODEL_d97a378c02094ac1aeae3db0383cf585",
              "IPY_MODEL_c7395cc4466740cf83e727460fe23bcd"
            ]
          }
        },
        "fa0966b485954d6e9a205039ffd3176f": {
          "model_module": "@jupyter-widgets/base",
          "model_name": "LayoutModel",
          "state": {
            "_view_name": "LayoutView",
            "grid_template_rows": null,
            "right": null,
            "justify_content": null,
            "_view_module": "@jupyter-widgets/base",
            "overflow": null,
            "_model_module_version": "1.2.0",
            "_view_count": null,
            "flex_flow": null,
            "width": null,
            "min_width": null,
            "border": null,
            "align_items": null,
            "bottom": null,
            "_model_module": "@jupyter-widgets/base",
            "top": null,
            "grid_column": null,
            "overflow_y": null,
            "overflow_x": null,
            "grid_auto_flow": null,
            "grid_area": null,
            "grid_template_columns": null,
            "flex": null,
            "_model_name": "LayoutModel",
            "justify_items": null,
            "grid_row": null,
            "max_height": null,
            "align_content": null,
            "visibility": null,
            "align_self": null,
            "height": null,
            "min_height": null,
            "padding": null,
            "grid_auto_rows": null,
            "grid_gap": null,
            "max_width": null,
            "order": null,
            "_view_module_version": "1.2.0",
            "grid_template_areas": null,
            "object_position": null,
            "object_fit": null,
            "grid_auto_columns": null,
            "margin": null,
            "display": null,
            "left": null
          }
        },
        "d97a378c02094ac1aeae3db0383cf585": {
          "model_module": "@jupyter-widgets/controls",
          "model_name": "FloatProgressModel",
          "state": {
            "_view_name": "ProgressView",
            "style": "IPY_MODEL_01fe8da7f62742b0b1b6fc996ce524b7",
            "_dom_classes": [],
            "description": "Downloading: 100%",
            "_model_name": "FloatProgressModel",
            "bar_style": "success",
            "max": 456318,
            "_view_module": "@jupyter-widgets/controls",
            "_model_module_version": "1.5.0",
            "value": 456318,
            "_view_count": null,
            "_view_module_version": "1.5.0",
            "orientation": "horizontal",
            "min": 0,
            "description_tooltip": null,
            "_model_module": "@jupyter-widgets/controls",
            "layout": "IPY_MODEL_58ae27154398403ba4e7210e6d9827c4"
          }
        },
        "c7395cc4466740cf83e727460fe23bcd": {
          "model_module": "@jupyter-widgets/controls",
          "model_name": "HTMLModel",
          "state": {
            "_view_name": "HTMLView",
            "style": "IPY_MODEL_e9a2f8a972dc4f8c9d95ebe1072f878c",
            "_dom_classes": [],
            "description": "",
            "_model_name": "HTMLModel",
            "placeholder": "​",
            "_view_module": "@jupyter-widgets/controls",
            "_model_module_version": "1.5.0",
            "value": " 456k/456k [00:00&lt;00:00, 467kB/s]",
            "_view_count": null,
            "_view_module_version": "1.5.0",
            "description_tooltip": null,
            "_model_module": "@jupyter-widgets/controls",
            "layout": "IPY_MODEL_35430acc468946338594a4331ce281b9"
          }
        },
        "01fe8da7f62742b0b1b6fc996ce524b7": {
          "model_module": "@jupyter-widgets/controls",
          "model_name": "ProgressStyleModel",
          "state": {
            "_view_name": "StyleView",
            "_model_name": "ProgressStyleModel",
            "description_width": "initial",
            "_view_module": "@jupyter-widgets/base",
            "_model_module_version": "1.5.0",
            "_view_count": null,
            "_view_module_version": "1.2.0",
            "bar_color": null,
            "_model_module": "@jupyter-widgets/controls"
          }
        },
        "58ae27154398403ba4e7210e6d9827c4": {
          "model_module": "@jupyter-widgets/base",
          "model_name": "LayoutModel",
          "state": {
            "_view_name": "LayoutView",
            "grid_template_rows": null,
            "right": null,
            "justify_content": null,
            "_view_module": "@jupyter-widgets/base",
            "overflow": null,
            "_model_module_version": "1.2.0",
            "_view_count": null,
            "flex_flow": null,
            "width": null,
            "min_width": null,
            "border": null,
            "align_items": null,
            "bottom": null,
            "_model_module": "@jupyter-widgets/base",
            "top": null,
            "grid_column": null,
            "overflow_y": null,
            "overflow_x": null,
            "grid_auto_flow": null,
            "grid_area": null,
            "grid_template_columns": null,
            "flex": null,
            "_model_name": "LayoutModel",
            "justify_items": null,
            "grid_row": null,
            "max_height": null,
            "align_content": null,
            "visibility": null,
            "align_self": null,
            "height": null,
            "min_height": null,
            "padding": null,
            "grid_auto_rows": null,
            "grid_gap": null,
            "max_width": null,
            "order": null,
            "_view_module_version": "1.2.0",
            "grid_template_areas": null,
            "object_position": null,
            "object_fit": null,
            "grid_auto_columns": null,
            "margin": null,
            "display": null,
            "left": null
          }
        },
        "e9a2f8a972dc4f8c9d95ebe1072f878c": {
          "model_module": "@jupyter-widgets/controls",
          "model_name": "DescriptionStyleModel",
          "state": {
            "_view_name": "StyleView",
            "_model_name": "DescriptionStyleModel",
            "description_width": "",
            "_view_module": "@jupyter-widgets/base",
            "_model_module_version": "1.5.0",
            "_view_count": null,
            "_view_module_version": "1.2.0",
            "_model_module": "@jupyter-widgets/controls"
          }
        },
        "35430acc468946338594a4331ce281b9": {
          "model_module": "@jupyter-widgets/base",
          "model_name": "LayoutModel",
          "state": {
            "_view_name": "LayoutView",
            "grid_template_rows": null,
            "right": null,
            "justify_content": null,
            "_view_module": "@jupyter-widgets/base",
            "overflow": null,
            "_model_module_version": "1.2.0",
            "_view_count": null,
            "flex_flow": null,
            "width": null,
            "min_width": null,
            "border": null,
            "align_items": null,
            "bottom": null,
            "_model_module": "@jupyter-widgets/base",
            "top": null,
            "grid_column": null,
            "overflow_y": null,
            "overflow_x": null,
            "grid_auto_flow": null,
            "grid_area": null,
            "grid_template_columns": null,
            "flex": null,
            "_model_name": "LayoutModel",
            "justify_items": null,
            "grid_row": null,
            "max_height": null,
            "align_content": null,
            "visibility": null,
            "align_self": null,
            "height": null,
            "min_height": null,
            "padding": null,
            "grid_auto_rows": null,
            "grid_gap": null,
            "max_width": null,
            "order": null,
            "_view_module_version": "1.2.0",
            "grid_template_areas": null,
            "object_position": null,
            "object_fit": null,
            "grid_auto_columns": null,
            "margin": null,
            "display": null,
            "left": null
          }
        }
      }
    }
  },
  "cells": [
    {
      "cell_type": "code",
      "metadata": {
        "colab": {
          "base_uri": "https://localhost:8080/"
        },
        "id": "5HGnnfYQ8MuO",
        "outputId": "6b68beda-3da7-4b4a-ef67-cfb7ebd18cfb"
      },
      "source": [
        "!pip install transformers"
      ],
      "execution_count": null,
      "outputs": [
        {
          "output_type": "stream",
          "text": [
            "Collecting transformers\n",
            "\u001b[?25l  Downloading https://files.pythonhosted.org/packages/ed/d5/f4157a376b8a79489a76ce6cfe147f4f3be1e029b7144fa7b8432e8acb26/transformers-4.4.2-py3-none-any.whl (2.0MB)\n",
            "\u001b[K     |████████████████████████████████| 2.0MB 12.9MB/s \n",
            "\u001b[?25hCollecting sacremoses\n",
            "\u001b[?25l  Downloading https://files.pythonhosted.org/packages/7d/34/09d19aff26edcc8eb2a01bed8e98f13a1537005d31e95233fd48216eed10/sacremoses-0.0.43.tar.gz (883kB)\n",
            "\u001b[K     |████████████████████████████████| 890kB 52.9MB/s \n",
            "\u001b[?25hCollecting tokenizers<0.11,>=0.10.1\n",
            "\u001b[?25l  Downloading https://files.pythonhosted.org/packages/71/23/2ddc317b2121117bf34dd00f5b0de194158f2a44ee2bf5e47c7166878a97/tokenizers-0.10.1-cp37-cp37m-manylinux2010_x86_64.whl (3.2MB)\n",
            "\u001b[K     |████████████████████████████████| 3.2MB 50.6MB/s \n",
            "\u001b[?25hRequirement already satisfied: regex!=2019.12.17 in /usr/local/lib/python3.7/dist-packages (from transformers) (2019.12.20)\n",
            "Requirement already satisfied: tqdm>=4.27 in /usr/local/lib/python3.7/dist-packages (from transformers) (4.41.1)\n",
            "Requirement already satisfied: numpy>=1.17 in /usr/local/lib/python3.7/dist-packages (from transformers) (1.19.5)\n",
            "Requirement already satisfied: importlib-metadata; python_version < \"3.8\" in /usr/local/lib/python3.7/dist-packages (from transformers) (3.7.2)\n",
            "Requirement already satisfied: packaging in /usr/local/lib/python3.7/dist-packages (from transformers) (20.9)\n",
            "Requirement already satisfied: requests in /usr/local/lib/python3.7/dist-packages (from transformers) (2.23.0)\n",
            "Requirement already satisfied: filelock in /usr/local/lib/python3.7/dist-packages (from transformers) (3.0.12)\n",
            "Requirement already satisfied: six in /usr/local/lib/python3.7/dist-packages (from sacremoses->transformers) (1.15.0)\n",
            "Requirement already satisfied: click in /usr/local/lib/python3.7/dist-packages (from sacremoses->transformers) (7.1.2)\n",
            "Requirement already satisfied: joblib in /usr/local/lib/python3.7/dist-packages (from sacremoses->transformers) (1.0.1)\n",
            "Requirement already satisfied: zipp>=0.5 in /usr/local/lib/python3.7/dist-packages (from importlib-metadata; python_version < \"3.8\"->transformers) (3.4.1)\n",
            "Requirement already satisfied: typing-extensions>=3.6.4; python_version < \"3.8\" in /usr/local/lib/python3.7/dist-packages (from importlib-metadata; python_version < \"3.8\"->transformers) (3.7.4.3)\n",
            "Requirement already satisfied: pyparsing>=2.0.2 in /usr/local/lib/python3.7/dist-packages (from packaging->transformers) (2.4.7)\n",
            "Requirement already satisfied: urllib3!=1.25.0,!=1.25.1,<1.26,>=1.21.1 in /usr/local/lib/python3.7/dist-packages (from requests->transformers) (1.24.3)\n",
            "Requirement already satisfied: certifi>=2017.4.17 in /usr/local/lib/python3.7/dist-packages (from requests->transformers) (2020.12.5)\n",
            "Requirement already satisfied: chardet<4,>=3.0.2 in /usr/local/lib/python3.7/dist-packages (from requests->transformers) (3.0.4)\n",
            "Requirement already satisfied: idna<3,>=2.5 in /usr/local/lib/python3.7/dist-packages (from requests->transformers) (2.10)\n",
            "Building wheels for collected packages: sacremoses\n",
            "  Building wheel for sacremoses (setup.py) ... \u001b[?25l\u001b[?25hdone\n",
            "  Created wheel for sacremoses: filename=sacremoses-0.0.43-cp37-none-any.whl size=893262 sha256=d745c99acde95bbabd344e738b032b5b392f3b10b2fbc8e4123d5077c3a2e526\n",
            "  Stored in directory: /root/.cache/pip/wheels/29/3c/fd/7ce5c3f0666dab31a50123635e6fb5e19ceb42ce38d4e58f45\n",
            "Successfully built sacremoses\n",
            "Installing collected packages: sacremoses, tokenizers, transformers\n",
            "Successfully installed sacremoses-0.0.43 tokenizers-0.10.1 transformers-4.4.2\n"
          ],
          "name": "stdout"
        }
      ]
    },
    {
      "cell_type": "code",
      "metadata": {
        "colab": {
          "base_uri": "https://localhost:8080/"
        },
        "id": "fQBNZM-Kdynm",
        "outputId": "1300a1c0-9256-4f93-d265-59caa3c83078"
      },
      "source": [
        "!pip install SentencePiece"
      ],
      "execution_count": null,
      "outputs": [
        {
          "output_type": "stream",
          "text": [
            "Collecting SentencePiece\n",
            "\u001b[?25l  Downloading https://files.pythonhosted.org/packages/f5/99/e0808cb947ba10f575839c43e8fafc9cc44e4a7a2c8f79c60db48220a577/sentencepiece-0.1.95-cp37-cp37m-manylinux2014_x86_64.whl (1.2MB)\n",
            "\r\u001b[K     |▎                               | 10kB 18.1MB/s eta 0:00:01\r\u001b[K     |▌                               | 20kB 24.4MB/s eta 0:00:01\r\u001b[K     |▉                               | 30kB 28.2MB/s eta 0:00:01\r\u001b[K     |█                               | 40kB 20.1MB/s eta 0:00:01\r\u001b[K     |█▍                              | 51kB 17.1MB/s eta 0:00:01\r\u001b[K     |█▋                              | 61kB 14.3MB/s eta 0:00:01\r\u001b[K     |██                              | 71kB 15.8MB/s eta 0:00:01\r\u001b[K     |██▏                             | 81kB 14.1MB/s eta 0:00:01\r\u001b[K     |██▌                             | 92kB 14.9MB/s eta 0:00:01\r\u001b[K     |██▊                             | 102kB 16.1MB/s eta 0:00:01\r\u001b[K     |███                             | 112kB 16.1MB/s eta 0:00:01\r\u001b[K     |███▎                            | 122kB 16.1MB/s eta 0:00:01\r\u001b[K     |███▌                            | 133kB 16.1MB/s eta 0:00:01\r\u001b[K     |███▉                            | 143kB 16.1MB/s eta 0:00:01\r\u001b[K     |████                            | 153kB 16.1MB/s eta 0:00:01\r\u001b[K     |████▍                           | 163kB 16.1MB/s eta 0:00:01\r\u001b[K     |████▋                           | 174kB 16.1MB/s eta 0:00:01\r\u001b[K     |█████                           | 184kB 16.1MB/s eta 0:00:01\r\u001b[K     |█████▏                          | 194kB 16.1MB/s eta 0:00:01\r\u001b[K     |█████▌                          | 204kB 16.1MB/s eta 0:00:01\r\u001b[K     |█████▊                          | 215kB 16.1MB/s eta 0:00:01\r\u001b[K     |██████                          | 225kB 16.1MB/s eta 0:00:01\r\u001b[K     |██████▎                         | 235kB 16.1MB/s eta 0:00:01\r\u001b[K     |██████▌                         | 245kB 16.1MB/s eta 0:00:01\r\u001b[K     |██████▉                         | 256kB 16.1MB/s eta 0:00:01\r\u001b[K     |███████                         | 266kB 16.1MB/s eta 0:00:01\r\u001b[K     |███████▍                        | 276kB 16.1MB/s eta 0:00:01\r\u001b[K     |███████▋                        | 286kB 16.1MB/s eta 0:00:01\r\u001b[K     |████████                        | 296kB 16.1MB/s eta 0:00:01\r\u001b[K     |████████▏                       | 307kB 16.1MB/s eta 0:00:01\r\u001b[K     |████████▍                       | 317kB 16.1MB/s eta 0:00:01\r\u001b[K     |████████▊                       | 327kB 16.1MB/s eta 0:00:01\r\u001b[K     |█████████                       | 337kB 16.1MB/s eta 0:00:01\r\u001b[K     |█████████▎                      | 348kB 16.1MB/s eta 0:00:01\r\u001b[K     |█████████▌                      | 358kB 16.1MB/s eta 0:00:01\r\u001b[K     |█████████▉                      | 368kB 16.1MB/s eta 0:00:01\r\u001b[K     |██████████                      | 378kB 16.1MB/s eta 0:00:01\r\u001b[K     |██████████▍                     | 389kB 16.1MB/s eta 0:00:01\r\u001b[K     |██████████▋                     | 399kB 16.1MB/s eta 0:00:01\r\u001b[K     |███████████                     | 409kB 16.1MB/s eta 0:00:01\r\u001b[K     |███████████▏                    | 419kB 16.1MB/s eta 0:00:01\r\u001b[K     |███████████▍                    | 430kB 16.1MB/s eta 0:00:01\r\u001b[K     |███████████▊                    | 440kB 16.1MB/s eta 0:00:01\r\u001b[K     |████████████                    | 450kB 16.1MB/s eta 0:00:01\r\u001b[K     |████████████▎                   | 460kB 16.1MB/s eta 0:00:01\r\u001b[K     |████████████▌                   | 471kB 16.1MB/s eta 0:00:01\r\u001b[K     |████████████▉                   | 481kB 16.1MB/s eta 0:00:01\r\u001b[K     |█████████████                   | 491kB 16.1MB/s eta 0:00:01\r\u001b[K     |█████████████▍                  | 501kB 16.1MB/s eta 0:00:01\r\u001b[K     |█████████████▋                  | 512kB 16.1MB/s eta 0:00:01\r\u001b[K     |█████████████▉                  | 522kB 16.1MB/s eta 0:00:01\r\u001b[K     |██████████████▏                 | 532kB 16.1MB/s eta 0:00:01\r\u001b[K     |██████████████▍                 | 542kB 16.1MB/s eta 0:00:01\r\u001b[K     |██████████████▊                 | 552kB 16.1MB/s eta 0:00:01\r\u001b[K     |███████████████                 | 563kB 16.1MB/s eta 0:00:01\r\u001b[K     |███████████████▎                | 573kB 16.1MB/s eta 0:00:01\r\u001b[K     |███████████████▌                | 583kB 16.1MB/s eta 0:00:01\r\u001b[K     |███████████████▉                | 593kB 16.1MB/s eta 0:00:01\r\u001b[K     |████████████████                | 604kB 16.1MB/s eta 0:00:01\r\u001b[K     |████████████████▍               | 614kB 16.1MB/s eta 0:00:01\r\u001b[K     |████████████████▋               | 624kB 16.1MB/s eta 0:00:01\r\u001b[K     |████████████████▉               | 634kB 16.1MB/s eta 0:00:01\r\u001b[K     |█████████████████▏              | 645kB 16.1MB/s eta 0:00:01\r\u001b[K     |█████████████████▍              | 655kB 16.1MB/s eta 0:00:01\r\u001b[K     |█████████████████▊              | 665kB 16.1MB/s eta 0:00:01\r\u001b[K     |██████████████████              | 675kB 16.1MB/s eta 0:00:01\r\u001b[K     |██████████████████▎             | 686kB 16.1MB/s eta 0:00:01\r\u001b[K     |██████████████████▌             | 696kB 16.1MB/s eta 0:00:01\r\u001b[K     |██████████████████▉             | 706kB 16.1MB/s eta 0:00:01\r\u001b[K     |███████████████████             | 716kB 16.1MB/s eta 0:00:01\r\u001b[K     |███████████████████▎            | 727kB 16.1MB/s eta 0:00:01\r\u001b[K     |███████████████████▋            | 737kB 16.1MB/s eta 0:00:01\r\u001b[K     |███████████████████▉            | 747kB 16.1MB/s eta 0:00:01\r\u001b[K     |████████████████████▏           | 757kB 16.1MB/s eta 0:00:01\r\u001b[K     |████████████████████▍           | 768kB 16.1MB/s eta 0:00:01\r\u001b[K     |████████████████████▊           | 778kB 16.1MB/s eta 0:00:01\r\u001b[K     |█████████████████████           | 788kB 16.1MB/s eta 0:00:01\r\u001b[K     |█████████████████████▎          | 798kB 16.1MB/s eta 0:00:01\r\u001b[K     |█████████████████████▌          | 808kB 16.1MB/s eta 0:00:01\r\u001b[K     |█████████████████████▉          | 819kB 16.1MB/s eta 0:00:01\r\u001b[K     |██████████████████████          | 829kB 16.1MB/s eta 0:00:01\r\u001b[K     |██████████████████████▎         | 839kB 16.1MB/s eta 0:00:01\r\u001b[K     |██████████████████████▋         | 849kB 16.1MB/s eta 0:00:01\r\u001b[K     |██████████████████████▉         | 860kB 16.1MB/s eta 0:00:01\r\u001b[K     |███████████████████████▏        | 870kB 16.1MB/s eta 0:00:01\r\u001b[K     |███████████████████████▍        | 880kB 16.1MB/s eta 0:00:01\r\u001b[K     |███████████████████████▊        | 890kB 16.1MB/s eta 0:00:01\r\u001b[K     |████████████████████████        | 901kB 16.1MB/s eta 0:00:01\r\u001b[K     |████████████████████████▎       | 911kB 16.1MB/s eta 0:00:01\r\u001b[K     |████████████████████████▌       | 921kB 16.1MB/s eta 0:00:01\r\u001b[K     |████████████████████████▊       | 931kB 16.1MB/s eta 0:00:01\r\u001b[K     |█████████████████████████       | 942kB 16.1MB/s eta 0:00:01\r\u001b[K     |█████████████████████████▎      | 952kB 16.1MB/s eta 0:00:01\r\u001b[K     |█████████████████████████▋      | 962kB 16.1MB/s eta 0:00:01\r\u001b[K     |█████████████████████████▉      | 972kB 16.1MB/s eta 0:00:01\r\u001b[K     |██████████████████████████▏     | 983kB 16.1MB/s eta 0:00:01\r\u001b[K     |██████████████████████████▍     | 993kB 16.1MB/s eta 0:00:01\r\u001b[K     |██████████████████████████▊     | 1.0MB 16.1MB/s eta 0:00:01\r\u001b[K     |███████████████████████████     | 1.0MB 16.1MB/s eta 0:00:01\r\u001b[K     |███████████████████████████▎    | 1.0MB 16.1MB/s eta 0:00:01\r\u001b[K     |███████████████████████████▌    | 1.0MB 16.1MB/s eta 0:00:01\r\u001b[K     |███████████████████████████▊    | 1.0MB 16.1MB/s eta 0:00:01\r\u001b[K     |████████████████████████████    | 1.1MB 16.1MB/s eta 0:00:01\r\u001b[K     |████████████████████████████▎   | 1.1MB 16.1MB/s eta 0:00:01\r\u001b[K     |████████████████████████████▋   | 1.1MB 16.1MB/s eta 0:00:01\r\u001b[K     |████████████████████████████▉   | 1.1MB 16.1MB/s eta 0:00:01\r\u001b[K     |█████████████████████████████▏  | 1.1MB 16.1MB/s eta 0:00:01\r\u001b[K     |█████████████████████████████▍  | 1.1MB 16.1MB/s eta 0:00:01\r\u001b[K     |█████████████████████████████▊  | 1.1MB 16.1MB/s eta 0:00:01\r\u001b[K     |██████████████████████████████  | 1.1MB 16.1MB/s eta 0:00:01\r\u001b[K     |██████████████████████████████▏ | 1.1MB 16.1MB/s eta 0:00:01\r\u001b[K     |██████████████████████████████▌ | 1.1MB 16.1MB/s eta 0:00:01\r\u001b[K     |██████████████████████████████▊ | 1.2MB 16.1MB/s eta 0:00:01\r\u001b[K     |███████████████████████████████ | 1.2MB 16.1MB/s eta 0:00:01\r\u001b[K     |███████████████████████████████▎| 1.2MB 16.1MB/s eta 0:00:01\r\u001b[K     |███████████████████████████████▋| 1.2MB 16.1MB/s eta 0:00:01\r\u001b[K     |███████████████████████████████▉| 1.2MB 16.1MB/s eta 0:00:01\r\u001b[K     |████████████████████████████████| 1.2MB 16.1MB/s \n",
            "\u001b[?25hInstalling collected packages: SentencePiece\n",
            "Successfully installed SentencePiece-0.1.95\n"
          ],
          "name": "stdout"
        }
      ]
    },
    {
      "cell_type": "code",
      "metadata": {
        "colab": {
          "base_uri": "https://localhost:8080/"
        },
        "id": "XDg4ZsNJlY87",
        "outputId": "b16f2a27-5b1f-4ca9-e7fd-f38d9e6aa141"
      },
      "source": [
        "from transformers import pipeline\n",
        "\n",
        "from transformers import PegasusForConditionalGeneration, PegasusTokenizer\n",
        "import torch\n",
        "src_text = open(\"/content/data/conversation4-POC-ftp.txt\", \"r\").readlines()\n",
        "#src_text = [\n",
        "#    \"\"\" PG&E stated it scheduled the blackouts in response to forecasts for high winds amid dry conditions. The aim is to reduce the risk of wildfires. Nearly 800 thousand customers were scheduled to be affected by the shutoffs which were expected to last through at least midday tomorrow.\"\"\"\n",
        "#]\n",
        "\n",
        "model_name = 'google/pegasus-xsum'\n",
        "torch_device = 'cuda' if torch.cuda.is_available() else 'cpu'\n",
        "tokenizer = PegasusTokenizer.from_pretrained(model_name)\n",
        "model = PegasusForConditionalGeneration.from_pretrained(model_name).to(torch_device)\n",
        "\n",
        "batch = tokenizer.prepare_seq2seq_batch(src_text, truncation=True, padding='longest', return_tensors=\"pt\").to(torch_device)\n",
        "translated = model.generate(**batch)\n",
        "\n",
        "tgt_text = tokenizer.batch_decode(translated, skip_special_tokens=True)\n",
        "\n",
        "print('tgt_text' , tgt_text)"
      ],
      "execution_count": null,
      "outputs": [
        {
          "output_type": "stream",
          "text": [
            "/usr/local/lib/python3.7/dist-packages/transformers/tokenization_utils_base.py:3221: FutureWarning: `prepare_seq2seq_batch` is deprecated and will be removed in version 5 of 🤗 Transformers. Use the regular `__call__` method to prepare your inputs and the tokenizer under the `with_target_tokenizer` context manager to prepare your targets. See the documentation of your specific tokenizer for more details\n",
            "  FutureWarning,\n"
          ],
          "name": "stderr"
        },
        {
          "output_type": "stream",
          "text": [
            "tgt_text ['Call centre agent: Hi, thanks for calling net service.', 'A selection of photos from around the world this week:', 'Customer: Hi, my Internet keeps disconnecting.', 'A selection of photos from around the world this week:', \"Agent: Hi, I'm sorry, but I'm not able to help you at the moment.\", 'How much do you know about your bank account?', 'A selection of photos from around the world this week:', \"A look back at some of the most memorable moments from this year's BBC Sports Personality of the Year awards.\", 'A selection of photos from around the world this week:', 'Sir, can you tell me the name of the customer?', 'A selection of photos from around the world this week:', \"Agent: What's the name of the city?\", 'A selection of photos from around the world this week:', 'Daniel:', 'What is the best way to get a refund on your car insurance?', 'A selection of photos from around the world this week:', \"Customer: I'm having problems with my internet.\", 'A selection of photos from around the world this week:', 'Agent : Is your house without power?', 'A selection of photos from around the world this week:', 'Customer: are you serious?', 'A selection of photos from around the world this week:', 'Can you tell me what is going on?', 'A selection of photos from around the world this week:', \"Customer: I've been very camp.\"]\n"
          ],
          "name": "stdout"
        }
      ]
    },
    {
      "cell_type": "code",
      "metadata": {
        "colab": {
          "base_uri": "https://localhost:8080/",
          "height": 336,
          "referenced_widgets": [
            "9643f59cf71d4e40b162699a8b67e47a",
            "87ab76fa68e643e7a61bcebdcbc84e00",
            "b994fb0ae3f0404689437e3e6fb2b057",
            "98400d01848e43428b563889de99a861",
            "1e5bbef99a9040208bf091600ff38c60",
            "d4b7d3ab3b3f4ec788876300a59ee789",
            "937d5cc092ea43569cce4e54e842f338",
            "63fee552087145efb58632591b7e017b",
            "32b73457deeb4d04bd893fa444a51237",
            "193311bc0d0e4377bad7d3f8179813e0",
            "d00a1aa924694c49bc35c95433e8afb3",
            "c6d4fcfc99104280a9e5ea02b45a0a5b",
            "1b67837f7d824fb8946cb907abec3072",
            "ccdfaa0fb35f4760825185aa5325bda0",
            "a3e504c817ed415ab677baa0d05134c1",
            "50b21f0e79c842699cf79e106ac2d0ce",
            "94c89ba02b444b2180a721dd8bd924d5",
            "3f65e3472467411681c6b6916833def0",
            "95748e12e5674e42a2db6b6705e669f3",
            "d4fdbe6b73dd4b329d4bc29102ea378b",
            "c6a552f905154d0594c1bd3b2fc82f60",
            "70f250777f3a45adbba8d3671c2e79e9",
            "d4f7e329fdc447cebd78a3b3f2a43cc8",
            "d83d117b70cf44a5ba0365ad71b44d29",
            "328b66a9dd354b3880951dd6f0695307",
            "59c6937314824247a0ba71fbba1dbc7e",
            "d422f03c00e4460b9154b1d916f4ee9c",
            "0875c8539a1a4b0fba02a2e529628f6b",
            "066c7cc7c1764e72b5e5443ae9301b94",
            "db64dbfa825d48a28ace830396ab8c69",
            "da6ae4bc9f684f94ac4ad1baf9014fc9",
            "2d16dab9e9bd4b2ea55670a28386655f",
            "e6eae36a166a45a8962ddba05f7dcdb5",
            "961dc5dfdadd41a6a776ebe3bd636903",
            "a59b15c4b9394c2f9f33e060cff8a6ec",
            "1c856a2ec94d440583a7712f789a27e6",
            "5063908ad09846d5b756c5c265aa3081",
            "6b17b817c4824725b2188e9ba31ec7b6",
            "53b7b564f8824da3929455d3a2b1bcc9",
            "84357a8d60ee44d29ca94defe0080336"
          ]
        },
        "id": "xXcdxVoMmxiJ",
        "outputId": "9c0159b9-8d33-4b8c-a0a0-ea7437e987fa"
      },
      "source": [
        "from transformers import pipeline\n",
        "\n",
        "from transformers import PegasusForConditionalGeneration, PegasusTokenizer\n",
        "import torch\n",
        "src_text = open(\"/content/data/conversation4-POC-ftp.txt\", \"r\").readlines()\n",
        "#src_text = [\n",
        "#    \"\"\" PG&E stated it scheduled the blackouts in response to forecasts for high winds amid dry conditions. The aim is to reduce the risk of wildfires. Nearly 800 thousand customers were scheduled to be affected by the shutoffs which were expected to last through at least midday tomorrow.\"\"\"\n",
        "#]\n",
        "\n",
        "model_name = 'google/pegasus-cnn_dailymail'\n",
        "torch_device = 'cuda' if torch.cuda.is_available() else 'cpu'\n",
        "tokenizer = PegasusTokenizer.from_pretrained(model_name)\n",
        "model = PegasusForConditionalGeneration.from_pretrained(model_name).to(torch_device)\n",
        "\n",
        "batch = tokenizer.prepare_seq2seq_batch(src_text, truncation=True, padding='longest', return_tensors=\"pt\").to(torch_device)\n",
        "translated = model.generate(**batch)\n",
        "\n",
        "tgt_text = tokenizer.batch_decode(translated, skip_special_tokens=True)\n",
        "\n",
        "print('tgt_text' , tgt_text)"
      ],
      "execution_count": null,
      "outputs": [
        {
          "output_type": "display_data",
          "data": {
            "application/vnd.jupyter.widget-view+json": {
              "model_id": "9643f59cf71d4e40b162699a8b67e47a",
              "version_minor": 0,
              "version_major": 2
            },
            "text/plain": [
              "HBox(children=(FloatProgress(value=0.0, description='Downloading', max=1912529.0, style=ProgressStyle(descript…"
            ]
          },
          "metadata": {
            "tags": []
          }
        },
        {
          "output_type": "stream",
          "text": [
            "\n"
          ],
          "name": "stdout"
        },
        {
          "output_type": "display_data",
          "data": {
            "application/vnd.jupyter.widget-view+json": {
              "model_id": "32b73457deeb4d04bd893fa444a51237",
              "version_minor": 0,
              "version_major": 2
            },
            "text/plain": [
              "HBox(children=(FloatProgress(value=0.0, description='Downloading', max=65.0, style=ProgressStyle(description_w…"
            ]
          },
          "metadata": {
            "tags": []
          }
        },
        {
          "output_type": "stream",
          "text": [
            "\n"
          ],
          "name": "stdout"
        },
        {
          "output_type": "display_data",
          "data": {
            "application/vnd.jupyter.widget-view+json": {
              "model_id": "94c89ba02b444b2180a721dd8bd924d5",
              "version_minor": 0,
              "version_major": 2
            },
            "text/plain": [
              "HBox(children=(FloatProgress(value=0.0, description='Downloading', max=88.0, style=ProgressStyle(description_w…"
            ]
          },
          "metadata": {
            "tags": []
          }
        },
        {
          "output_type": "stream",
          "text": [
            "\n"
          ],
          "name": "stdout"
        },
        {
          "output_type": "display_data",
          "data": {
            "application/vnd.jupyter.widget-view+json": {
              "model_id": "328b66a9dd354b3880951dd6f0695307",
              "version_minor": 0,
              "version_major": 2
            },
            "text/plain": [
              "HBox(children=(FloatProgress(value=0.0, description='Downloading', max=1120.0, style=ProgressStyle(description…"
            ]
          },
          "metadata": {
            "tags": []
          }
        },
        {
          "output_type": "stream",
          "text": [
            "\n"
          ],
          "name": "stdout"
        },
        {
          "output_type": "display_data",
          "data": {
            "application/vnd.jupyter.widget-view+json": {
              "model_id": "e6eae36a166a45a8962ddba05f7dcdb5",
              "version_minor": 0,
              "version_major": 2
            },
            "text/plain": [
              "HBox(children=(FloatProgress(value=0.0, description='Downloading', max=2275327883.0, style=ProgressStyle(descr…"
            ]
          },
          "metadata": {
            "tags": []
          }
        },
        {
          "output_type": "stream",
          "text": [
            "\n"
          ],
          "name": "stdout"
        },
        {
          "output_type": "stream",
          "text": [
            "/usr/local/lib/python3.7/dist-packages/transformers/tokenization_utils_base.py:3221: FutureWarning: `prepare_seq2seq_batch` is deprecated and will be removed in version 5 of 🤗 Transformers. Use the regular `__call__` method to prepare your inputs and the tokenizer under the `with_target_tokenizer` context manager to prepare your targets. See the documentation of your specific tokenizer for more details\n",
            "  FutureWarning,\n"
          ],
          "name": "stderr"
        },
        {
          "output_type": "stream",
          "text": [
            "tgt_text ['Hi, thanks for calling net service. How can I help you?<n>Hi, thanks for calling net service. How can I help you?<n>Hi, thanks for calling net service. How can I help you?', '.<n>Have a personal essay to share with the world.<n>Have a personal essay to share with the U.S..<n>Have a personal essay to share with the world.', 'Yes, my Internet keeps disconnecting.<n>Hi. Yes, my Internet keeps disconnecting.<n>Hi. Yes, my Internet keeps disconnecting.<n>Hi. Yes, my Internet keeps disconnecting.', '.<n>Have a personal essay to share with the world.<n>Have a personal essay to share with the U.S..<n>Have a personal essay to share with the world.', 'I would definitely help you with this issue, but before that may,.<n>I would definitely help you with this issue, but before that may,.<n>I would definitely help you with this issue, but before that may,.', 'I know your nine digit customer ID.<n>I know your nine digit customer ID.<n>I know your nine digit customer ID.<n>I know your nine digit customer ID.', '.<n>Have a personal essay to share with the world.<n>Have a personal essay to share with the U.S..<n>Have a personal essay to share with the world.', 'Agent: Oh, come on. Can you just search by my registration phone number?<n>Agent: Oh, come on. Can you just search by my registration phone number?', '.<n>Have a personal essay to share with the world.<n>Have a personal essay to share with the U.S..<n>Have a personal essay to share with the world.', 'Sir, our system only recognizes nine digit customer ID.<n>Sir, our system only recognizes nine digit customer ID.<n>Sir, our system only recognizes nine digit customer ID.', '.<n>Have a personal essay to share with the world.<n>Have a personal essay to share with the U.S..<n>Have a personal essay to share with the world.', \"It's 345-93-9420.<n>Let me check. Okay, I found it it's 345-93-9420.<n>That's ridiculous.\", '.<n>Have a personal essay to share with the world.<n>Have a personal essay to share with the U.S..<n>Have a personal essay to share with the world.', 'Agent: great. Thanks, Mr Daniel, let me transfer you to our Internet Department as they are the only ones who can help you with the issue.<n>Agent: great. Thanks, Mr Daniel, let me transfer you to our Internet Department as they are the only ones who can help you with the issue.', 'Thanks for calling. How may I help you.<n>Have a personal essay to share with the world? Submit at the bottom of the page.<n>For confidential support call the Samaritans on 08457 90 90 90 or visit a local Samaritans branch, see www.samaritans.org for details.<n>In the U.S. call the National Suicide Prevention Line on 1-800-273-8255.', '.<n>Have a personal essay to share with the world.<n>Have a personal essay to share with the U.S..<n>Have a personal essay to share with the world.', 'Just now my Internet keeps disconnecting.<n>Just now my Internet keeps disconnecting.<n>Just now my Internet keeps disconnecting.<n>Just now my Internet keeps disconnecting.', '.<n>Have a personal essay to share with the world.<n>Have a personal essay to share with the U.S..<n>Have a personal essay to share with the world.', \"Can you please confirm if there's uninterrupted power supply at your house.<n>Agent : Very. Sorry to hear that, sir.<n>Can you please confirm if there's uninterrupted power supply at your house.\", '.<n>Have a personal essay to share with the world.<n>Have a personal essay to share with the U.S..<n>Have a personal essay to share with the world.', \"You think I'm stupid, of course there's no issue with my poor supplier at my home.<n>You think I'm stupid, of course there's no issue with my poor supplier at my home.<n>You think I'm stupid, of course there's no issue with my poor supplier at my home.\", '.<n>Have a personal essay to share with the world.<n>Have a personal essay to share with the U.S..<n>Have a personal essay to share with the world.', 'So. We are following our standard diagnostic procedure.<n>Currently calm down and restrain from using. Any cuss words.<n>We are following our standard diagnostic procedure.', '.<n>Have a personal essay to share with the world.<n>Have a personal essay to share with the U.S..<n>Have a personal essay to share with the world.', \"Customer: Came down. Did you just ask me to calm down I've been very camp.<n>Now, however, you guys absolutely useless I'm going to end this contract.\"]\n"
          ],
          "name": "stdout"
        }
      ]
    },
    {
      "cell_type": "code",
      "metadata": {
        "id": "qBKYAbz6y5pF"
      },
      "source": [
        "#with open(\"/content/data/summary_poc1.txt\", \"w\") as output:\n",
        "#    output.write(str(tgt_text))"
      ],
      "execution_count": null,
      "outputs": []
    },
    {
      "cell_type": "code",
      "metadata": {
        "id": "NfgtWVsj0n8j"
      },
      "source": [
        "#with open(\"/content/data/summary_poc2.txt\", 'w') as output:\n",
        "#    for row in tgt_text:\n",
        "#        output.write(str(row))"
      ],
      "execution_count": null,
      "outputs": []
    },
    {
      "cell_type": "code",
      "metadata": {
        "colab": {
          "base_uri": "https://localhost:8080/"
        },
        "id": "1RW6yoQ28QJE",
        "outputId": "a271dda5-6c24-4399-bce0-6317bc664f4b"
      },
      "source": [
        "!python \"/content/data/pegasus-summary.py\""
      ],
      "execution_count": null,
      "outputs": [
        {
          "output_type": "stream",
          "text": [
            "2021-03-22 10:51:54.318624: I tensorflow/stream_executor/platform/default/dso_loader.cc:49] Successfully opened dynamic library libcudart.so.11.0\n",
            "/usr/local/lib/python3.7/dist-packages/transformers/tokenization_utils_base.py:3221: FutureWarning: `prepare_seq2seq_batch` is deprecated and will be removed in version 5 of 🤗 Transformers. Use the regular `__call__` method to prepare your inputs and the tokenizer under the `with_target_tokenizer` context manager to prepare your targets. See the documentation of your specific tokenizer for more details\n",
            "  FutureWarning,\n",
            "tgt_text ['Call centre agent: Hi, thanks for calling net service.', 'A selection of photos from around the world this week:', 'Customer: Hi, my Internet keeps disconnecting.', 'A selection of photos from around the world this week:', \"Agent: Hi, I'm sorry, but I'm not able to help you at the moment.\", 'How much do you know about your bank account?', 'A selection of photos from around the world this week:', \"A look back at some of the most memorable moments from this year's BBC Sports Personality of the Year awards.\", 'A selection of photos from around the world this week:', 'Sir, can you tell me the name of the customer?', 'A selection of photos from around the world this week:', \"Agent: What's the name of the city?\", 'A selection of photos from around the world this week:', 'Daniel:', 'What is the best way to get a refund on your car insurance?', 'A selection of photos from around the world this week:', \"Customer: I'm having problems with my internet.\", 'A selection of photos from around the world this week:', 'Agent : Is your house without power?', 'A selection of photos from around the world this week:', 'Customer: are you serious?', 'A selection of photos from around the world this week:', 'Can you tell me what is going on?', 'A selection of photos from around the world this week:', \"Customer: I've been very camp.\"]\n",
            "Traceback (most recent call last):\n",
            "  File \"/content/data/pegasus-summary.py\", line 26, in <module>\n",
            "    f.write(tgt_text)\n",
            "TypeError: write() argument must be str, not list\n"
          ],
          "name": "stdout"
        }
      ]
    },
    {
      "cell_type": "code",
      "metadata": {
        "id": "R7b29ya3jZlC",
        "outputId": "2d7f4e8d-e449-456f-f15b-f5d7879332c2",
        "colab": {
          "base_uri": "https://localhost:8080/"
        }
      },
      "source": [
        "!pip show tensorflow"
      ],
      "execution_count": 2,
      "outputs": [
        {
          "output_type": "stream",
          "text": [
            "Name: tensorflow\n",
            "Version: 2.4.1\n",
            "Summary: TensorFlow is an open source machine learning framework for everyone.\n",
            "Home-page: https://www.tensorflow.org/\n",
            "Author: Google Inc.\n",
            "Author-email: packages@tensorflow.org\n",
            "License: Apache 2.0\n",
            "Location: /usr/local/lib/python3.7/dist-packages\n",
            "Requires: gast, typing-extensions, keras-preprocessing, astunparse, h5py, protobuf, tensorboard, google-pasta, tensorflow-estimator, grpcio, absl-py, opt-einsum, flatbuffers, wheel, six, termcolor, wrapt, numpy\n",
            "Required-by: fancyimpute\n"
          ],
          "name": "stdout"
        }
      ]
    },
    {
      "cell_type": "code",
      "metadata": {
        "id": "J3J3CXIwRVvE",
        "outputId": "fe4fbd20-88a5-4911-8c03-491f5a16426c",
        "colab": {
          "base_uri": "https://localhost:8080/"
        }
      },
      "source": [
        "!pip uninstall tensorflow"
      ],
      "execution_count": 8,
      "outputs": [
        {
          "output_type": "stream",
          "text": [
            "Uninstalling tensorflow-2.4.1:\n",
            "  Would remove:\n",
            "    /usr/local/bin/estimator_ckpt_converter\n",
            "    /usr/local/bin/import_pb_to_tensorboard\n",
            "    /usr/local/bin/saved_model_cli\n",
            "    /usr/local/bin/tensorboard\n",
            "    /usr/local/bin/tf_upgrade_v2\n",
            "    /usr/local/bin/tflite_convert\n",
            "    /usr/local/bin/toco\n",
            "    /usr/local/bin/toco_from_protos\n",
            "    /usr/local/lib/python3.7/dist-packages/tensorflow-2.4.1.dist-info/*\n",
            "    /usr/local/lib/python3.7/dist-packages/tensorflow/*\n",
            "Proceed (y/n)? y\n",
            "  Successfully uninstalled tensorflow-2.4.1\n"
          ],
          "name": "stdout"
        }
      ]
    },
    {
      "cell_type": "code",
      "metadata": {
        "id": "EU8x1rkeRdEI",
        "outputId": "66381a3c-d7a2-4d33-ef79-e19dbbb323be",
        "colab": {
          "base_uri": "https://localhost:8080/"
        }
      },
      "source": [
        "!pip show numpy "
      ],
      "execution_count": 4,
      "outputs": [
        {
          "output_type": "stream",
          "text": [
            "Name: numpy\n",
            "Version: 1.19.5\n",
            "Summary: NumPy is the fundamental package for array computing with Python.\n",
            "Home-page: https://www.numpy.org\n",
            "Author: Travis E. Oliphant et al.\n",
            "Author-email: None\n",
            "License: BSD\n",
            "Location: /usr/local/lib/python3.7/dist-packages\n",
            "Requires: \n",
            "Required-by: yellowbrick, xgboost, xarray, wordcloud, torchvision, torchtext, torch, tifffile, thinc, Theano, tensorflow-probability, tensorflow-hub, tensorflow-datasets, tensorboard, tables, statsmodels, spacy, sklearn-pandas, seaborn, scs, scipy, scikit-learn, resampy, qdldl, PyWavelets, python-louvain, pystan, pysndfile, pymc3, pyerfa, pyemd, pyarrow, plotnine, patsy, pandas, osqp, opt-einsum, opencv-python, opencv-contrib-python, numexpr, numba, np-utils, nibabel, moviepy, mlxtend, mizani, missingno, matplotlib, matplotlib-venn, lightgbm, librosa, knnimpute, Keras, Keras-Preprocessing, kapre, jpeg4py, jaxlib, jax, imgaug, imbalanced-learn, imageio, hyperopt, holoviews, h5py, gym, gensim, folium, fix-yahoo-finance, fbprophet, fastprogress, fastdtw, fastai, fancyimpute, fa2, ecos, daft, cvxpy, cupy-cuda101, cufflinks, cmdstanpy, chainer, Bottleneck, bokeh, blis, autograd, atari-py, astropy, altair, albumentations\n"
          ],
          "name": "stdout"
        }
      ]
    },
    {
      "cell_type": "code",
      "metadata": {
        "id": "MNZY0cwhRj25",
        "outputId": "6f98f7a8-4040-4e06-c7bc-75fc49160451",
        "colab": {
          "base_uri": "https://localhost:8080/"
        }
      },
      "source": [
        "!pip uninstall numpy"
      ],
      "execution_count": 7,
      "outputs": [
        {
          "output_type": "stream",
          "text": [
            "Uninstalling numpy-1.19.5:\n",
            "  Would remove:\n",
            "    /usr/bin/f2py\n",
            "    /usr/local/bin/f2py\n",
            "    /usr/local/bin/f2py3\n",
            "    /usr/local/bin/f2py3.7\n",
            "    /usr/local/lib/python3.7/dist-packages/numpy-1.19.5.dist-info/*\n",
            "    /usr/local/lib/python3.7/dist-packages/numpy.libs/libgfortran-2e0d59d6.so.5.0.0\n",
            "    /usr/local/lib/python3.7/dist-packages/numpy.libs/libopenblasp-r0-09e95953.3.13.so\n",
            "    /usr/local/lib/python3.7/dist-packages/numpy.libs/libquadmath-2d0c479f.so.0.0.0\n",
            "    /usr/local/lib/python3.7/dist-packages/numpy.libs/libz-eb09ad1d.so.1.2.3\n",
            "    /usr/local/lib/python3.7/dist-packages/numpy/*\n",
            "Proceed (y/n)? y\n",
            "  Successfully uninstalled numpy-1.19.5\n"
          ],
          "name": "stdout"
        }
      ]
    },
    {
      "cell_type": "code",
      "metadata": {
        "id": "PSuG1SuaRL2X",
        "outputId": "7f0f7b44-b7d9-4675-94bb-575ef6f85761",
        "colab": {
          "base_uri": "https://localhost:8080/"
        }
      },
      "source": [
        "!pip show tensorflow-gpu"
      ],
      "execution_count": 1,
      "outputs": [
        {
          "output_type": "stream",
          "text": [
            "\u001b[33mWARNING: Package(s) not found: tensorflow-gpu\u001b[0m\n"
          ],
          "name": "stdout"
        }
      ]
    },
    {
      "cell_type": "code",
      "metadata": {
        "id": "3Xi0zpzERTcI",
        "outputId": "6d00124f-3280-4a0c-8d89-e8a3265dd3e6",
        "colab": {
          "base_uri": "https://localhost:8080/"
        }
      },
      "source": [
        "!wget https://apt.repos.intel.com/intel-gpg-keys/GPG-PUB-KEY-INTEL-SW-PRODUCTS.PUB"
      ],
      "execution_count": 4,
      "outputs": [
        {
          "output_type": "stream",
          "text": [
            "--2021-04-25 16:04:56--  https://apt.repos.intel.com/intel-gpg-keys/GPG-PUB-KEY-INTEL-SW-PRODUCTS.PUB\n",
            "Resolving apt.repos.intel.com (apt.repos.intel.com)... 104.99.89.18, 2600:1409:d000:584::4b23, 2600:1409:d000:5a0::4b23\n",
            "Connecting to apt.repos.intel.com (apt.repos.intel.com)|104.99.89.18|:443... connected.\n",
            "HTTP request sent, awaiting response... 200 OK\n",
            "Length: 3796 (3.7K) [binary/octet-stream]\n",
            "Saving to: ‘GPG-PUB-KEY-INTEL-SW-PRODUCTS.PUB’\n",
            "\n",
            "\r          GPG-PUB-K   0%[                    ]       0  --.-KB/s               \rGPG-PUB-KEY-INTEL-S 100%[===================>]   3.71K  --.-KB/s    in 0s      \n",
            "\n",
            "2021-04-25 16:04:57 (662 MB/s) - ‘GPG-PUB-KEY-INTEL-SW-PRODUCTS.PUB’ saved [3796/3796]\n",
            "\n"
          ],
          "name": "stdout"
        }
      ]
    },
    {
      "cell_type": "code",
      "metadata": {
        "id": "C0Lj0Y33xroX",
        "outputId": "701748c6-345c-4da7-df91-23934236c3ef",
        "colab": {
          "base_uri": "https://localhost:8080/"
        }
      },
      "source": [
        "!sudo apt-key add GPG-PUB-KEY-INTEL-SW-PRODUCTS.PUB"
      ],
      "execution_count": 5,
      "outputs": [
        {
          "output_type": "stream",
          "text": [
            "OK\n"
          ],
          "name": "stdout"
        }
      ]
    },
    {
      "cell_type": "code",
      "metadata": {
        "id": "fRdeY2fex44X"
      },
      "source": [
        "!rm GPG-PUB-KEY-INTEL-SW-PRODUCTS.PUB"
      ],
      "execution_count": 6,
      "outputs": []
    },
    {
      "cell_type": "code",
      "metadata": {
        "id": "M1-_JrU8x7pQ",
        "outputId": "93f02e82-f662-4391-f165-0c76dc3789bf",
        "colab": {
          "base_uri": "https://localhost:8080/"
        }
      },
      "source": [
        "!pip install mkl"
      ],
      "execution_count": 9,
      "outputs": [
        {
          "output_type": "stream",
          "text": [
            "Requirement already satisfied: mkl in /usr/local/lib/python3.7/dist-packages (2019.0)\n",
            "Requirement already satisfied: intel-openmp in /usr/local/lib/python3.7/dist-packages (from mkl) (2021.2.0)\n"
          ],
          "name": "stdout"
        }
      ]
    },
    {
      "cell_type": "code",
      "metadata": {
        "id": "dhHSfondyLvs",
        "outputId": "b0b5c6a5-2e7b-4257-9e39-71ad8264d147",
        "colab": {
          "base_uri": "https://localhost:8080/"
        }
      },
      "source": [
        "!echo \"deb https://apt.repos.intel.com/oneapi all main\" | sudo tee /etc/apt/sources.list.d/oneAPI.list"
      ],
      "execution_count": 10,
      "outputs": [
        {
          "output_type": "stream",
          "text": [
            "deb https://apt.repos.intel.com/oneapi all main\n"
          ],
          "name": "stdout"
        }
      ]
    },
    {
      "cell_type": "code",
      "metadata": {
        "id": "fBrOc3GvyVyw",
        "outputId": "e29380ad-b67c-45b2-cc7a-d0857acd8850",
        "colab": {
          "base_uri": "https://localhost:8080/"
        }
      },
      "source": [
        "!sudo add-apt-repository \"deb https://apt.repos.intel.com/oneapi all main\""
      ],
      "execution_count": 11,
      "outputs": [
        {
          "output_type": "stream",
          "text": [
            "\r0% [Working]\r            \rGet:1 https://cloud.r-project.org/bin/linux/ubuntu bionic-cran40/ InRelease [3,626 B]\n",
            "\r0% [Connecting to archive.ubuntu.com (91.189.88.142)] [Connecting to security.u\r0% [Connecting to archive.ubuntu.com (91.189.88.142)] [Connecting to security.u\r0% [1 InRelease gpgv 3,626 B] [Connecting to archive.ubuntu.com (91.189.88.142)\r                                                                               \rIgn:2 https://developer.download.nvidia.com/compute/cuda/repos/ubuntu1804/x86_64  InRelease\n",
            "\r0% [1 InRelease gpgv 3,626 B] [Connecting to archive.ubuntu.com (91.189.88.142)\r                                                                               \rGet:3 https://apt.repos.intel.com/oneapi all InRelease [4,390 B]\n",
            "\r0% [1 InRelease gpgv 3,626 B] [Connecting to archive.ubuntu.com (91.189.88.142)\r                                                                               \rIgn:4 https://developer.download.nvidia.com/compute/machine-learning/repos/ubuntu1804/x86_64  InRelease\n",
            "\r0% [1 InRelease gpgv 3,626 B] [Connecting to archive.ubuntu.com (91.189.88.142)\r                                                                               \rGet:5 http://security.ubuntu.com/ubuntu bionic-security InRelease [88.7 kB]\n",
            "\r0% [1 InRelease gpgv 3,626 B] [Connecting to archive.ubuntu.com (91.189.88.142)\r                                                                               \rGet:6 https://developer.download.nvidia.com/compute/cuda/repos/ubuntu1804/x86_64  Release [697 B]\n",
            "\r0% [1 InRelease gpgv 3,626 B] [Connecting to archive.ubuntu.com (91.189.88.142)\r0% [1 InRelease gpgv 3,626 B] [Connecting to archive.ubuntu.com (91.189.88.142)\r0% [Connecting to archive.ubuntu.com (91.189.88.142)] [5 InRelease 14.2 kB/88.7\r0% [3 InRelease gpgv 4,390 B] [Connecting to archive.ubuntu.com (91.189.88.142)\r                                                                               \rHit:7 https://developer.download.nvidia.com/compute/machine-learning/repos/ubuntu1804/x86_64  Release\n",
            "\r0% [3 InRelease gpgv 4,390 B] [Connecting to archive.ubuntu.com (91.189.88.142)\r                                                                               \rGet:8 https://developer.download.nvidia.com/compute/cuda/repos/ubuntu1804/x86_64  Release.gpg [836 B]\n",
            "Get:9 https://apt.repos.intel.com/oneapi all/main all Packages [11.9 kB]\n",
            "Get:10 https://apt.repos.intel.com/oneapi all/main amd64 Packages [58.1 kB]\n",
            "Hit:11 http://archive.ubuntu.com/ubuntu bionic InRelease\n",
            "Get:12 http://ppa.launchpad.net/c2d4u.team/c2d4u4.0+/ubuntu bionic InRelease [15.9 kB]\n",
            "Get:14 http://archive.ubuntu.com/ubuntu bionic-updates InRelease [88.7 kB]\n",
            "Ign:15 https://developer.download.nvidia.com/compute/cuda/repos/ubuntu1804/x86_64  Packages\n",
            "Get:15 https://developer.download.nvidia.com/compute/cuda/repos/ubuntu1804/x86_64  Packages [741 kB]\n",
            "Get:16 http://security.ubuntu.com/ubuntu bionic-security/restricted amd64 Packages [396 kB]\n",
            "Hit:17 http://ppa.launchpad.net/cran/libgit2/ubuntu bionic InRelease\n",
            "Get:18 http://security.ubuntu.com/ubuntu bionic-security/main amd64 Packages [2,116 kB]\n",
            "Get:19 http://archive.ubuntu.com/ubuntu bionic-backports InRelease [74.6 kB]\n",
            "Hit:20 http://ppa.launchpad.net/deadsnakes/ppa/ubuntu bionic InRelease\n",
            "Get:21 http://security.ubuntu.com/ubuntu bionic-security/multiverse amd64 Packages [24.7 kB]\n",
            "Get:22 http://archive.ubuntu.com/ubuntu bionic-updates/universe amd64 Packages [2,181 kB]\n",
            "Hit:23 http://ppa.launchpad.net/graphics-drivers/ppa/ubuntu bionic InRelease\n",
            "Get:24 http://ppa.launchpad.net/c2d4u.team/c2d4u4.0+/ubuntu bionic/main Sources [1,756 kB]\n",
            "Get:25 http://archive.ubuntu.com/ubuntu bionic-updates/main amd64 Packages [2,546 kB]\n",
            "Get:26 http://archive.ubuntu.com/ubuntu bionic-updates/multiverse amd64 Packages [31.6 kB]\n",
            "Get:27 http://archive.ubuntu.com/ubuntu bionic-updates/restricted amd64 Packages [426 kB]\n",
            "Get:28 http://ppa.launchpad.net/c2d4u.team/c2d4u4.0+/ubuntu bionic/main amd64 Packages [899 kB]\n",
            "Fetched 11.5 MB in 4s (3,026 kB/s)\n",
            "Reading package lists... Done\n"
          ],
          "name": "stdout"
        }
      ]
    },
    {
      "cell_type": "code",
      "metadata": {
        "id": "-EJjLCVvyYoh",
        "outputId": "19b4baff-98cc-4dbf-dbd3-0e9958c7f3d7",
        "colab": {
          "base_uri": "https://localhost:8080/"
        }
      },
      "source": [
        "!pip install intel-numpy"
      ],
      "execution_count": 12,
      "outputs": [
        {
          "output_type": "stream",
          "text": [
            "\u001b[31mERROR: Could not find a version that satisfies the requirement intel-numpy (from versions: none)\u001b[0m\n",
            "\u001b[31mERROR: No matching distribution found for intel-numpy\u001b[0m\n"
          ],
          "name": "stdout"
        }
      ]
    },
    {
      "cell_type": "code",
      "metadata": {
        "id": "Yg808TSAyddr",
        "outputId": "487ddce8-ba75-4402-d0f1-d82d1fbe7a9f",
        "colab": {
          "base_uri": "https://localhost:8080/"
        }
      },
      "source": [
        "!pip --version"
      ],
      "execution_count": 13,
      "outputs": [
        {
          "output_type": "stream",
          "text": [
            "pip 19.3.1 from /usr/local/lib/python3.7/dist-packages/pip (python 3.7)\n"
          ],
          "name": "stdout"
        }
      ]
    },
    {
      "cell_type": "code",
      "metadata": {
        "id": "LGUbdOCqzYAL",
        "outputId": "d6b44acd-17a8-482e-d6f0-c393937d2a92",
        "colab": {
          "base_uri": "https://localhost:8080/"
        }
      },
      "source": [
        "!pip install pip==21"
      ],
      "execution_count": 14,
      "outputs": [
        {
          "output_type": "stream",
          "text": [
            "Collecting pip==21\n",
            "\u001b[?25l  Downloading https://files.pythonhosted.org/packages/de/47/58b9f3e6f611dfd17fb8bd9ed3e6f93b7ee662fb85bdfee3565e8979ddf7/pip-21.0-py3-none-any.whl (1.5MB)\n",
            "\u001b[K     |████████████████████████████████| 1.5MB 7.7MB/s \n",
            "\u001b[?25hInstalling collected packages: pip\n",
            "  Found existing installation: pip 19.3.1\n",
            "    Uninstalling pip-19.3.1:\n",
            "      Successfully uninstalled pip-19.3.1\n",
            "Successfully installed pip-21.0\n"
          ],
          "name": "stdout"
        }
      ]
    },
    {
      "cell_type": "code",
      "metadata": {
        "id": "v_OE-dJqzauE",
        "outputId": "dfb16120-9596-4a15-c3ae-5068516902f3",
        "colab": {
          "base_uri": "https://localhost:8080/"
        }
      },
      "source": [
        "!pip install intel-numpy"
      ],
      "execution_count": 15,
      "outputs": [
        {
          "output_type": "stream",
          "text": [
            "\u001b[31mERROR: Could not find a version that satisfies the requirement intel-numpy\u001b[0m\n",
            "\u001b[31mERROR: No matching distribution found for intel-numpy\u001b[0m\n"
          ],
          "name": "stdout"
        }
      ]
    },
    {
      "cell_type": "code",
      "metadata": {
        "id": "rojxECIY0APx",
        "outputId": "93e6efbb-a6ea-4c83-8114-60352eee2303",
        "colab": {
          "base_uri": "https://localhost:8080/"
        }
      },
      "source": [
        "!python"
      ],
      "execution_count": 17,
      "outputs": [
        {
          "output_type": "stream",
          "text": [
            "Python 3.7.10 (default, Feb 20 2021, 21:17:23) \n",
            "[GCC 7.5.0] on linux\n",
            "Type \"help\", \"copyright\", \"credits\" or \"license\" for more information.\n",
            ">>> !pip install intel-scipy\n",
            "  File \"<stdin>\", line 1\n",
            "    !pip install intel-scipy\n",
            "    ^\n",
            "SyntaxError: invalid syntax\n",
            ">>> pip install intel-scipy\n",
            "  File \"<stdin>\", line 1\n",
            "    pip install intel-scipy\n",
            "              ^\n",
            "SyntaxError: invalid syntax\n",
            ">>> exit()\n"
          ],
          "name": "stdout"
        }
      ]
    },
    {
      "cell_type": "code",
      "metadata": {
        "id": "UjOAvZiQze32",
        "outputId": "de50b3b6-c9b7-4892-88b8-1c79ffbc7f75",
        "colab": {
          "base_uri": "https://localhost:8080/"
        }
      },
      "source": [
        "!pip install intel-scipy"
      ],
      "execution_count": 18,
      "outputs": [
        {
          "output_type": "stream",
          "text": [
            "\u001b[31mERROR: Could not find a version that satisfies the requirement intel-scipy\u001b[0m\n",
            "\u001b[31mERROR: No matching distribution found for intel-scipy\u001b[0m\n"
          ],
          "name": "stdout"
        }
      ]
    },
    {
      "cell_type": "code",
      "metadata": {
        "id": "4LhsIo7Gz2ss",
        "outputId": "075c9572-9016-4e07-9d31-130af51f7229",
        "colab": {
          "base_uri": "https://localhost:8080/"
        }
      },
      "source": [
        "!python -m pip install intel-numpy"
      ],
      "execution_count": 19,
      "outputs": [
        {
          "output_type": "stream",
          "text": [
            "\u001b[31mERROR: Could not find a version that satisfies the requirement intel-numpy\u001b[0m\n",
            "\u001b[31mERROR: No matching distribution found for intel-numpy\u001b[0m\n"
          ],
          "name": "stdout"
        }
      ]
    },
    {
      "cell_type": "code",
      "metadata": {
        "id": "ChwgwYwW2Bzg",
        "outputId": "9a08a552-2d4e-44f7-f8eb-df8564cedd7a",
        "colab": {
          "base_uri": "https://localhost:8080/"
        }
      },
      "source": [
        "!conda install python=3.6"
      ],
      "execution_count": 22,
      "outputs": [
        {
          "output_type": "stream",
          "text": [
            "/bin/bash: conda: command not found\n"
          ],
          "name": "stdout"
        }
      ]
    },
    {
      "cell_type": "code",
      "metadata": {
        "id": "RllXUdLc2J-Q",
        "outputId": "b5e314c5-699a-4263-c0bb-9aaa595432c1",
        "colab": {
          "base_uri": "https://localhost:8080/"
        }
      },
      "source": [
        "!python3 --version"
      ],
      "execution_count": 23,
      "outputs": [
        {
          "output_type": "stream",
          "text": [
            "Python 3.7.10\n"
          ],
          "name": "stdout"
        }
      ]
    },
    {
      "cell_type": "code",
      "metadata": {
        "id": "B0gcdwY3nYtH",
        "outputId": "be379d8c-1d06-4ac9-da4b-bb903f997407",
        "colab": {
          "base_uri": "https://localhost:8080/"
        }
      },
      "source": [
        "!pip install tensorflow"
      ],
      "execution_count": 10,
      "outputs": [
        {
          "output_type": "stream",
          "text": [
            "Collecting tensorflow\n",
            "\u001b[?25l  Downloading https://files.pythonhosted.org/packages/70/dc/e8c5e7983866fa4ef3fd619faa35f660b95b01a2ab62b3884f038ccab542/tensorflow-2.4.1-cp37-cp37m-manylinux2010_x86_64.whl (394.3MB)\n",
            "\u001b[K     |████████████████████████████████| 394.3MB 39kB/s \n",
            "\u001b[?25hRequirement already satisfied: flatbuffers~=1.12.0 in /usr/local/lib/python3.7/dist-packages (from tensorflow) (1.12)\n",
            "Requirement already satisfied: wrapt~=1.12.1 in /usr/local/lib/python3.7/dist-packages (from tensorflow) (1.12.1)\n",
            "Requirement already satisfied: termcolor~=1.1.0 in /usr/local/lib/python3.7/dist-packages (from tensorflow) (1.1.0)\n",
            "Requirement already satisfied: opt-einsum~=3.3.0 in /usr/local/lib/python3.7/dist-packages (from tensorflow) (3.3.0)\n",
            "Requirement already satisfied: google-pasta~=0.2 in /usr/local/lib/python3.7/dist-packages (from tensorflow) (0.2.0)\n",
            "Requirement already satisfied: numpy~=1.19.2 in /usr/local/lib/python3.7/dist-packages (from tensorflow) (1.19.5)\n",
            "Requirement already satisfied: absl-py~=0.10 in /usr/local/lib/python3.7/dist-packages (from tensorflow) (0.12.0)\n",
            "Requirement already satisfied: protobuf>=3.9.2 in /usr/local/lib/python3.7/dist-packages (from tensorflow) (3.12.4)\n",
            "Requirement already satisfied: keras-preprocessing~=1.1.2 in /usr/local/lib/python3.7/dist-packages (from tensorflow) (1.1.2)\n",
            "Requirement already satisfied: astunparse~=1.6.3 in /usr/local/lib/python3.7/dist-packages (from tensorflow) (1.6.3)\n",
            "Requirement already satisfied: gast==0.3.3 in /usr/local/lib/python3.7/dist-packages (from tensorflow) (0.3.3)\n",
            "Requirement already satisfied: six~=1.15.0 in /usr/local/lib/python3.7/dist-packages (from tensorflow) (1.15.0)\n",
            "Requirement already satisfied: tensorflow-estimator<2.5.0,>=2.4.0 in /usr/local/lib/python3.7/dist-packages (from tensorflow) (2.4.0)\n",
            "Requirement already satisfied: h5py~=2.10.0 in /usr/local/lib/python3.7/dist-packages (from tensorflow) (2.10.0)\n",
            "Requirement already satisfied: wheel~=0.35 in /usr/local/lib/python3.7/dist-packages (from tensorflow) (0.36.2)\n",
            "Requirement already satisfied: tensorboard~=2.4 in /usr/local/lib/python3.7/dist-packages (from tensorflow) (2.4.1)\n",
            "Requirement already satisfied: grpcio~=1.32.0 in /usr/local/lib/python3.7/dist-packages (from tensorflow) (1.32.0)\n",
            "Requirement already satisfied: typing-extensions~=3.7.4 in /usr/local/lib/python3.7/dist-packages (from tensorflow) (3.7.4.3)\n",
            "Requirement already satisfied: setuptools in /usr/local/lib/python3.7/dist-packages (from protobuf>=3.9.2->tensorflow) (56.0.0)\n",
            "Requirement already satisfied: markdown>=2.6.8 in /usr/local/lib/python3.7/dist-packages (from tensorboard~=2.4->tensorflow) (3.3.4)\n",
            "Requirement already satisfied: werkzeug>=0.11.15 in /usr/local/lib/python3.7/dist-packages (from tensorboard~=2.4->tensorflow) (1.0.1)\n",
            "Requirement already satisfied: google-auth-oauthlib<0.5,>=0.4.1 in /usr/local/lib/python3.7/dist-packages (from tensorboard~=2.4->tensorflow) (0.4.4)\n",
            "Requirement already satisfied: requests<3,>=2.21.0 in /usr/local/lib/python3.7/dist-packages (from tensorboard~=2.4->tensorflow) (2.23.0)\n",
            "Requirement already satisfied: google-auth<2,>=1.6.3 in /usr/local/lib/python3.7/dist-packages (from tensorboard~=2.4->tensorflow) (1.28.1)\n",
            "Requirement already satisfied: tensorboard-plugin-wit>=1.6.0 in /usr/local/lib/python3.7/dist-packages (from tensorboard~=2.4->tensorflow) (1.8.0)\n",
            "Requirement already satisfied: importlib-metadata; python_version < \"3.8\" in /usr/local/lib/python3.7/dist-packages (from markdown>=2.6.8->tensorboard~=2.4->tensorflow) (3.10.1)\n",
            "Requirement already satisfied: requests-oauthlib>=0.7.0 in /usr/local/lib/python3.7/dist-packages (from google-auth-oauthlib<0.5,>=0.4.1->tensorboard~=2.4->tensorflow) (1.3.0)\n",
            "Requirement already satisfied: urllib3!=1.25.0,!=1.25.1,<1.26,>=1.21.1 in /usr/local/lib/python3.7/dist-packages (from requests<3,>=2.21.0->tensorboard~=2.4->tensorflow) (1.25.4)\n",
            "Requirement already satisfied: chardet<4,>=3.0.2 in /usr/local/lib/python3.7/dist-packages (from requests<3,>=2.21.0->tensorboard~=2.4->tensorflow) (3.0.4)\n",
            "Requirement already satisfied: certifi>=2017.4.17 in /usr/local/lib/python3.7/dist-packages (from requests<3,>=2.21.0->tensorboard~=2.4->tensorflow) (2020.12.5)\n",
            "Requirement already satisfied: idna<3,>=2.5 in /usr/local/lib/python3.7/dist-packages (from requests<3,>=2.21.0->tensorboard~=2.4->tensorflow) (2.10)\n",
            "Requirement already satisfied: pyasn1-modules>=0.2.1 in /usr/local/lib/python3.7/dist-packages (from google-auth<2,>=1.6.3->tensorboard~=2.4->tensorflow) (0.2.8)\n",
            "Requirement already satisfied: cachetools<5.0,>=2.0.0 in /usr/local/lib/python3.7/dist-packages (from google-auth<2,>=1.6.3->tensorboard~=2.4->tensorflow) (4.2.1)\n",
            "Requirement already satisfied: rsa<5,>=3.1.4; python_version >= \"3.6\" in /usr/local/lib/python3.7/dist-packages (from google-auth<2,>=1.6.3->tensorboard~=2.4->tensorflow) (4.7.2)\n",
            "Requirement already satisfied: zipp>=0.5 in /usr/local/lib/python3.7/dist-packages (from importlib-metadata; python_version < \"3.8\"->markdown>=2.6.8->tensorboard~=2.4->tensorflow) (3.4.1)\n",
            "Requirement already satisfied: oauthlib>=3.0.0 in /usr/local/lib/python3.7/dist-packages (from requests-oauthlib>=0.7.0->google-auth-oauthlib<0.5,>=0.4.1->tensorboard~=2.4->tensorflow) (3.1.0)\n",
            "Requirement already satisfied: pyasn1<0.5.0,>=0.4.6 in /usr/local/lib/python3.7/dist-packages (from pyasn1-modules>=0.2.1->google-auth<2,>=1.6.3->tensorboard~=2.4->tensorflow) (0.4.8)\n",
            "Installing collected packages: tensorflow\n",
            "Successfully installed tensorflow-2.4.1\n"
          ],
          "name": "stdout"
        }
      ]
    },
    {
      "cell_type": "code",
      "metadata": {
        "id": "mLFfxrP14Rle",
        "outputId": "e7904051-dab5-4eee-9bbb-3e0acfe2637b",
        "colab": {
          "base_uri": "https://localhost:8080/"
        }
      },
      "source": [
        "# try with xlnet \n",
        "!pip uninstall tensorflow"
      ],
      "execution_count": 1,
      "outputs": [
        {
          "output_type": "stream",
          "text": [
            "Uninstalling tensorflow-2.4.1:\n",
            "  Would remove:\n",
            "    /usr/local/bin/estimator_ckpt_converter\n",
            "    /usr/local/bin/import_pb_to_tensorboard\n",
            "    /usr/local/bin/saved_model_cli\n",
            "    /usr/local/bin/tensorboard\n",
            "    /usr/local/bin/tf_upgrade_v2\n",
            "    /usr/local/bin/tflite_convert\n",
            "    /usr/local/bin/toco\n",
            "    /usr/local/bin/toco_from_protos\n",
            "    /usr/local/lib/python3.7/dist-packages/tensorflow-2.4.1.dist-info/*\n",
            "    /usr/local/lib/python3.7/dist-packages/tensorflow/*\n",
            "Proceed (y/n)? y\n",
            "  Successfully uninstalled tensorflow-2.4.1\n"
          ],
          "name": "stdout"
        }
      ]
    },
    {
      "cell_type": "code",
      "metadata": {
        "id": "9pDW2b5KPecn",
        "outputId": "651ad480-2fb0-4e17-e40c-da97154e626d",
        "colab": {
          "base_uri": "https://localhost:8080/"
        }
      },
      "source": [
        "!pip install transformers==2.2.0"
      ],
      "execution_count": 2,
      "outputs": [
        {
          "output_type": "stream",
          "text": [
            "Collecting transformers==2.2.0\n",
            "\u001b[?25l  Downloading https://files.pythonhosted.org/packages/ec/e7/0a1babead1b79afabb654fbec0a052e0d833ba4205a6dfd98b1aeda9c82e/transformers-2.2.0-py3-none-any.whl (360kB)\n",
            "\u001b[K     |████████████████████████████████| 368kB 7.3MB/s \n",
            "\u001b[?25hCollecting sacremoses\n",
            "\u001b[?25l  Downloading https://files.pythonhosted.org/packages/75/ee/67241dc87f266093c533a2d4d3d69438e57d7a90abb216fa076e7d475d4a/sacremoses-0.0.45-py3-none-any.whl (895kB)\n",
            "\u001b[K     |████████████████████████████████| 901kB 14.9MB/s \n",
            "\u001b[?25hRequirement already satisfied: tqdm in /usr/local/lib/python3.7/dist-packages (from transformers==2.2.0) (4.41.1)\n",
            "Requirement already satisfied: numpy in /usr/local/lib/python3.7/dist-packages (from transformers==2.2.0) (1.19.5)\n",
            "Requirement already satisfied: regex in /usr/local/lib/python3.7/dist-packages (from transformers==2.2.0) (2019.12.20)\n",
            "Requirement already satisfied: requests in /usr/local/lib/python3.7/dist-packages (from transformers==2.2.0) (2.23.0)\n",
            "Collecting boto3\n",
            "\u001b[?25l  Downloading https://files.pythonhosted.org/packages/9b/e5/96f7156e6ebf7ab992471479c3c55f0be2f31360fcdcac21aa6f782c036a/boto3-1.17.57-py2.py3-none-any.whl (131kB)\n",
            "\u001b[K     |████████████████████████████████| 133kB 28.4MB/s \n",
            "\u001b[?25hCollecting sentencepiece\n",
            "\u001b[?25l  Downloading https://files.pythonhosted.org/packages/f5/99/e0808cb947ba10f575839c43e8fafc9cc44e4a7a2c8f79c60db48220a577/sentencepiece-0.1.95-cp37-cp37m-manylinux2014_x86_64.whl (1.2MB)\n",
            "\u001b[K     |████████████████████████████████| 1.2MB 21.4MB/s \n",
            "\u001b[?25hRequirement already satisfied: six in /usr/local/lib/python3.7/dist-packages (from sacremoses->transformers==2.2.0) (1.15.0)\n",
            "Requirement already satisfied: click in /usr/local/lib/python3.7/dist-packages (from sacremoses->transformers==2.2.0) (7.1.2)\n",
            "Requirement already satisfied: joblib in /usr/local/lib/python3.7/dist-packages (from sacremoses->transformers==2.2.0) (1.0.1)\n",
            "Requirement already satisfied: certifi>=2017.4.17 in /usr/local/lib/python3.7/dist-packages (from requests->transformers==2.2.0) (2020.12.5)\n",
            "Requirement already satisfied: idna<3,>=2.5 in /usr/local/lib/python3.7/dist-packages (from requests->transformers==2.2.0) (2.10)\n",
            "Requirement already satisfied: urllib3!=1.25.0,!=1.25.1,<1.26,>=1.21.1 in /usr/local/lib/python3.7/dist-packages (from requests->transformers==2.2.0) (1.24.3)\n",
            "Requirement already satisfied: chardet<4,>=3.0.2 in /usr/local/lib/python3.7/dist-packages (from requests->transformers==2.2.0) (3.0.4)\n",
            "Collecting s3transfer<0.5.0,>=0.4.0\n",
            "\u001b[?25l  Downloading https://files.pythonhosted.org/packages/63/d0/693477c688348654ddc21dcdce0817653a294aa43f41771084c25e7ff9c7/s3transfer-0.4.2-py2.py3-none-any.whl (79kB)\n",
            "\u001b[K     |████████████████████████████████| 81kB 10.9MB/s \n",
            "\u001b[?25hCollecting botocore<1.21.0,>=1.20.57\n",
            "\u001b[?25l  Downloading https://files.pythonhosted.org/packages/94/52/aa266c9594e279799ded419caac56365796ce686b97762b9c8620b2ba988/botocore-1.20.57-py2.py3-none-any.whl (7.4MB)\n",
            "\u001b[K     |████████████████████████████████| 7.4MB 29.0MB/s \n",
            "\u001b[?25hCollecting jmespath<1.0.0,>=0.7.1\n",
            "  Downloading https://files.pythonhosted.org/packages/07/cb/5f001272b6faeb23c1c9e0acc04d48eaaf5c862c17709d20e3469c6e0139/jmespath-0.10.0-py2.py3-none-any.whl\n",
            "Requirement already satisfied: python-dateutil<3.0.0,>=2.1 in /usr/local/lib/python3.7/dist-packages (from botocore<1.21.0,>=1.20.57->boto3->transformers==2.2.0) (2.8.1)\n",
            "\u001b[31mERROR: botocore 1.20.57 has requirement urllib3<1.27,>=1.25.4, but you'll have urllib3 1.24.3 which is incompatible.\u001b[0m\n",
            "Installing collected packages: sacremoses, jmespath, botocore, s3transfer, boto3, sentencepiece, transformers\n",
            "Successfully installed boto3-1.17.57 botocore-1.20.57 jmespath-0.10.0 s3transfer-0.4.2 sacremoses-0.0.45 sentencepiece-0.1.95 transformers-2.2.0\n"
          ],
          "name": "stdout"
        }
      ]
    },
    {
      "cell_type": "code",
      "metadata": {
        "id": "dpQEl_lsQJ1b",
        "outputId": "b5a111e9-eb37-4b30-cdd9-3eaa78edce44",
        "colab": {
          "base_uri": "https://localhost:8080/"
        }
      },
      "source": [
        "!pip install urllib3==1.25.4 "
      ],
      "execution_count": 3,
      "outputs": [
        {
          "output_type": "stream",
          "text": [
            "Collecting urllib3==1.25.4\n",
            "\u001b[?25l  Downloading https://files.pythonhosted.org/packages/91/0d/7777358f672a14b7ae0dfcd29f949f409f913e0578190d6bfa68eb55864b/urllib3-1.25.4-py2.py3-none-any.whl (125kB)\n",
            "\r\u001b[K     |██▋                             | 10kB 18.2MB/s eta 0:00:01\r\u001b[K     |█████▏                          | 20kB 18.8MB/s eta 0:00:01\r\u001b[K     |███████▉                        | 30kB 10.1MB/s eta 0:00:01\r\u001b[K     |██████████▍                     | 40kB 5.3MB/s eta 0:00:01\r\u001b[K     |█████████████                   | 51kB 6.4MB/s eta 0:00:01\r\u001b[K     |███████████████▋                | 61kB 7.5MB/s eta 0:00:01\r\u001b[K     |██████████████████▎             | 71kB 8.1MB/s eta 0:00:01\r\u001b[K     |████████████████████▉           | 81kB 8.3MB/s eta 0:00:01\r\u001b[K     |███████████████████████▌        | 92kB 8.2MB/s eta 0:00:01\r\u001b[K     |██████████████████████████      | 102kB 6.9MB/s eta 0:00:01\r\u001b[K     |████████████████████████████▊   | 112kB 6.9MB/s eta 0:00:01\r\u001b[K     |███████████████████████████████▎| 122kB 6.9MB/s eta 0:00:01\r\u001b[K     |████████████████████████████████| 133kB 6.9MB/s \n",
            "\u001b[31mERROR: datascience 0.10.6 has requirement folium==0.2.1, but you'll have folium 0.8.3 which is incompatible.\u001b[0m\n",
            "\u001b[?25hInstalling collected packages: urllib3\n",
            "  Found existing installation: urllib3 1.24.3\n",
            "    Uninstalling urllib3-1.24.3:\n",
            "      Successfully uninstalled urllib3-1.24.3\n",
            "Successfully installed urllib3-1.25.4\n"
          ],
          "name": "stdout"
        }
      ]
    },
    {
      "cell_type": "code",
      "metadata": {
        "id": "tnbdGN4qQX0a",
        "outputId": "6b461aa8-d0e7-40a2-8735-3bf5ab0911c7",
        "colab": {
          "base_uri": "https://localhost:8080/"
        }
      },
      "source": [
        "!pip install folium==0.2.1"
      ],
      "execution_count": 4,
      "outputs": [
        {
          "output_type": "stream",
          "text": [
            "Collecting folium==0.2.1\n",
            "\u001b[?25l  Downloading https://files.pythonhosted.org/packages/72/dd/75ced7437bfa7cb9a88b96ee0177953062803c3b4cde411a97d98c35adaf/folium-0.2.1.tar.gz (69kB)\n",
            "\r\u001b[K     |████▊                           | 10kB 17.4MB/s eta 0:00:01\r\u001b[K     |█████████▍                      | 20kB 21.9MB/s eta 0:00:01\r\u001b[K     |██████████████                  | 30kB 12.0MB/s eta 0:00:01\r\u001b[K     |██████████████████▊             | 40kB 10.1MB/s eta 0:00:01\r\u001b[K     |███████████████████████▍        | 51kB 8.0MB/s eta 0:00:01\r\u001b[K     |████████████████████████████    | 61kB 8.1MB/s eta 0:00:01\r\u001b[K     |████████████████████████████████| 71kB 5.3MB/s \n",
            "\u001b[?25hRequirement already satisfied: Jinja2 in /usr/local/lib/python3.7/dist-packages (from folium==0.2.1) (2.11.3)\n",
            "Requirement already satisfied: MarkupSafe>=0.23 in /usr/local/lib/python3.7/dist-packages (from Jinja2->folium==0.2.1) (1.1.1)\n",
            "Building wheels for collected packages: folium\n",
            "  Building wheel for folium (setup.py) ... \u001b[?25l\u001b[?25hdone\n",
            "  Created wheel for folium: filename=folium-0.2.1-cp37-none-any.whl size=79979 sha256=0443143271c1de7392288764769aa23cb1acc4a993f39a28b2563b9bcbe2b939\n",
            "  Stored in directory: /root/.cache/pip/wheels/b8/09/f0/52d2ef419c2aaf4fb149f92a33e0008bdce7ae816f0dd8f0c5\n",
            "Successfully built folium\n",
            "Installing collected packages: folium\n",
            "  Found existing installation: folium 0.8.3\n",
            "    Uninstalling folium-0.8.3:\n",
            "      Successfully uninstalled folium-0.8.3\n",
            "Successfully installed folium-0.2.1\n"
          ],
          "name": "stdout"
        }
      ]
    },
    {
      "cell_type": "code",
      "metadata": {
        "id": "yxJGxZjmnJ4q",
        "outputId": "bea9de2f-1834-4c5c-a539-9a5833d506d4",
        "colab": {
          "base_uri": "https://localhost:8080/"
        }
      },
      "source": [
        "!pip install transformers"
      ],
      "execution_count": 8,
      "outputs": [
        {
          "output_type": "stream",
          "text": [
            "Requirement already satisfied: transformers in /usr/local/lib/python3.7/dist-packages (2.2.0)\n",
            "Requirement already satisfied: tqdm in /usr/local/lib/python3.7/dist-packages (from transformers) (4.41.1)\n",
            "Requirement already satisfied: sentencepiece in /usr/local/lib/python3.7/dist-packages (from transformers) (0.1.95)\n",
            "Requirement already satisfied: requests in /usr/local/lib/python3.7/dist-packages (from transformers) (2.23.0)\n",
            "Requirement already satisfied: sacremoses in /usr/local/lib/python3.7/dist-packages (from transformers) (0.0.45)\n",
            "Requirement already satisfied: numpy in /usr/local/lib/python3.7/dist-packages (from transformers) (1.19.5)\n",
            "Requirement already satisfied: regex in /usr/local/lib/python3.7/dist-packages (from transformers) (2019.12.20)\n",
            "Requirement already satisfied: boto3 in /usr/local/lib/python3.7/dist-packages (from transformers) (1.17.57)\n",
            "Requirement already satisfied: certifi>=2017.4.17 in /usr/local/lib/python3.7/dist-packages (from requests->transformers) (2020.12.5)\n",
            "Requirement already satisfied: urllib3!=1.25.0,!=1.25.1,<1.26,>=1.21.1 in /usr/local/lib/python3.7/dist-packages (from requests->transformers) (1.25.4)\n",
            "Requirement already satisfied: chardet<4,>=3.0.2 in /usr/local/lib/python3.7/dist-packages (from requests->transformers) (3.0.4)\n",
            "Requirement already satisfied: idna<3,>=2.5 in /usr/local/lib/python3.7/dist-packages (from requests->transformers) (2.10)\n",
            "Requirement already satisfied: six in /usr/local/lib/python3.7/dist-packages (from sacremoses->transformers) (1.15.0)\n",
            "Requirement already satisfied: joblib in /usr/local/lib/python3.7/dist-packages (from sacremoses->transformers) (1.0.1)\n",
            "Requirement already satisfied: click in /usr/local/lib/python3.7/dist-packages (from sacremoses->transformers) (7.1.2)\n",
            "Requirement already satisfied: jmespath<1.0.0,>=0.7.1 in /usr/local/lib/python3.7/dist-packages (from boto3->transformers) (0.10.0)\n",
            "Requirement already satisfied: botocore<1.21.0,>=1.20.57 in /usr/local/lib/python3.7/dist-packages (from boto3->transformers) (1.20.57)\n",
            "Requirement already satisfied: s3transfer<0.5.0,>=0.4.0 in /usr/local/lib/python3.7/dist-packages (from boto3->transformers) (0.4.2)\n",
            "Requirement already satisfied: python-dateutil<3.0.0,>=2.1 in /usr/local/lib/python3.7/dist-packages (from botocore<1.21.0,>=1.20.57->boto3->transformers) (2.8.1)\n"
          ],
          "name": "stdout"
        }
      ]
    },
    {
      "cell_type": "code",
      "metadata": {
        "id": "oAHmPJh6m8ZA",
        "outputId": "b2d6b900-0b75-428b-f2ca-22680dbeb67c",
        "colab": {
          "base_uri": "https://localhost:8080/",
          "height": 322
        }
      },
      "source": [
        "from transformers import pipeline"
      ],
      "execution_count": 11,
      "outputs": [
        {
          "output_type": "error",
          "ename": "ImportError",
          "evalue": "ignored",
          "traceback": [
            "\u001b[0;31m---------------------------------------------------------------------------\u001b[0m",
            "\u001b[0;31mImportError\u001b[0m                               Traceback (most recent call last)",
            "\u001b[0;32m<ipython-input-11-69a9fd07ccac>\u001b[0m in \u001b[0;36m<module>\u001b[0;34m()\u001b[0m\n\u001b[0;32m----> 1\u001b[0;31m \u001b[0;32mfrom\u001b[0m \u001b[0mtransformers\u001b[0m \u001b[0;32mimport\u001b[0m \u001b[0mpipeline\u001b[0m\u001b[0;34m\u001b[0m\u001b[0;34m\u001b[0m\u001b[0m\n\u001b[0m",
            "\u001b[0;31mImportError\u001b[0m: cannot import name 'pipeline' from 'transformers' (/usr/local/lib/python3.7/dist-packages/transformers/__init__.py)",
            "",
            "\u001b[0;31m---------------------------------------------------------------------------\u001b[0;32m\nNOTE: If your import is failing due to a missing package, you can\nmanually install dependencies using either !pip or !apt.\n\nTo view examples of installing some common dependencies, click the\n\"Open Examples\" button below.\n\u001b[0;31m---------------------------------------------------------------------------\u001b[0m\n"
          ]
        }
      ]
    },
    {
      "cell_type": "code",
      "metadata": {
        "id": "vJKpfM8Tlacj",
        "outputId": "fe4dc945-e985-4b0f-b3d7-805141289345",
        "colab": {
          "base_uri": "https://localhost:8080/",
          "height": 305
        }
      },
      "source": [
        "from summarizer import Summarizer,TransformerSummarizer"
      ],
      "execution_count": 6,
      "outputs": [
        {
          "output_type": "error",
          "ename": "ModuleNotFoundError",
          "evalue": "ignored",
          "traceback": [
            "\u001b[0;31m---------------------------------------------------------------------------\u001b[0m",
            "\u001b[0;31mModuleNotFoundError\u001b[0m                       Traceback (most recent call last)",
            "\u001b[0;32m<ipython-input-6-7cb8f3f2ef0d>\u001b[0m in \u001b[0;36m<module>\u001b[0;34m()\u001b[0m\n\u001b[0;32m----> 1\u001b[0;31m \u001b[0;32mfrom\u001b[0m \u001b[0msummarizer\u001b[0m \u001b[0;32mimport\u001b[0m \u001b[0mSummarizer\u001b[0m\u001b[0;34m,\u001b[0m\u001b[0mTransformerSummarizer\u001b[0m\u001b[0;34m\u001b[0m\u001b[0;34m\u001b[0m\u001b[0m\n\u001b[0m",
            "\u001b[0;31mModuleNotFoundError\u001b[0m: No module named 'summarizer'",
            "",
            "\u001b[0;31m---------------------------------------------------------------------------\u001b[0;32m\nNOTE: If your import is failing due to a missing package, you can\nmanually install dependencies using either !pip or !apt.\n\nTo view examples of installing some common dependencies, click the\n\"Open Examples\" button below.\n\u001b[0;31m---------------------------------------------------------------------------\u001b[0m\n"
          ]
        }
      ]
    },
    {
      "cell_type": "code",
      "metadata": {
        "id": "wlZb0kZSQlmp",
        "outputId": "8e4af20a-1f13-4ca4-8a6b-459143ab6ede",
        "colab": {
          "base_uri": "https://localhost:8080/",
          "height": 166
        }
      },
      "source": [
        "model = TransformerSummarizer(transformer_type=\"XLNet\",transformer_model_key=\"xlnet-base-cased\")"
      ],
      "execution_count": 5,
      "outputs": [
        {
          "output_type": "error",
          "ename": "NameError",
          "evalue": "ignored",
          "traceback": [
            "\u001b[0;31m---------------------------------------------------------------------------\u001b[0m",
            "\u001b[0;31mNameError\u001b[0m                                 Traceback (most recent call last)",
            "\u001b[0;32m<ipython-input-5-760e9cf2b35a>\u001b[0m in \u001b[0;36m<module>\u001b[0;34m()\u001b[0m\n\u001b[0;32m----> 1\u001b[0;31m \u001b[0mmodel\u001b[0m \u001b[0;34m=\u001b[0m \u001b[0mTransformerSummarizer\u001b[0m\u001b[0;34m(\u001b[0m\u001b[0mtransformer_type\u001b[0m\u001b[0;34m=\u001b[0m\u001b[0;34m\"XLNet\"\u001b[0m\u001b[0;34m,\u001b[0m\u001b[0mtransformer_model_key\u001b[0m\u001b[0;34m=\u001b[0m\u001b[0;34m\"xlnet-base-cased\"\u001b[0m\u001b[0;34m)\u001b[0m\u001b[0;34m\u001b[0m\u001b[0;34m\u001b[0m\u001b[0m\n\u001b[0m",
            "\u001b[0;31mNameError\u001b[0m: name 'TransformerSummarizer' is not defined"
          ]
        }
      ]
    },
    {
      "cell_type": "code",
      "metadata": {
        "id": "4kEFMgn2lOId",
        "outputId": "c9d068f0-0229-4c60-8cbb-5b2b35a17361",
        "colab": {
          "base_uri": "https://localhost:8080/"
        }
      },
      "source": [
        "import nltk\n",
        "nltk.download('punkt')\n",
        "nltk.download('stopwords')"
      ],
      "execution_count": 1,
      "outputs": [
        {
          "output_type": "stream",
          "text": [
            "[nltk_data] Downloading package punkt to /root/nltk_data...\n",
            "[nltk_data]   Unzipping tokenizers/punkt.zip.\n",
            "[nltk_data] Downloading package stopwords to /root/nltk_data...\n",
            "[nltk_data]   Unzipping corpora/stopwords.zip.\n"
          ],
          "name": "stdout"
        },
        {
          "output_type": "execute_result",
          "data": {
            "text/plain": [
              "True"
            ]
          },
          "metadata": {
            "tags": []
          },
          "execution_count": 1
        }
      ]
    },
    {
      "cell_type": "code",
      "metadata": {
        "id": "ppizQQdVAi-b"
      },
      "source": [
        "DOCUMENT = \"\"\"\n",
        "Agent: Thank you for Calling, Rocket Speed Internet. My name is JERRY, May I please have your Phone or Account Number? Customer: I'm sorry, can you please, repeat yourself?\n",
        "Agent: I'm sorry, can you hear me OK now? I was asking you, about your Phone or Account Number?\n",
        "Customer: Well, before I give you my account information, I just wanna let you know that I'm really pissed.  I can't access my email for almost a week now. I'm paying you guys lots of money, and you can't even provide a decent service. What's wrong with you people? YOURSERVICE SUCKS!!!\n",
        "Agent: I'm really sorry for the inconvenience, I would probably feel the same way if I'm in your situation. But, don't worry, I promise you that we'll get your issue resolved. Let me get first your account number so we can check your account, would that be ok?!\n",
        "Customer: Sure, my account number is 860-995-****. Agent: Got it, may I please verify the name on the account?\n",
        "Customer: It's Robert W. Smith, I am the account holder.Agent: Can we call you back at the same number, or do you have a better call back number?\n",
        "Customer: I'm sorry, I'm having a hard time hearing, can you please, repeat yourself?\n",
        "Agent: Sure, I was just asking you, if we can call you at the same number you gave me, or if you have a better call back number?\n",
        "Customer: Yes, that's a good call back number.\n",
        "Agent: Ok, based on our test results, it shows here that you are not getting a DSL signal, that's why you can't get online or check your email. We can actually fix this problem over the phone, but, I will need to walk you through on some steps, would that be ok?\n",
        "Customer: I've gone through the steps, believe me, I've checked everything before calling you! Agent: Oh, that's good then, but, can you at least, check for me which lights are lit up on your modem.\n",
        "Customer: Fine! I have Power and Ethernet lights green on my modem. But, the 3rd light is flashing red, which is the DSL light. Are you happy now?\n",
        "Agent: Thank you for your patience! As you could notice, the DSL light is flashing red on your modem. That means that you are not getting any dsl signal. The good thing is, based on our initial test results here, we do not have network problems or outages in your area. That means, we might be able to fix the problem over the phone!\n",
        "Customer: Well, that's good then, I'll be a happy camper!\n",
        "Agent: You might have already checked on it. But, since we have the DSL light flashing red on your modem, it's telling you right away that there could be something wrong on the DSL line. It's the gray phone cord at the back part of the modem.\n",
        "Customer: It's right behind my desk, do you want me to crawl down the floor again?\n",
        "Agent: Well, If I send someone out, and they find out that there's just a loose phone cord, then, you will get charge for the dispatch. So, we want to resolve the problem over the phone, so we could avoid dispatch charges. It will also save your time, that's all we need to check.\n",
        "Customer: Ok, but, this is the last step that I'll do. Don't hang up.Agent: Don't worry, I won't hang up on you.\n",
        "Customer: Oh my goodness, the gray phone cord was just loose, let me plug that in...  Oh my, there's now a steady green light on the DSL light of the modem, let me just try now the Internet!\n",
        "Agent: Wow, that's good to know. Let's just see if you can now get online, before we hang up. Can you try one or two more websites?\n",
        "Customer: Jerry, you are a miracle worker! Thank you so much! \"\"\""
      ],
      "execution_count": 58,
      "outputs": []
    },
    {
      "cell_type": "code",
      "metadata": {
        "id": "UIhB9ma7A5qd"
      },
      "source": [
        "import re\n",
        "\n",
        "DOCUMENT = re.sub(r'\\n|\\r', ' ', DOCUMENT)\n",
        "DOCUMENT = re.sub(r' +', ' ', DOCUMENT)\n",
        "DOCUMENT = DOCUMENT.strip()"
      ],
      "execution_count": 59,
      "outputs": []
    },
    {
      "cell_type": "code",
      "metadata": {
        "id": "TaWaxXq9A7QB",
        "outputId": "3fbbf444-9efa-492c-d81b-9acc7a141ad9",
        "colab": {
          "base_uri": "https://localhost:8080/"
        }
      },
      "source": [
        "!pip install transformers==2.11.0\n",
        "!pip install bert-extractive-summarizer"
      ],
      "execution_count": 4,
      "outputs": [
        {
          "output_type": "stream",
          "text": [
            "Collecting transformers==2.11.0\n",
            "\u001b[?25l  Downloading https://files.pythonhosted.org/packages/48/35/ad2c5b1b8f99feaaf9d7cdadaeef261f098c6e1a6a2935d4d07662a6b780/transformers-2.11.0-py3-none-any.whl (674kB)\n",
            "\r\u001b[K     |▌                               | 10kB 16.6MB/s eta 0:00:01\r\u001b[K     |█                               | 20kB 20.8MB/s eta 0:00:01\r\u001b[K     |█▌                              | 30kB 10.0MB/s eta 0:00:01\r\u001b[K     |██                              | 40kB 8.2MB/s eta 0:00:01\r\u001b[K     |██▍                             | 51kB 4.2MB/s eta 0:00:01\r\u001b[K     |███                             | 61kB 4.5MB/s eta 0:00:01\r\u001b[K     |███▍                            | 71kB 4.8MB/s eta 0:00:01\r\u001b[K     |███▉                            | 81kB 5.1MB/s eta 0:00:01\r\u001b[K     |████▍                           | 92kB 5.5MB/s eta 0:00:01\r\u001b[K     |████▉                           | 102kB 4.1MB/s eta 0:00:01\r\u001b[K     |█████▍                          | 112kB 4.1MB/s eta 0:00:01\r\u001b[K     |█████▉                          | 122kB 4.1MB/s eta 0:00:01\r\u001b[K     |██████▎                         | 133kB 4.1MB/s eta 0:00:01\r\u001b[K     |██████▉                         | 143kB 4.1MB/s eta 0:00:01\r\u001b[K     |███████▎                        | 153kB 4.1MB/s eta 0:00:01\r\u001b[K     |███████▊                        | 163kB 4.1MB/s eta 0:00:01\r\u001b[K     |████████▎                       | 174kB 4.1MB/s eta 0:00:01\r\u001b[K     |████████▊                       | 184kB 4.1MB/s eta 0:00:01\r\u001b[K     |█████████▎                      | 194kB 4.1MB/s eta 0:00:01\r\u001b[K     |█████████▊                      | 204kB 4.1MB/s eta 0:00:01\r\u001b[K     |██████████▏                     | 215kB 4.1MB/s eta 0:00:01\r\u001b[K     |██████████▊                     | 225kB 4.1MB/s eta 0:00:01\r\u001b[K     |███████████▏                    | 235kB 4.1MB/s eta 0:00:01\r\u001b[K     |███████████▋                    | 245kB 4.1MB/s eta 0:00:01\r\u001b[K     |████████████▏                   | 256kB 4.1MB/s eta 0:00:01\r\u001b[K     |████████████▋                   | 266kB 4.1MB/s eta 0:00:01\r\u001b[K     |█████████████                   | 276kB 4.1MB/s eta 0:00:01\r\u001b[K     |█████████████▋                  | 286kB 4.1MB/s eta 0:00:01\r\u001b[K     |██████████████                  | 296kB 4.1MB/s eta 0:00:01\r\u001b[K     |██████████████▋                 | 307kB 4.1MB/s eta 0:00:01\r\u001b[K     |███████████████                 | 317kB 4.1MB/s eta 0:00:01\r\u001b[K     |███████████████▌                | 327kB 4.1MB/s eta 0:00:01\r\u001b[K     |████████████████                | 337kB 4.1MB/s eta 0:00:01\r\u001b[K     |████████████████▌               | 348kB 4.1MB/s eta 0:00:01\r\u001b[K     |█████████████████               | 358kB 4.1MB/s eta 0:00:01\r\u001b[K     |█████████████████▌              | 368kB 4.1MB/s eta 0:00:01\r\u001b[K     |██████████████████              | 378kB 4.1MB/s eta 0:00:01\r\u001b[K     |██████████████████▌             | 389kB 4.1MB/s eta 0:00:01\r\u001b[K     |███████████████████             | 399kB 4.1MB/s eta 0:00:01\r\u001b[K     |███████████████████▍            | 409kB 4.1MB/s eta 0:00:01\r\u001b[K     |████████████████████            | 419kB 4.1MB/s eta 0:00:01\r\u001b[K     |████████████████████▍           | 430kB 4.1MB/s eta 0:00:01\r\u001b[K     |████████████████████▉           | 440kB 4.1MB/s eta 0:00:01\r\u001b[K     |█████████████████████▍          | 450kB 4.1MB/s eta 0:00:01\r\u001b[K     |█████████████████████▉          | 460kB 4.1MB/s eta 0:00:01\r\u001b[K     |██████████████████████▍         | 471kB 4.1MB/s eta 0:00:01\r\u001b[K     |██████████████████████▉         | 481kB 4.1MB/s eta 0:00:01\r\u001b[K     |███████████████████████▎        | 491kB 4.1MB/s eta 0:00:01\r\u001b[K     |███████████████████████▉        | 501kB 4.1MB/s eta 0:00:01\r\u001b[K     |████████████████████████▎       | 512kB 4.1MB/s eta 0:00:01\r\u001b[K     |████████████████████████▊       | 522kB 4.1MB/s eta 0:00:01\r\u001b[K     |█████████████████████████▎      | 532kB 4.1MB/s eta 0:00:01\r\u001b[K     |█████████████████████████▊      | 542kB 4.1MB/s eta 0:00:01\r\u001b[K     |██████████████████████████▏     | 552kB 4.1MB/s eta 0:00:01\r\u001b[K     |██████████████████████████▊     | 563kB 4.1MB/s eta 0:00:01\r\u001b[K     |███████████████████████████▏    | 573kB 4.1MB/s eta 0:00:01\r\u001b[K     |███████████████████████████▊    | 583kB 4.1MB/s eta 0:00:01\r\u001b[K     |████████████████████████████▏   | 593kB 4.1MB/s eta 0:00:01\r\u001b[K     |████████████████████████████▋   | 604kB 4.1MB/s eta 0:00:01\r\u001b[K     |█████████████████████████████▏  | 614kB 4.1MB/s eta 0:00:01\r\u001b[K     |█████████████████████████████▋  | 624kB 4.1MB/s eta 0:00:01\r\u001b[K     |██████████████████████████████  | 634kB 4.1MB/s eta 0:00:01\r\u001b[K     |██████████████████████████████▋ | 645kB 4.1MB/s eta 0:00:01\r\u001b[K     |███████████████████████████████ | 655kB 4.1MB/s eta 0:00:01\r\u001b[K     |███████████████████████████████▋| 665kB 4.1MB/s eta 0:00:01\r\u001b[K     |████████████████████████████████| 675kB 4.1MB/s \n",
            "\u001b[?25hRequirement already satisfied: filelock in /usr/local/lib/python3.7/dist-packages (from transformers==2.11.0) (3.0.12)\n",
            "Requirement already satisfied: requests in /usr/local/lib/python3.7/dist-packages (from transformers==2.11.0) (2.23.0)\n",
            "Collecting tokenizers==0.7.0\n",
            "\u001b[?25l  Downloading https://files.pythonhosted.org/packages/ea/59/bb06dd5ca53547d523422d32735585493e0103c992a52a97ba3aa3be33bf/tokenizers-0.7.0-cp37-cp37m-manylinux1_x86_64.whl (5.6MB)\n",
            "\u001b[K     |████████████████████████████████| 5.6MB 15.9MB/s \n",
            "\u001b[?25hRequirement already satisfied: tqdm>=4.27 in /usr/local/lib/python3.7/dist-packages (from transformers==2.11.0) (4.41.1)\n",
            "Requirement already satisfied: regex!=2019.12.17 in /usr/local/lib/python3.7/dist-packages (from transformers==2.11.0) (2019.12.20)\n",
            "Requirement already satisfied: numpy in /usr/local/lib/python3.7/dist-packages (from transformers==2.11.0) (1.19.5)\n",
            "Requirement already satisfied: packaging in /usr/local/lib/python3.7/dist-packages (from transformers==2.11.0) (20.9)\n",
            "Collecting sentencepiece\n",
            "\u001b[?25l  Downloading https://files.pythonhosted.org/packages/f5/99/e0808cb947ba10f575839c43e8fafc9cc44e4a7a2c8f79c60db48220a577/sentencepiece-0.1.95-cp37-cp37m-manylinux2014_x86_64.whl (1.2MB)\n",
            "\u001b[K     |████████████████████████████████| 1.2MB 15.3MB/s \n",
            "\u001b[?25hCollecting sacremoses\n",
            "\u001b[?25l  Downloading https://files.pythonhosted.org/packages/75/ee/67241dc87f266093c533a2d4d3d69438e57d7a90abb216fa076e7d475d4a/sacremoses-0.0.45-py3-none-any.whl (895kB)\n",
            "\u001b[K     |████████████████████████████████| 901kB 26.6MB/s \n",
            "\u001b[?25hRequirement already satisfied: idna<3,>=2.5 in /usr/local/lib/python3.7/dist-packages (from requests->transformers==2.11.0) (2.10)\n",
            "Requirement already satisfied: chardet<4,>=3.0.2 in /usr/local/lib/python3.7/dist-packages (from requests->transformers==2.11.0) (3.0.4)\n",
            "Requirement already satisfied: certifi>=2017.4.17 in /usr/local/lib/python3.7/dist-packages (from requests->transformers==2.11.0) (2020.12.5)\n",
            "Requirement already satisfied: urllib3!=1.25.0,!=1.25.1,<1.26,>=1.21.1 in /usr/local/lib/python3.7/dist-packages (from requests->transformers==2.11.0) (1.24.3)\n",
            "Requirement already satisfied: pyparsing>=2.0.2 in /usr/local/lib/python3.7/dist-packages (from packaging->transformers==2.11.0) (2.4.7)\n",
            "Requirement already satisfied: joblib in /usr/local/lib/python3.7/dist-packages (from sacremoses->transformers==2.11.0) (1.0.1)\n",
            "Requirement already satisfied: click in /usr/local/lib/python3.7/dist-packages (from sacremoses->transformers==2.11.0) (7.1.2)\n",
            "Requirement already satisfied: six in /usr/local/lib/python3.7/dist-packages (from sacremoses->transformers==2.11.0) (1.15.0)\n",
            "Installing collected packages: tokenizers, sentencepiece, sacremoses, transformers\n",
            "Successfully installed sacremoses-0.0.45 sentencepiece-0.1.95 tokenizers-0.7.0 transformers-2.11.0\n",
            "Collecting bert-extractive-summarizer\n",
            "  Downloading https://files.pythonhosted.org/packages/1a/07/fdb05f9e18b6f641499ef56737126fbd2fafe1cdc1a04ba069d5aa205901/bert_extractive_summarizer-0.7.1-py3-none-any.whl\n",
            "Requirement already satisfied: scikit-learn in /usr/local/lib/python3.7/dist-packages (from bert-extractive-summarizer) (0.22.2.post1)\n",
            "Requirement already satisfied: spacy in /usr/local/lib/python3.7/dist-packages (from bert-extractive-summarizer) (2.2.4)\n",
            "Requirement already satisfied: transformers in /usr/local/lib/python3.7/dist-packages (from bert-extractive-summarizer) (2.11.0)\n",
            "Requirement already satisfied: joblib>=0.11 in /usr/local/lib/python3.7/dist-packages (from scikit-learn->bert-extractive-summarizer) (1.0.1)\n",
            "Requirement already satisfied: scipy>=0.17.0 in /usr/local/lib/python3.7/dist-packages (from scikit-learn->bert-extractive-summarizer) (1.4.1)\n",
            "Requirement already satisfied: numpy>=1.11.0 in /usr/local/lib/python3.7/dist-packages (from scikit-learn->bert-extractive-summarizer) (1.19.5)\n",
            "Requirement already satisfied: tqdm<5.0.0,>=4.38.0 in /usr/local/lib/python3.7/dist-packages (from spacy->bert-extractive-summarizer) (4.41.1)\n",
            "Requirement already satisfied: wasabi<1.1.0,>=0.4.0 in /usr/local/lib/python3.7/dist-packages (from spacy->bert-extractive-summarizer) (0.8.2)\n",
            "Requirement already satisfied: preshed<3.1.0,>=3.0.2 in /usr/local/lib/python3.7/dist-packages (from spacy->bert-extractive-summarizer) (3.0.5)\n",
            "Requirement already satisfied: catalogue<1.1.0,>=0.0.7 in /usr/local/lib/python3.7/dist-packages (from spacy->bert-extractive-summarizer) (1.0.0)\n",
            "Requirement already satisfied: plac<1.2.0,>=0.9.6 in /usr/local/lib/python3.7/dist-packages (from spacy->bert-extractive-summarizer) (1.1.3)\n",
            "Requirement already satisfied: setuptools in /usr/local/lib/python3.7/dist-packages (from spacy->bert-extractive-summarizer) (56.0.0)\n",
            "Requirement already satisfied: murmurhash<1.1.0,>=0.28.0 in /usr/local/lib/python3.7/dist-packages (from spacy->bert-extractive-summarizer) (1.0.5)\n",
            "Requirement already satisfied: cymem<2.1.0,>=2.0.2 in /usr/local/lib/python3.7/dist-packages (from spacy->bert-extractive-summarizer) (2.0.5)\n",
            "Requirement already satisfied: thinc==7.4.0 in /usr/local/lib/python3.7/dist-packages (from spacy->bert-extractive-summarizer) (7.4.0)\n",
            "Requirement already satisfied: requests<3.0.0,>=2.13.0 in /usr/local/lib/python3.7/dist-packages (from spacy->bert-extractive-summarizer) (2.23.0)\n",
            "Requirement already satisfied: srsly<1.1.0,>=1.0.2 in /usr/local/lib/python3.7/dist-packages (from spacy->bert-extractive-summarizer) (1.0.5)\n",
            "Requirement already satisfied: blis<0.5.0,>=0.4.0 in /usr/local/lib/python3.7/dist-packages (from spacy->bert-extractive-summarizer) (0.4.1)\n",
            "Requirement already satisfied: sacremoses in /usr/local/lib/python3.7/dist-packages (from transformers->bert-extractive-summarizer) (0.0.45)\n",
            "Requirement already satisfied: sentencepiece in /usr/local/lib/python3.7/dist-packages (from transformers->bert-extractive-summarizer) (0.1.95)\n",
            "Requirement already satisfied: regex!=2019.12.17 in /usr/local/lib/python3.7/dist-packages (from transformers->bert-extractive-summarizer) (2019.12.20)\n",
            "Requirement already satisfied: packaging in /usr/local/lib/python3.7/dist-packages (from transformers->bert-extractive-summarizer) (20.9)\n",
            "Requirement already satisfied: tokenizers==0.7.0 in /usr/local/lib/python3.7/dist-packages (from transformers->bert-extractive-summarizer) (0.7.0)\n",
            "Requirement already satisfied: filelock in /usr/local/lib/python3.7/dist-packages (from transformers->bert-extractive-summarizer) (3.0.12)\n",
            "Requirement already satisfied: importlib-metadata>=0.20; python_version < \"3.8\" in /usr/local/lib/python3.7/dist-packages (from catalogue<1.1.0,>=0.0.7->spacy->bert-extractive-summarizer) (3.10.1)\n",
            "Requirement already satisfied: urllib3!=1.25.0,!=1.25.1,<1.26,>=1.21.1 in /usr/local/lib/python3.7/dist-packages (from requests<3.0.0,>=2.13.0->spacy->bert-extractive-summarizer) (1.24.3)\n",
            "Requirement already satisfied: idna<3,>=2.5 in /usr/local/lib/python3.7/dist-packages (from requests<3.0.0,>=2.13.0->spacy->bert-extractive-summarizer) (2.10)\n",
            "Requirement already satisfied: certifi>=2017.4.17 in /usr/local/lib/python3.7/dist-packages (from requests<3.0.0,>=2.13.0->spacy->bert-extractive-summarizer) (2020.12.5)\n",
            "Requirement already satisfied: chardet<4,>=3.0.2 in /usr/local/lib/python3.7/dist-packages (from requests<3.0.0,>=2.13.0->spacy->bert-extractive-summarizer) (3.0.4)\n",
            "Requirement already satisfied: click in /usr/local/lib/python3.7/dist-packages (from sacremoses->transformers->bert-extractive-summarizer) (7.1.2)\n",
            "Requirement already satisfied: six in /usr/local/lib/python3.7/dist-packages (from sacremoses->transformers->bert-extractive-summarizer) (1.15.0)\n",
            "Requirement already satisfied: pyparsing>=2.0.2 in /usr/local/lib/python3.7/dist-packages (from packaging->transformers->bert-extractive-summarizer) (2.4.7)\n",
            "Requirement already satisfied: zipp>=0.5 in /usr/local/lib/python3.7/dist-packages (from importlib-metadata>=0.20; python_version < \"3.8\"->catalogue<1.1.0,>=0.0.7->spacy->bert-extractive-summarizer) (3.4.1)\n",
            "Requirement already satisfied: typing-extensions>=3.6.4; python_version < \"3.8\" in /usr/local/lib/python3.7/dist-packages (from importlib-metadata>=0.20; python_version < \"3.8\"->catalogue<1.1.0,>=0.0.7->spacy->bert-extractive-summarizer) (3.7.4.3)\n",
            "Installing collected packages: bert-extractive-summarizer\n",
            "Successfully installed bert-extractive-summarizer-0.7.1\n"
          ],
          "name": "stdout"
        }
      ]
    },
    {
      "cell_type": "code",
      "metadata": {
        "id": "84wFhEEFBD64"
      },
      "source": [
        "from transformers import BartTokenizer, BartForConditionalGeneration, BartConfig\n",
        "\n",
        "BART_PATH = 'facebook/bart-large-cnn'"
      ],
      "execution_count": 5,
      "outputs": []
    },
    {
      "cell_type": "code",
      "metadata": {
        "id": "BT2RRDO3BN3z",
        "outputId": "25ba5ec9-12de-44a5-a426-b65b7537845e",
        "colab": {
          "base_uri": "https://localhost:8080/",
          "height": 215,
          "referenced_widgets": [
            "317097cc7b2444b7b507d7c5f2246d83",
            "d37eeea8a7ca4f2aac59cc3c2b902671",
            "6c88bef7647f4e72955cd220e4f0649b",
            "5d0d5af79d5840639fdf2744669d3d86",
            "216fa10ed60842e9a63a2eec305bb594",
            "16150b8250a341a5aca8c78eecb432f9",
            "be0f3591ab2f48c1bef8a3ca5a433ff9",
            "e8035266d42f4cd6a78890cc2f563dc4",
            "8ffa4413f5414c9baca588ba76adf8fe",
            "8f27c7252c5a4dfd948a4f39c119b5f9",
            "0ecffcb40d2943c4afbb5283623b7128",
            "69e874ce3cca40f2a1545a76e5626dce",
            "6115c4104e66470a9c1330a9a81af59d",
            "d03520312699492d986e1e3bc66d017b",
            "840bc69de9b84f1fa65a75e279ada388",
            "602e0872208a46ce8e36a943c56758b6",
            "7216b3455b1c4fa485e957cdd8beb5de",
            "749b1b5253104142b434d349e733bbaa",
            "b412fdd44c9d4a54963d2a7543b5c7a9",
            "ceb5a0c668cc473297c62857eb77738d",
            "28fb1fb4063c4245a07a2fa3fb018b9b",
            "d35bd62eb67047c9b10bde423efe8a8a",
            "76aace67de5944359dfc4fa9c7ed4699",
            "18dfb0e4323e4c2898eee3524ba02204",
            "8adfb61bebf04e12a14658a4eded50c5",
            "fa0966b485954d6e9a205039ffd3176f",
            "d97a378c02094ac1aeae3db0383cf585",
            "c7395cc4466740cf83e727460fe23bcd",
            "01fe8da7f62742b0b1b6fc996ce524b7",
            "58ae27154398403ba4e7210e6d9827c4",
            "e9a2f8a972dc4f8c9d95ebe1072f878c",
            "35430acc468946338594a4331ce281b9"
          ]
        }
      },
      "source": [
        "bart_model = BartForConditionalGeneration.from_pretrained(BART_PATH, output_past=True)\n",
        "bart_tokenizer = BartTokenizer.from_pretrained(BART_PATH, output_past=True)"
      ],
      "execution_count": 6,
      "outputs": [
        {
          "output_type": "display_data",
          "data": {
            "application/vnd.jupyter.widget-view+json": {
              "model_id": "317097cc7b2444b7b507d7c5f2246d83",
              "version_minor": 0,
              "version_major": 2
            },
            "text/plain": [
              "HBox(children=(FloatProgress(value=0.0, description='Downloading', max=1343.0, style=ProgressStyle(description…"
            ]
          },
          "metadata": {
            "tags": []
          }
        },
        {
          "output_type": "stream",
          "text": [
            "\n"
          ],
          "name": "stdout"
        },
        {
          "output_type": "display_data",
          "data": {
            "application/vnd.jupyter.widget-view+json": {
              "model_id": "8ffa4413f5414c9baca588ba76adf8fe",
              "version_minor": 0,
              "version_major": 2
            },
            "text/plain": [
              "HBox(children=(FloatProgress(value=0.0, description='Downloading', max=1625270765.0, style=ProgressStyle(descr…"
            ]
          },
          "metadata": {
            "tags": []
          }
        },
        {
          "output_type": "stream",
          "text": [
            "\n"
          ],
          "name": "stdout"
        },
        {
          "output_type": "display_data",
          "data": {
            "application/vnd.jupyter.widget-view+json": {
              "model_id": "7216b3455b1c4fa485e957cdd8beb5de",
              "version_minor": 0,
              "version_major": 2
            },
            "text/plain": [
              "HBox(children=(FloatProgress(value=0.0, description='Downloading', max=898823.0, style=ProgressStyle(descripti…"
            ]
          },
          "metadata": {
            "tags": []
          }
        },
        {
          "output_type": "stream",
          "text": [
            "\n"
          ],
          "name": "stdout"
        },
        {
          "output_type": "display_data",
          "data": {
            "application/vnd.jupyter.widget-view+json": {
              "model_id": "8adfb61bebf04e12a14658a4eded50c5",
              "version_minor": 0,
              "version_major": 2
            },
            "text/plain": [
              "HBox(children=(FloatProgress(value=0.0, description='Downloading', max=456318.0, style=ProgressStyle(descripti…"
            ]
          },
          "metadata": {
            "tags": []
          }
        },
        {
          "output_type": "stream",
          "text": [
            "\n"
          ],
          "name": "stdout"
        }
      ]
    },
    {
      "cell_type": "code",
      "metadata": {
        "id": "92qnBGYUBRks"
      },
      "source": [
        "def nest_sentences(document):\n",
        "\n",
        "  nested = []\n",
        "  sent = []\n",
        "  length = 0\n",
        "  for sentence in nltk.sent_tokenize(document):\n",
        "    length += len(sentence)\n",
        "    if length < 2048:\n",
        "      sent.append(sentence)\n",
        "    else:\n",
        "      nested.append(sent)\n",
        "      sent = []\n",
        "      length = 0\n",
        "\n",
        "  if sent:\n",
        "    nested.append(sent)\n",
        "\n",
        "  return nested"
      ],
      "execution_count": 75,
      "outputs": []
    },
    {
      "cell_type": "code",
      "metadata": {
        "id": "Fw2i3S14BXT0"
      },
      "source": [
        "nested = nest_sentences(DOCUMENT)"
      ],
      "execution_count": 76,
      "outputs": []
    },
    {
      "cell_type": "code",
      "metadata": {
        "id": "SdLR2I29Ba3N",
        "outputId": "95d73ecb-9579-4627-c7a8-20377d4e7ffd",
        "colab": {
          "base_uri": "https://localhost:8080/"
        }
      },
      "source": [
        "nested[1]"
      ],
      "execution_count": 78,
      "outputs": [
        {
          "output_type": "execute_result",
          "data": {
            "text/plain": [
              "['The good thing is, based on our initial test results here, we do not have network problems or outages in your area.',\n",
              " 'That means, we might be able to fix the problem over the phone!',\n",
              " \"Customer: Well, that's good then, I'll be a happy camper!\",\n",
              " 'Agent: You might have already checked on it.',\n",
              " \"But, since we have the DSL light flashing red on your modem, it's telling you right away that there could be something wrong on the DSL line.\",\n",
              " \"It's the gray phone cord at the back part of the modem.\",\n",
              " \"Customer: It's right behind my desk, do you want me to crawl down the floor again?\",\n",
              " \"Agent: Well, If I send someone out, and they find out that there's just a loose phone cord, then, you will get charge for the dispatch.\",\n",
              " 'So, we want to resolve the problem over the phone, so we could avoid dispatch charges.',\n",
              " \"It will also save your time, that's all we need to check.\",\n",
              " \"Customer: Ok, but, this is the last step that I'll do.\",\n",
              " \"Don't hang up.Agent: Don't worry, I won't hang up on you.\",\n",
              " \"Customer: Oh my goodness, the gray phone cord was just loose, let me plug that in... Oh my, there's now a steady green light on the DSL light of the modem, let me just try now the Internet!\",\n",
              " \"Agent: Wow, that's good to know.\",\n",
              " \"Let's just see if you can now get online, before we hang up.\",\n",
              " 'Can you try one or two more websites?',\n",
              " 'Customer: Jerry, you are a miracle worker!',\n",
              " 'Thank you so much!']"
            ]
          },
          "metadata": {
            "tags": []
          },
          "execution_count": 78
        }
      ]
    },
    {
      "cell_type": "code",
      "metadata": {
        "id": "eZdqWPnjBgGz"
      },
      "source": [
        "device = 'cuda'"
      ],
      "execution_count": 10,
      "outputs": []
    },
    {
      "cell_type": "code",
      "metadata": {
        "id": "hkk_rMBpBjUH",
        "outputId": "877e2509-72e7-4c6b-d68c-39bc2b5bc4b0",
        "colab": {
          "base_uri": "https://localhost:8080/"
        }
      },
      "source": [
        "input_tokenized = bart_tokenizer.encode(' '.join(nested[0]), truncation=True, return_tensors='pt')\n",
        "input_tokenized = input_tokenized.to(device)\n",
        "input_tokenized"
      ],
      "execution_count": 79,
      "outputs": [
        {
          "output_type": "execute_result",
          "data": {
            "text/plain": [
              "tensor([[    0, 18497,    35,  3837,    47,    13, 24178,     6, 21599, 15707,\n",
              "          3742,     4,  1308,   766,    16,   344,  2076, 16802,     6,   392,\n",
              "            38,  2540,    33,   110, 12091,    50, 16036, 12270,   116, 19458,\n",
              "            35,    38,   437,  6661,     6,    64,    47,  2540,     6,  7230,\n",
              "          2512,   116, 18497,    35,    38,   437,  6661,     6,    64,    47,\n",
              "          1798,   162,  4954,   122,   116,    38,    21,  1996,    47,     6,\n",
              "            59,   110, 12091,    50, 16036, 12270,   116, 19458,    35,  2647,\n",
              "             6,   137,    38,   492,    47,   127,  1316,   335,     6,    38,\n",
              "            95, 23126,   905,    47,   216,    14,    38,   437,   269, 34449,\n",
              "             4,    38,    64,    75,   899,   127,  1047,    13,   818,    10,\n",
              "           186,   122,     4,    38,   437,  2746,    47,  1669,  3739,     9,\n",
              "           418,     6,     8,    47,    64,    75,   190,   694,    10,  7297,\n",
              "           544,     4,   653,    18,  1593,    19,    47,    82,   116, 10540,\n",
              "          8105,  2076, 46257,   208, 23806,   104, 16506, 18497,    35,    38,\n",
              "           437,   269,  6661,    13,     5, 24109,     6,    38,    74,  1153,\n",
              "           619,     5,   276,   169,   114,    38,   437,    11,   110,  1068,\n",
              "             4,   125,     6,   218,    75,  4022,     6,    38,  4198,    47,\n",
              "            14,    52,   581,   120,   110,   696,  8179,     4,  2780,   162,\n",
              "           120,    78,   110,  1316,   346,    98,    52,    64,  1649,   110,\n",
              "          1316,     6,    74,    14,    28, 15983, 17516, 19458,    35,  9136,\n",
              "             6,   127,  1316,   346,    16,   290,  2466,    12, 30739,    12,\n",
              "         30115,     4, 18497,    35,  8432,    24,     6,   189,    38,  2540,\n",
              "         12881,     5,   766,    15,     5,  1316,   116, 19458,    35,    85,\n",
              "            18,  1738,   305,     4,  1259,     6,    38,   524,     5,  1316,\n",
              "         14034,     4, 45443,    35,  2615,    52,   486,    47,   124,    23,\n",
              "             5,   276,   346,     6,    50,   109,    47,    33,    10,   357,\n",
              "           486,   124,   346,   116, 19458,    35,    38,   437,  6661,     6,\n",
              "            38,   437,   519,    10,   543,    86,  1576,     6,    64,    47,\n",
              "          2540,     6,  7230,  2512,   116, 18497,    35,  9136,     6,    38,\n",
              "            21,    95,  1996,    47,     6,   114,    52,    64,   486,    47,\n",
              "            23,     5,   276,   346,    47,   851,   162,     6,    50,   114,\n",
              "            47,    33,    10,   357,   486,   124,   346,   116, 19458,    35,\n",
              "          3216,     6,    14,    18,    10,   205,   486,   124,   346,     4,\n",
              "         18497,    35,  5148,     6,   716,    15,    84,  1296,   775,     6,\n",
              "            24,   924,   259,    14,    47,    32,    45,   562,    10, 35409,\n",
              "          6029,     6,    14,    18,   596,    47,    64,    75,   120,   804,\n",
              "            50,  1649,   110,  1047,     4,   166,    64,   888,  4190,    42,\n",
              "           936,    81,     5,  1028,     6,    53,     6,    38,    40,   240,\n",
              "             7,  1656,    47,   149,    15,   103,  2402,     6,    74,    14,\n",
              "            28, 15983,   116, 19458,    35,    38,   348,  1613,   149,     5,\n",
              "          2402,     6,   679,   162,     6,    38,   348,  7869,   960,   137,\n",
              "          1765,    47,   328, 18497,    35,  5534,     6,    14,    18,   205,\n",
              "           172,     6,    53,     6,    64,    47,    23,   513,     6,  1649,\n",
              "            13,   162,    61,  4666,    32,  6474,    62,    15,   110, 38533,\n",
              "             4, 19458,    35, 14321,   328,    38,    33,  3029,     8, 34677,\n",
              "          4666,  2272,    15,   127, 38533,     4,   125,     6,     5,   155,\n",
              "          2586,  1109,    16, 22643,  1275,     6,    61,    16,     5, 35409,\n",
              "          1109,     4,  3945,    47,  1372,   122,   116, 18497,    35,  3837,\n",
              "            47,    13,   110, 11383,   328,   287,    47,   115,  3120,     6,\n",
              "             5, 35409,  1109,    16, 22643,  1275,    15,   110, 38533,     4,\n",
              "             2]], device='cuda:0')"
            ]
          },
          "metadata": {
            "tags": []
          },
          "execution_count": 79
        }
      ]
    },
    {
      "cell_type": "code",
      "metadata": {
        "id": "c9Gn4d2kBrBb",
        "outputId": "533cb3c9-f249-4aa5-950b-9d5cd92f1e82",
        "colab": {
          "base_uri": "https://localhost:8080/"
        }
      },
      "source": [
        "summary_ids = bart_model.to('cuda').generate(input_tokenized,\n",
        "                                      length_penalty=3.0,\n",
        "                                      min_length=30,\n",
        "                                      max_length=100)\n",
        "summary_ids"
      ],
      "execution_count": 80,
      "outputs": [
        {
          "output_type": "execute_result",
          "data": {
            "text/plain": [
              "tensor([[    2,     0, 42913, 15707,  3742,  2111,  1519,     7, 11316,    59,\n",
              "            45,   145,   441,     7,   899,    39,  1047,     4, 19458,    35,\n",
              "            38,   437,  2746,    47,  1669,  3739,     9,   418,     6,     8,\n",
              "            47,    64,    75,   190,   694,    10,  7297,   544,     4, 18497,\n",
              "            35,    38,  4198,    47,    14,    52,   581,   120,   110,   696,\n",
              "          8179,     4]], device='cuda:0')"
            ]
          },
          "metadata": {
            "tags": []
          },
          "execution_count": 80
        }
      ]
    },
    {
      "cell_type": "code",
      "metadata": {
        "id": "R8S-GkPEB2On",
        "outputId": "47b38b9b-691f-4864-848d-221eafef1e7d",
        "colab": {
          "base_uri": "https://localhost:8080/"
        }
      },
      "source": [
        "output = [bart_tokenizer.decode(g, skip_special_tokens=True, clean_up_tokenization_spaces=False) for g in summary_ids]\n",
        "output"
      ],
      "execution_count": 81,
      "outputs": [
        {
          "output_type": "execute_result",
          "data": {
            "text/plain": [
              "[\"Rocket Speed Internet customer calls to complain about not being able to access his email. Customer: I'm paying you guys lots of money, and you can't even provide a decent service. Agent: I promise you that we'll get your issue resolved.\"]"
            ]
          },
          "metadata": {
            "tags": []
          },
          "execution_count": 81
        }
      ]
    },
    {
      "cell_type": "code",
      "metadata": {
        "id": "gV4-iPy6B7iC"
      },
      "source": [
        "#Build Generic Function to Summarize\n",
        "def generate_summary(nested_sentences):\n",
        "  device = 'cuda'\n",
        "  summaries = []\n",
        "  for nested in nested_sentences:\n",
        "    input_tokenized = bart_tokenizer.encode(' '.join(nested), truncation=True, return_tensors='pt')\n",
        "    input_tokenized = input_tokenized.to(device)\n",
        "    summary_ids = bart_model.to('cuda').generate(input_tokenized,\n",
        "                                      length_penalty=3.0,\n",
        "                                      min_length=30,\n",
        "                                      max_length=100)\n",
        "    output = [bart_tokenizer.decode(g, skip_special_tokens=True, clean_up_tokenization_spaces=False) for g in summary_ids]\n",
        "    summaries.append(output)\n",
        "  summaries = [sentence for sublist in summaries for sentence in sublist]\n",
        "  return summaries"
      ],
      "execution_count": 82,
      "outputs": []
    },
    {
      "cell_type": "code",
      "metadata": {
        "id": "NsaN7Em_SRw9"
      },
      "source": [
        "#Generate 1st Level Summary"
      ],
      "execution_count": 15,
      "outputs": []
    },
    {
      "cell_type": "code",
      "metadata": {
        "id": "GFIOUlSOCas3"
      },
      "source": [
        "summ = generate_summary(nested)"
      ],
      "execution_count": 83,
      "outputs": []
    },
    {
      "cell_type": "code",
      "metadata": {
        "id": "g8ZMdyzOCeGv",
        "outputId": "c639250a-eb05-4498-e9b9-aede6cc47b80",
        "colab": {
          "base_uri": "https://localhost:8080/"
        }
      },
      "source": [
        "summ"
      ],
      "execution_count": 84,
      "outputs": [
        {
          "output_type": "execute_result",
          "data": {
            "text/plain": [
              "[\"Rocket Speed Internet customer calls to complain about not being able to access his email. Customer: I'm paying you guys lots of money, and you can't even provide a decent service. Agent: I promise you that we'll get your issue resolved.\",\n",
              " \"Customer: DSL light flashing red on your modem, it's telling you there could be something wrong. It's the gray phone cord at the back part of the modem. If I send someone out, and they find out that there's just a loose phone cord, then, you will get charge for the dispatch.\"]"
            ]
          },
          "metadata": {
            "tags": []
          },
          "execution_count": 84
        }
      ]
    },
    {
      "cell_type": "code",
      "metadata": {
        "id": "hosgeyBQCh5G",
        "outputId": "c60bcc39-49ce-43d1-fa6e-b9436f96b9b6",
        "colab": {
          "base_uri": "https://localhost:8080/"
        }
      },
      "source": [
        "#Generate 2nd Level Summary\n",
        "nested_summ = nest_sentences(' '.join(summ))\n",
        "nested_summ"
      ],
      "execution_count": 85,
      "outputs": [
        {
          "output_type": "execute_result",
          "data": {
            "text/plain": [
              "[['Rocket Speed Internet customer calls to complain about not being able to access his email.',\n",
              "  \"Customer: I'm paying you guys lots of money, and you can't even provide a decent service.\",\n",
              "  \"Agent: I promise you that we'll get your issue resolved.\",\n",
              "  \"Customer: DSL light flashing red on your modem, it's telling you there could be something wrong.\",\n",
              "  \"It's the gray phone cord at the back part of the modem.\",\n",
              "  \"If I send someone out, and they find out that there's just a loose phone cord, then, you will get charge for the dispatch.\"]]"
            ]
          },
          "metadata": {
            "tags": []
          },
          "execution_count": 85
        }
      ]
    },
    {
      "cell_type": "code",
      "metadata": {
        "id": "An5hgsP3Cu4f",
        "outputId": "313bee24-7873-45ac-bd8e-f7d49cc345b6",
        "colab": {
          "base_uri": "https://localhost:8080/"
        }
      },
      "source": [
        "generate_summary(nested_summ)"
      ],
      "execution_count": 86,
      "outputs": [
        {
          "output_type": "execute_result",
          "data": {
            "text/plain": [
              "[\"Rocket Speed Internet customer calls to complain about not being able to access his email. Customer: I'm paying you guys lots of money, and you can't even provide a decent service.\"]"
            ]
          },
          "metadata": {
            "tags": []
          },
          "execution_count": 86
        }
      ]
    },
    {
      "cell_type": "code",
      "metadata": {
        "id": "pCk_zF5WC_fw",
        "outputId": "388626e1-29c6-49df-ef15-0482980dd1e9",
        "colab": {
          "base_uri": "https://localhost:8080/"
        }
      },
      "source": [
        "# checking with new ..\n",
        "input_tokenized1 = bart_tokenizer.encode(' '.join(summ), truncation=True, return_tensors='pt')\n",
        "input_tokenized1 = input_tokenized1.to(device)\n",
        "input_tokenized1"
      ],
      "execution_count": 87,
      "outputs": [
        {
          "output_type": "execute_result",
          "data": {
            "text/plain": [
              "tensor([[    0, 21599, 15707,  3742,  2111,  1519,     7, 11316,    59,    45,\n",
              "           145,   441,     7,   899,    39,  1047,     4, 19458,    35,    38,\n",
              "           437,  2746,    47,  1669,  3739,     9,   418,     6,     8,    47,\n",
              "            64,    75,   190,   694,    10,  7297,   544,     4, 18497,    35,\n",
              "            38,  4198,    47,    14,    52,   581,   120,   110,   696,  8179,\n",
              "             4, 19458,    35, 35409,  1109, 22643,  1275,    15,   110, 38533,\n",
              "             6,    24,    18,  2758,    47,    89,   115,    28,   402,  1593,\n",
              "             4,    85,    18,     5, 12339,  1028, 13051,    23,     5,   124,\n",
              "           233,     9,     5, 38533,     4,   318,    38,  2142,   951,    66,\n",
              "             6,     8,    51,   465,    66,    14,    89,    18,    95,    10,\n",
              "          7082,  1028, 13051,     6,   172,     6,    47,    40,   120,  1427,\n",
              "            13,     5, 22903,     4,     2]], device='cuda:0')"
            ]
          },
          "metadata": {
            "tags": []
          },
          "execution_count": 87
        }
      ]
    },
    {
      "cell_type": "code",
      "metadata": {
        "id": "CkxF4eJTWn5V",
        "outputId": "6d11e042-7ae4-42dc-c296-0a791d9e9051",
        "colab": {
          "base_uri": "https://localhost:8080/"
        }
      },
      "source": [
        "summary_ids1 = bart_model.to('cuda').generate(input_tokenized1,\n",
        "                                      length_penalty=4.0,\n",
        "                                      min_length=20,\n",
        "                                      max_length=140)\n",
        "summary_ids1"
      ],
      "execution_count": 90,
      "outputs": [
        {
          "output_type": "execute_result",
          "data": {
            "text/plain": [
              "tensor([[    2,     0, 42913, 15707,  3742,  2111,  1519,     7, 11316,    59,\n",
              "            45,   145,   441,     7,   899,    39,  1047,     4, 19458,    35,\n",
              "            38,   437,  2746,    47,  1669,  3739,     9,   418,     6,     8,\n",
              "            47,    64,    75,   190,   694,    10,  7297,   544,     4]],\n",
              "       device='cuda:0')"
            ]
          },
          "metadata": {
            "tags": []
          },
          "execution_count": 90
        }
      ]
    },
    {
      "cell_type": "code",
      "metadata": {
        "id": "J3jCW7RwXeC0",
        "outputId": "b68516f8-30f5-495a-9dc1-f8fbcca72ebf",
        "colab": {
          "base_uri": "https://localhost:8080/"
        }
      },
      "source": [
        "output1 = [bart_tokenizer.decode(g, skip_special_tokens=True, clean_up_tokenization_spaces=False) for g in summary_ids1]\n",
        "output1"
      ],
      "execution_count": 91,
      "outputs": [
        {
          "output_type": "execute_result",
          "data": {
            "text/plain": [
              "[\"Rocket Speed Internet customer calls to complain about not being able to access his email. Customer: I'm paying you guys lots of money, and you can't even provide a decent service.\"]"
            ]
          },
          "metadata": {
            "tags": []
          },
          "execution_count": 91
        }
      ]
    },
    {
      "cell_type": "code",
      "metadata": {
        "id": "h0aB6ei2XjVe",
        "outputId": "1848aa45-efbe-4a9c-f62b-822853ab4922",
        "colab": {
          "base_uri": "https://localhost:8080/"
        }
      },
      "source": [
        "output1 = [bart_tokenizer.decode(g, skip_special_tokens=True, clean_up_tokenization_spaces=False) for g in summary_ids1]\n",
        "output1"
      ],
      "execution_count": 74,
      "outputs": [
        {
          "output_type": "execute_result",
          "data": {
            "text/plain": [
              "[\"Customer: I'm paying you guys lots of money, and you can't even provide a decent service. Agent: Sure, I was just asking you, if we can call you at the same number you gave me, or if you have a better call back number? Customer: Yes, that's a good call backNumber.\"]"
            ]
          },
          "metadata": {
            "tags": []
          },
          "execution_count": 74
        }
      ]
    },
    {
      "cell_type": "code",
      "metadata": {
        "id": "UpV29I8Fab2R",
        "outputId": "be11e70f-fb2e-4317-fd26-1f23999882e3",
        "colab": {
          "base_uri": "https://localhost:8080/"
        }
      },
      "source": [
        "output1 = [bart_tokenizer.decode(g, skip_special_tokens=True, clean_up_tokenization_spaces=False) for g in summary_ids1]\n",
        "output1"
      ],
      "execution_count": 47,
      "outputs": [
        {
          "output_type": "execute_result",
          "data": {
            "text/plain": [
              "[\"iReporter calls Rocket Speed Internet to complain about service. Customer: I'm paying you guys lots of money, and you can't even provide a decent service. Agent: Can you at least, check for me which lights are lit up on your modem?\"]"
            ]
          },
          "metadata": {
            "tags": []
          },
          "execution_count": 47
        }
      ]
    },
    {
      "cell_type": "code",
      "metadata": {
        "id": "Kw3jd8QXazzr"
      },
      "source": [
        ""
      ],
      "execution_count": null,
      "outputs": []
    }
  ]
}