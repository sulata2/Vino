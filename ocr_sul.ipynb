{
  "nbformat": 4,
  "nbformat_minor": 0,
  "metadata": {
    "colab": {
      "name": "ocr.ipynb",
      "provenance": [],
      "collapsed_sections": [],
      "toc_visible": true
    },
    "kernelspec": {
      "display_name": "Python 3",
      "language": "python",
      "name": "python3"
    },
    "language_info": {
      "codemirror_mode": {
        "name": "ipython",
        "version": 3
      },
      "file_extension": ".py",
      "mimetype": "text/x-python",
      "name": "python",
      "nbconvert_exporter": "python",
      "pygments_lexer": "ipython3",
      "version": "3.7.6"
    }
  },
  "cells": [
    {
      "cell_type": "code",
      "metadata": {
        "colab_type": "code",
        "id": "xXAVru5j2Es1",
        "colab": {
          "base_uri": "https://localhost:8080/",
          "height": 263
        },
        "outputId": "050ed067-26d4-419a-c5d3-f9a5e8bacde0"
      },
      "source": [
        "!pip install dateparser xlsxwriter"
      ],
      "execution_count": 1,
      "outputs": [
        {
          "output_type": "stream",
          "text": [
            "Collecting dateparser\n",
            "\u001b[?25l  Downloading https://files.pythonhosted.org/packages/c1/d5/5a2e51bc0058f66b54669735f739d27afc3eb453ab00520623c7ab168e22/dateparser-0.7.6-py2.py3-none-any.whl (362kB)\n",
            "\u001b[K     |████████████████████████████████| 368kB 4.5MB/s \n",
            "\u001b[?25hCollecting xlsxwriter\n",
            "\u001b[?25l  Downloading https://files.pythonhosted.org/packages/2b/98/17875723b6814fc4d0fc03f0997ee00de2dbd78cf195e2ec3f2c9c789d40/XlsxWriter-1.3.3-py2.py3-none-any.whl (144kB)\n",
            "\u001b[K     |████████████████████████████████| 153kB 8.3MB/s \n",
            "\u001b[?25hRequirement already satisfied: python-dateutil in /usr/local/lib/python3.6/dist-packages (from dateparser) (2.8.1)\n",
            "Requirement already satisfied: pytz in /usr/local/lib/python3.6/dist-packages (from dateparser) (2018.9)\n",
            "Requirement already satisfied: tzlocal in /usr/local/lib/python3.6/dist-packages (from dateparser) (1.5.1)\n",
            "Requirement already satisfied: regex!=2019.02.19 in /usr/local/lib/python3.6/dist-packages (from dateparser) (2019.12.20)\n",
            "Requirement already satisfied: six>=1.5 in /usr/local/lib/python3.6/dist-packages (from python-dateutil->dateparser) (1.15.0)\n",
            "Installing collected packages: dateparser, xlsxwriter\n",
            "Successfully installed dateparser-0.7.6 xlsxwriter-1.3.3\n"
          ],
          "name": "stdout"
        }
      ]
    },
    {
      "cell_type": "code",
      "metadata": {
        "colab_type": "code",
        "id": "4zZk_f_M9PX9",
        "colab": {
          "base_uri": "https://localhost:8080/",
          "height": 817
        },
        "outputId": "e65c6ec3-7f3e-4a29-827f-752091d1811a"
      },
      "source": [
        "!sudo apt install tesseract-ocr\n",
        "!pip install pytesseract"
      ],
      "execution_count": 2,
      "outputs": [
        {
          "output_type": "stream",
          "text": [
            "Reading package lists... Done\n",
            "Building dependency tree       \n",
            "Reading state information... Done\n",
            "The following additional packages will be installed:\n",
            "  tesseract-ocr-eng tesseract-ocr-osd\n",
            "The following NEW packages will be installed:\n",
            "  tesseract-ocr tesseract-ocr-eng tesseract-ocr-osd\n",
            "0 upgraded, 3 newly installed, 0 to remove and 11 not upgraded.\n",
            "Need to get 4,795 kB of archives.\n",
            "After this operation, 15.8 MB of additional disk space will be used.\n",
            "Get:1 http://archive.ubuntu.com/ubuntu bionic/universe amd64 tesseract-ocr-eng all 4.00~git24-0e00fe6-1.2 [1,588 kB]\n",
            "Get:2 http://archive.ubuntu.com/ubuntu bionic/universe amd64 tesseract-ocr-osd all 4.00~git24-0e00fe6-1.2 [2,989 kB]\n",
            "Get:3 http://archive.ubuntu.com/ubuntu bionic/universe amd64 tesseract-ocr amd64 4.00~git2288-10f4998a-2 [218 kB]\n",
            "Fetched 4,795 kB in 0s (26.9 MB/s)\n",
            "debconf: unable to initialize frontend: Dialog\n",
            "debconf: (No usable dialog-like program is installed, so the dialog based frontend cannot be used. at /usr/share/perl5/Debconf/FrontEnd/Dialog.pm line 76, <> line 3.)\n",
            "debconf: falling back to frontend: Readline\n",
            "debconf: unable to initialize frontend: Readline\n",
            "debconf: (This frontend requires a controlling tty.)\n",
            "debconf: falling back to frontend: Teletype\n",
            "dpkg-preconfigure: unable to re-open stdin: \n",
            "Selecting previously unselected package tesseract-ocr-eng.\n",
            "(Reading database ... 144600 files and directories currently installed.)\n",
            "Preparing to unpack .../tesseract-ocr-eng_4.00~git24-0e00fe6-1.2_all.deb ...\n",
            "Unpacking tesseract-ocr-eng (4.00~git24-0e00fe6-1.2) ...\n",
            "Selecting previously unselected package tesseract-ocr-osd.\n",
            "Preparing to unpack .../tesseract-ocr-osd_4.00~git24-0e00fe6-1.2_all.deb ...\n",
            "Unpacking tesseract-ocr-osd (4.00~git24-0e00fe6-1.2) ...\n",
            "Selecting previously unselected package tesseract-ocr.\n",
            "Preparing to unpack .../tesseract-ocr_4.00~git2288-10f4998a-2_amd64.deb ...\n",
            "Unpacking tesseract-ocr (4.00~git2288-10f4998a-2) ...\n",
            "Setting up tesseract-ocr-osd (4.00~git24-0e00fe6-1.2) ...\n",
            "Setting up tesseract-ocr-eng (4.00~git24-0e00fe6-1.2) ...\n",
            "Setting up tesseract-ocr (4.00~git2288-10f4998a-2) ...\n",
            "Processing triggers for man-db (2.8.3-2ubuntu0.1) ...\n",
            "Collecting pytesseract\n",
            "  Downloading https://files.pythonhosted.org/packages/17/4b/4dbd55388225bb6cd243d21f70e77cb3ce061e241257485936324b8e920f/pytesseract-0.3.6.tar.gz\n",
            "Requirement already satisfied: Pillow in /usr/local/lib/python3.6/dist-packages (from pytesseract) (7.0.0)\n",
            "Building wheels for collected packages: pytesseract\n",
            "  Building wheel for pytesseract (setup.py) ... \u001b[?25l\u001b[?25hdone\n",
            "  Created wheel for pytesseract: filename=pytesseract-0.3.6-py2.py3-none-any.whl size=13629 sha256=6169e6e3620bb4c201caf24f2144d25703abe872796223c05c6c8f813158b9c4\n",
            "  Stored in directory: /root/.cache/pip/wheels/ee/71/72/b98430261d849ae631e283dfc7ccb456a3fb2ed2205714b63f\n",
            "Successfully built pytesseract\n",
            "Installing collected packages: pytesseract\n",
            "Successfully installed pytesseract-0.3.6\n"
          ],
          "name": "stdout"
        }
      ]
    },
    {
      "cell_type": "code",
      "metadata": {
        "colab_type": "code",
        "id": "mcQHPf9eioFB",
        "colab": {}
      },
      "source": [
        "import json\n",
        "import os\n",
        "import numpy as np\n",
        "import pytesseract\n",
        "from PIL import Image\n",
        "from pytesseract import Output\n",
        "import cv2\n",
        "import pandas as pd\n",
        "# from StyleFrame import StyleFrame\n",
        "import re\n",
        "from dateparser.search import search_dates\n",
        "import pandas as pd\n",
        "from glob import glob\n",
        "from datetime import datetime\n",
        "from PIL import Image\n",
        "import argparse\n",
        "import xlsxwriter\n"
      ],
      "execution_count": 3,
      "outputs": []
    },
    {
      "cell_type": "code",
      "metadata": {
        "colab_type": "code",
        "id": "BlU39XXLio8x",
        "colab": {}
      },
      "source": [
        "input_images_dir = r\"/content/img\"\n",
        "inp_img_jsons_dir= r\"/content/img\"\n",
        "output_excel_dir = r\"/content/output\""
      ],
      "execution_count": 5,
      "outputs": []
    },
    {
      "cell_type": "code",
      "metadata": {
        "colab_type": "code",
        "id": "qkPm5Qy4ipHx",
        "colab": {}
      },
      "source": [
        "\n",
        "def detectText(img_path,y1, x1, y2, x2):\n",
        "    img = cv2.imread(img_path, 0)\n",
        "    crop_img = img[int(y1): int(y2), int(x1): int(x2)]\n",
        "    im = Image.fromarray(crop_img)\n",
        "    im.save(\"/tmp/output.jpeg\")\n",
        "\n",
        "    BLACK=[255,255,255]\n",
        "    try:\n",
        "        resized_img = cv2.resize(crop_img ,(2*crop_img.shape[1], 2*crop_img.shape[0]), interpolation=cv2.INTER_CUBIC)\n",
        "        #resized_img = crop_img\n",
        "        #padding the image\n",
        "        #pad_img = cv2.copyMakeBorder(resized_img, 15, 15,15,15, cv2.BORDER_CONSTANT, value=BLACK)\n",
        "\n",
        "        #resized_img = cv2.resize(pad_img ,(2*pad_img.shape[0], 2*pad_img.shape[1]), interpolation=cv2.INTER_CUBIC)\n",
        "\n",
        "        k_size = 1\n",
        "        kernel = np.ones((k_size,k_size), np.uint8)\n",
        "\n",
        "        #apply morphological operation to dilate and erode\n",
        "        morph_img = cv2.morphologyEx(resized_img, cv2.MORPH_CLOSE, kernel,iterations=1)\n",
        "\n",
        "        blur_img = cv2.threshold(cv2.bilateralFilter(morph_img, 2, 75, 75), 0, 255, cv2.THRESH_BINARY + cv2.THRESH_OTSU)[1]\n",
        "\n",
        "        custom_oem_psm_config = r'--oem 1 --psm 6 '\n",
        "        text = pytesseract.image_to_string(blur_img, lang=\"eng\", config=custom_oem_psm_config)\n",
        "        print(text+\"\\n\")\n",
        "    except: \n",
        "        raise\n",
        "        raise Exception('NoCell', 'The given points are not valid.')\n",
        "    return (blur_img, text)"
      ],
      "execution_count": 6,
      "outputs": []
    },
    {
      "cell_type": "code",
      "metadata": {
        "colab_type": "code",
        "id": "BLgsYfkpi8ZA",
        "colab": {}
      },
      "source": [
        "\n",
        "def get_error_dataframes(comp_df):\n",
        "    error_df = pd.DataFrame()\n",
        "    empty_df=pd.DataFrame()\n",
        "    emp_list=[]\n",
        "    found = False\n",
        "    found_error=False\n",
        "    for col in comp_df:\n",
        "        if comp_df[col]==\"-\" or comp_df[col]==\"\":\n",
        "            found=True\n",
        "            emp_list.append(col)\n",
        "    val= \", \".join(emp_list)\n",
        "    empty_df = pd.DataFrame([val])\n",
        "    \n",
        "    return (empty_df if found else None)\n"
      ],
      "execution_count": 7,
      "outputs": []
    },
    {
      "cell_type": "code",
      "metadata": {
        "colab_type": "code",
        "id": "4hyjrFfMi9pG",
        "colab": {}
      },
      "source": [
        "def writeToExcel(component_data, component_classes, img_path,f_type=\"single\"):\n",
        "    global all_invoices_data,count_of_processed_pdfs,writer,next_pdf_start_row,next_error_df_start_row\n",
        "    \n",
        "    filename = os.path.basename(img_path)\n",
        "    filename = filename.rpartition('.')[0]\n",
        "    #print(\"processed file: \",filename)\n",
        "    try:\n",
        "        #print(component_data)\n",
        "        emp_row_df= pd.DataFrame().append(pd.Series(), ignore_index=True)\n",
        "        #c_df = pd.concat([emp_row_df,component_data.T],ignore_index=True)\n",
        "        c_df = component_data.T\n",
        "        #print(\"Cdf\",c_df)\n",
        "        merged_df = pd.concat([pd.DataFrame([filename]),c_df],axis=1)\n",
        "        merged_df= merged_df.append(pd.Series(), ignore_index=True)\n",
        "        merged_df=merged_df.replace({'=':''}, regex=True)\n",
        "        merged_df=merged_df.replace({'\\n':''}, regex=True)\n",
        "        merged_df.to_excel(writer,sheet_name='Invoice Data',index=False,header=False,startrow=next_pdf_start_row,encoding='utf-8')\n",
        "        print(merged_df)        \n",
        "        count_of_processed_pdfs+=1\n",
        "        next_pdf_start_row+=merged_df.shape[0]+1\n",
        "            \n",
        "        (empty_df)=get_error_dataframes(component_data)\n",
        "        print(\"Empty df\",empty_df)\n",
        "        if empty_df is not None:\n",
        "            empty_df.to_excel(writer, sheet_name='Validation Failure',index = False,header=False, startrow=next_error_df_start_row, startcol=1)\n",
        "    \n",
        "        elif empty_df is not None and error_df is None:\n",
        "            next_error_df_start_row+=empty_df.shape[0] \n",
        "\n",
        "        #print(count_of_processed_pdfs)    \n",
        "        #print(filename,des_folder+\"/\"+filename+'.xlsx')                \n",
        "        return (\"Write to Excel Successful for image \"+filename)\n",
        "    except Exception as e:\n",
        "        \n",
        "        #traceback.print_exc()\n",
        "        return (\"Write to Excel not Successful for image \"+filename)\n"
      ],
      "execution_count": 8,
      "outputs": []
    },
    {
      "cell_type": "code",
      "metadata": {
        "colab_type": "code",
        "id": "BwA1np5yjE0P",
        "colab": {}
      },
      "source": [
        "def getComponentJsonData(data):\n",
        "    #geeting the index of objects detected with scores more than 0.5\n",
        "    index = len((np.array(data['detection_scores']) >= 0.5).nonzero()[0])\n",
        "    detection_scores = np.array(data['detection_scores'][:index])\n",
        "    detection_classes = np.array(details_dict[data['detection_classes'][:index]])\n",
        "    detection_boxes = np.array(data['detection_boxes'][:index])\n",
        "    image_width = np.array(data['image_size'][0])\n",
        "    image_height = np.array(data['image_size'][1])\n",
        "    \n",
        "    y_min = np.around(detection_boxes[:,0]*image_height, 2)\n",
        "    x_min = np.around(detection_boxes[:,1]*image_width, 2)\n",
        "    y_max = np.around(detection_boxes[:,2]*image_height, 2)\n",
        "    x_max = np.around(detection_boxes[:,3]*image_width, 2)\n",
        "\n",
        "    return (y_min, x_min, y_max, x_max, detection_classes,detection_scores)\n"
      ],
      "execution_count": 9,
      "outputs": []
    },
    {
      "cell_type": "code",
      "metadata": {
        "colab_type": "code",
        "id": "Zj1_IRb3jFWR",
        "colab": {}
      },
      "source": [
        "\n",
        "def get_component_df(component_data,image_file):    \n",
        "\n",
        "\n",
        "    #getting dataframe for component\n",
        "    try:\n",
        "        (y_min1, x_min1, y_max1, x_max1, component_classes,detection_scores) = getComponentJsonData(component_data)\n",
        "        \n",
        "        component_dataframe = componentDetection(y_min1, x_min1, y_max1, x_max1, image_file, component_classes,detection_scores)\n",
        "        \n",
        "    except Exception as e: \n",
        "        print(e)\n",
        "        traceback.print_exc()\n",
        "        component_dataframe= pd.DataFrame([\"No components found\"])\n",
        "        component_classes=[]\n",
        "        \n",
        "    return component_dataframe,component_classes\n"
      ],
      "execution_count": 10,
      "outputs": []
    },
    {
      "cell_type": "code",
      "metadata": {
        "colab_type": "code",
        "id": "4ltmzLZfjPQ8",
        "colab": {}
      },
      "source": [
        "def write_excel_for_image(img_path): \n",
        "    json_path = os.path.join(inp_img_jsons_dir,os.path.basename(img_path)[:-4]+\".json\")\n",
        "    write_status=\"Failed\"\n",
        "    with open(json_path) as f:\n",
        "        comp_data = json.load(f)\n",
        "        try:  \n",
        "            component_dataframe,component_classes = get_component_df(comp_data,img_path)            \n",
        "            write_status = writeToExcel(component_dataframe, component_classes, img_path)\n",
        "            filename = os.path.basename(img_path)\n",
        "            filename = filename.rpartition('.')[0]            \n",
        "            #remove_img_jsons(filename)\n",
        "            \n",
        "        except Exception as e:\n",
        "            #traceback.print_exc()\n",
        "            if e.args[0] == 'NoCell':\n",
        "                #print('Error: '+e.args[1])\n",
        "                pass\n",
        "            else:   \n",
        "                pass             \n",
        "    return write_status\n",
        "\n"
      ],
      "execution_count": 11,
      "outputs": []
    },
    {
      "cell_type": "code",
      "metadata": {
        "colab_type": "code",
        "id": "f9fjWCxIjPqN",
        "colab": {}
      },
      "source": [
        "def start():\n",
        "    all_images = glob(input_images_dir+\"/*.jpg\")\n",
        "    for img_path in all_images:\n",
        "        write_excel_for_image(img_path)\n",
        "\n",
        "def freeze_panes_and_apply_header_formats():\n",
        "    worksheet = writer.sheets['Invoice Data']\n",
        "    # Add a header format.\n",
        "    header_format = workbook.add_format({\n",
        "        'bold': True,\n",
        "        'text_wrap': True,\n",
        "        'valign': 'top',\n",
        "        'fg_color': '#D7E4BC',\n",
        "        'border': 1})\n",
        "    try:    \n",
        "        worksheet2 = writer.sheets['Validation Failure']\n",
        "        df=pd.DataFrame(columns=[\"File Name\",\"Missing Elements\",\"Validation Failures\",\"Value\"])\n",
        "        # Write the column headers with the defined format.\n",
        "        for col_num, value in enumerate(df.columns.values):        \n",
        "            worksheet2.write(0, col_num, value, header_format)\n",
        "        worksheet2.freeze_panes(1, 0)\n",
        "    except:\n",
        "        pass\n",
        "    df=pd.DataFrame(columns=[\"File Name\",\"Invoice Number\",\"Invoice Date\",\"Vendor Name\",\"Invoice Total\"])\n",
        "    # Write the column headers with the defined format.\n",
        "    for col_num, value in enumerate(df.columns.values):       \n",
        "        worksheet.write(0, col_num, value, header_format)\n",
        "    worksheet.freeze_panes(1, 0)\n",
        "    \n"
      ],
      "execution_count": 12,
      "outputs": []
    },
    {
      "cell_type": "code",
      "metadata": {
        "colab_type": "code",
        "id": "mU115aDfjFFN",
        "colab": {}
      },
      "source": [
        "\n",
        "\n",
        "#getting component text from tesseract\n",
        "def componentDetection(y_min, x_min, y_max, x_max, img_path, detection_classes,detection_scores):\n",
        "    bl=[]\n",
        "    text_array=[]\n",
        "    comp_dict = {\"Invoice Number\":\"-\",\"Invoice Date\":\"-\",\"Vendor Name\":\"-\",\"Invoice Total\":\"-\"}\n",
        "    for i in range(0,len(x_min)):\n",
        "        (imgg,tess_text)=detectText(img_path,y_min[i],x_min[i], y_max[i], x_max[i])\n",
        "        bl.append(imgg)\n",
        "        \n",
        "        #data.append(text1)\n",
        "        #img_array.append(tess_img)\n",
        "        if(detection_classes[i]==\"vendor\" ):\n",
        "            ven_detail = re.sub(\"[^\\w.,:\\s]\", '',tess_text.strip()) #|#*{<>}\\\\[\\\\]\n",
        "            classname= \"Vendor Name\" if detection_classes[i]==\"vendor\" else \"Vendor Address\"\n",
        "            comp_dict[classname]=ven_detail\n",
        "            text_array.append(ven_detail)\n",
        "\n",
        "        elif(detection_classes[i]==\"inv_num\"):             \n",
        "            inv_regex = re.sub(\"[\\W\\s]\", '',tess_text)\n",
        "            #inv_regex = re.sub(\"[|#*{<&°>} « \\\\[ \\\\] « , ]\", '',tess_text)\n",
        "            inv_num=inv_regex\n",
        "            inv_num = re.split(r'(\\d+)', inv_regex, 1)\n",
        "            inv_num = \" \".join(inv_num[1:]) if len(inv_num)>1 else inv_num[0]\n",
        "            comp_dict[\"Invoice Number\"]=inv_num\n",
        "            text_array.append(inv_num)\n",
        "\n",
        "       # elif(detection_classes[i]==\"tax\"): \n",
        "            \n",
        "       #     #trimmed_value = re.sub(\"[| \\\\[ \\\\] ]\", '',tess_text)\n",
        "       #     tax = tess_text.split(' ')[-1]\n",
        "       #     trimmed_tax = re.sub(\"[\\W]\", '',tax)\n",
        "       #     text_array.append(trimmed_tax)\n",
        "       #     comp_dict[\"Tax\"]=trimmed_tax\n",
        "        elif(detection_classes[i]==\"int_total\"):\n",
        "            #trimmed_value = re.sub(\"[|]\", '',tess_text)\n",
        "            values = tess_text.split(' ')[-1]\n",
        "            tr= re.sub(\"[^\\d.,$]\", '',values)\n",
        "            \n",
        "            trimmed_value1=tr\n",
        "            #trimmed_value1 = re.sub(\"[\\W]\", '',values) #\"[a-zA-Z|#©§*{<:>}(&)\\\\[~«\\\\]-]\", '',values)\n",
        "\n",
        "            #classname= \"Subtotal\" if detection_classes[i]==\"stotal\" else \"Invoice Total\"\n",
        "            classname= \"Invoice Total\"\n",
        "            comp_dict[classname]=trimmed_value1\n",
        "            text_array.append(trimmed_value1)\n",
        "        else:\n",
        "            dates = search_dates(tess_text)\n",
        "            #print(dates)\n",
        "            #text_array.append(dates)\n",
        "            if dates!=None:\n",
        "                text_array.append(dates[0][0])\n",
        "                comp_dict[\"Invoice Date\"]=dates[0][0]\n",
        "            else:\n",
        "                trimmed_date = re.sub(\"[a-zA-Z|©#§*{<:>}(&)\\\\[-~«\\\\]]\", '',tess_text)\n",
        "                #trimmed_date = re.sub(\"[\\W]\", '',tess_text)   \n",
        "                comp_dict[\"Invoice Date\"]=trimmed_date\n",
        "                text_array.append(trimmed_date)\n",
        "\n",
        "        #df1.update(text1)\n",
        "   \n",
        "    comp_df = pd.DataFrame.from_dict(comp_dict, orient=\"index\")\n",
        "    \n",
        "    #comp_df.insert(0,\"Component\",detection_classes)\n",
        "    \n",
        "    return comp_df\n"
      ],
      "execution_count": 13,
      "outputs": []
    },
    {
      "cell_type": "code",
      "metadata": {
        "colab_type": "code",
        "id": "mqVtBqvCipBQ",
        "colab": {
          "base_uri": "https://localhost:8080/",
          "height": 72
        },
        "outputId": "e66a9e86-f28a-483c-f3f1-f5853fc0f085"
      },
      "source": [
        "\n",
        "error_dict = {}\n",
        "all_invoices_data=pd.DataFrame().append(pd.Series(), ignore_index=True)\n",
        "merge_cells_positions=[]\n",
        "count_of_processed_pdfs=0\n",
        "next_pdf_start_row=2\n",
        "next_error_df_start_row=1\n",
        "\n",
        "now = datetime.now()\n",
        "all_inv_dt_string = now.strftime(\"%Y_%m_%d_%H\")\n",
        "\n",
        "#writer objects\n",
        "actual_path = os.path.join(output_excel_dir,all_inv_dt_string+\".xlsx\")\n",
        "duplicate_files_count=0\n",
        "path = actual_path\n",
        "while (os.path.isfile(path)):\n",
        "    duplicate_files_count+=1\n",
        "    path=actual_path[:-5]+\"_\"+str(duplicate_files_count) +\".xlsx\"\n",
        "\n",
        "writer = pd.ExcelWriter(path, engine='xlsxwriter')\n",
        "all_invoices_data.to_excel(writer,sheet_name='Invoice Data',index=False,header=False)\n",
        "workbook  = writer.book\n",
        "\n",
        "#creating dictionaries as per pbtxt\n",
        "table_dict = np.array(['','table','row', 'column'])\n",
        "#details_dict = np.array(['', 'inv_num','inv_date','inv_tot','stotal','vendor','addr','tax'])\n",
        "details_dict = np.array(['', 'inv_num','inv_date','vendor','int_total'])\n"
      ],
      "execution_count": 14,
      "outputs": [
        {
          "output_type": "stream",
          "text": [
            "/usr/local/lib/python3.6/dist-packages/ipykernel_launcher.py:3: DeprecationWarning: The default dtype for empty Series will be 'object' instead of 'float64' in a future version. Specify a dtype explicitly to silence this warning.\n",
            "  This is separate from the ipykernel package so we can avoid doing imports until\n"
          ],
          "name": "stderr"
        }
      ]
    },
    {
      "cell_type": "code",
      "metadata": {
        "colab_type": "code",
        "id": "egxK_7QIfp-e",
        "colab": {
          "base_uri": "https://localhost:8080/",
          "height": 1000
        },
        "outputId": "8cd6374a-184a-4bbd-9a2d-eb76cab3e4fa"
      },
      "source": [
        "\n",
        "if __name__ == \"__main__\":  # Execution starts here\n",
        "    start()\n",
        "    freeze_panes_and_apply_header_formats()\n",
        "    writer.save()"
      ],
      "execution_count": 15,
      "outputs": [
        {
          "output_type": "stream",
          "text": [
            "McDonald's Deutschland LLC\n",
            "\f\n",
            "\n",
            "St. Nr. /UStLONE. 143/311/00138\n",
            "\f\n",
            "\n",
            "BIT /ED19\n",
            "\f\n",
            "\n",
            "TNNEN TOTAL 7.99\n",
            "\f\n",
            "\n",
            "                              0  ... Invoice Total\n",
            "0  mcdonalds_20190428_page-0001  ...          7.99\n",
            "1                           NaN  ...           NaN\n",
            "\n",
            "[2 rows x 5 columns]\n",
            "EUR 993,98\n",
            "\f\n",
            "\n"
          ],
          "name": "stdout"
        },
        {
          "output_type": "stream",
          "text": [
            "/usr/local/lib/python3.6/dist-packages/ipykernel_launcher.py:9: DeprecationWarning: The default dtype for empty Series will be 'object' instead of 'float64' in a future version. Specify a dtype explicitly to silence this warning.\n",
            "  if __name__ == '__main__':\n",
            "/usr/local/lib/python3.6/dist-packages/ipykernel_launcher.py:14: DeprecationWarning: The default dtype for empty Series will be 'object' instead of 'float64' in a future version. Specify a dtype explicitly to silence this warning.\n",
            "  \n"
          ],
          "name": "stderr"
        },
        {
          "output_type": "stream",
          "text": [
            "ANSON'S Herrenhaus KG\n",
            "\f\n",
            "\n",
            "190114117132805\n",
            "\f\n",
            "\n",
            "                           0  ... Invoice Total\n",
            "0  ansons_20190119_page-0001  ...        993,98\n",
            "1                        NaN  ...           NaN\n",
            "\n",
            "[2 rows x 5 columns]\n"
          ],
          "name": "stdout"
        },
        {
          "output_type": "stream",
          "text": [
            "/usr/local/lib/python3.6/dist-packages/ipykernel_launcher.py:9: DeprecationWarning: The default dtype for empty Series will be 'object' instead of 'float64' in a future version. Specify a dtype explicitly to silence this warning.\n",
            "  if __name__ == '__main__':\n",
            "/usr/local/lib/python3.6/dist-packages/ipykernel_launcher.py:14: DeprecationWarning: The default dtype for empty Series will be 'object' instead of 'float64' in a future version. Specify a dtype explicitly to silence this warning.\n",
            "  \n"
          ],
          "name": "stderr"
        },
        {
          "output_type": "stream",
          "text": [
            "‘OTAL 215.00\n",
            "\f\n",
            "\n",
            "INVOICE\n",
            "\f\n",
            "\n",
            "[Your Company Name]\n",
            "\f\n",
            "\n",
            "             0 Invoice Number Invoice Date        Vendor Name Invoice Total\n",
            "0  Invoice_107              -            \f  Your Company Name        215.00\n",
            "1          NaN            NaN          NaN                NaN           NaN\n"
          ],
          "name": "stdout"
        },
        {
          "output_type": "stream",
          "text": [
            "/usr/local/lib/python3.6/dist-packages/ipykernel_launcher.py:9: DeprecationWarning: The default dtype for empty Series will be 'object' instead of 'float64' in a future version. Specify a dtype explicitly to silence this warning.\n",
            "  if __name__ == '__main__':\n",
            "/usr/local/lib/python3.6/dist-packages/ipykernel_launcher.py:14: DeprecationWarning: The default dtype for empty Series will be 'object' instead of 'float64' in a future version. Specify a dtype explicitly to silence this warning.\n",
            "  \n"
          ],
          "name": "stderr"
        },
        {
          "output_type": "stream",
          "text": [
            "Endbetrag: 10, 10€\n",
            "\f\n",
            "\n",
            "JIM BLOCK\n",
            "\f\n",
            "\n",
            "16.01.2019 20:14\n",
            "\f\n",
            "\n",
            "                             0 Invoice Number  ... Vendor Name Invoice Total\n",
            "0  jimblock_20190120_page-0001              -  ...   JIM BLOCK            10\n",
            "1                          NaN            NaN  ...         NaN           NaN\n",
            "\n",
            "[2 rows x 5 columns]\n"
          ],
          "name": "stdout"
        },
        {
          "output_type": "stream",
          "text": [
            "/usr/local/lib/python3.6/dist-packages/ipykernel_launcher.py:9: DeprecationWarning: The default dtype for empty Series will be 'object' instead of 'float64' in a future version. Specify a dtype explicitly to silence this warning.\n",
            "  if __name__ == '__main__':\n",
            "/usr/local/lib/python3.6/dist-packages/ipykernel_launcher.py:14: DeprecationWarning: The default dtype for empty Series will be 'object' instead of 'float64' in a future version. Specify a dtype explicitly to silence this warning.\n",
            "  \n"
          ],
          "name": "stderr"
        },
        {
          "output_type": "stream",
          "text": [
            "Rechnunasnummer: 252966\n",
            "\f\n",
            "\n",
            "dean and david HH Jungfernstieg Gabl\n",
            "\f\n",
            "\n",
            "                                0  ... Invoice Total\n",
            "0  deanandavid_20191026_page-0001  ...             -\n",
            "1                             NaN  ...           NaN\n",
            "\n",
            "[2 rows x 5 columns]\n",
            "TOTAL %12,980.7\n",
            "\f\n",
            "\n"
          ],
          "name": "stdout"
        },
        {
          "output_type": "stream",
          "text": [
            "/usr/local/lib/python3.6/dist-packages/ipykernel_launcher.py:9: DeprecationWarning: The default dtype for empty Series will be 'object' instead of 'float64' in a future version. Specify a dtype explicitly to silence this warning.\n",
            "  if __name__ == '__main__':\n",
            "/usr/local/lib/python3.6/dist-packages/ipykernel_launcher.py:14: DeprecationWarning: The default dtype for empty Series will be 'object' instead of 'float64' in a future version. Specify a dtype explicitly to silence this warning.\n",
            "  \n"
          ],
          "name": "stderr"
        },
        {
          "output_type": "stream",
          "text": [
            "Panchika Randhawa\n",
            "\f\n",
            "\n",
            "NUNIRE IN-001\n",
            "\f\n",
            "\n",
            "INVOICE DATE 29/01/2019\n",
            "\f\n",
            "\n",
            "             0 Invoice Number Invoice Date        Vendor Name Invoice Total\n",
            "0  Invoice_149           001    29/01/2019  Panchika Randhawa      12,980.7\n",
            "1          NaN            NaN          NaN                NaN           NaN\n"
          ],
          "name": "stdout"
        },
        {
          "output_type": "stream",
          "text": [
            "/usr/local/lib/python3.6/dist-packages/ipykernel_launcher.py:9: DeprecationWarning: The default dtype for empty Series will be 'object' instead of 'float64' in a future version. Specify a dtype explicitly to silence this warning.\n",
            "  if __name__ == '__main__':\n",
            "/usr/local/lib/python3.6/dist-packages/ipykernel_launcher.py:14: DeprecationWarning: The default dtype for empty Series will be 'object' instead of 'float64' in a future version. Specify a dtype explicitly to silence this warning.\n",
            "  \n"
          ],
          "name": "stderr"
        },
        {
          "output_type": "stream",
          "text": [
            "70000503081231910192\n",
            "\f\n",
            "\n",
            "Total FUR 5.9%\n",
            "\f\n",
            "\n",
            "C&A D\n",
            "\f\n",
            "\n",
            "                       0         Invoice Number  ... Vendor Name Invoice Total\n",
            "0  ca-20191020_page-0001  70000503081231910192   ...        CA D           5.9\n",
            "1                    NaN                    NaN  ...         NaN           NaN\n",
            "\n",
            "[2 rows x 5 columns]\n"
          ],
          "name": "stdout"
        },
        {
          "output_type": "stream",
          "text": [
            "/usr/local/lib/python3.6/dist-packages/ipykernel_launcher.py:9: DeprecationWarning: The default dtype for empty Series will be 'object' instead of 'float64' in a future version. Specify a dtype explicitly to silence this warning.\n",
            "  if __name__ == '__main__':\n",
            "/usr/local/lib/python3.6/dist-packages/ipykernel_launcher.py:14: DeprecationWarning: The default dtype for empty Series will be 'object' instead of 'float64' in a future version. Specify a dtype explicitly to silence this warning.\n",
            "  \n"
          ],
          "name": "stderr"
        },
        {
          "output_type": "stream",
          "text": [
            "TOTAL 712,980.71\n",
            "\f\n",
            "\n",
            "Panchika Randhawa\n",
            "\f\n",
            "\n",
            "pO\n",
            "\f\n",
            "\n",
            "Invoice # IN-001\n",
            "\f\n",
            "\n",
            "             0 Invoice Number Invoice Date        Vendor Name Invoice Total\n",
            "0  Invoice_144           001            pO  Panchika Randhawa    712,980.71\n",
            "1          NaN            NaN          NaN                NaN           NaN\n"
          ],
          "name": "stdout"
        },
        {
          "output_type": "stream",
          "text": [
            "/usr/local/lib/python3.6/dist-packages/ipykernel_launcher.py:9: DeprecationWarning: The default dtype for empty Series will be 'object' instead of 'float64' in a future version. Specify a dtype explicitly to silence this warning.\n",
            "  if __name__ == '__main__':\n",
            "/usr/local/lib/python3.6/dist-packages/ipykernel_launcher.py:14: DeprecationWarning: The default dtype for empty Series will be 'object' instead of 'float64' in a future version. Specify a dtype explicitly to silence this warning.\n",
            "  \n"
          ],
          "name": "stderr"
        },
        {
          "output_type": "stream",
          "text": [
            "DEICHMANN\n",
            "\f\n",
            "\n",
            "000005880200075030820196°\n",
            "\f\n",
            "\n",
            "SUMHE EUR «G4, 90\n",
            "\f\n",
            "\n",
            "                                  0  ... Invoice Total\n",
            "0  deichmann_20190803_003_page-0001  ...            90\n",
            "1                               NaN  ...           NaN\n",
            "\n",
            "[2 rows x 5 columns]\n"
          ],
          "name": "stdout"
        },
        {
          "output_type": "stream",
          "text": [
            "/usr/local/lib/python3.6/dist-packages/ipykernel_launcher.py:9: DeprecationWarning: The default dtype for empty Series will be 'object' instead of 'float64' in a future version. Specify a dtype explicitly to silence this warning.\n",
            "  if __name__ == '__main__':\n",
            "/usr/local/lib/python3.6/dist-packages/ipykernel_launcher.py:14: DeprecationWarning: The default dtype for empty Series will be 'object' instead of 'float64' in a future version. Specify a dtype explicitly to silence this warning.\n",
            "  \n"
          ],
          "name": "stderr"
        },
        {
          "output_type": "stream",
          "text": [
            "Invoice # IN-001\n",
            "» data. CA OY\n",
            "\f\n",
            "\n",
            "Panchika Randhawa\n",
            "\f\n",
            "\n",
            "Invoice Date 29/01/2019\n",
            "\f\n",
            "\n",
            "             0 Invoice Number Invoice Date        Vendor Name Invoice Total\n",
            "0  Invoice_146   001 dataCAOY   29/01/2019  Panchika Randhawa             -\n",
            "1          NaN            NaN          NaN                NaN           NaN\n"
          ],
          "name": "stdout"
        },
        {
          "output_type": "stream",
          "text": [
            "/usr/local/lib/python3.6/dist-packages/ipykernel_launcher.py:9: DeprecationWarning: The default dtype for empty Series will be 'object' instead of 'float64' in a future version. Specify a dtype explicitly to silence this warning.\n",
            "  if __name__ == '__main__':\n",
            "/usr/local/lib/python3.6/dist-packages/ipykernel_launcher.py:14: DeprecationWarning: The default dtype for empty Series will be 'object' instead of 'float64' in a future version. Specify a dtype explicitly to silence this warning.\n",
            "  \n"
          ],
          "name": "stderr"
        },
        {
          "output_type": "stream",
          "text": [
            "E.Breuninger GmbH & Co.\n",
            "\f\n",
            "\n",
            "EUR 49,99\n",
            "\f\n",
            "\n",
            "                                   0  ... Invoice Total\n",
            "0  breuninger-20190330_001_page-0001  ...         49,99\n",
            "1                                NaN  ...           NaN\n",
            "\n",
            "[2 rows x 5 columns]\n"
          ],
          "name": "stdout"
        },
        {
          "output_type": "stream",
          "text": [
            "/usr/local/lib/python3.6/dist-packages/ipykernel_launcher.py:9: DeprecationWarning: The default dtype for empty Series will be 'object' instead of 'float64' in a future version. Specify a dtype explicitly to silence this warning.\n",
            "  if __name__ == '__main__':\n",
            "/usr/local/lib/python3.6/dist-packages/ipykernel_launcher.py:14: DeprecationWarning: The default dtype for empty Series will be 'object' instead of 'float64' in a future version. Specify a dtype explicitly to silence this warning.\n",
            "  \n"
          ],
          "name": "stderr"
        }
      ]
    },
    {
      "cell_type": "code",
      "metadata": {
        "colab_type": "code",
        "id": "WBXfJwTNimpf",
        "colab": {}
      },
      "source": [
        ""
      ],
      "execution_count": null,
      "outputs": []
    },
    {
      "cell_type": "code",
      "metadata": {
        "colab_type": "code",
        "id": "vRsTl5Daikq7",
        "colab": {}
      },
      "source": [
        ""
      ],
      "execution_count": null,
      "outputs": []
    }
  ]
}