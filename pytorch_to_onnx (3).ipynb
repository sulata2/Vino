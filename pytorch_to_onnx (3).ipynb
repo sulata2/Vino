{
  "nbformat": 4,
  "nbformat_minor": 0,
  "metadata": {
    "kernelspec": {
      "display_name": "Python 3",
      "language": "python",
      "name": "python3"
    },
    "language_info": {
      "codemirror_mode": {
        "name": "ipython",
        "version": 3
      },
      "file_extension": ".py",
      "mimetype": "text/x-python",
      "name": "python",
      "nbconvert_exporter": "python",
      "pygments_lexer": "ipython3",
      "version": "3.7.6"
    },
    "colab": {
      "name": "pytorch_to_onnx (3).ipynb",
      "provenance": []
    },
    "widgets": {
      "application/vnd.jupyter.widget-state+json": {
        "700d3123c01f4f1b9df2cf3bb901f1f4": {
          "model_module": "@jupyter-widgets/controls",
          "model_name": "HBoxModel",
          "state": {
            "_view_name": "HBoxView",
            "_dom_classes": [],
            "_model_name": "HBoxModel",
            "_view_module": "@jupyter-widgets/controls",
            "_model_module_version": "1.5.0",
            "_view_count": null,
            "_view_module_version": "1.5.0",
            "box_style": "",
            "layout": "IPY_MODEL_7a11c3b0730244b08181d9115c8660bb",
            "_model_module": "@jupyter-widgets/controls",
            "children": [
              "IPY_MODEL_912a40dbeca946959ed68f8cccb128b4",
              "IPY_MODEL_bc0589cf755145f3bac5f37a6dacf92d"
            ]
          }
        },
        "7a11c3b0730244b08181d9115c8660bb": {
          "model_module": "@jupyter-widgets/base",
          "model_name": "LayoutModel",
          "state": {
            "_view_name": "LayoutView",
            "grid_template_rows": null,
            "right": null,
            "justify_content": null,
            "_view_module": "@jupyter-widgets/base",
            "overflow": null,
            "_model_module_version": "1.2.0",
            "_view_count": null,
            "flex_flow": null,
            "width": null,
            "min_width": null,
            "border": null,
            "align_items": null,
            "bottom": null,
            "_model_module": "@jupyter-widgets/base",
            "top": null,
            "grid_column": null,
            "overflow_y": null,
            "overflow_x": null,
            "grid_auto_flow": null,
            "grid_area": null,
            "grid_template_columns": null,
            "flex": null,
            "_model_name": "LayoutModel",
            "justify_items": null,
            "grid_row": null,
            "max_height": null,
            "align_content": null,
            "visibility": null,
            "align_self": null,
            "height": null,
            "min_height": null,
            "padding": null,
            "grid_auto_rows": null,
            "grid_gap": null,
            "max_width": null,
            "order": null,
            "_view_module_version": "1.2.0",
            "grid_template_areas": null,
            "object_position": null,
            "object_fit": null,
            "grid_auto_columns": null,
            "margin": null,
            "display": null,
            "left": null
          }
        },
        "912a40dbeca946959ed68f8cccb128b4": {
          "model_module": "@jupyter-widgets/controls",
          "model_name": "FloatProgressModel",
          "state": {
            "_view_name": "ProgressView",
            "style": "IPY_MODEL_4ecd2acabbe048f1bc8617f0088b3d51",
            "_dom_classes": [],
            "description": "100%",
            "_model_name": "FloatProgressModel",
            "bar_style": "success",
            "max": 102502400,
            "_view_module": "@jupyter-widgets/controls",
            "_model_module_version": "1.5.0",
            "value": 102502400,
            "_view_count": null,
            "_view_module_version": "1.5.0",
            "orientation": "horizontal",
            "min": 0,
            "description_tooltip": null,
            "_model_module": "@jupyter-widgets/controls",
            "layout": "IPY_MODEL_9c120f9b656047cd91ef09f9a7b37dbc"
          }
        },
        "bc0589cf755145f3bac5f37a6dacf92d": {
          "model_module": "@jupyter-widgets/controls",
          "model_name": "HTMLModel",
          "state": {
            "_view_name": "HTMLView",
            "style": "IPY_MODEL_61108d4d2bc94be39ea53b014346902f",
            "_dom_classes": [],
            "description": "",
            "_model_name": "HTMLModel",
            "placeholder": "​",
            "_view_module": "@jupyter-widgets/controls",
            "_model_module_version": "1.5.0",
            "value": " 97.8M/97.8M [12:18&lt;00:00, 139kB/s]",
            "_view_count": null,
            "_view_module_version": "1.5.0",
            "description_tooltip": null,
            "_model_module": "@jupyter-widgets/controls",
            "layout": "IPY_MODEL_910b53e6244c431eabeab39a8ff5183f"
          }
        },
        "4ecd2acabbe048f1bc8617f0088b3d51": {
          "model_module": "@jupyter-widgets/controls",
          "model_name": "ProgressStyleModel",
          "state": {
            "_view_name": "StyleView",
            "_model_name": "ProgressStyleModel",
            "description_width": "initial",
            "_view_module": "@jupyter-widgets/base",
            "_model_module_version": "1.5.0",
            "_view_count": null,
            "_view_module_version": "1.2.0",
            "bar_color": null,
            "_model_module": "@jupyter-widgets/controls"
          }
        },
        "9c120f9b656047cd91ef09f9a7b37dbc": {
          "model_module": "@jupyter-widgets/base",
          "model_name": "LayoutModel",
          "state": {
            "_view_name": "LayoutView",
            "grid_template_rows": null,
            "right": null,
            "justify_content": null,
            "_view_module": "@jupyter-widgets/base",
            "overflow": null,
            "_model_module_version": "1.2.0",
            "_view_count": null,
            "flex_flow": null,
            "width": null,
            "min_width": null,
            "border": null,
            "align_items": null,
            "bottom": null,
            "_model_module": "@jupyter-widgets/base",
            "top": null,
            "grid_column": null,
            "overflow_y": null,
            "overflow_x": null,
            "grid_auto_flow": null,
            "grid_area": null,
            "grid_template_columns": null,
            "flex": null,
            "_model_name": "LayoutModel",
            "justify_items": null,
            "grid_row": null,
            "max_height": null,
            "align_content": null,
            "visibility": null,
            "align_self": null,
            "height": null,
            "min_height": null,
            "padding": null,
            "grid_auto_rows": null,
            "grid_gap": null,
            "max_width": null,
            "order": null,
            "_view_module_version": "1.2.0",
            "grid_template_areas": null,
            "object_position": null,
            "object_fit": null,
            "grid_auto_columns": null,
            "margin": null,
            "display": null,
            "left": null
          }
        },
        "61108d4d2bc94be39ea53b014346902f": {
          "model_module": "@jupyter-widgets/controls",
          "model_name": "DescriptionStyleModel",
          "state": {
            "_view_name": "StyleView",
            "_model_name": "DescriptionStyleModel",
            "description_width": "",
            "_view_module": "@jupyter-widgets/base",
            "_model_module_version": "1.5.0",
            "_view_count": null,
            "_view_module_version": "1.2.0",
            "_model_module": "@jupyter-widgets/controls"
          }
        },
        "910b53e6244c431eabeab39a8ff5183f": {
          "model_module": "@jupyter-widgets/base",
          "model_name": "LayoutModel",
          "state": {
            "_view_name": "LayoutView",
            "grid_template_rows": null,
            "right": null,
            "justify_content": null,
            "_view_module": "@jupyter-widgets/base",
            "overflow": null,
            "_model_module_version": "1.2.0",
            "_view_count": null,
            "flex_flow": null,
            "width": null,
            "min_width": null,
            "border": null,
            "align_items": null,
            "bottom": null,
            "_model_module": "@jupyter-widgets/base",
            "top": null,
            "grid_column": null,
            "overflow_y": null,
            "overflow_x": null,
            "grid_auto_flow": null,
            "grid_area": null,
            "grid_template_columns": null,
            "flex": null,
            "_model_name": "LayoutModel",
            "justify_items": null,
            "grid_row": null,
            "max_height": null,
            "align_content": null,
            "visibility": null,
            "align_self": null,
            "height": null,
            "min_height": null,
            "padding": null,
            "grid_auto_rows": null,
            "grid_gap": null,
            "max_width": null,
            "order": null,
            "_view_module_version": "1.2.0",
            "grid_template_areas": null,
            "object_position": null,
            "object_fit": null,
            "grid_auto_columns": null,
            "margin": null,
            "display": null,
            "left": null
          }
        }
      }
    },
    "accelerator": "GPU"
  },
  "cells": [
    {
      "cell_type": "code",
      "metadata": {
        "id": "RM2n-c0SRsyh",
        "colab_type": "code",
        "colab": {}
      },
      "source": [
        "from torchvision import transforms\n",
        "from torch.utils.data import Dataset, DataLoader\n",
        "import glob\n",
        "import torch.nn as nn\n",
        "import os.path as osp\n",
        "import torchvision\n",
        "import matplotlib.pyplot as plt\n",
        "import torch\n",
        "#import rotateImage\n",
        "import cv2\n",
        "import numpy as np\n",
        "#import split_folders\n",
        "import random\n",
        "import torch.backends.cudnn as cudnn\n",
        "import torch.optim as optim\n",
        "from random import choice\n",
        "from collections import OrderedDict"
      ],
      "execution_count": 1,
      "outputs": []
    },
    {
      "cell_type": "code",
      "metadata": {
        "id": "Y21Iy8fZ-ZzY",
        "colab_type": "code",
        "colab": {}
      },
      "source": [
        ""
      ],
      "execution_count": null,
      "outputs": []
    },
    {
      "cell_type": "code",
      "metadata": {
        "id": "i3WWiN6LRsys",
        "colab_type": "code",
        "colab": {
          "base_uri": "https://localhost:8080/",
          "height": 87
        },
        "outputId": "4da6cff2-fb3b-4480-f7a2-55768be6bc63"
      },
      "source": [
        "#/content/Car-damage/carPartModel-305.pth\n",
        "#/content/drive/My Drive/Car-part-damage/carPartModel-305.pth\n",
        "model1 = torch.load('/content/drive/My Drive/Car-part-damage/carPartModel-305.pth',map_location=torch.device('cpu'))\n",
        "#model1 = torch.load('/content/Car-damage/carPartModel-305.pth')\n",
        "for names in model1:\n",
        "  print(names)\n",
        "#for name,param in model1.items():\n",
        "#   if name=='state_dict':\n",
        "#     print(param)"
      ],
      "execution_count": 3,
      "outputs": [
        {
          "output_type": "stream",
          "text": [
            "epoch\n",
            "state_dict\n",
            "class_to_idx\n",
            "confusion_matrix\n"
          ],
          "name": "stdout"
        }
      ]
    },
    {
      "cell_type": "code",
      "metadata": {
        "id": "mESDINDwAXty",
        "colab_type": "code",
        "colab": {
          "base_uri": "https://localhost:8080/",
          "height": 349
        },
        "outputId": "2992d6f5-2715-4526-8b0c-25d08f82d41a"
      },
      "source": [
        "cm = torch.tensor([[ 90.,   0.,   0.,   2.,   2.,   0.,   0.,   1.,   3.,   0.,   0.],\n",
        "        [  1., 113.,   0.,   2.,   1.,   0.,   1.,   1.,   1.,   1.,   5.],\n",
        "        [  0.,   2., 110.,   3.,   2.,   1.,   3.,   3.,   0.,   0.,   4.],\n",
        "        [  4.,   0.,   2., 102.,   2.,   0.,   2.,   0.,   0.,   1.,   0.],\n",
        "        [  2.,   0.,   0.,   3., 102.,   2.,   1.,   0.,   1.,   2.,   0.],\n",
        "        [  2.,   1.,   0.,   1.,   0.,  68.,   1.,   2.,   0.,   7.,   0.],\n",
        "        [  0.,   0.,   6.,   2.,   2.,   0., 115.,   3.,   1.,   0.,   2.],\n",
        "        [  1.,   0.,   3.,   0.,   1.,   3.,   8., 136.,   0.,   2.,   8.],\n",
        "        [  1.,   2.,   0.,   1.,   1.,   0.,   1.,   0., 112.,   1.,   1.],\n",
        "        [  0.,   2.,   1.,   0.,   1.,   7.,   1.,   1.,   0.,  85.,   4.],\n",
        "        [  0.,   1.,   6.,   3.,   0.,   0.,   1.,   5.,   2.,   1.,  84.]])\n",
        "cm = cm.numpy()\n",
        "print(model1[\"class_to_idx\"])\n",
        "\n",
        "def precision(label, confusion_matrix):\n",
        "    col = confusion_matrix[:, label]\n",
        "    return confusion_matrix[label, label] / col.sum()\n",
        "\n",
        "def recall(label, confusion_matrix):\n",
        "    row = confusion_matrix[label, :]\n",
        "    return confusion_matrix[label, label] / row.sum()\n",
        "    \n",
        "def precision_macro_average(confusion_matrix):\n",
        "    rows, columns = confusion_matrix.shape\n",
        "    sum_of_precisions = 0\n",
        "    for label in range(rows):\n",
        "        sum_of_precisions += precision(label, confusion_matrix)\n",
        "    return sum_of_precisions / rows\n",
        "\n",
        "def recall_macro_average(confusion_matrix):\n",
        "    rows, columns = confusion_matrix.shape\n",
        "    sum_of_recalls = 0\n",
        "    for label in range(columns):\n",
        "        sum_of_recalls += recall(label, confusion_matrix)\n",
        "    return sum_of_recalls / columns\n",
        "print(\" \")\n",
        "print(\"label precision recall\")\n",
        "for label in range(10):\n",
        "    print(f\"{label:5d} {precision(label, cm):9.3f} {recall(label, cm):6.3f}\")\n",
        "print(\" \")\n",
        "print(\"precision total:\", precision_macro_average(cm))\n",
        "print(\"recall total:\", recall_macro_average(cm))\n",
        "print(\"\")\n",
        "def accuracy(confusion_matrix):\n",
        "    diagonal_sum = confusion_matrix.trace()\n",
        "    sum_of_all_elements = confusion_matrix.sum()\n",
        "    return diagonal_sum / sum_of_all_elements\n",
        "\n",
        "print(\"accuracy:\",accuracy(cm))"
      ],
      "execution_count": 7,
      "outputs": [
        {
          "output_type": "stream",
          "text": [
            "{'glassShatterFront': 0, 'unknown': 1, 'tailLamp': 2, 'glassShatterRear': 3, 'glassShatterSide': 4, 'doorScratch': 5, 'headLamp': 6, 'bumperScratch': 7, 'multipleDamage': 8, 'doorDent': 9, 'bumperDent': 10}\n",
            " \n",
            "label precision recall\n",
            "    0     0.891  0.918\n",
            "    1     0.934  0.897\n",
            "    2     0.859  0.859\n",
            "    3     0.857  0.903\n",
            "    4     0.895  0.903\n",
            "    5     0.840  0.829\n",
            "    6     0.858  0.878\n",
            "    7     0.895  0.840\n",
            "    8     0.933  0.933\n",
            "    9     0.850  0.833\n",
            " \n",
            "precision total: 0.8717991980639371\n",
            "recall total: 0.8735195560888811\n",
            "\n",
            "accuracy: 0.8740219\n"
          ],
          "name": "stdout"
        }
      ]
    },
    {
      "cell_type": "code",
      "metadata": {
        "id": "uO2Sh3ocVg4p",
        "colab_type": "code",
        "colab": {
          "base_uri": "https://localhost:8080/",
          "height": 124
        },
        "outputId": "ac7f999f-0a50-4202-afde-9252c837fe07"
      },
      "source": [
        "from google.colab import drive\n",
        "drive.mount('/content/drive')"
      ],
      "execution_count": 2,
      "outputs": [
        {
          "output_type": "stream",
          "text": [
            "Go to this URL in a browser: https://accounts.google.com/o/oauth2/auth?client_id=947318989803-6bn6qk8qdgf4n4g3pfee6491hc0brc4i.apps.googleusercontent.com&redirect_uri=urn%3aietf%3awg%3aoauth%3a2.0%3aoob&scope=email%20https%3a%2f%2fwww.googleapis.com%2fauth%2fdocs.test%20https%3a%2f%2fwww.googleapis.com%2fauth%2fdrive%20https%3a%2f%2fwww.googleapis.com%2fauth%2fdrive.photos.readonly%20https%3a%2f%2fwww.googleapis.com%2fauth%2fpeopleapi.readonly&response_type=code\n",
            "\n",
            "Enter your authorization code:\n",
            "··········\n",
            "Mounted at /content/drive\n"
          ],
          "name": "stdout"
        }
      ]
    },
    {
      "cell_type": "code",
      "metadata": {
        "id": "h-SodeCxdodL",
        "colab_type": "code",
        "colab": {}
      },
      "source": [
        "#from PIL import Image, ImageFile\n",
        "#img = Image.open(\"/content/drive/My Drive/IMG-20200729-WA0036.jpg\")\n"
      ],
      "execution_count": null,
      "outputs": []
    },
    {
      "cell_type": "code",
      "metadata": {
        "id": "btFuGy5iczSv",
        "colab_type": "code",
        "colab": {}
      },
      "source": [
        "#!unzip \"/content/drive/My Drive/carDamageDetection.zip\" -d '/content/drive/My Drive/carDamageDetection'"
      ],
      "execution_count": null,
      "outputs": []
    },
    {
      "cell_type": "code",
      "metadata": {
        "id": "AFwhzlCjRsy3",
        "colab_type": "code",
        "colab": {}
      },
      "source": [
        "def load_model(checkpoint_path):\n",
        "  chpt = torch.load(checkpoint_path)\n",
        "  net = torchvision.models.resnet50(pretrained=True)\n",
        "  fc = nn.Sequential(OrderedDict([\n",
        "    (\"dropout\", nn.Dropout(0.4)),\n",
        "    (\"out\", nn.Linear(2048, 11))]))\n",
        "  net.fc = fc\n",
        "\n",
        "  for param, x in net.named_parameters():\n",
        "    if param.startswith(\"fc.out\"):\n",
        "        x.requires_grad = True\n",
        "    else:\n",
        "        x.requires_grad = False\n",
        "\n",
        "  device = torch.device(\"cuda:0\" if torch.cuda.is_available() else \"cpu\")\n",
        "  #net.class_to_idx = classes\n",
        "  net = net.to(device)\n",
        "  criterion = nn.CrossEntropyLoss()\n",
        "  optimizer = optim.SGD(net.parameters(), lr=0.001, momentum=0.9, weight_decay=5e-4)\n",
        "    \n",
        "  net.class_to_idx = chpt['class_to_idx']       \n",
        "  net.load_state_dict(chpt['state_dict'])  \n",
        "  return net"
      ],
      "execution_count": 4,
      "outputs": []
    },
    {
      "cell_type": "code",
      "metadata": {
        "id": "5-lI9t5IRsy9",
        "colab_type": "code",
        "colab": {
          "base_uri": "https://localhost:8080/",
          "height": 104,
          "referenced_widgets": [
            "700d3123c01f4f1b9df2cf3bb901f1f4",
            "7a11c3b0730244b08181d9115c8660bb",
            "912a40dbeca946959ed68f8cccb128b4",
            "bc0589cf755145f3bac5f37a6dacf92d",
            "4ecd2acabbe048f1bc8617f0088b3d51",
            "9c120f9b656047cd91ef09f9a7b37dbc",
            "61108d4d2bc94be39ea53b014346902f",
            "910b53e6244c431eabeab39a8ff5183f"
          ]
        },
        "outputId": "9543d74a-40d4-4008-e489-c34696580f12"
      },
      "source": [
        "the_model = load_model('/content/drive/My Drive/Car-part-damage/carPartModel-305.pth')\n",
        "# /content/drive/My Drive/carDamageDetection.zip"
      ],
      "execution_count": 5,
      "outputs": [
        {
          "output_type": "stream",
          "text": [
            "Downloading: \"https://download.pytorch.org/models/resnet50-19c8e357.pth\" to /root/.cache/torch/hub/checkpoints/resnet50-19c8e357.pth\n"
          ],
          "name": "stderr"
        },
        {
          "output_type": "display_data",
          "data": {
            "application/vnd.jupyter.widget-view+json": {
              "model_id": "700d3123c01f4f1b9df2cf3bb901f1f4",
              "version_minor": 0,
              "version_major": 2
            },
            "text/plain": [
              "HBox(children=(FloatProgress(value=0.0, max=102502400.0), HTML(value='')))"
            ]
          },
          "metadata": {
            "tags": []
          }
        },
        {
          "output_type": "stream",
          "text": [
            "\n"
          ],
          "name": "stdout"
        }
      ]
    },
    {
      "cell_type": "code",
      "metadata": {
        "id": "L5iy9F1LRszJ",
        "colab_type": "code",
        "colab": {
          "base_uri": "https://localhost:8080/",
          "height": 35
        },
        "outputId": "0ef46a2a-5323-41c7-aa06-8cc215dc3c3c"
      },
      "source": [
        "dummy_input = torch.randn(1, 3, 224, 224, device='cuda')\n",
        "onnx_path =  \"/content/pytorch_ONNx.onnx\"\n",
        "\n",
        "torch.onnx.export(the_model, dummy_input, onnx_path, verbose=False)\n",
        "print('Model exported to ' + onnx_path)"
      ],
      "execution_count": null,
      "outputs": [
        {
          "output_type": "stream",
          "text": [
            "Model exported to /content/pytorch_ONNx.onnx\n"
          ],
          "name": "stdout"
        }
      ]
    },
    {
      "cell_type": "code",
      "metadata": {
        "id": "-eAkCvRIn8w6",
        "colab_type": "code",
        "colab": {}
      },
      "source": [
        "dummy_input = torch.randn(1, 3, 224, 224, device='cuda')"
      ],
      "execution_count": 8,
      "outputs": []
    },
    {
      "cell_type": "code",
      "metadata": {
        "id": "V1UgUQvCoDdk",
        "colab_type": "code",
        "colab": {}
      },
      "source": [
        "#PyTorch Profiler\n",
        "import torch.autograd.profiler as profiler"
      ],
      "execution_count": 9,
      "outputs": []
    },
    {
      "cell_type": "code",
      "metadata": {
        "id": "l5i1Cd6boHIv",
        "colab_type": "code",
        "colab": {}
      },
      "source": [
        "with profiler.profile(record_shapes=True) as prof:\n",
        "    with profiler.record_function(\"model_inference\"):\n",
        "        the_model(dummy_input)"
      ],
      "execution_count": 10,
      "outputs": []
    },
    {
      "cell_type": "code",
      "metadata": {
        "id": "iCYKNusVoRD6",
        "colab_type": "code",
        "colab": {
          "base_uri": "https://localhost:8080/",
          "height": 488
        },
        "outputId": "0ac2f4bd-1664-42f4-af6c-44bfcf3ce7df"
      },
      "source": [
        "print(prof.key_averages().table(sort_by=\"cpu_time_total\", row_limit=20))"
      ],
      "execution_count": 11,
      "outputs": [
        {
          "output_type": "stream",
          "text": [
            "---------------------------  ---------------  ---------------  ---------------  ---------------  ---------------  ---------------  \n",
            "Name                         Self CPU total %  Self CPU total   CPU total %      CPU total        CPU time avg     Number of Calls  \n",
            "---------------------------  ---------------  ---------------  ---------------  ---------------  ---------------  ---------------  \n",
            "model_inference              48.36%           60.957ms         100.00%          126.044ms        126.044ms        1                \n",
            "conv2d                       3.26%            4.109ms          22.15%           27.916ms         526.710us        53               \n",
            "convolution                  0.19%            245.032us        18.89%           23.806ms         449.178us        53               \n",
            "_convolution                 0.83%            1.049ms          18.69%           23.561ms         444.555us        53               \n",
            "cudnn_convolution            11.38%           14.338ms         17.76%           22.388ms         422.418us        53               \n",
            "add                          7.55%            9.513ms          7.66%            9.656ms          182.189us        53               \n",
            "resize_                      5.74%            7.230ms          5.74%            7.230ms          66.334us         109              \n",
            "adaptive_avg_pool2d          0.02%            25.825us         5.34%            6.732ms          6.732ms          1                \n",
            "mean                         5.29%            6.669ms          5.30%            6.683ms          6.683ms          1                \n",
            "relu_                        0.32%            405.439us        5.14%            6.474ms          132.114us        49               \n",
            "threshold_                   4.81%            6.068ms          4.81%            6.068ms          123.840us        49               \n",
            "dropout                      0.06%            80.949us         4.33%            5.455ms          5.455ms          1                \n",
            "_fused_dropout               4.25%            5.352ms          4.26%            5.374ms          5.374ms          1                \n",
            "addmm                        3.47%            4.370ms          3.49%            4.401ms          4.401ms          1                \n",
            "batch_norm                   0.19%            238.578us        2.92%            3.679ms          69.418us         53               \n",
            "_batch_norm_impl_index       0.36%            458.029us        2.73%            3.441ms          64.916us         53               \n",
            "cudnn_batch_norm             1.48%            1.859ms          2.03%            2.558ms          48.261us         53               \n",
            "empty                        0.94%            1.184ms          0.94%            1.184ms          2.754us          430              \n",
            "contiguous                   0.40%            505.240us        0.40%            505.240us        1.186us          426              \n",
            "size                         0.25%            316.018us        0.25%            316.018us        0.279us          1134             \n",
            "---------------------------  ---------------  ---------------  ---------------  ---------------  ---------------  ---------------  \n",
            "Self CPU time total: 126.044ms\n",
            "\n"
          ],
          "name": "stdout"
        }
      ]
    },
    {
      "cell_type": "code",
      "metadata": {
        "id": "kk1Cc-daobEU",
        "colab_type": "code",
        "colab": {
          "base_uri": "https://localhost:8080/",
          "height": 488
        },
        "outputId": "f5542989-1f9a-45ee-fd1f-a8bf27fbb6bc"
      },
      "source": [
        "with profiler.profile(profile_memory=True, record_shapes=True) as prof:\n",
        "    the_model(dummy_input)\n",
        "\n",
        "print(prof.key_averages().table(sort_by=\"self_cpu_memory_usage\", row_limit=20))"
      ],
      "execution_count": 12,
      "outputs": [
        {
          "output_type": "stream",
          "text": [
            "---------------------------  ---------------  ---------------  ---------------  ---------------  ---------------  ---------------  ---------------  ---------------  ---------------  ---------------  \n",
            "Name                         Self CPU total %  Self CPU total   CPU total %      CPU total        CPU time avg     CPU Mem          Self CPU Mem     CUDA Mem         Self CUDA Mem    Number of Calls  \n",
            "---------------------------  ---------------  ---------------  ---------------  ---------------  ---------------  ---------------  ---------------  ---------------  ---------------  ---------------  \n",
            "conv2d                       1.34%            208.726us        43.73%           6.830ms          128.877us        0 b              0 b              43.33 Mb         0 b              53               \n",
            "convolution                  1.45%            226.232us        42.39%           6.622ms          124.938us        0 b              0 b              43.33 Mb         0 b              53               \n",
            "_convolution                 4.86%            758.654us        40.94%           6.396ms          120.670us        0 b              0 b              43.33 Mb         0 b              53               \n",
            "size                         4.32%            675.135us        4.32%            675.135us        0.595us          0 b              0 b              0 b              0 b              1134             \n",
            "contiguous                   2.45%            382.596us        2.45%            382.596us        0.898us          0 b              0 b              0 b              0 b              426              \n",
            "cudnn_convolution            27.04%           4.223ms          34.60%           5.405ms          101.983us        0 b              0 b              43.33 Mb         -100.00 Mb       53               \n",
            "empty                        9.27%            1.448ms          9.27%            1.448ms          3.368us          0 b              0 b              188.79 Mb        188.79 Mb        430              \n",
            "resize_                      0.87%            136.481us        0.87%            136.481us        1.252us          0 b              0 b              2.30 Mb          2.30 Mb          109              \n",
            "stride                       0.49%            77.047us         0.49%            77.047us         0.339us          0 b              0 b              0 b              0 b              227              \n",
            "is_complex                   0.37%            57.116us         0.37%            57.116us         1.078us          0 b              0 b              0 b              0 b              53               \n",
            "add                          7.53%            1.176ms          9.01%            1.407ms          26.551us         0 b              0 b              26.50 Kb         0 b              53               \n",
            "batch_norm                   2.44%            381.420us        35.22%           5.501ms          103.789us        0 b              0 b              45.21 Mb         -211.00 Kb       53               \n",
            "_batch_norm_impl_index       3.80%            594.134us        32.77%           5.119ms          96.592us         0 b              0 b              45.42 Mb         0 b              53               \n",
            "cudnn_batch_norm             20.81%           3.251ms          27.44%           4.287ms          80.878us         0 b              0 b              45.42 Mb         0 b              53               \n",
            "empty_like                   0.73%            113.708us        2.44%            380.585us        7.048us          0 b              0 b              45.22 Mb         0 b              54               \n",
            "view                         0.99%            154.889us        0.99%            154.889us        2.766us          0 b              0 b              0 b              0 b              56               \n",
            "relu_                        2.18%            340.702us        6.65%            1.039ms          21.211us         0 b              0 b              0 b              0 b              49               \n",
            "threshold_                   4.47%            698.615us        4.47%            698.615us        14.257us         0 b              0 b              0 b              0 b              49               \n",
            "max_pool2d                   0.06%            9.601us          0.60%            94.412us         94.412us         0 b              0 b              784.00 Kb        -1.53 Mb         1                \n",
            "max_pool2d_with_indices      0.37%            57.977us         0.54%            84.811us         84.811us         0 b              0 b              2.30 Mb          0 b              1                \n",
            "---------------------------  ---------------  ---------------  ---------------  ---------------  ---------------  ---------------  ---------------  ---------------  ---------------  ---------------  \n",
            "Self CPU time total: 15.620ms\n",
            "\n"
          ],
          "name": "stdout"
        }
      ]
    },
    {
      "cell_type": "code",
      "metadata": {
        "id": "1UPY2ZK7pLFc",
        "colab_type": "code",
        "colab": {
          "base_uri": "https://localhost:8080/",
          "height": 488
        },
        "outputId": "5ff61644-c63e-4956-9faa-29e25048e89b"
      },
      "source": [
        "print(prof.key_averages().table(sort_by=\"cpu_memory_usage\", row_limit=20))"
      ],
      "execution_count": 13,
      "outputs": [
        {
          "output_type": "stream",
          "text": [
            "---------------------------  ---------------  ---------------  ---------------  ---------------  ---------------  ---------------  ---------------  ---------------  ---------------  ---------------  \n",
            "Name                         Self CPU total %  Self CPU total   CPU total %      CPU total        CPU time avg     CPU Mem          Self CPU Mem     CUDA Mem         Self CUDA Mem    Number of Calls  \n",
            "---------------------------  ---------------  ---------------  ---------------  ---------------  ---------------  ---------------  ---------------  ---------------  ---------------  ---------------  \n",
            "conv2d                       1.34%            208.726us        43.73%           6.830ms          128.877us        0 b              0 b              43.33 Mb         0 b              53               \n",
            "convolution                  1.45%            226.232us        42.39%           6.622ms          124.938us        0 b              0 b              43.33 Mb         0 b              53               \n",
            "_convolution                 4.86%            758.654us        40.94%           6.396ms          120.670us        0 b              0 b              43.33 Mb         0 b              53               \n",
            "size                         4.32%            675.135us        4.32%            675.135us        0.595us          0 b              0 b              0 b              0 b              1134             \n",
            "contiguous                   2.45%            382.596us        2.45%            382.596us        0.898us          0 b              0 b              0 b              0 b              426              \n",
            "cudnn_convolution            27.04%           4.223ms          34.60%           5.405ms          101.983us        0 b              0 b              43.33 Mb         -100.00 Mb       53               \n",
            "empty                        9.27%            1.448ms          9.27%            1.448ms          3.368us          0 b              0 b              188.79 Mb        188.79 Mb        430              \n",
            "resize_                      0.87%            136.481us        0.87%            136.481us        1.252us          0 b              0 b              2.30 Mb          2.30 Mb          109              \n",
            "stride                       0.49%            77.047us         0.49%            77.047us         0.339us          0 b              0 b              0 b              0 b              227              \n",
            "is_complex                   0.37%            57.116us         0.37%            57.116us         1.078us          0 b              0 b              0 b              0 b              53               \n",
            "add                          7.53%            1.176ms          9.01%            1.407ms          26.551us         0 b              0 b              26.50 Kb         0 b              53               \n",
            "batch_norm                   2.44%            381.420us        35.22%           5.501ms          103.789us        0 b              0 b              45.21 Mb         -211.00 Kb       53               \n",
            "_batch_norm_impl_index       3.80%            594.134us        32.77%           5.119ms          96.592us         0 b              0 b              45.42 Mb         0 b              53               \n",
            "cudnn_batch_norm             20.81%           3.251ms          27.44%           4.287ms          80.878us         0 b              0 b              45.42 Mb         0 b              53               \n",
            "empty_like                   0.73%            113.708us        2.44%            380.585us        7.048us          0 b              0 b              45.22 Mb         0 b              54               \n",
            "view                         0.99%            154.889us        0.99%            154.889us        2.766us          0 b              0 b              0 b              0 b              56               \n",
            "relu_                        2.18%            340.702us        6.65%            1.039ms          21.211us         0 b              0 b              0 b              0 b              49               \n",
            "threshold_                   4.47%            698.615us        4.47%            698.615us        14.257us         0 b              0 b              0 b              0 b              49               \n",
            "max_pool2d                   0.06%            9.601us          0.60%            94.412us         94.412us         0 b              0 b              784.00 Kb        -1.53 Mb         1                \n",
            "max_pool2d_with_indices      0.37%            57.977us         0.54%            84.811us         84.811us         0 b              0 b              2.30 Mb          0 b              1                \n",
            "---------------------------  ---------------  ---------------  ---------------  ---------------  ---------------  ---------------  ---------------  ---------------  ---------------  ---------------  \n",
            "Self CPU time total: 15.620ms\n",
            "\n"
          ],
          "name": "stdout"
        }
      ]
    },
    {
      "cell_type": "code",
      "metadata": {
        "id": "Frz6Hr3Yu8zC",
        "colab_type": "code",
        "colab": {}
      },
      "source": [
        "#!unzip '/content/Car-damage/splitTrainValnew.zip' -d '/content/Car-damage/splitTrainValnew' "
      ],
      "execution_count": null,
      "outputs": []
    },
    {
      "cell_type": "code",
      "metadata": {
        "id": "St3KjCnloWVa",
        "colab_type": "code",
        "colab": {}
      },
      "source": [
        ""
      ],
      "execution_count": null,
      "outputs": []
    },
    {
      "cell_type": "code",
      "metadata": {
        "id": "zGja-LmzKTGJ",
        "colab_type": "code",
        "colab": {}
      },
      "source": [
        ""
      ],
      "execution_count": null,
      "outputs": []
    }
  ]
}