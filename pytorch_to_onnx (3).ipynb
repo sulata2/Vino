{
  "nbformat": 4,
  "nbformat_minor": 0,
  "metadata": {
    "kernelspec": {
      "display_name": "Python 3",
      "language": "python",
      "name": "python3"
    },
    "language_info": {
      "codemirror_mode": {
        "name": "ipython",
        "version": 3
      },
      "file_extension": ".py",
      "mimetype": "text/x-python",
      "name": "python",
      "nbconvert_exporter": "python",
      "pygments_lexer": "ipython3",
      "version": "3.7.6"
    },
    "colab": {
      "name": "pytorch_to_onnx (3).ipynb",
      "provenance": []
    },
    "widgets": {
      "application/vnd.jupyter.widget-state+json": {
        "83eacc1c86864d839990a1084bb54125": {
          "model_module": "@jupyter-widgets/controls",
          "model_name": "HBoxModel",
          "state": {
            "_view_name": "HBoxView",
            "_dom_classes": [],
            "_model_name": "HBoxModel",
            "_view_module": "@jupyter-widgets/controls",
            "_model_module_version": "1.5.0",
            "_view_count": null,
            "_view_module_version": "1.5.0",
            "box_style": "",
            "layout": "IPY_MODEL_741212e812c04c699143264039674c7a",
            "_model_module": "@jupyter-widgets/controls",
            "children": [
              "IPY_MODEL_0f8bf286542946f2ad43eaa12e0d26e1",
              "IPY_MODEL_e438f8cbfe394d6c8af85b74f65a9996"
            ]
          }
        },
        "741212e812c04c699143264039674c7a": {
          "model_module": "@jupyter-widgets/base",
          "model_name": "LayoutModel",
          "state": {
            "_view_name": "LayoutView",
            "grid_template_rows": null,
            "right": null,
            "justify_content": null,
            "_view_module": "@jupyter-widgets/base",
            "overflow": null,
            "_model_module_version": "1.2.0",
            "_view_count": null,
            "flex_flow": null,
            "width": null,
            "min_width": null,
            "border": null,
            "align_items": null,
            "bottom": null,
            "_model_module": "@jupyter-widgets/base",
            "top": null,
            "grid_column": null,
            "overflow_y": null,
            "overflow_x": null,
            "grid_auto_flow": null,
            "grid_area": null,
            "grid_template_columns": null,
            "flex": null,
            "_model_name": "LayoutModel",
            "justify_items": null,
            "grid_row": null,
            "max_height": null,
            "align_content": null,
            "visibility": null,
            "align_self": null,
            "height": null,
            "min_height": null,
            "padding": null,
            "grid_auto_rows": null,
            "grid_gap": null,
            "max_width": null,
            "order": null,
            "_view_module_version": "1.2.0",
            "grid_template_areas": null,
            "object_position": null,
            "object_fit": null,
            "grid_auto_columns": null,
            "margin": null,
            "display": null,
            "left": null
          }
        },
        "0f8bf286542946f2ad43eaa12e0d26e1": {
          "model_module": "@jupyter-widgets/controls",
          "model_name": "FloatProgressModel",
          "state": {
            "_view_name": "ProgressView",
            "style": "IPY_MODEL_e3fd78c9085e43e8b5c61e0444fb15b3",
            "_dom_classes": [],
            "description": "100%",
            "_model_name": "FloatProgressModel",
            "bar_style": "success",
            "max": 102502400,
            "_view_module": "@jupyter-widgets/controls",
            "_model_module_version": "1.5.0",
            "value": 102502400,
            "_view_count": null,
            "_view_module_version": "1.5.0",
            "orientation": "horizontal",
            "min": 0,
            "description_tooltip": null,
            "_model_module": "@jupyter-widgets/controls",
            "layout": "IPY_MODEL_84ee19347ecc436593ba429f1b22235a"
          }
        },
        "e438f8cbfe394d6c8af85b74f65a9996": {
          "model_module": "@jupyter-widgets/controls",
          "model_name": "HTMLModel",
          "state": {
            "_view_name": "HTMLView",
            "style": "IPY_MODEL_807d9bc09b384baf893bcf783e322bf0",
            "_dom_classes": [],
            "description": "",
            "_model_name": "HTMLModel",
            "placeholder": "​",
            "_view_module": "@jupyter-widgets/controls",
            "_model_module_version": "1.5.0",
            "value": " 97.8M/97.8M [02:05&lt;00:00, 817kB/s]",
            "_view_count": null,
            "_view_module_version": "1.5.0",
            "description_tooltip": null,
            "_model_module": "@jupyter-widgets/controls",
            "layout": "IPY_MODEL_2d1803fac4ca4e0eb59ddfe35260ac40"
          }
        },
        "e3fd78c9085e43e8b5c61e0444fb15b3": {
          "model_module": "@jupyter-widgets/controls",
          "model_name": "ProgressStyleModel",
          "state": {
            "_view_name": "StyleView",
            "_model_name": "ProgressStyleModel",
            "description_width": "initial",
            "_view_module": "@jupyter-widgets/base",
            "_model_module_version": "1.5.0",
            "_view_count": null,
            "_view_module_version": "1.2.0",
            "bar_color": null,
            "_model_module": "@jupyter-widgets/controls"
          }
        },
        "84ee19347ecc436593ba429f1b22235a": {
          "model_module": "@jupyter-widgets/base",
          "model_name": "LayoutModel",
          "state": {
            "_view_name": "LayoutView",
            "grid_template_rows": null,
            "right": null,
            "justify_content": null,
            "_view_module": "@jupyter-widgets/base",
            "overflow": null,
            "_model_module_version": "1.2.0",
            "_view_count": null,
            "flex_flow": null,
            "width": null,
            "min_width": null,
            "border": null,
            "align_items": null,
            "bottom": null,
            "_model_module": "@jupyter-widgets/base",
            "top": null,
            "grid_column": null,
            "overflow_y": null,
            "overflow_x": null,
            "grid_auto_flow": null,
            "grid_area": null,
            "grid_template_columns": null,
            "flex": null,
            "_model_name": "LayoutModel",
            "justify_items": null,
            "grid_row": null,
            "max_height": null,
            "align_content": null,
            "visibility": null,
            "align_self": null,
            "height": null,
            "min_height": null,
            "padding": null,
            "grid_auto_rows": null,
            "grid_gap": null,
            "max_width": null,
            "order": null,
            "_view_module_version": "1.2.0",
            "grid_template_areas": null,
            "object_position": null,
            "object_fit": null,
            "grid_auto_columns": null,
            "margin": null,
            "display": null,
            "left": null
          }
        },
        "807d9bc09b384baf893bcf783e322bf0": {
          "model_module": "@jupyter-widgets/controls",
          "model_name": "DescriptionStyleModel",
          "state": {
            "_view_name": "StyleView",
            "_model_name": "DescriptionStyleModel",
            "description_width": "",
            "_view_module": "@jupyter-widgets/base",
            "_model_module_version": "1.5.0",
            "_view_count": null,
            "_view_module_version": "1.2.0",
            "_model_module": "@jupyter-widgets/controls"
          }
        },
        "2d1803fac4ca4e0eb59ddfe35260ac40": {
          "model_module": "@jupyter-widgets/base",
          "model_name": "LayoutModel",
          "state": {
            "_view_name": "LayoutView",
            "grid_template_rows": null,
            "right": null,
            "justify_content": null,
            "_view_module": "@jupyter-widgets/base",
            "overflow": null,
            "_model_module_version": "1.2.0",
            "_view_count": null,
            "flex_flow": null,
            "width": null,
            "min_width": null,
            "border": null,
            "align_items": null,
            "bottom": null,
            "_model_module": "@jupyter-widgets/base",
            "top": null,
            "grid_column": null,
            "overflow_y": null,
            "overflow_x": null,
            "grid_auto_flow": null,
            "grid_area": null,
            "grid_template_columns": null,
            "flex": null,
            "_model_name": "LayoutModel",
            "justify_items": null,
            "grid_row": null,
            "max_height": null,
            "align_content": null,
            "visibility": null,
            "align_self": null,
            "height": null,
            "min_height": null,
            "padding": null,
            "grid_auto_rows": null,
            "grid_gap": null,
            "max_width": null,
            "order": null,
            "_view_module_version": "1.2.0",
            "grid_template_areas": null,
            "object_position": null,
            "object_fit": null,
            "grid_auto_columns": null,
            "margin": null,
            "display": null,
            "left": null
          }
        }
      }
    },
    "accelerator": "GPU"
  },
  "cells": [
    {
      "cell_type": "code",
      "metadata": {
        "id": "RM2n-c0SRsyh",
        "colab_type": "code",
        "colab": {}
      },
      "source": [
        "from torchvision import transforms\n",
        "from torch.utils.data import Dataset, DataLoader\n",
        "import glob\n",
        "import torch.nn as nn\n",
        "import os.path as osp\n",
        "import torchvision\n",
        "import matplotlib.pyplot as plt\n",
        "import torch\n",
        "#import rotateImage\n",
        "import cv2\n",
        "import numpy as np\n",
        "#import split_folders\n",
        "import random\n",
        "import torch.backends.cudnn as cudnn\n",
        "import torch.optim as optim\n",
        "from random import choice\n",
        "from collections import OrderedDict"
      ],
      "execution_count": 4,
      "outputs": []
    },
    {
      "cell_type": "code",
      "metadata": {
        "id": "i3WWiN6LRsys",
        "colab_type": "code",
        "colab": {
          "base_uri": "https://localhost:8080/",
          "height": 87
        },
        "outputId": "5739b578-dddc-41df-bc44-bd7f5049fa74"
      },
      "source": [
        "#/content/Car-damage/carPartModel-305.pth\n",
        "#/content/drive/My Drive/Car-part-damage/carPartModel-305.pth\n",
        "model1 = torch.load('/content/drive/My Drive/Car-part-damage/carPartModel-305.pth',map_location=torch.device('cpu'))\n",
        "#model1 = torch.load('/content/Car-damage/carPartModel-305.pth')\n",
        "for names in model1:\n",
        "  print(names)\n",
        "#for name,param in model1.items():\n",
        "#   if name=='state_dict':\n",
        "#     print(param)"
      ],
      "execution_count": 5,
      "outputs": [
        {
          "output_type": "stream",
          "text": [
            "epoch\n",
            "state_dict\n",
            "class_to_idx\n",
            "confusion_matrix\n"
          ],
          "name": "stdout"
        }
      ]
    },
    {
      "cell_type": "code",
      "metadata": {
        "id": "uO2Sh3ocVg4p",
        "colab_type": "code",
        "colab": {
          "base_uri": "https://localhost:8080/",
          "height": 124
        },
        "outputId": "2a1df2a3-5282-4a96-f460-6152678f39df"
      },
      "source": [
        "from google.colab import drive\n",
        "drive.mount('/content/drive')"
      ],
      "execution_count": 1,
      "outputs": [
        {
          "output_type": "stream",
          "text": [
            "Go to this URL in a browser: https://accounts.google.com/o/oauth2/auth?client_id=947318989803-6bn6qk8qdgf4n4g3pfee6491hc0brc4i.apps.googleusercontent.com&redirect_uri=urn%3aietf%3awg%3aoauth%3a2.0%3aoob&response_type=code&scope=email%20https%3a%2f%2fwww.googleapis.com%2fauth%2fdocs.test%20https%3a%2f%2fwww.googleapis.com%2fauth%2fdrive%20https%3a%2f%2fwww.googleapis.com%2fauth%2fdrive.photos.readonly%20https%3a%2f%2fwww.googleapis.com%2fauth%2fpeopleapi.readonly\n",
            "\n",
            "Enter your authorization code:\n",
            "··········\n",
            "Mounted at /content/drive\n"
          ],
          "name": "stdout"
        }
      ]
    },
    {
      "cell_type": "code",
      "metadata": {
        "id": "h-SodeCxdodL",
        "colab_type": "code",
        "colab": {}
      },
      "source": [
        "#from PIL import Image, ImageFile\n",
        "#img = Image.open(\"/content/drive/My Drive/IMG-20200729-WA0036.jpg\")\n"
      ],
      "execution_count": null,
      "outputs": []
    },
    {
      "cell_type": "code",
      "metadata": {
        "id": "btFuGy5iczSv",
        "colab_type": "code",
        "colab": {}
      },
      "source": [
        "#!unzip \"/content/drive/My Drive/carDamageDetection.zip\" -d '/content/drive/My Drive/carDamageDetection'"
      ],
      "execution_count": null,
      "outputs": []
    },
    {
      "cell_type": "code",
      "metadata": {
        "id": "AFwhzlCjRsy3",
        "colab_type": "code",
        "colab": {}
      },
      "source": [
        "def load_model(checkpoint_path):\n",
        "  chpt = torch.load(checkpoint_path)\n",
        "  net = torchvision.models.resnet50(pretrained=True)\n",
        "  fc = nn.Sequential(OrderedDict([\n",
        "    (\"dropout\", nn.Dropout(0.4)),\n",
        "    (\"out\", nn.Linear(2048, 11))]))\n",
        "  net.fc = fc\n",
        "\n",
        "  for param, x in net.named_parameters():\n",
        "    if param.startswith(\"fc.out\"):\n",
        "        x.requires_grad = True\n",
        "    else:\n",
        "        x.requires_grad = False\n",
        "\n",
        "  device = torch.device(\"cuda:0\" if torch.cuda.is_available() else \"cpu\")\n",
        "  #net.class_to_idx = classes\n",
        "  net = net.to(device)\n",
        "  criterion = nn.CrossEntropyLoss()\n",
        "  optimizer = optim.SGD(net.parameters(), lr=0.001, momentum=0.9, weight_decay=5e-4)\n",
        "    \n",
        "  net.class_to_idx = chpt['class_to_idx']       \n",
        "  net.load_state_dict(chpt['state_dict'])  \n",
        "  return net"
      ],
      "execution_count": 6,
      "outputs": []
    },
    {
      "cell_type": "code",
      "metadata": {
        "id": "5-lI9t5IRsy9",
        "colab_type": "code",
        "colab": {
          "base_uri": "https://localhost:8080/",
          "height": 104,
          "referenced_widgets": [
            "83eacc1c86864d839990a1084bb54125",
            "741212e812c04c699143264039674c7a",
            "0f8bf286542946f2ad43eaa12e0d26e1",
            "e438f8cbfe394d6c8af85b74f65a9996",
            "e3fd78c9085e43e8b5c61e0444fb15b3",
            "84ee19347ecc436593ba429f1b22235a",
            "807d9bc09b384baf893bcf783e322bf0",
            "2d1803fac4ca4e0eb59ddfe35260ac40"
          ]
        },
        "outputId": "607f84d3-4a0c-4559-c420-519e136c4eee"
      },
      "source": [
        "the_model = load_model('/content/drive/My Drive/Car-part-damage/carPartModel-305.pth')\n",
        "# /content/drive/My Drive/carDamageDetection.zip"
      ],
      "execution_count": 7,
      "outputs": [
        {
          "output_type": "stream",
          "text": [
            "Downloading: \"https://download.pytorch.org/models/resnet50-19c8e357.pth\" to /root/.cache/torch/hub/checkpoints/resnet50-19c8e357.pth\n"
          ],
          "name": "stderr"
        },
        {
          "output_type": "display_data",
          "data": {
            "application/vnd.jupyter.widget-view+json": {
              "model_id": "83eacc1c86864d839990a1084bb54125",
              "version_minor": 0,
              "version_major": 2
            },
            "text/plain": [
              "HBox(children=(FloatProgress(value=0.0, max=102502400.0), HTML(value='')))"
            ]
          },
          "metadata": {
            "tags": []
          }
        },
        {
          "output_type": "stream",
          "text": [
            "\n"
          ],
          "name": "stdout"
        }
      ]
    },
    {
      "cell_type": "code",
      "metadata": {
        "id": "L5iy9F1LRszJ",
        "colab_type": "code",
        "colab": {
          "base_uri": "https://localhost:8080/",
          "height": 35
        },
        "outputId": "0ef46a2a-5323-41c7-aa06-8cc215dc3c3c"
      },
      "source": [
        "dummy_input = torch.randn(1, 3, 224, 224, device='cuda')\n",
        "onnx_path =  \"/content/pytorch_ONNx.onnx\"\n",
        "\n",
        "torch.onnx.export(the_model, dummy_input, onnx_path, verbose=False)\n",
        "print('Model exported to ' + onnx_path)"
      ],
      "execution_count": null,
      "outputs": [
        {
          "output_type": "stream",
          "text": [
            "Model exported to /content/pytorch_ONNx.onnx\n"
          ],
          "name": "stdout"
        }
      ]
    },
    {
      "cell_type": "code",
      "metadata": {
        "id": "-eAkCvRIn8w6",
        "colab_type": "code",
        "colab": {}
      },
      "source": [
        "dummy_input = torch.randn(1, 3, 224, 224, device='cuda')"
      ],
      "execution_count": 8,
      "outputs": []
    },
    {
      "cell_type": "code",
      "metadata": {
        "id": "V1UgUQvCoDdk",
        "colab_type": "code",
        "colab": {}
      },
      "source": [
        "#PyTorch Profiler\n",
        "import torch.autograd.profiler as profiler"
      ],
      "execution_count": 9,
      "outputs": []
    },
    {
      "cell_type": "code",
      "metadata": {
        "id": "l5i1Cd6boHIv",
        "colab_type": "code",
        "colab": {}
      },
      "source": [
        "with profiler.profile(record_shapes=True) as prof:\n",
        "    with profiler.record_function(\"model_inference\"):\n",
        "        the_model(dummy_input)"
      ],
      "execution_count": 10,
      "outputs": []
    },
    {
      "cell_type": "code",
      "metadata": {
        "id": "iCYKNusVoRD6",
        "colab_type": "code",
        "colab": {
          "base_uri": "https://localhost:8080/",
          "height": 488
        },
        "outputId": "3551e6fd-70b4-4624-e15a-614d5f54bf84"
      },
      "source": [
        "print(prof.key_averages().table(sort_by=\"cpu_time_total\", row_limit=20))"
      ],
      "execution_count": 11,
      "outputs": [
        {
          "output_type": "stream",
          "text": [
            "---------------------------  ---------------  ---------------  ---------------  ---------------  ---------------  ---------------  \n",
            "Name                         Self CPU total %  Self CPU total   CPU total %      CPU total        CPU time avg     Number of Calls  \n",
            "---------------------------  ---------------  ---------------  ---------------  ---------------  ---------------  ---------------  \n",
            "model_inference              19.35%           24.550ms         100.00%          126.858ms        126.858ms        1                \n",
            "adaptive_avg_pool2d          0.03%            39.286us         23.11%           29.320ms         29.320ms         1                \n",
            "mean                         23.05%           29.239ms         23.06%           29.256ms         29.256ms         1                \n",
            "conv2d                       6.21%            7.881ms          19.76%           25.070ms         473.012us        53               \n",
            "convolution                  0.22%            280.755us        13.55%           17.189ms         324.311us        53               \n",
            "_convolution                 1.49%            1.888ms          13.33%           16.908ms         319.014us        53               \n",
            "add                          12.23%           15.520ms         12.52%           15.881ms         299.638us        53               \n",
            "cudnn_convolution            6.85%            8.693ms          11.67%           14.807ms         279.386us        53               \n",
            "relu_                        0.48%            609.488us        8.78%            11.136ms         227.270us        49               \n",
            "threshold_                   8.30%            10.527ms         8.30%            10.527ms         214.831us        49               \n",
            "batch_norm                   0.45%            566.424us        5.38%            6.826ms          128.786us        53               \n",
            "addmm                        4.95%            6.281ms          5.03%            6.383ms          6.383ms          1                \n",
            "_batch_norm_impl_index       0.62%            784.451us        4.93%            6.259ms          118.099us        53               \n",
            "dropout                      0.09%            119.218us        4.81%            6.096ms          6.096ms          1                \n",
            "_fused_dropout               4.66%            5.912ms          4.71%            5.977ms          5.977ms          1                \n",
            "resize_                      4.01%            5.091ms          4.01%            5.091ms          46.704us         109              \n",
            "cudnn_batch_norm             2.78%            3.521ms          3.84%            4.870ms          91.879us         53               \n",
            "empty                        1.65%            2.090ms          1.65%            2.090ms          4.861us          430              \n",
            "contiguous                   0.58%            735.783us        0.58%            735.783us        1.727us          426              \n",
            "add_                         0.52%            661.278us        0.52%            661.278us        41.330us         16               \n",
            "---------------------------  ---------------  ---------------  ---------------  ---------------  ---------------  ---------------  \n",
            "Self CPU time total: 126.858ms\n",
            "\n"
          ],
          "name": "stdout"
        }
      ]
    },
    {
      "cell_type": "code",
      "metadata": {
        "id": "kk1Cc-daobEU",
        "colab_type": "code",
        "colab": {
          "base_uri": "https://localhost:8080/",
          "height": 488
        },
        "outputId": "7adc5986-2dfe-492e-cc5b-c0a7be42e6da"
      },
      "source": [
        "with profiler.profile(profile_memory=True, record_shapes=True) as prof:\n",
        "    the_model(dummy_input)\n",
        "\n",
        "print(prof.key_averages().table(sort_by=\"self_cpu_memory_usage\", row_limit=20))"
      ],
      "execution_count": 14,
      "outputs": [
        {
          "output_type": "stream",
          "text": [
            "---------------------------  ---------------  ---------------  ---------------  ---------------  ---------------  ---------------  ---------------  ---------------  ---------------  ---------------  \n",
            "Name                         Self CPU total %  Self CPU total   CPU total %      CPU total        CPU time avg     CPU Mem          Self CPU Mem     CUDA Mem         Self CUDA Mem    Number of Calls  \n",
            "---------------------------  ---------------  ---------------  ---------------  ---------------  ---------------  ---------------  ---------------  ---------------  ---------------  ---------------  \n",
            "conv2d                       1.51%            322.809us        43.43%           9.277ms          175.045us        0 b              0 b              43.33 Mb         0 b              53               \n",
            "convolution                  1.22%            260.408us        41.91%           8.955ms          168.955us        0 b              0 b              43.33 Mb         0 b              53               \n",
            "_convolution                 5.00%            1.067ms          40.70%           8.694ms          164.041us        0 b              0 b              43.33 Mb         0 b              53               \n",
            "size                         3.21%            685.605us        3.21%            685.605us        0.605us          0 b              0 b              0 b              0 b              1134             \n",
            "contiguous                   1.75%            373.133us        1.75%            373.133us        0.876us          0 b              0 b              0 b              0 b              426              \n",
            "cudnn_convolution            27.21%           5.814ms          34.20%           7.306ms          137.858us        0 b              0 b              43.33 Mb         -31.70 Mb        53               \n",
            "empty                        10.09%           2.155ms          10.09%           2.155ms          5.011us          0 b              0 b              120.49 Mb        120.49 Mb        430              \n",
            "resize_                      0.76%            161.967us        0.76%            161.967us        1.486us          0 b              0 b              2.30 Mb          2.30 Mb          109              \n",
            "stride                       1.20%            257.282us        1.20%            257.282us        1.133us          0 b              0 b              0 b              0 b              227              \n",
            "is_complex                   0.39%            82.646us         0.39%            82.646us         1.559us          0 b              0 b              0 b              0 b              53               \n",
            "add                          8.66%            1.849ms          10.39%           2.221ms          41.899us         0 b              0 b              26.50 Kb         0 b              53               \n",
            "batch_norm                   2.70%            576.717us        31.95%           6.827ms          128.802us        0 b              0 b              45.21 Mb         -211.00 Kb       53               \n",
            "_batch_norm_impl_index       3.57%            763.171us        29.25%           6.250ms          117.921us        0 b              0 b              45.42 Mb         0 b              53               \n",
            "cudnn_batch_norm             17.39%           3.715ms          24.54%           5.242ms          98.905us         0 b              0 b              45.42 Mb         0 b              53               \n",
            "empty_like                   0.78%            167.040us        2.67%            570.865us        10.572us         0 b              0 b              45.22 Mb         0 b              54               \n",
            "view                         1.17%            250.824us        1.17%            250.824us        4.479us          0 b              0 b              0 b              0 b              56               \n",
            "relu_                        2.56%            547.627us        8.58%            1.832ms          37.388us         0 b              0 b              0 b              0 b              49               \n",
            "threshold_                   6.01%            1.284ms          6.01%            1.284ms          26.212us         0 b              0 b              0 b              0 b              49               \n",
            "max_pool2d                   0.12%            26.357us         0.61%            130.601us        130.601us        0 b              0 b              784.00 Kb        -1.53 Mb         1                \n",
            "max_pool2d_with_indices      0.36%            77.634us         0.49%            104.244us        104.244us        0 b              0 b              2.30 Mb          0 b              1                \n",
            "---------------------------  ---------------  ---------------  ---------------  ---------------  ---------------  ---------------  ---------------  ---------------  ---------------  ---------------  \n",
            "Self CPU time total: 21.364ms\n",
            "\n"
          ],
          "name": "stdout"
        }
      ]
    },
    {
      "cell_type": "code",
      "metadata": {
        "id": "1UPY2ZK7pLFc",
        "colab_type": "code",
        "colab": {
          "base_uri": "https://localhost:8080/",
          "height": 488
        },
        "outputId": "9fa24133-cee1-4db4-f1bc-0d7dbe9e9e0f"
      },
      "source": [
        "print(prof.key_averages().table(sort_by=\"cpu_memory_usage\", row_limit=20))"
      ],
      "execution_count": 15,
      "outputs": [
        {
          "output_type": "stream",
          "text": [
            "---------------------------  ---------------  ---------------  ---------------  ---------------  ---------------  ---------------  ---------------  ---------------  ---------------  ---------------  \n",
            "Name                         Self CPU total %  Self CPU total   CPU total %      CPU total        CPU time avg     CPU Mem          Self CPU Mem     CUDA Mem         Self CUDA Mem    Number of Calls  \n",
            "---------------------------  ---------------  ---------------  ---------------  ---------------  ---------------  ---------------  ---------------  ---------------  ---------------  ---------------  \n",
            "conv2d                       1.51%            322.809us        43.43%           9.277ms          175.045us        0 b              0 b              43.33 Mb         0 b              53               \n",
            "convolution                  1.22%            260.408us        41.91%           8.955ms          168.955us        0 b              0 b              43.33 Mb         0 b              53               \n",
            "_convolution                 5.00%            1.067ms          40.70%           8.694ms          164.041us        0 b              0 b              43.33 Mb         0 b              53               \n",
            "size                         3.21%            685.605us        3.21%            685.605us        0.605us          0 b              0 b              0 b              0 b              1134             \n",
            "contiguous                   1.75%            373.133us        1.75%            373.133us        0.876us          0 b              0 b              0 b              0 b              426              \n",
            "cudnn_convolution            27.21%           5.814ms          34.20%           7.306ms          137.858us        0 b              0 b              43.33 Mb         -31.70 Mb        53               \n",
            "empty                        10.09%           2.155ms          10.09%           2.155ms          5.011us          0 b              0 b              120.49 Mb        120.49 Mb        430              \n",
            "resize_                      0.76%            161.967us        0.76%            161.967us        1.486us          0 b              0 b              2.30 Mb          2.30 Mb          109              \n",
            "stride                       1.20%            257.282us        1.20%            257.282us        1.133us          0 b              0 b              0 b              0 b              227              \n",
            "is_complex                   0.39%            82.646us         0.39%            82.646us         1.559us          0 b              0 b              0 b              0 b              53               \n",
            "add                          8.66%            1.849ms          10.39%           2.221ms          41.899us         0 b              0 b              26.50 Kb         0 b              53               \n",
            "batch_norm                   2.70%            576.717us        31.95%           6.827ms          128.802us        0 b              0 b              45.21 Mb         -211.00 Kb       53               \n",
            "_batch_norm_impl_index       3.57%            763.171us        29.25%           6.250ms          117.921us        0 b              0 b              45.42 Mb         0 b              53               \n",
            "cudnn_batch_norm             17.39%           3.715ms          24.54%           5.242ms          98.905us         0 b              0 b              45.42 Mb         0 b              53               \n",
            "empty_like                   0.78%            167.040us        2.67%            570.865us        10.572us         0 b              0 b              45.22 Mb         0 b              54               \n",
            "view                         1.17%            250.824us        1.17%            250.824us        4.479us          0 b              0 b              0 b              0 b              56               \n",
            "relu_                        2.56%            547.627us        8.58%            1.832ms          37.388us         0 b              0 b              0 b              0 b              49               \n",
            "threshold_                   6.01%            1.284ms          6.01%            1.284ms          26.212us         0 b              0 b              0 b              0 b              49               \n",
            "max_pool2d                   0.12%            26.357us         0.61%            130.601us        130.601us        0 b              0 b              784.00 Kb        -1.53 Mb         1                \n",
            "max_pool2d_with_indices      0.36%            77.634us         0.49%            104.244us        104.244us        0 b              0 b              2.30 Mb          0 b              1                \n",
            "---------------------------  ---------------  ---------------  ---------------  ---------------  ---------------  ---------------  ---------------  ---------------  ---------------  ---------------  \n",
            "Self CPU time total: 21.364ms\n",
            "\n"
          ],
          "name": "stdout"
        }
      ]
    },
    {
      "cell_type": "code",
      "metadata": {
        "id": "Frz6Hr3Yu8zC",
        "colab_type": "code",
        "colab": {}
      },
      "source": [
        "#!unzip '/content/Car-damage/splitTrainValnew.zip' -d '/content/Car-damage/splitTrainValnew' "
      ],
      "execution_count": 12,
      "outputs": []
    },
    {
      "cell_type": "code",
      "metadata": {
        "id": "St3KjCnloWVa",
        "colab_type": "code",
        "colab": {}
      },
      "source": [
        ""
      ],
      "execution_count": null,
      "outputs": []
    },
    {
      "cell_type": "code",
      "metadata": {
        "id": "Y76c79kEHUmy",
        "colab_type": "code",
        "colab": {
          "base_uri": "https://localhost:8080/",
          "height": 107
        },
        "outputId": "4b8bbb48-bb4f-47ad-c449-55580e3efce0"
      },
      "source": [
        "!pip install split-folders"
      ],
      "execution_count": null,
      "outputs": [
        {
          "output_type": "stream",
          "text": [
            "Collecting split-folders\n",
            "  Downloading https://files.pythonhosted.org/packages/d1/4b/7b282b0f9319189d71e803220748929b37d019b67b1782d14c59cb1bd940/split_folders-0.4.2-py3-none-any.whl\n",
            "Installing collected packages: split-folders\n",
            "Successfully installed split-folders-0.4.2\n"
          ],
          "name": "stdout"
        }
      ]
    },
    {
      "cell_type": "code",
      "metadata": {
        "id": "VdkbcOrtIVXz",
        "colab_type": "code",
        "colab": {
          "base_uri": "https://localhost:8080/",
          "height": 52
        },
        "outputId": "cdd85930-ed85-4103-8803-516db473aa77"
      },
      "source": [
        "!pip install split-folders tqdm"
      ],
      "execution_count": null,
      "outputs": [
        {
          "output_type": "stream",
          "text": [
            "Requirement already satisfied: split-folders in /usr/local/lib/python3.6/dist-packages (0.4.2)\n",
            "Requirement already satisfied: tqdm in /usr/local/lib/python3.6/dist-packages (4.41.1)\n"
          ],
          "name": "stdout"
        }
      ]
    },
    {
      "cell_type": "code",
      "metadata": {
        "id": "h_6j_7ISImNA",
        "colab_type": "code",
        "colab": {}
      },
      "source": [
        "import splitfolders\n",
        "#import split_folders"
      ],
      "execution_count": null,
      "outputs": []
    },
    {
      "cell_type": "code",
      "metadata": {
        "id": "FaQf3HkqhJMY",
        "colab_type": "code",
        "colab": {}
      },
      "source": [
        "from torchvision import transforms\n",
        "from torch.utils.data import Dataset, DataLoader\n",
        "import glob\n",
        "import torch.nn as nn\n",
        "import os.path as osp\n",
        "import torchvision\n",
        "import matplotlib.pyplot as plt\n",
        "import torch\n",
        "#import rotateImage\n",
        "import cv2\n",
        "import numpy as np\n",
        "#import split_folders\n",
        "import splitfolders\n",
        "import random\n",
        "import torch.backends.cudnn as cudnn\n",
        "import torch.optim as optim\n",
        "from random import choice\n",
        "from collections import OrderedDict"
      ],
      "execution_count": null,
      "outputs": []
    },
    {
      "cell_type": "code",
      "metadata": {
        "id": "JAV_vySNhKWg",
        "colab_type": "code",
        "colab": {
          "base_uri": "https://localhost:8080/",
          "height": 35
        },
        "outputId": "05924ebb-efaf-4c29-a1e1-7a7b9b66b277"
      },
      "source": [
        "dataPath = \"/content/Car-damage/splitTrainValnew\"\n",
        "splitfolders.ratio(dataPath, output=\"/content/Car-damage/splitTrainValnewout/\", seed=1337, ratio=(.85, .05, .1))\n"
      ],
      "execution_count": null,
      "outputs": [
        {
          "output_type": "stream",
          "text": [
            "Copying files: 0 files [00:00, ? files/s]\n"
          ],
          "name": "stderr"
        }
      ]
    },
    {
      "cell_type": "code",
      "metadata": {
        "id": "TLCg9r5zhBJ9",
        "colab_type": "code",
        "colab": {}
      },
      "source": [
        ""
      ],
      "execution_count": null,
      "outputs": []
    },
    {
      "cell_type": "code",
      "metadata": {
        "id": "t_CSNklYo1-Y",
        "colab_type": "code",
        "colab": {}
      },
      "source": [
        "class CarPartDataset(Dataset):\n",
        "    def __init__(self, root,):\n",
        "        self.filenames, self.labels = [], []\n",
        "        self.root = root\n",
        "        self.temp = 0\n",
        "        self.images = 0\n",
        "        self.len = 0\n",
        "        self.imagesList = []\n",
        "        filenames = []\n",
        "        filenames = glob.glob(osp.join(self.root, '*/*.*'))\n",
        "\n",
        "        if (self.root.endswith(\"/train\")):\n",
        "            for fn in filenames:\n",
        "                if \".tif\" not in fn:\n",
        "                    self.filenames.append(fn)\n",
        "                    self.labels.append(osp.dirname(fn).split(\"/content/Car-damage/car-train-val/splitTrainVal/train\")[1])\n",
        "        elif (self.root.endswith(\"/val\")):\n",
        "            for fn in filenames:\n",
        "                if \".tif\" not in fn:\n",
        "                    self.filenames.append(fn)\n",
        "                    self.labels.append(osp.dirname(fn).split(\"/content/Car-damage/car-train-val/splitTrainVal/val\")[1])\n",
        "\n",
        "        self.len = len(self.filenames)\n",
        "        self.label2idx = {l: i for i, l in enumerate(list(set(self.labels)))}\n",
        "\n",
        "    def className(self):\n",
        "        return self.label2idx\n",
        "\n",
        "    # flipping an image\n",
        "    def flipping(self, imageForAug2):\n",
        "        imageForAug2 = cv2.flip(imageForAug2, flipCode=1)\n",
        "        return imageForAug2\n",
        "\n",
        "    # rotating an image at an angle  randomly chosen between -20 to 20\n",
        "    def rotation(self, imageForAug3):\n",
        "        angle = random.randint(-20,20)\n",
        "        imageForAug3 = rotateImage.rotate_im(imageForAug3,angle)\n",
        "        return imageForAug3\n",
        "\n",
        "    def augmentedData(self, imageName):\n",
        "        try:\n",
        "            image = cv2.imread(imageName)\n",
        "            img = cv2.resize(image, (244, 244), interpolation=cv2.INTER_AREA)\n",
        "            methodsList = [\"flipping\", \"rotation\"]\n",
        "            thres = 0.2\n",
        "            temp = np.random.randn()\n",
        "            if(temp>thres):\n",
        "                x = list(set(random.choices(methodsList, k=random.randint(1,3))))\n",
        "                # print(x)\n",
        "                for i in x:\n",
        "                    if(i == \"flipping\" ):\n",
        "                        img = self.flipping(img)\n",
        "                    elif (i == \"rotation\"):\n",
        "                        img = self.rotation(img)\n",
        "            else:\n",
        "               img = img\n",
        "            return img\n",
        "        except Exception:\n",
        "            print(imageName)\n",
        "\n",
        "    def __getitem__(self, index):\n",
        "        try:\n",
        "            if \"/train/\" in self.filenames[index]:\n",
        "                image = self.augmentedData(self.filenames[index])\n",
        "#                 print(self.filenames[index])\n",
        "                image = torch.tensor(image).permute((2, 0, 1))\n",
        "                label = self.labels[index]\n",
        "                return image, self.label2idx[label]\n",
        "            elif \"/val/\" in self.filenames[index]:\n",
        "                image = cv2.imread(self.filenames[index])\n",
        "#                 print(self.filenames[index])\n",
        "                image = cv2.resize(image, (244, 244), interpolation=cv2.INTER_AREA)\n",
        "                image = torch.tensor(image).permute((2, 0, 1))\n",
        "                label = self.labels[index]\n",
        "                return image, self.label2idx[label]\n",
        "        except Exception:\n",
        "            print(self.filenames[index])\n",
        "\n",
        "    def __len__(self):\n",
        "        return self.len"
      ],
      "execution_count": null,
      "outputs": []
    },
    {
      "cell_type": "code",
      "metadata": {
        "id": "bH2EEVGUjVWY",
        "colab_type": "code",
        "colab": {
          "base_uri": "https://localhost:8080/",
          "height": 69
        },
        "outputId": "d854258c-3224-4754-db2d-ff440cd53f8c"
      },
      "source": [
        "#TrainSetPath = \"./splitTrainVal/train\"\n",
        "#/content/Car-damage/car-train-val/splitTrainVal\n",
        "#/content/Car-damage/car-train-val/splitTrainVal/train\n",
        "TrainSetPath = \"/content/Car-damage/car-train-val/splitTrainVal/train\"\n",
        "#ValSetPath = \"./splitTrainVal/val\"\n",
        "ValSetPath = \"/content/Car-damage/car-train-val/splitTrainVal/val\"\n",
        "train_datasets = CarPartDataset(TrainSetPath)\n",
        "valid_datasets = CarPartDataset(ValSetPath)\n",
        "print(len(train_datasets))\n",
        "print(len(valid_datasets))\n",
        "train_loader = DataLoader(train_datasets, batch_size=64, shuffle=True, num_workers=2)\n",
        "valid_loader = DataLoader(valid_datasets, batch_size=64, shuffle=True, num_workers=2)\n",
        "print(len(train_loader))"
      ],
      "execution_count": null,
      "outputs": [
        {
          "output_type": "stream",
          "text": [
            "1170\n",
            "161\n",
            "19\n"
          ],
          "name": "stdout"
        }
      ]
    },
    {
      "cell_type": "code",
      "metadata": {
        "id": "8gGo2BEfrO2E",
        "colab_type": "code",
        "colab": {
          "base_uri": "https://localhost:8080/",
          "height": 1000
        },
        "outputId": "7401a087-11f2-4e03-dc06-6d2b36f86c85"
      },
      "source": [
        "# functions to show an image\n",
        "def imshow(inp):\n",
        "    inp = inp.numpy().transpose((1, 2, 0))\n",
        "    plt.imshow(inp)\n",
        "    plt.show()\n",
        "\n",
        "images, labels = next(iter(train_loader))\n",
        "\n",
        "temp1 = []\n",
        "\n",
        "obj = CarPartDataset(TrainSetPath)\n",
        "classes = CarPartDataset.className(obj)\n",
        "# print(classes)\n",
        "for key, value in classes.items():\n",
        "    for z in range(0, 64):\n",
        "        if value == labels[z]:\n",
        "            temp1.append(key)\n",
        "\n",
        "image_grid = torchvision.utils.make_grid(images)\n",
        "imshow(image_grid)\n",
        "# print(temp1)\n",
        "\n",
        "print(\"Building Model\")\n",
        "net = torchvision.models.resnet50(pretrained=True)\n",
        "fc = nn.Sequential(OrderedDict([\n",
        "    (\"dropout\", nn.Dropout(0.4)),\n",
        "    (\"out\", nn.Linear(2048, 11))]))\n",
        "net.fc = fc\n",
        "\n",
        "for param, x in net.named_parameters():\n",
        "    if param.startswith(\"fc.out\"):\n",
        "        x.requires_grad = True\n",
        "    else:\n",
        "        x.requires_grad = False\n",
        "\n",
        "device = torch.device(\"cuda:0\" if torch.cuda.is_available() else \"cpu\")\n",
        "net.class_to_idx = classes\n",
        "net = net.to(device)\n",
        "criterion = nn.CrossEntropyLoss()\n",
        "optimizer = optim.SGD(net.parameters(), lr=0.001, momentum=0.9, weight_decay=5e-4)\n",
        "plt_train_loss, plt_val_loss = [], []\n",
        "plt_batch_train_loss, plt_batch_val_loss = [],[]\n",
        "\n",
        "global prev_loss\n",
        "prev_loss = float(\"inf\")\n",
        "global count\n",
        "count = 0\n",
        "\n",
        "# training\n",
        "def train(epoch):\n",
        "    print('\\nEpoch: %d' % epoch)\n",
        "    net.train()\n",
        "    train_loss = 0\n",
        "    correct = 0\n",
        "    total = 0\n",
        "    L1 = 0\n",
        "\n",
        "    for batch_idx, (inputs, targets) in enumerate(train_loader):\n",
        "        inputs, targets = inputs.to(device, dtype=torch.float), targets.to(device)\n",
        "        optimizer.zero_grad()\n",
        "        outputs = net(inputs)\n",
        "        loss = criterion(outputs, targets)\n",
        "        L1 += loss.item()*inputs.size(0)\n",
        "        loss.backward()\n",
        "        optimizer.step()\n",
        "        _, predicted = outputs.max(1)\n",
        "        total += targets.size(0)\n",
        "        correct += predicted.eq(targets).sum().item()\n",
        "#         print('Batch Train Loss: %.3f | Acc: %.3f' % (L1/total, 100.*correct/total))\n",
        "        plt_batch_train_loss.append(L1/total)\n",
        "\n",
        "    epoch_loss = L1 / len(train_datasets)\n",
        "    epoch_acc = correct / len(train_datasets)\n",
        "    plt_train_loss.append(epoch_loss)\n",
        "    print('{} Loss: {:.4f} Acc: {:.4f}'.format('Train', epoch_loss, epoch_acc))\n",
        "\n",
        "# validation\n",
        "def validation(epoch, flag):\n",
        "    global prev_loss\n",
        "    global count\n",
        "    net.eval()\n",
        "    valid_loss = 0\n",
        "    valid_correct = 0\n",
        "    total = 0\n",
        "    L2 = 0\n",
        "    xy = len(classes)\n",
        "    conf_matrix = torch.zeros(xy, xy)\n",
        "\n",
        "    for valid_idx ,(valid, y_valid) in enumerate(iter(valid_loader)):\n",
        "        valid, y_valid = valid.to(device, dtype=torch.float), y_valid.to(device)\n",
        "        output = net.forward(valid)\n",
        "        L2 += criterion(output, y_valid).item()*valid.size(0)\n",
        "        equal = (output.max(dim=1)[1] == y_valid.data)\n",
        "        _, predd = output.max(1)\n",
        "        valid_correct += torch.sum(equal)\n",
        "        total += valid.size(0)\n",
        "#         print('Batch Valid Loss: %.3f | Acc: %.3f' % (L2 / total, 100.*valid_correct / total))\n",
        "        plt_batch_val_loss.append(L2 / total)\n",
        "        for i in range(len(y_valid)):\n",
        "            conf_matrix[predd[i], y_valid[i]] = conf_matrix[predd[i], y_valid[i]] + 1\n",
        "\n",
        "    epoch_loss = L2 / len(valid_datasets)\n",
        "    epoch_acc = valid_correct.double() / len(valid_datasets)\n",
        "\n",
        "    print('{} Loss: {:.4f} Acc: {:.4f}'.format('Validation', epoch_loss, epoch_acc))\n",
        "\n",
        "    plt_val_loss.append(epoch_loss)\n",
        "    is_best = bool(epoch_loss < prev_loss)\n",
        "    is_lessequal = bool(epoch_loss >= prev_loss)\n",
        "    if (is_best):\n",
        "        prev_loss = epoch_loss\n",
        "        count = 0\n",
        "    elif (is_lessequal):\n",
        "        if (count < 25):\n",
        "            count = count + 1\n",
        "        else:\n",
        "            print(\"Terminated Training for Early Stopping at Epoch \", epoch+1)\n",
        "            flag = True\n",
        "\n",
        "    if flag == False:\n",
        "#         print(conf_matrix)\n",
        "        save_checkpoint({\n",
        "            'epoch': epoch + 1,\n",
        "            'state_dict': net.state_dict(),\n",
        "            'class_to_idx': net.class_to_idx,\n",
        "            'confusion_matrix': conf_matrix\n",
        "        }, is_best,\"./models/carPartModel-\"+epoch+\".pth\")\n",
        "        # save_checkpoint(net.state_dict(),is_best)\n",
        "    return flag\n",
        "\n",
        "# save_checkpoint\n",
        "def save_checkpoint(state, is_best, filename):\n",
        "    if is_best:\n",
        "        print(state[\"confusion_matrix\"])\n",
        "        print(\"=> Saving a new best\")\n",
        "        torch.save(state, filename)\n",
        "    else:\n",
        "        print(\"=> Validation loss did not reduce\")\n",
        "\n",
        "for epoch in range(0, 100):\n",
        "    flag = False\n",
        "    train(epoch)\n",
        "    a = validation(epoch, flag)\n",
        "    if a == True:\n",
        "        break\n",
        "\n",
        "plt.plot(plt_train_loss, label='Training loss')\n",
        "plt.plot(plt_val_loss, label='Validation loss')\n",
        "plt.legend(frameon=False)\n",
        "plt.show()\n",
        "x = np.arange(0, len(plt_batch_train_loss), len(plt_batch_train_loss)/len(plt_batch_val_loss))\n",
        "plt.plot(plt_batch_train_loss,label = \"Batch train loss\")\n",
        "plt.plot(x,plt_batch_val_loss, label = \"Batch validation loss\")\n",
        "plt.legend(frameon=False)\n",
        "plt.show()\n"
      ],
      "execution_count": null,
      "outputs": [
        {
          "output_type": "stream",
          "text": [
            "/content/Car-damage/car-train-val/splitTrainVal/train/unknown/unknown-108.jpeg\n",
            "/content/Car-damage/car-train-val/splitTrainVal/train/multipleDamage/multipleDamage-127.jpeg\n",
            "/content/Car-damage/car-train-val/splitTrainVal/train/multipleDamage/multipleDamage-127.jpeg\n",
            "/content/Car-damage/car-train-val/splitTrainVal/train/glassShatterFront/glassShatterFront-16.jpeg\n",
            "/content/Car-damage/car-train-val/splitTrainVal/train/unknown/unknown-108.jpeg\n",
            "/content/Car-damage/car-train-val/splitTrainVal/train/glassShatterFront/glassShatterFront-16.jpeg\n",
            "/content/Car-damage/car-train-val/splitTrainVal/train/tailLamp/tailLamp-70.jpeg\n",
            "/content/Car-damage/car-train-val/splitTrainVal/train/tailLamp/tailLamp-70.jpeg\n",
            "/content/Car-damage/car-train-val/splitTrainVal/train/glassShatterFront/glassShatterFront-103.jpeg\n",
            "/content/Car-damage/car-train-val/splitTrainVal/train/glassShatterFront/glassShatterFront-103.jpeg\n",
            "/content/Car-damage/car-train-val/splitTrainVal/train/headLamp/headLamp-154.jpg\n",
            "/content/Car-damage/car-train-val/splitTrainVal/train/headLamp/headLamp-154.jpg\n",
            "/content/Car-damage/car-train-val/splitTrainVal/train/glassShatterRear/glassShatterRear-39.JPEG\n",
            "/content/Car-damage/car-train-val/splitTrainVal/train/glassShatterRear/glassShatterRear-39.JPEG\n",
            "/content/Car-damage/car-train-val/splitTrainVal/train/tailLamp/tailLamp-30.jpg\n",
            "/content/Car-damage/car-train-val/splitTrainVal/train/tailLamp/tailLamp-30.jpg\n",
            "/content/Car-damage/car-train-val/splitTrainVal/train/headLamp/headLamp-144.jpeg\n",
            "/content/Car-damage/car-train-val/splitTrainVal/train/headLamp/headLamp-144.jpeg\n",
            "/content/Car-damage/car-train-val/splitTrainVal/train/glassShatterSide/glassShatterSide-122.jpg\n",
            "/content/Car-damage/car-train-val/splitTrainVal/train/glassShatterRear/glassShatterRear-85.jpg\n",
            "/content/Car-damage/car-train-val/splitTrainVal/train/glassShatterRear/glassShatterRear-85.jpg\n",
            "/content/Car-damage/car-train-val/splitTrainVal/train/multipleDamage/multipleDamage-88.jpeg\n",
            "/content/Car-damage/car-train-val/splitTrainVal/train/multipleDamage/multipleDamage-88.jpeg\n",
            "/content/Car-damage/car-train-val/splitTrainVal/train/glassShatterSide/glassShatterSide-122.jpg\n",
            "/content/Car-damage/car-train-val/splitTrainVal/train/doorDent/doorDent-100.jpeg\n",
            "/content/Car-damage/car-train-val/splitTrainVal/train/doorDent/doorDent-100.jpeg\n",
            "/content/Car-damage/car-train-val/splitTrainVal/train/headLamp/headLamp-28.jpg\n",
            "/content/Car-damage/car-train-val/splitTrainVal/train/headLamp/headLamp-28.jpg\n",
            "/content/Car-damage/car-train-val/splitTrainVal/train/glassShatterRear/glassShatterRear-101.jpg\n",
            "/content/Car-damage/car-train-val/splitTrainVal/train/glassShatterRear/glassShatterRear-101.jpg\n",
            "/content/Car-damage/car-train-val/splitTrainVal/train/tailLamp/tailLamp-9.jpg\n",
            "/content/Car-damage/car-train-val/splitTrainVal/train/tailLamp/tailLamp-9.jpg\n",
            "/content/Car-damage/car-train-val/splitTrainVal/train/glassShatterRear/glassShatterRear-122.jpg\n",
            "/content/Car-damage/car-train-val/splitTrainVal/train/glassShatterRear/glassShatterRear-122.jpg\n",
            "/content/Car-damage/car-train-val/splitTrainVal/train/tailLamp/tailLamp-11.jpg\n",
            "/content/Car-damage/car-train-val/splitTrainVal/train/tailLamp/tailLamp-11.jpg\n",
            "/content/Car-damage/car-train-val/splitTrainVal/train/doorScratch/doorScratch-67.jpeg\n",
            "/content/Car-damage/car-train-val/splitTrainVal/train/doorScratch/doorScratch-67.jpeg\n",
            "/content/Car-damage/car-train-val/splitTrainVal/train/doorDent/doorDent-94.jpeg\n",
            "/content/Car-damage/car-train-val/splitTrainVal/train/doorDent/doorDent-94.jpeg\n",
            "/content/Car-damage/car-train-val/splitTrainVal/train/doorDent/doorDent-91.jpeg\n",
            "/content/Car-damage/car-train-val/splitTrainVal/train/doorDent/doorDent-91.jpeg\n",
            "/content/Car-damage/car-train-val/splitTrainVal/train/unknown/unknown-133.jpeg\n",
            "/content/Car-damage/car-train-val/splitTrainVal/train/unknown/unknown-133.jpeg\n",
            "/content/Car-damage/car-train-val/splitTrainVal/train/glassShatterRear/glassShatterRear-132.jpg\n",
            "/content/Car-damage/car-train-val/splitTrainVal/train/glassShatterRear/glassShatterRear-132.jpg\n",
            "/content/Car-damage/car-train-val/splitTrainVal/train/doorScratch/doorScratch-54.jpeg\n",
            "/content/Car-damage/car-train-val/splitTrainVal/train/doorScratch/doorScratch-54.jpeg\n",
            "/content/Car-damage/car-train-val/splitTrainVal/train/headLamp/headLamp-38.jpeg\n",
            "/content/Car-damage/car-train-val/splitTrainVal/train/headLamp/headLamp-38.jpeg\n",
            "/content/Car-damage/car-train-val/splitTrainVal/train/multipleDamage/multipleDamage-3.jpeg\n",
            "/content/Car-damage/car-train-val/splitTrainVal/train/multipleDamage/multipleDamage-3.jpeg\n",
            "/content/Car-damage/car-train-val/splitTrainVal/train/headLamp/headLamp-81.jpeg\n",
            "/content/Car-damage/car-train-val/splitTrainVal/train/headLamp/headLamp-81.jpeg\n",
            "/content/Car-damage/car-train-val/splitTrainVal/train/bumperScratch/bumperScratch-127.jpeg\n",
            "/content/Car-damage/car-train-val/splitTrainVal/train/bumperScratch/bumperScratch-127.jpeg\n",
            "/content/Car-damage/car-train-val/splitTrainVal/train/glassShatterRear/glassShatterRear-90.jpeg\n",
            "/content/Car-damage/car-train-val/splitTrainVal/train/glassShatterRear/glassShatterRear-90.jpeg\n",
            "/content/Car-damage/car-train-val/splitTrainVal/train/bumperScratch/bumperScratch-171.jpg\n",
            "/content/Car-damage/car-train-val/splitTrainVal/train/bumperScratch/bumperScratch-171.jpg\n",
            "/content/Car-damage/car-train-val/splitTrainVal/train/doorScratch/doorScratch-14.jpeg\n",
            "/content/Car-damage/car-train-val/splitTrainVal/train/doorScratch/doorScratch-14.jpeg\n",
            "/content/Car-damage/car-train-val/splitTrainVal/train/headLamp/headLamp-47.jpeg\n",
            "/content/Car-damage/car-train-val/splitTrainVal/train/headLamp/headLamp-47.jpeg\n",
            "/content/Car-damage/car-train-val/splitTrainVal/train/glassShatterSide/glassShatterSide-71.jpeg\n",
            "/content/Car-damage/car-train-val/splitTrainVal/train/glassShatterSide/glassShatterSide-71.jpeg\n",
            "/content/Car-damage/car-train-val/splitTrainVal/train/doorDent/doorDent-29.jpeg\n",
            "/content/Car-damage/car-train-val/splitTrainVal/train/doorDent/doorDent-29.jpeg\n",
            "/content/Car-damage/car-train-val/splitTrainVal/train/tailLamp/tailLamp-34.jpeg\n",
            "/content/Car-damage/car-train-val/splitTrainVal/train/tailLamp/tailLamp-34.jpeg\n",
            "/content/Car-damage/car-train-val/splitTrainVal/train/bumperScratch/bumperScratch-110.jpeg\n",
            "/content/Car-damage/car-train-val/splitTrainVal/train/bumperScratch/bumperScratch-110.jpeg\n"
          ],
          "name": "stdout"
        },
        {
          "output_type": "error",
          "ename": "TypeError",
          "evalue": "ignored",
          "traceback": [
            "\u001b[0;31m---------------------------------------------------------------------------\u001b[0m",
            "\u001b[0;31mTypeError\u001b[0m                                 Traceback (most recent call last)",
            "\u001b[0;32m<ipython-input-63-03c0ee5c8594>\u001b[0m in \u001b[0;36m<module>\u001b[0;34m()\u001b[0m\n\u001b[1;32m      5\u001b[0m     \u001b[0mplt\u001b[0m\u001b[0;34m.\u001b[0m\u001b[0mshow\u001b[0m\u001b[0;34m(\u001b[0m\u001b[0;34m)\u001b[0m\u001b[0;34m\u001b[0m\u001b[0;34m\u001b[0m\u001b[0m\n\u001b[1;32m      6\u001b[0m \u001b[0;34m\u001b[0m\u001b[0m\n\u001b[0;32m----> 7\u001b[0;31m \u001b[0mimages\u001b[0m\u001b[0;34m,\u001b[0m \u001b[0mlabels\u001b[0m \u001b[0;34m=\u001b[0m \u001b[0mnext\u001b[0m\u001b[0;34m(\u001b[0m\u001b[0miter\u001b[0m\u001b[0;34m(\u001b[0m\u001b[0mtrain_loader\u001b[0m\u001b[0;34m)\u001b[0m\u001b[0;34m)\u001b[0m\u001b[0;34m\u001b[0m\u001b[0;34m\u001b[0m\u001b[0m\n\u001b[0m\u001b[1;32m      8\u001b[0m \u001b[0;34m\u001b[0m\u001b[0m\n\u001b[1;32m      9\u001b[0m \u001b[0mtemp1\u001b[0m \u001b[0;34m=\u001b[0m \u001b[0;34m[\u001b[0m\u001b[0;34m]\u001b[0m\u001b[0;34m\u001b[0m\u001b[0;34m\u001b[0m\u001b[0m\n",
            "\u001b[0;32m/usr/local/lib/python3.6/dist-packages/torch/utils/data/dataloader.py\u001b[0m in \u001b[0;36m__next__\u001b[0;34m(self)\u001b[0m\n\u001b[1;32m    361\u001b[0m \u001b[0;34m\u001b[0m\u001b[0m\n\u001b[1;32m    362\u001b[0m     \u001b[0;32mdef\u001b[0m \u001b[0m__next__\u001b[0m\u001b[0;34m(\u001b[0m\u001b[0mself\u001b[0m\u001b[0;34m)\u001b[0m\u001b[0;34m:\u001b[0m\u001b[0;34m\u001b[0m\u001b[0;34m\u001b[0m\u001b[0m\n\u001b[0;32m--> 363\u001b[0;31m         \u001b[0mdata\u001b[0m \u001b[0;34m=\u001b[0m \u001b[0mself\u001b[0m\u001b[0;34m.\u001b[0m\u001b[0m_next_data\u001b[0m\u001b[0;34m(\u001b[0m\u001b[0;34m)\u001b[0m\u001b[0;34m\u001b[0m\u001b[0;34m\u001b[0m\u001b[0m\n\u001b[0m\u001b[1;32m    364\u001b[0m         \u001b[0mself\u001b[0m\u001b[0;34m.\u001b[0m\u001b[0m_num_yielded\u001b[0m \u001b[0;34m+=\u001b[0m \u001b[0;36m1\u001b[0m\u001b[0;34m\u001b[0m\u001b[0;34m\u001b[0m\u001b[0m\n\u001b[1;32m    365\u001b[0m         \u001b[0;32mif\u001b[0m \u001b[0mself\u001b[0m\u001b[0;34m.\u001b[0m\u001b[0m_dataset_kind\u001b[0m \u001b[0;34m==\u001b[0m \u001b[0m_DatasetKind\u001b[0m\u001b[0;34m.\u001b[0m\u001b[0mIterable\u001b[0m \u001b[0;32mand\u001b[0m\u001b[0;31m \u001b[0m\u001b[0;31m\\\u001b[0m\u001b[0;34m\u001b[0m\u001b[0;34m\u001b[0m\u001b[0m\n",
            "\u001b[0;32m/usr/local/lib/python3.6/dist-packages/torch/utils/data/dataloader.py\u001b[0m in \u001b[0;36m_next_data\u001b[0;34m(self)\u001b[0m\n\u001b[1;32m    987\u001b[0m             \u001b[0;32melse\u001b[0m\u001b[0;34m:\u001b[0m\u001b[0;34m\u001b[0m\u001b[0;34m\u001b[0m\u001b[0m\n\u001b[1;32m    988\u001b[0m                 \u001b[0;32mdel\u001b[0m \u001b[0mself\u001b[0m\u001b[0;34m.\u001b[0m\u001b[0m_task_info\u001b[0m\u001b[0;34m[\u001b[0m\u001b[0midx\u001b[0m\u001b[0;34m]\u001b[0m\u001b[0;34m\u001b[0m\u001b[0;34m\u001b[0m\u001b[0m\n\u001b[0;32m--> 989\u001b[0;31m                 \u001b[0;32mreturn\u001b[0m \u001b[0mself\u001b[0m\u001b[0;34m.\u001b[0m\u001b[0m_process_data\u001b[0m\u001b[0;34m(\u001b[0m\u001b[0mdata\u001b[0m\u001b[0;34m)\u001b[0m\u001b[0;34m\u001b[0m\u001b[0;34m\u001b[0m\u001b[0m\n\u001b[0m\u001b[1;32m    990\u001b[0m \u001b[0;34m\u001b[0m\u001b[0m\n\u001b[1;32m    991\u001b[0m     \u001b[0;32mdef\u001b[0m \u001b[0m_try_put_index\u001b[0m\u001b[0;34m(\u001b[0m\u001b[0mself\u001b[0m\u001b[0;34m)\u001b[0m\u001b[0;34m:\u001b[0m\u001b[0;34m\u001b[0m\u001b[0;34m\u001b[0m\u001b[0m\n",
            "\u001b[0;32m/usr/local/lib/python3.6/dist-packages/torch/utils/data/dataloader.py\u001b[0m in \u001b[0;36m_process_data\u001b[0;34m(self, data)\u001b[0m\n\u001b[1;32m   1012\u001b[0m         \u001b[0mself\u001b[0m\u001b[0;34m.\u001b[0m\u001b[0m_try_put_index\u001b[0m\u001b[0;34m(\u001b[0m\u001b[0;34m)\u001b[0m\u001b[0;34m\u001b[0m\u001b[0;34m\u001b[0m\u001b[0m\n\u001b[1;32m   1013\u001b[0m         \u001b[0;32mif\u001b[0m \u001b[0misinstance\u001b[0m\u001b[0;34m(\u001b[0m\u001b[0mdata\u001b[0m\u001b[0;34m,\u001b[0m \u001b[0mExceptionWrapper\u001b[0m\u001b[0;34m)\u001b[0m\u001b[0;34m:\u001b[0m\u001b[0;34m\u001b[0m\u001b[0;34m\u001b[0m\u001b[0m\n\u001b[0;32m-> 1014\u001b[0;31m             \u001b[0mdata\u001b[0m\u001b[0;34m.\u001b[0m\u001b[0mreraise\u001b[0m\u001b[0;34m(\u001b[0m\u001b[0;34m)\u001b[0m\u001b[0;34m\u001b[0m\u001b[0;34m\u001b[0m\u001b[0m\n\u001b[0m\u001b[1;32m   1015\u001b[0m         \u001b[0;32mreturn\u001b[0m \u001b[0mdata\u001b[0m\u001b[0;34m\u001b[0m\u001b[0;34m\u001b[0m\u001b[0m\n\u001b[1;32m   1016\u001b[0m \u001b[0;34m\u001b[0m\u001b[0m\n",
            "\u001b[0;32m/usr/local/lib/python3.6/dist-packages/torch/_utils.py\u001b[0m in \u001b[0;36mreraise\u001b[0;34m(self)\u001b[0m\n\u001b[1;32m    393\u001b[0m             \u001b[0;31m# (https://bugs.python.org/issue2651), so we work around it.\u001b[0m\u001b[0;34m\u001b[0m\u001b[0;34m\u001b[0m\u001b[0;34m\u001b[0m\u001b[0m\n\u001b[1;32m    394\u001b[0m             \u001b[0mmsg\u001b[0m \u001b[0;34m=\u001b[0m \u001b[0mKeyErrorMessage\u001b[0m\u001b[0;34m(\u001b[0m\u001b[0mmsg\u001b[0m\u001b[0;34m)\u001b[0m\u001b[0;34m\u001b[0m\u001b[0;34m\u001b[0m\u001b[0m\n\u001b[0;32m--> 395\u001b[0;31m         \u001b[0;32mraise\u001b[0m \u001b[0mself\u001b[0m\u001b[0;34m.\u001b[0m\u001b[0mexc_type\u001b[0m\u001b[0;34m(\u001b[0m\u001b[0mmsg\u001b[0m\u001b[0;34m)\u001b[0m\u001b[0;34m\u001b[0m\u001b[0;34m\u001b[0m\u001b[0m\n\u001b[0m",
            "\u001b[0;31mTypeError\u001b[0m: Caught TypeError in DataLoader worker process 0.\nOriginal Traceback (most recent call last):\n  File \"/usr/local/lib/python3.6/dist-packages/torch/utils/data/_utils/worker.py\", line 185, in _worker_loop\n    data = fetcher.fetch(index)\n  File \"/usr/local/lib/python3.6/dist-packages/torch/utils/data/_utils/fetch.py\", line 47, in fetch\n    return self.collate_fn(data)\n  File \"/usr/local/lib/python3.6/dist-packages/torch/utils/data/_utils/collate.py\", line 86, in default_collate\n    raise TypeError(default_collate_err_msg_format.format(elem_type))\nTypeError: default_collate: batch must contain tensors, numpy arrays, numbers, dicts or lists; found <class 'NoneType'>\n"
          ]
        },
        {
          "output_type": "stream",
          "text": [
            "/content/Car-damage/car-train-val/splitTrainVal/train/unknown/unknown-100.jpeg\n",
            "/content/Car-damage/car-train-val/splitTrainVal/train/unknown/unknown-100.jpeg\n",
            "/content/Car-damage/car-train-val/splitTrainVal/train/bumperScratch/bumperScratch-119.jpeg\n",
            "/content/Car-damage/car-train-val/splitTrainVal/train/bumperScratch/bumperScratch-119.jpeg\n",
            "/content/Car-damage/car-train-val/splitTrainVal/train/unknown/unknown-126.jpeg\n",
            "/content/Car-damage/car-train-val/splitTrainVal/train/unknown/unknown-126.jpeg\n"
          ],
          "name": "stdout"
        }
      ]
    },
    {
      "cell_type": "code",
      "metadata": {
        "id": "e4pBZtClJ12o",
        "colab_type": "code",
        "colab": {
          "base_uri": "https://localhost:8080/",
          "height": 1000
        },
        "outputId": "2a9c0e85-7089-46b0-c754-cb047447db66"
      },
      "source": [
        "\n",
        "# functions to show an image\n",
        "def imshow(inp):\n",
        "    inp = inp.numpy().transpose((1, 2, 0))\n",
        "    plt.imshow(inp)\n",
        "    plt.show()\n",
        "\n",
        "images, labels = next(iter(train_loader))\n",
        "\n",
        "temp1 = []\n",
        "\n",
        "obj = CarPartDataset(TrainSetPath)\n",
        "classes = CarPartDataset.className(obj)\n",
        "print(classes)\n",
        "for key, value in classes.items():\n",
        "    for z in range(0, 64):\n",
        "        if value == labels[z]:\n",
        "            temp1.append(key)\n",
        "\n",
        "image_grid = torchvision.utils.make_grid(images)\n",
        "imshow(image_grid)\n",
        "# print(temp1)\n",
        "\n",
        "print(\"Building Model\")\n",
        "net = torchvision.models.resnet50(pretrained=True)\n",
        "fc = nn.Sequential(OrderedDict([\n",
        "    (\"dropout\", nn.Dropout(0.4)),\n",
        "    (\"out\", nn.Linear(2048, 11))]))\n",
        "net.fc = fc\n",
        "\n",
        "for param, x in net.named_parameters():\n",
        "    if param.startswith(\"fc.out\"):\n",
        "        x.requires_grad = True\n",
        "    else:\n",
        "        x.requires_grad = False\n",
        "\n",
        "device = torch.device(\"cuda:0\" if torch.cuda.is_available() else \"cpu\")\n",
        "net.class_to_idx = classes\n",
        "net = net.to(device)\n",
        "criterion = nn.CrossEntropyLoss()\n",
        "optimizer = optim.SGD(net.parameters(), lr=0.001, momentum=0.9, weight_decay=5e-4)\n",
        "plt_train_loss, plt_val_loss = [], []\n",
        "plt_batch_train_loss, plt_batch_val_loss = [],[]\n",
        "\n",
        "global prev_loss\n",
        "prev_loss = float(\"inf\")\n",
        "global count\n",
        "count = 0\n",
        "\n",
        "# training\n",
        "def train(epoch):\n",
        "    print('\\nEpoch: %d' % epoch)\n",
        "    net.train()\n",
        "    train_loss = 0\n",
        "    correct = 0\n",
        "    total = 0\n",
        "    L1 = 0\n",
        "\n",
        "    for batch_idx, (inputs, targets) in enumerate(train_loader):\n",
        "        inputs, targets = inputs.to(device, dtype=torch.float), targets.to(device)\n",
        "        optimizer.zero_grad()\n",
        "        outputs = net(inputs)\n",
        "        loss = criterion(outputs, targets)\n",
        "        L1 += loss.item()*inputs.size(0)\n",
        "        loss.backward()\n",
        "        optimizer.step()\n",
        "        _, predicted = outputs.max(1)\n",
        "        total += targets.size(0)\n",
        "        correct += predicted.eq(targets).sum().item()\n",
        "#         print('Batch Train Loss: %.3f | Acc: %.3f' % (L1/total, 100.*correct/total))\n",
        "        plt_batch_train_loss.append(L1/total)\n",
        "\n",
        "    epoch_loss = L1 / len(train_datasets)\n",
        "    epoch_acc = correct / len(train_datasets)\n",
        "    plt_train_loss.append(epoch_loss)\n",
        "    print('{} Loss: {:.4f} Acc: {:.4f}'.format('Train', epoch_loss, epoch_acc))\n",
        "\n",
        "# validation\n",
        "def validation(epoch, flag):\n",
        "    global prev_loss\n",
        "    global count\n",
        "    net.eval()\n",
        "    valid_loss = 0\n",
        "    valid_correct = 0\n",
        "    total = 0\n",
        "    L2 = 0\n",
        "    xy = len(classes)\n",
        "    conf_matrix = torch.zeros(xy, xy)\n",
        "\n",
        "    for valid_idx ,(valid, y_valid) in enumerate(iter(valid_loader)):\n",
        "        valid, y_valid = valid.to(device, dtype=torch.float), y_valid.to(device)\n",
        "        output = net.forward(valid)\n",
        "        L2 += criterion(output, y_valid).item()*valid.size(0)\n",
        "        equal = (output.max(dim=1)[1] == y_valid.data)\n",
        "        _, predd = output.max(1)\n",
        "        valid_correct += torch.sum(equal)\n",
        "        total += valid.size(0)\n",
        "#         print('Batch Valid Loss: %.3f | Acc: %.3f' % (L2 / total, 100.*valid_correct / total))\n",
        "        plt_batch_val_loss.append(L2 / total)\n",
        "        for i in range(len(y_valid)):\n",
        "            conf_matrix[predd[i], y_valid[i]] = conf_matrix[predd[i], y_valid[i]] + 1\n",
        "\n",
        "    epoch_loss = L2 / len(valid_datasets)\n",
        "    epoch_acc = valid_correct.double() / len(valid_datasets)\n",
        "\n",
        "    print('{} Loss: {:.4f} Acc: {:.4f}'.format('Validation', epoch_loss, epoch_acc))\n",
        "\n",
        "    plt_val_loss.append(epoch_loss)\n",
        "    is_best = bool(epoch_loss < prev_loss)\n",
        "    is_lessequal = bool(epoch_loss >= prev_loss)\n",
        "    if (is_best):\n",
        "        prev_loss = epoch_loss\n",
        "        count = 0\n",
        "    elif (is_lessequal):\n",
        "        if (count < 25):\n",
        "            count = count + 1\n",
        "        else:\n",
        "            print(\"Terminated Training for Early Stopping at Epoch \", epoch+1)\n",
        "            flag = True\n",
        "\n",
        "    if flag == False:\n",
        "#         print(conf_matrix)\n",
        "        save_checkpoint({\n",
        "            'epoch': epoch + 1,\n",
        "            'state_dict': net.state_dict(),\n",
        "            'class_to_idx': net.class_to_idx,\n",
        "            'confusion_matrix': conf_matrix\n",
        "        }, is_best,\"./models/carPartModel-\"+epoch+\".pth\")\n",
        "        # save_checkpoint(net.state_dict(),is_best)\n",
        "    return flag\n",
        "\n"
      ],
      "execution_count": null,
      "outputs": [
        {
          "output_type": "stream",
          "text": [
            "/content/Car-damage/car-train-val/splitTrainVal/train/doorScratch/doorScratch-27.jpeg\n",
            "/content/Car-damage/car-train-val/splitTrainVal/train/multipleDamage/multipleDamage-125.jpeg\n",
            "/content/Car-damage/car-train-val/splitTrainVal/train/doorScratch/doorScratch-27.jpeg\n",
            "/content/Car-damage/car-train-val/splitTrainVal/train/unknown/unknown-24.jpeg\n",
            "/content/Car-damage/car-train-val/splitTrainVal/train/multipleDamage/multipleDamage-125.jpeg\n",
            "/content/Car-damage/car-train-val/splitTrainVal/train/unknown/unknown-24.jpeg\n",
            "/content/Car-damage/car-train-val/splitTrainVal/train/bumperScratch/bumperScratch-174.jpg\n",
            "/content/Car-damage/car-train-val/splitTrainVal/train/bumperScratch/bumperScratch-174.jpg\n",
            "/content/Car-damage/car-train-val/splitTrainVal/train/tailLamp/tailLamp-8.jpg\n",
            "/content/Car-damage/car-train-val/splitTrainVal/train/tailLamp/tailLamp-8.jpg\n",
            "/content/Car-damage/car-train-val/splitTrainVal/train/bumperScratch/bumperScratch-144.jpeg\n",
            "/content/Car-damage/car-train-val/splitTrainVal/train/bumperScratch/bumperScratch-144.jpeg\n",
            "/content/Car-damage/car-train-val/splitTrainVal/train/headLamp/headLamp-31.jpg\n",
            "/content/Car-damage/car-train-val/splitTrainVal/train/headLamp/headLamp-31.jpg\n",
            "/content/Car-damage/car-train-val/splitTrainVal/train/bumperScratch/bumperScratch-16.JPEG\n",
            "/content/Car-damage/car-train-val/splitTrainVal/train/bumperScratch/bumperScratch-16.JPEG\n",
            "/content/Car-damage/car-train-val/splitTrainVal/train/glassShatterSide/glassShatterSide-119.jpg\n",
            "/content/Car-damage/car-train-val/splitTrainVal/train/headLamp/headLamp-68.jpeg\n",
            "/content/Car-damage/car-train-val/splitTrainVal/train/glassShatterSide/glassShatterSide-119.jpg\n",
            "/content/Car-damage/car-train-val/splitTrainVal/train/headLamp/headLamp-68.jpeg\n",
            "/content/Car-damage/car-train-val/splitTrainVal/train/bumperScratch/bumperScratch-122.jpeg\n",
            "/content/Car-damage/car-train-val/splitTrainVal/train/bumperScratch/bumperScratch-122.jpeg\n",
            "/content/Car-damage/car-train-val/splitTrainVal/train/bumperScratch/bumperScratch-54.jpeg\n",
            "/content/Car-damage/car-train-val/splitTrainVal/train/bumperScratch/bumperScratch-54.jpeg\n",
            "/content/Car-damage/car-train-val/splitTrainVal/train/multipleDamage/multipleDamage-21.jpeg\n",
            "/content/Car-damage/car-train-val/splitTrainVal/train/multipleDamage/multipleDamage-21.jpeg\n",
            "/content/Car-damage/car-train-val/splitTrainVal/train/tailLamp/tailLamp-30.jpg\n",
            "/content/Car-damage/car-train-val/splitTrainVal/train/tailLamp/tailLamp-30.jpg\n",
            "/content/Car-damage/car-train-val/splitTrainVal/train/doorScratch/doorScratch-50.jpeg\n",
            "/content/Car-damage/car-train-val/splitTrainVal/train/doorScratch/doorScratch-50.jpeg\n",
            "/content/Car-damage/car-train-val/splitTrainVal/train/bumperScratch/bumperScratch-171.jpg\n",
            "/content/Car-damage/car-train-val/splitTrainVal/train/bumperScratch/bumperScratch-171.jpg\n",
            "/content/Car-damage/car-train-val/splitTrainVal/train/doorDent/doorDent-45.jpeg\n",
            "/content/Car-damage/car-train-val/splitTrainVal/train/doorDent/doorDent-45.jpeg\n",
            "/content/Car-damage/car-train-val/splitTrainVal/train/glassShatterRear/glassShatterRear-120.jpg\n",
            "/content/Car-damage/car-train-val/splitTrainVal/train/glassShatterRear/glassShatterRear-120.jpg\n",
            "/content/Car-damage/car-train-val/splitTrainVal/train/glassShatterRear/glassShatterRear-12.jpg\n",
            "/content/Car-damage/car-train-val/splitTrainVal/train/glassShatterSide/glassShatterSide-106.jpeg\n",
            "/content/Car-damage/car-train-val/splitTrainVal/train/glassShatterRear/glassShatterRear-12.jpg\n",
            "/content/Car-damage/car-train-val/splitTrainVal/train/glassShatterSide/glassShatterSide-106.jpeg\n",
            "/content/Car-damage/car-train-val/splitTrainVal/train/doorDent/doorDent-100.jpeg\n",
            "/content/Car-damage/car-train-val/splitTrainVal/train/doorScratch/doorScratch-14.jpeg\n",
            "/content/Car-damage/car-train-val/splitTrainVal/train/doorDent/doorDent-100.jpeg\n",
            "/content/Car-damage/car-train-val/splitTrainVal/train/doorScratch/doorScratch-14.jpeg\n",
            "/content/Car-damage/car-train-val/splitTrainVal/train/bumperScratch/bumperScratch-141.jpeg\n",
            "/content/Car-damage/car-train-val/splitTrainVal/train/bumperScratch/bumperScratch-141.jpeg\n",
            "/content/Car-damage/car-train-val/splitTrainVal/train/glassShatterRear/glassShatterRear-27.jpg\n",
            "/content/Car-damage/car-train-val/splitTrainVal/train/glassShatterRear/glassShatterRear-27.jpg\n",
            "/content/Car-damage/car-train-val/splitTrainVal/train/glassShatterRear/glassShatterRear-67.jpeg\n",
            "/content/Car-damage/car-train-val/splitTrainVal/train/glassShatterSide/glassShatterSide-133.jpg\n",
            "/content/Car-damage/car-train-val/splitTrainVal/train/glassShatterRear/glassShatterRear-67.jpeg\n",
            "/content/Car-damage/car-train-val/splitTrainVal/train/glassShatterSide/glassShatterSide-133.jpg\n",
            "/content/Car-damage/car-train-val/splitTrainVal/train/bumperScratch/bumperScratch-155.jpeg\n",
            "/content/Car-damage/car-train-val/splitTrainVal/train/bumperScratch/bumperScratch-155.jpeg\n",
            "/content/Car-damage/car-train-val/splitTrainVal/train/bumperScratch/bumperScratch-95.jpeg\n",
            "/content/Car-damage/car-train-val/splitTrainVal/train/glassShatterSide/glassShatterSide-6.jpg\n",
            "/content/Car-damage/car-train-val/splitTrainVal/train/glassShatterSide/glassShatterSide-6.jpg\n",
            "/content/Car-damage/car-train-val/splitTrainVal/train/bumperScratch/bumperScratch-95.jpeg\n",
            "/content/Car-damage/car-train-val/splitTrainVal/train/bumperScratch/bumperScratch-126.jpeg\n",
            "/content/Car-damage/car-train-val/splitTrainVal/train/bumperScratch/bumperScratch-126.jpeg\n",
            "/content/Car-damage/car-train-val/splitTrainVal/train/multipleDamage/multipleDamage-85.jpeg\n",
            "/content/Car-damage/car-train-val/splitTrainVal/train/multipleDamage/multipleDamage-85.jpeg\n",
            "/content/Car-damage/car-train-val/splitTrainVal/train/doorDent/doorDent-58.jpeg\n",
            "/content/Car-damage/car-train-val/splitTrainVal/train/doorDent/doorDent-58.jpeg\n",
            "/content/Car-damage/car-train-val/splitTrainVal/train/multipleDamage/multipleDamage-143.jpeg\n",
            "/content/Car-damage/car-train-val/splitTrainVal/train/multipleDamage/multipleDamage-143.jpeg\n",
            "/content/Car-damage/car-train-val/splitTrainVal/train/unknown/unknown-18.jpeg\n",
            "/content/Car-damage/car-train-val/splitTrainVal/train/unknown/unknown-18.jpeg\n",
            "/content/Car-damage/car-train-val/splitTrainVal/train/glassShatterFront/glassShatterFront-5.jpg\n",
            "/content/Car-damage/car-train-val/splitTrainVal/train/glassShatterFront/glassShatterFront-5.jpg\n",
            "/content/Car-damage/car-train-val/splitTrainVal/train/glassShatterFront/glassShatterFront-95.jpeg\n",
            "/content/Car-damage/car-train-val/splitTrainVal/train/glassShatterFront/glassShatterFront-95.jpeg\n",
            "/content/Car-damage/car-train-val/splitTrainVal/train/tailLamp/tailLamp-125.jpeg\n",
            "/content/Car-damage/car-train-val/splitTrainVal/train/tailLamp/tailLamp-125.jpeg\n",
            "/content/Car-damage/car-train-val/splitTrainVal/train/glassShatterSide/glassShatterSide-67.jpeg\n",
            "/content/Car-damage/car-train-val/splitTrainVal/train/glassShatterSide/glassShatterSide-67.jpeg\n",
            "/content/Car-damage/car-train-val/splitTrainVal/train/multipleDamage/multipleDamage-132.jpeg\n",
            "/content/Car-damage/car-train-val/splitTrainVal/train/multipleDamage/multipleDamage-132.jpeg\n",
            "/content/Car-damage/car-train-val/splitTrainVal/train/headLamp/headLamp-128.jpeg\n",
            "/content/Car-damage/car-train-val/splitTrainVal/train/headLamp/headLamp-128.jpeg\n",
            "/content/Car-damage/car-train-val/splitTrainVal/train/multipleDamage/multipleDamage-23.jpeg\n",
            "/content/Car-damage/car-train-val/splitTrainVal/train/multipleDamage/multipleDamage-23.jpeg\n",
            "/content/Car-damage/car-train-val/splitTrainVal/train/multipleDamage/multipleDamage-128.jpeg\n",
            "/content/Car-damage/car-train-val/splitTrainVal/train/multipleDamage/multipleDamage-128.jpeg\n",
            "/content/Car-damage/car-train-val/splitTrainVal/train/glassShatterSide/glassShatterSide-41.jpeg\n",
            "/content/Car-damage/car-train-val/splitTrainVal/train/glassShatterSide/glassShatterSide-41.jpeg\n",
            "/content/Car-damage/car-train-val/splitTrainVal/train/tailLamp/tailLamp-152.jpg\n",
            "/content/Car-damage/car-train-val/splitTrainVal/train/tailLamp/tailLamp-152.jpg\n",
            "/content/Car-damage/car-train-val/splitTrainVal/train/glassShatterSide/glassShatterSide-56.jpeg\n",
            "/content/Car-damage/car-train-val/splitTrainVal/train/glassShatterSide/glassShatterSide-56.jpeg\n",
            "/content/Car-damage/car-train-val/splitTrainVal/train/bumperScratch/bumperScratch-119.jpeg\n",
            "/content/Car-damage/car-train-val/splitTrainVal/train/bumperScratch/bumperScratch-119.jpeg\n",
            "/content/Car-damage/car-train-val/splitTrainVal/train/tailLamp/tailLamp-25.jpg\n",
            "/content/Car-damage/car-train-val/splitTrainVal/train/multipleDamage/multipleDamage-38.jpeg\n",
            "/content/Car-damage/car-train-val/splitTrainVal/train/tailLamp/tailLamp-25.jpg\n",
            "/content/Car-damage/car-train-val/splitTrainVal/train/multipleDamage/multipleDamage-38.jpeg\n",
            "/content/Car-damage/car-train-val/splitTrainVal/train/glassShatterRear/glassShatterRear-91.jpeg\n",
            "/content/Car-damage/car-train-val/splitTrainVal/train/glassShatterRear/glassShatterRear-91.jpeg\n",
            "/content/Car-damage/car-train-val/splitTrainVal/train/headLamp/headLamp-99.jpeg\n",
            "/content/Car-damage/car-train-val/splitTrainVal/train/headLamp/headLamp-99.jpeg\n",
            "/content/Car-damage/car-train-val/splitTrainVal/train/doorDent/doorDent-78.jpeg\n",
            "/content/Car-damage/car-train-val/splitTrainVal/train/doorDent/doorDent-78.jpeg\n",
            "/content/Car-damage/car-train-val/splitTrainVal/train/doorDent/doorDent-15.jpeg\n",
            "/content/Car-damage/car-train-val/splitTrainVal/train/doorDent/doorDent-15.jpeg\n",
            "/content/Car-damage/car-train-val/splitTrainVal/train/glassShatterFront/glassShatterFront-74.jpg\n",
            "/content/Car-damage/car-train-val/splitTrainVal/train/glassShatterFront/glassShatterFront-74.jpg\n",
            "/content/Car-damage/car-train-val/splitTrainVal/train/unknown/unknown-78.jpeg\n",
            "/content/Car-damage/car-train-val/splitTrainVal/train/unknown/unknown-78.jpeg\n",
            "/content/Car-damage/car-train-val/splitTrainVal/train/glassShatterRear/glassShatterRear-60.jpeg\n",
            "/content/Car-damage/car-train-val/splitTrainVal/train/unknown/unknown-114.jpeg\n",
            "/content/Car-damage/car-train-val/splitTrainVal/train/glassShatterRear/glassShatterRear-60.jpeg\n",
            "/content/Car-damage/car-train-val/splitTrainVal/train/unknown/unknown-114.jpeg\n",
            "/content/Car-damage/car-train-val/splitTrainVal/train/glassShatterFront/glassShatterFront-112.jpg\n"
          ],
          "name": "stdout"
        },
        {
          "output_type": "error",
          "ename": "TypeError",
          "evalue": "ignored",
          "traceback": [
            "\u001b[0;31m---------------------------------------------------------------------------\u001b[0m",
            "\u001b[0;31mTypeError\u001b[0m                                 Traceback (most recent call last)",
            "\u001b[0;32m<ipython-input-62-f220b7ad9202>\u001b[0m in \u001b[0;36m<module>\u001b[0;34m()\u001b[0m\n\u001b[1;32m      6\u001b[0m     \u001b[0mplt\u001b[0m\u001b[0;34m.\u001b[0m\u001b[0mshow\u001b[0m\u001b[0;34m(\u001b[0m\u001b[0;34m)\u001b[0m\u001b[0;34m\u001b[0m\u001b[0;34m\u001b[0m\u001b[0m\n\u001b[1;32m      7\u001b[0m \u001b[0;34m\u001b[0m\u001b[0m\n\u001b[0;32m----> 8\u001b[0;31m \u001b[0mimages\u001b[0m\u001b[0;34m,\u001b[0m \u001b[0mlabels\u001b[0m \u001b[0;34m=\u001b[0m \u001b[0mnext\u001b[0m\u001b[0;34m(\u001b[0m\u001b[0miter\u001b[0m\u001b[0;34m(\u001b[0m\u001b[0mtrain_loader\u001b[0m\u001b[0;34m)\u001b[0m\u001b[0;34m)\u001b[0m\u001b[0;34m\u001b[0m\u001b[0;34m\u001b[0m\u001b[0m\n\u001b[0m\u001b[1;32m      9\u001b[0m \u001b[0;34m\u001b[0m\u001b[0m\n\u001b[1;32m     10\u001b[0m \u001b[0mtemp1\u001b[0m \u001b[0;34m=\u001b[0m \u001b[0;34m[\u001b[0m\u001b[0;34m]\u001b[0m\u001b[0;34m\u001b[0m\u001b[0;34m\u001b[0m\u001b[0m\n",
            "\u001b[0;32m/usr/local/lib/python3.6/dist-packages/torch/utils/data/dataloader.py\u001b[0m in \u001b[0;36m__next__\u001b[0;34m(self)\u001b[0m\n\u001b[1;32m    361\u001b[0m \u001b[0;34m\u001b[0m\u001b[0m\n\u001b[1;32m    362\u001b[0m     \u001b[0;32mdef\u001b[0m \u001b[0m__next__\u001b[0m\u001b[0;34m(\u001b[0m\u001b[0mself\u001b[0m\u001b[0;34m)\u001b[0m\u001b[0;34m:\u001b[0m\u001b[0;34m\u001b[0m\u001b[0;34m\u001b[0m\u001b[0m\n\u001b[0;32m--> 363\u001b[0;31m         \u001b[0mdata\u001b[0m \u001b[0;34m=\u001b[0m \u001b[0mself\u001b[0m\u001b[0;34m.\u001b[0m\u001b[0m_next_data\u001b[0m\u001b[0;34m(\u001b[0m\u001b[0;34m)\u001b[0m\u001b[0;34m\u001b[0m\u001b[0;34m\u001b[0m\u001b[0m\n\u001b[0m\u001b[1;32m    364\u001b[0m         \u001b[0mself\u001b[0m\u001b[0;34m.\u001b[0m\u001b[0m_num_yielded\u001b[0m \u001b[0;34m+=\u001b[0m \u001b[0;36m1\u001b[0m\u001b[0;34m\u001b[0m\u001b[0;34m\u001b[0m\u001b[0m\n\u001b[1;32m    365\u001b[0m         \u001b[0;32mif\u001b[0m \u001b[0mself\u001b[0m\u001b[0;34m.\u001b[0m\u001b[0m_dataset_kind\u001b[0m \u001b[0;34m==\u001b[0m \u001b[0m_DatasetKind\u001b[0m\u001b[0;34m.\u001b[0m\u001b[0mIterable\u001b[0m \u001b[0;32mand\u001b[0m\u001b[0;31m \u001b[0m\u001b[0;31m\\\u001b[0m\u001b[0;34m\u001b[0m\u001b[0;34m\u001b[0m\u001b[0m\n",
            "\u001b[0;32m/usr/local/lib/python3.6/dist-packages/torch/utils/data/dataloader.py\u001b[0m in \u001b[0;36m_next_data\u001b[0;34m(self)\u001b[0m\n\u001b[1;32m    987\u001b[0m             \u001b[0;32melse\u001b[0m\u001b[0;34m:\u001b[0m\u001b[0;34m\u001b[0m\u001b[0;34m\u001b[0m\u001b[0m\n\u001b[1;32m    988\u001b[0m                 \u001b[0;32mdel\u001b[0m \u001b[0mself\u001b[0m\u001b[0;34m.\u001b[0m\u001b[0m_task_info\u001b[0m\u001b[0;34m[\u001b[0m\u001b[0midx\u001b[0m\u001b[0;34m]\u001b[0m\u001b[0;34m\u001b[0m\u001b[0;34m\u001b[0m\u001b[0m\n\u001b[0;32m--> 989\u001b[0;31m                 \u001b[0;32mreturn\u001b[0m \u001b[0mself\u001b[0m\u001b[0;34m.\u001b[0m\u001b[0m_process_data\u001b[0m\u001b[0;34m(\u001b[0m\u001b[0mdata\u001b[0m\u001b[0;34m)\u001b[0m\u001b[0;34m\u001b[0m\u001b[0;34m\u001b[0m\u001b[0m\n\u001b[0m\u001b[1;32m    990\u001b[0m \u001b[0;34m\u001b[0m\u001b[0m\n\u001b[1;32m    991\u001b[0m     \u001b[0;32mdef\u001b[0m \u001b[0m_try_put_index\u001b[0m\u001b[0;34m(\u001b[0m\u001b[0mself\u001b[0m\u001b[0;34m)\u001b[0m\u001b[0;34m:\u001b[0m\u001b[0;34m\u001b[0m\u001b[0;34m\u001b[0m\u001b[0m\n",
            "\u001b[0;32m/usr/local/lib/python3.6/dist-packages/torch/utils/data/dataloader.py\u001b[0m in \u001b[0;36m_process_data\u001b[0;34m(self, data)\u001b[0m\n\u001b[1;32m   1012\u001b[0m         \u001b[0mself\u001b[0m\u001b[0;34m.\u001b[0m\u001b[0m_try_put_index\u001b[0m\u001b[0;34m(\u001b[0m\u001b[0;34m)\u001b[0m\u001b[0;34m\u001b[0m\u001b[0;34m\u001b[0m\u001b[0m\n\u001b[1;32m   1013\u001b[0m         \u001b[0;32mif\u001b[0m \u001b[0misinstance\u001b[0m\u001b[0;34m(\u001b[0m\u001b[0mdata\u001b[0m\u001b[0;34m,\u001b[0m \u001b[0mExceptionWrapper\u001b[0m\u001b[0;34m)\u001b[0m\u001b[0;34m:\u001b[0m\u001b[0;34m\u001b[0m\u001b[0;34m\u001b[0m\u001b[0m\n\u001b[0;32m-> 1014\u001b[0;31m             \u001b[0mdata\u001b[0m\u001b[0;34m.\u001b[0m\u001b[0mreraise\u001b[0m\u001b[0;34m(\u001b[0m\u001b[0;34m)\u001b[0m\u001b[0;34m\u001b[0m\u001b[0;34m\u001b[0m\u001b[0m\n\u001b[0m\u001b[1;32m   1015\u001b[0m         \u001b[0;32mreturn\u001b[0m \u001b[0mdata\u001b[0m\u001b[0;34m\u001b[0m\u001b[0;34m\u001b[0m\u001b[0m\n\u001b[1;32m   1016\u001b[0m \u001b[0;34m\u001b[0m\u001b[0m\n",
            "\u001b[0;32m/usr/local/lib/python3.6/dist-packages/torch/_utils.py\u001b[0m in \u001b[0;36mreraise\u001b[0;34m(self)\u001b[0m\n\u001b[1;32m    393\u001b[0m             \u001b[0;31m# (https://bugs.python.org/issue2651), so we work around it.\u001b[0m\u001b[0;34m\u001b[0m\u001b[0;34m\u001b[0m\u001b[0;34m\u001b[0m\u001b[0m\n\u001b[1;32m    394\u001b[0m             \u001b[0mmsg\u001b[0m \u001b[0;34m=\u001b[0m \u001b[0mKeyErrorMessage\u001b[0m\u001b[0;34m(\u001b[0m\u001b[0mmsg\u001b[0m\u001b[0;34m)\u001b[0m\u001b[0;34m\u001b[0m\u001b[0;34m\u001b[0m\u001b[0m\n\u001b[0;32m--> 395\u001b[0;31m         \u001b[0;32mraise\u001b[0m \u001b[0mself\u001b[0m\u001b[0;34m.\u001b[0m\u001b[0mexc_type\u001b[0m\u001b[0;34m(\u001b[0m\u001b[0mmsg\u001b[0m\u001b[0;34m)\u001b[0m\u001b[0;34m\u001b[0m\u001b[0;34m\u001b[0m\u001b[0m\n\u001b[0m",
            "\u001b[0;31mTypeError\u001b[0m: Caught TypeError in DataLoader worker process 0.\nOriginal Traceback (most recent call last):\n  File \"/usr/local/lib/python3.6/dist-packages/torch/utils/data/_utils/worker.py\", line 185, in _worker_loop\n    data = fetcher.fetch(index)\n  File \"/usr/local/lib/python3.6/dist-packages/torch/utils/data/_utils/fetch.py\", line 47, in fetch\n    return self.collate_fn(data)\n  File \"/usr/local/lib/python3.6/dist-packages/torch/utils/data/_utils/collate.py\", line 86, in default_collate\n    raise TypeError(default_collate_err_msg_format.format(elem_type))\nTypeError: default_collate: batch must contain tensors, numpy arrays, numbers, dicts or lists; found <class 'NoneType'>\n"
          ]
        },
        {
          "output_type": "stream",
          "text": [
            "/content/Car-damage/car-train-val/splitTrainVal/train/glassShatterFront/glassShatterFront-112.jpg\n",
            "/content/Car-damage/car-train-val/splitTrainVal/train/glassShatterRear/glassShatterRear-85.jpg\n",
            "/content/Car-damage/car-train-val/splitTrainVal/train/glassShatterRear/glassShatterRear-85.jpg\n",
            "/content/Car-damage/car-train-val/splitTrainVal/train/glassShatterRear/glassShatterRear-71.jpeg\n",
            "/content/Car-damage/car-train-val/splitTrainVal/train/glassShatterRear/glassShatterRear-71.jpeg\n",
            "/content/Car-damage/car-train-val/splitTrainVal/train/unknown/unknown-143.jpeg\n",
            "/content/Car-damage/car-train-val/splitTrainVal/train/unknown/unknown-143.jpeg\n",
            "/content/Car-damage/car-train-val/splitTrainVal/train/bumperScratch/bumperScratch-107.jpeg\n",
            "/content/Car-damage/car-train-val/splitTrainVal/train/bumperScratch/bumperScratch-107.jpeg\n",
            "/content/Car-damage/car-train-val/splitTrainVal/train/doorDent/doorDent-108.jpeg\n",
            "/content/Car-damage/car-train-val/splitTrainVal/train/glassShatterRear/glassShatterRear-97.jpeg\n",
            "/content/Car-damage/car-train-val/splitTrainVal/train/glassShatterRear/glassShatterRear-97.jpeg\n",
            "/content/Car-damage/car-train-val/splitTrainVal/train/doorDent/doorDent-108.jpeg\n",
            "/content/Car-damage/car-train-val/splitTrainVal/train/doorScratch/doorScratch-87.jpeg\n",
            "/content/Car-damage/car-train-val/splitTrainVal/train/doorScratch/doorScratch-40.jpeg\n",
            "/content/Car-damage/car-train-val/splitTrainVal/train/doorScratch/doorScratch-40.jpeg\n",
            "/content/Car-damage/car-train-val/splitTrainVal/train/doorScratch/doorScratch-87.jpeg\n",
            "/content/Car-damage/car-train-val/splitTrainVal/train/glassShatterSide/glassShatterSide-98.jpeg\n",
            "/content/Car-damage/car-train-val/splitTrainVal/train/glassShatterSide/glassShatterSide-98.jpeg\n"
          ],
          "name": "stdout"
        }
      ]
    },
    {
      "cell_type": "code",
      "metadata": {
        "id": "DWvjkRI7gnzi",
        "colab_type": "code",
        "colab": {}
      },
      "source": [
        "# save_checkpoint\n",
        "def save_checkpoint(state, is_best, filename):\n",
        "    if is_best:\n",
        "        print(state[\"confusion_matrix\"])\n",
        "        print(\"=> Saving a new best\")\n",
        "        torch.save(state, filename)\n",
        "    else:\n",
        "        print(\"=> Validation loss did not reduce\")\n",
        "\n",
        "for epoch in range(0, 50):\n",
        "    flag = False\n",
        "    train(epoch)\n",
        "    a = validation(epoch, flag)\n",
        "    if a == True:\n",
        "        break\n",
        "\n",
        "plt.plot(plt_train_loss, label='Training loss')\n",
        "plt.plot(plt_val_loss, label='Validation loss')\n",
        "plt.legend(frameon=False)\n",
        "plt.show()\n",
        "x = np.arange(0, len(plt_batch_train_loss), len(plt_batch_train_loss)/len(plt_batch_val_loss))\n",
        "plt.plot(plt_batch_train_loss,label = \"Batch train loss\")\n",
        "plt.plot(x,plt_batch_val_loss, label = \"Batch validation loss\")\n",
        "plt.legend(frameon=False)\n",
        "plt.show()\n"
      ],
      "execution_count": null,
      "outputs": []
    },
    {
      "cell_type": "code",
      "metadata": {
        "id": "zGja-LmzKTGJ",
        "colab_type": "code",
        "colab": {}
      },
      "source": [
        ""
      ],
      "execution_count": null,
      "outputs": []
    }
  ]
}