{
 "cells": [
  {
   "cell_type": "code",
   "execution_count": null,
   "metadata": {},
   "outputs": [],
   "source": [
    "from torchvision import transforms\n",
    "from torch.utils.data import Dataset, DataLoader\n",
    "import glob\n",
    "import torch.nn as nn\n",
    "import os.path as osp\n",
    "import torchvision\n",
    "import matplotlib.pyplot as plt\n",
    "import torch\n",
    "#import rotateImage\n",
    "import cv2\n",
    "import numpy as np\n",
    "#import split_folders\n",
    "import random\n",
    "import torch.backends.cudnn as cudnn\n",
    "import torch.optim as optim\n",
    "from random import choice\n",
    "from collections import OrderedDict"
   ]
  },
  {
   "cell_type": "code",
   "execution_count": null,
   "metadata": {},
   "outputs": [],
   "source": [
    "model = torch.load('/content/carPartModel-305.pth')\n",
    "for names in model:\n",
    "  print(names)\n",
    "# for name,param in model.items():\n",
    "#   if name=='state_dict':\n",
    "#     print(param)"
   ]
  },
  {
   "cell_type": "code",
   "execution_count": null,
   "metadata": {},
   "outputs": [],
   "source": [
    "for name, param in model.named_parameters():\n",
    "    print(name, ':', param.requires_grad)"
   ]
  },
  {
   "cell_type": "code",
   "execution_count": null,
   "metadata": {},
   "outputs": [],
   "source": [
    "def load_model(checkpoint_path):\n",
    "  chpt = torch.load(checkpoint_path)\n",
    "  net = torchvision.models.resnet50(pretrained=True)\n",
    "  fc = nn.Sequential(OrderedDict([\n",
    "    (\"dropout\", nn.Dropout(0.4)),\n",
    "    (\"out\", nn.Linear(2048, 11))]))\n",
    "  net.fc = fc\n",
    "\n",
    "  for param, x in net.named_parameters():\n",
    "    if param.startswith(\"fc.out\"):\n",
    "        x.requires_grad = True\n",
    "    else:\n",
    "        x.requires_grad = False\n",
    "\n",
    "  device = torch.device(\"cuda:0\" if torch.cuda.is_available() else \"cpu\")\n",
    "  #net.class_to_idx = classes\n",
    "  net = net.to(device)\n",
    "  criterion = nn.CrossEntropyLoss()\n",
    "  optimizer = optim.SGD(net.parameters(), lr=0.001, momentum=0.9, weight_decay=5e-4)\n",
    "    \n",
    "  net.class_to_idx = chpt['class_to_idx']\n",
    "    \n",
    "     \n",
    "    \n",
    "  net.load_state_dict(chpt['state_dict'])\n",
    "    \n",
    "  return net"
   ]
  },
  {
   "cell_type": "code",
   "execution_count": null,
   "metadata": {},
   "outputs": [],
   "source": [
    "the_model = load_model('/content/carPartModel-305.pth')"
   ]
  },
  {
   "cell_type": "code",
   "execution_count": null,
   "metadata": {},
   "outputs": [],
   "source": [
    "for name, param in the_model.named_parameters():\n",
    "    print(name, ':', param.requires_grad)"
   ]
  },
  {
   "cell_type": "code",
   "execution_count": null,
   "metadata": {},
   "outputs": [],
   "source": [
    "dummy_input = torch.randn(1, 3, 224, 224, device='cuda')\n",
    "onnx_path =  \"/content/pytorch_ONNx.onnx\"\n",
    "\n",
    "torch.onnx.export(the_model, dummy_input, onnx_path, verbose=False)\n",
    "print('Model exported to ' + onnx_path)"
   ]
  }
 ],
 "metadata": {
  "kernelspec": {
   "display_name": "Python 3",
   "language": "python",
   "name": "python3"
  },
  "language_info": {
   "codemirror_mode": {
    "name": "ipython",
    "version": 3
   },
   "file_extension": ".py",
   "mimetype": "text/x-python",
   "name": "python",
   "nbconvert_exporter": "python",
   "pygments_lexer": "ipython3",
   "version": "3.7.6"
  }
 },
 "nbformat": 4,
 "nbformat_minor": 2
}
