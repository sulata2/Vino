{
  "nbformat": 4,
  "nbformat_minor": 0,
  "metadata": {
    "kernelspec": {
      "display_name": "Python 3",
      "language": "python",
      "name": "python3"
    },
    "language_info": {
      "codemirror_mode": {
        "name": "ipython",
        "version": 3
      },
      "file_extension": ".py",
      "mimetype": "text/x-python",
      "name": "python",
      "nbconvert_exporter": "python",
      "pygments_lexer": "ipython3",
      "version": "3.7.6"
    },
    "colab": {
      "name": "CIFAR10-keras-classification (2).ipynb",
      "provenance": []
    },
    "accelerator": "GPU"
  },
  "cells": [
    {
      "cell_type": "code",
      "metadata": {
        "id": "VM9OMIfteOJW",
        "colab_type": "code",
        "colab": {}
      },
      "source": [
        "#The CIFAR-10 dataset contains 60,000 32x32 color images in 10 different classes. \n",
        "#The 10 different classes represent airplanes, cars, birds, cats, deer, dogs, frogs, horses, ships, and trucks.\n"
      ],
      "execution_count": null,
      "outputs": []
    },
    {
      "cell_type": "code",
      "metadata": {
        "id": "o7ozw9sgeOKR",
        "colab_type": "code",
        "colab": {}
      },
      "source": [
        "import numpy as np # linear algebra\n",
        "import pandas as pd # data processing, CSV file I/O (e.g. pd.read_csv)\n",
        "\n",
        "# import backend\n",
        "import tensorflow as  tf\n",
        "\n",
        "# Model architecture\n",
        "from sklearn.model_selection import train_test_split\n",
        "\n",
        "from tensorflow.keras import datasets, layers, models\n",
        "from tensorflow.keras.models import Sequential\n",
        "from tensorflow.keras.layers import Dense, Dropout, Flatten, Conv2D,MaxPool2D, Activation, MaxPooling2D\n",
        "#from tensorflow.keras.layers.normalization import BatchNormalization\n",
        "# \n",
        "from keras.optimizers import SGD\n",
        "from tensorflow.keras.preprocessing.image import ImageDataGenerator\n",
        "from keras.constraints import maxnorm\n",
        "# Data processing\n",
        "\n",
        "from tensorflow.keras.utils import to_categorical\n",
        "from tensorflow.keras.preprocessing import image\n",
        "# Visualization\n",
        "import matplotlib.pyplot as plt\n",
        "import seaborn as sns\n",
        "\n",
        "# Progressor\n",
        "#from tqdm import tqdm\n",
        "#import h5py\n"
      ],
      "execution_count": null,
      "outputs": []
    },
    {
      "cell_type": "code",
      "metadata": {
        "id": "xrhf4DXLeOLX",
        "colab_type": "code",
        "colab": {}
      },
      "source": [
        "# loading the dataset \n",
        "from tensorflow.keras.datasets import cifar10\n",
        "(X_train, y_train) , (X_test, y_test) = cifar10.load_data()"
      ],
      "execution_count": 187,
      "outputs": []
    },
    {
      "cell_type": "code",
      "metadata": {
        "id": "8I8OyuY_eOLl",
        "colab_type": "code",
        "colab": {}
      },
      "source": [
        "y_train[0:1]"
      ],
      "execution_count": null,
      "outputs": []
    },
    {
      "cell_type": "code",
      "metadata": {
        "id": "llxi-98GeOMH",
        "colab_type": "code",
        "colab": {}
      },
      "source": [
        "type(y_train)"
      ],
      "execution_count": null,
      "outputs": []
    },
    {
      "cell_type": "code",
      "metadata": {
        "id": "4Rw1xbNbeOMh",
        "colab_type": "code",
        "colab": {}
      },
      "source": [
        "#X_train1, X_test1 ,y_train1, y_test1 = train_test_split( X_train, y_train, test_size=0.20 ,stratify=True)\n",
        "#y_train1, y_test1  = train_test_split( y_train, test_size=0.20 ,stratify=True)\n",
        "#X, X_valid1, y, y_vaild1 = train_test_split(X_train, y_train, test_size=0.2, random_state=1)\n",
        "#X, X_valid1, y, y_vaild1 = train_test_split(X_train, test_size=0.2, random_state=1)\n",
        "#y_train1, y_test1  = train_test_split( y_train, test_size=0.20 ,stratify=y_train)"
      ],
      "execution_count": null,
      "outputs": []
    },
    {
      "cell_type": "code",
      "metadata": {
        "id": "7hQwBNZoeOM7",
        "colab_type": "code",
        "colab": {}
      },
      "source": [
        "X_train1, X_test1, y_train1, y_test1= train_test_split(X_train,y_train, test_size=0.2, random_state=1,stratify=y_train)\n",
        "#y_train1, y_test1  = train_test_split( y_train, test_size=0.20 ,stratify=y_train)"
      ],
      "execution_count": 188,
      "outputs": []
    },
    {
      "cell_type": "code",
      "metadata": {
        "id": "0fXJ8OLFeONY",
        "colab_type": "code",
        "colab": {}
      },
      "source": [
        "#Now i'am applying stratified sampling as :\n",
        "\n",
        "#        train,test = train_test_split(dataset,test_size=0.20,stratify=True)\n",
        "#s = pd.Series(data) "
      ],
      "execution_count": null,
      "outputs": []
    },
    {
      "cell_type": "code",
      "metadata": {
        "id": "gHxsOYaDeONv",
        "colab_type": "code",
        "colab": {}
      },
      "source": [
        "# X_train and y_train to put into another numpy 3 arrays such ,X_train to spilt into train1 , test1 and val1 .\n",
        "# checking if after splitting data it has correctly loaded into three arrays or not.\n"
      ],
      "execution_count": null,
      "outputs": []
    },
    {
      "cell_type": "code",
      "metadata": {
        "id": "XNUAsQx_eOOI",
        "colab_type": "code",
        "colab": {}
      },
      "source": [
        "#X_train1= X_train[:40000,:]\n",
        "#X_test1 = X_train[-10000:,:]\n",
        "#X_train1= X_train[:40000,:]\n",
        "#X_test1 = X_train[-10000:,:]"
      ],
      "execution_count": null,
      "outputs": []
    },
    {
      "cell_type": "code",
      "metadata": {
        "id": "uZplqMNQeOO1",
        "colab_type": "code",
        "colab": {
          "base_uri": "https://localhost:8080/",
          "height": 69
        },
        "outputId": "e3a4e078-25cb-4c24-887b-32f876583259"
      },
      "source": [
        "# summarize loaded dataset\n",
        "print('X_train: X=%s, y=%s' % (X_train.shape, y_train.shape))\n",
        "print('X_train1: X=%s, y=%s' % (X_train1.shape, y_train1.shape))\n",
        "print('X_test1: X=%s, y=%s' % (X_test1.shape, y_test1.shape))"
      ],
      "execution_count": 189,
      "outputs": [
        {
          "output_type": "stream",
          "text": [
            "X_train: X=(50000, 32, 32, 3), y=(50000, 1)\n",
            "X_train1: X=(40000, 32, 32, 3), y=(40000, 1)\n",
            "X_test1: X=(10000, 32, 32, 3), y=(10000, 1)\n"
          ],
          "name": "stdout"
        }
      ]
    },
    {
      "cell_type": "code",
      "metadata": {
        "id": "_KKGLnsheOPZ",
        "colab_type": "code",
        "colab": {}
      },
      "source": [
        "class_names = ['airplane', 'automobile', 'bird', 'cat', 'deer',\n",
        "               'dog', 'frog', 'horse', 'ship', 'truck']\n",
        "\n",
        "plt.figure(figsize=(10,10))\n",
        "for i in range(5):\n",
        "    plt.subplot(5,5,i+1)\n",
        "    plt.xticks([])\n",
        "    plt.yticks([])\n",
        "    plt.grid(False)\n",
        "    plt.imshow(X_train1[i], cmap=plt.cm.binary)\n",
        "    # The CIFAR labels happen to be arrays, \n",
        "    # which is why you need the extra index\n",
        "    plt.xlabel(class_names[y_train1[i][0]])\n",
        "plt.show()"
      ],
      "execution_count": null,
      "outputs": []
    },
    {
      "cell_type": "code",
      "metadata": {
        "id": "hZmBbJwpeOPp",
        "colab_type": "code",
        "colab": {}
      },
      "source": [
        "y_test[0:2]"
      ],
      "execution_count": null,
      "outputs": []
    },
    {
      "cell_type": "code",
      "metadata": {
        "id": "tnNWM5XCeOQH",
        "colab_type": "code",
        "colab": {}
      },
      "source": [
        "# plot first few images\n",
        "for i in range(5):\n",
        "# define subplot\n",
        "   plt.subplot(330 + 1 + i)\n",
        "# plot raw pixel data\n",
        "   plt.imshow(X_train1[i])\n",
        "# show the figure\n",
        "plt.show()"
      ],
      "execution_count": null,
      "outputs": []
    },
    {
      "cell_type": "code",
      "metadata": {
        "id": "KSoSaS5NeOQi",
        "colab_type": "code",
        "colab": {}
      },
      "source": [
        "# normalize pixel values\n",
        "#X_train1, X_test1 = X_train1 / 255.0, X_test1 / 255.0\n",
        "# Function to reshape and scaling image\n",
        "def Scale_Reshape(x):\n",
        "    x_min = x.min(axis=(1, 2), keepdims=True)\n",
        "    x_max = x.max(axis=(1, 2), keepdims=True)\n",
        "\n",
        "    x = (x - x_min)/(x_max-x_min)\n",
        "    \n",
        "    x = x.reshape(-1, 32, 32, 3)\n",
        "    return x"
      ],
      "execution_count": null,
      "outputs": []
    },
    {
      "cell_type": "code",
      "metadata": {
        "id": "TUTWUdaceOQw",
        "colab_type": "code",
        "colab": {}
      },
      "source": [
        "# Training data processing\n",
        "X_train1_scale = Scale_Reshape(X_train1)\n",
        "\n",
        "# Test data processing \n",
        "X_test1_scale = Scale_Reshape(X_test1)\n",
        "#  actual test data scaling\n",
        "# Test data processing \n",
        "X_test_scale = Scale_Reshape(X_test)"
      ],
      "execution_count": null,
      "outputs": []
    },
    {
      "cell_type": "code",
      "metadata": {
        "id": "LxPytnXheORm",
        "colab_type": "code",
        "colab": {}
      },
      "source": [
        ""
      ],
      "execution_count": null,
      "outputs": []
    },
    {
      "cell_type": "code",
      "metadata": {
        "id": "4SgD3YhpeORz",
        "colab_type": "code",
        "colab": {}
      },
      "source": [
        "# Show the histogram showing the frequency of data point in each class\n",
        "# it shows in training set each class having 5k images  and test each class having 1k \n",
        "fig, axs = plt.subplots(1,3,figsize=(15,5)) \n",
        "# Count plot for training set\n",
        "sns.countplot(y_train1.ravel(), ax=axs[0])\n",
        "axs[0].set_title('frequency of data point in each class in train1')\n",
        "axs[0].set_xlabel('Classes')\n",
        "\n",
        "sns.countplot(y_test1.ravel(), ax=axs[1])\n",
        "axs[1].set_title('frequency of data point in each class in test1')\n",
        "axs[1].set_xlabel('Classes')\n",
        "\n",
        "sns.countplot(y_test.ravel(), ax=axs[2])\n",
        "axs[2].set_title('frequency of data point in each class in actual test')\n",
        "axs[2].set_xlabel('Classes')"
      ],
      "execution_count": null,
      "outputs": []
    },
    {
      "cell_type": "code",
      "metadata": {
        "id": "kaQESnMleOSQ",
        "colab_type": "code",
        "colab": {}
      },
      "source": [
        "# it shows in training set each class having 5k images  and test each class having 1k \n",
        "fig, axs = plt.subplots(1,2,figsize=(15,5)) \n",
        "# Count plot for training set\n",
        "sns.countplot(y_train.ravel(), ax=axs[0])\n",
        "axs[0].set_title('frequency of data point in each class in train')\n",
        "axs[0].set_xlabel('Classes')\n",
        "\n",
        "sns.countplot(y_test.ravel(), ax=axs[1])\n",
        "axs[1].set_title('frequency of data point in each class in test')\n",
        "axs[1].set_xlabel('Classes')\n",
        "\n"
      ],
      "execution_count": null,
      "outputs": []
    },
    {
      "cell_type": "code",
      "metadata": {
        "id": "sMkSMcUPeOSY",
        "colab_type": "code",
        "colab": {}
      },
      "source": [
        "# normalize pixel values\n",
        "X_train1 = X_train1.astype('float32')\n",
        "X_test1 = X_test1.astype('float32')\n",
        "X_train1, X_test1 = X_train1 / 255.0, X_test1 / 255.0"
      ],
      "execution_count": 190,
      "outputs": []
    },
    {
      "cell_type": "code",
      "metadata": {
        "id": "BzNDUzhUeOSe",
        "colab_type": "code",
        "colab": {}
      },
      "source": [
        "# Convert categorical values int one hot encoding .\n",
        "#import keras\n",
        "num_classes = 10\n",
        "y_train1 = tf.keras.utils.to_categorical(y_train1, num_classes)\n",
        "y_test1 = tf.keras.utils.to_categorical(y_test1, num_classes)"
      ],
      "execution_count": 191,
      "outputs": []
    },
    {
      "cell_type": "code",
      "metadata": {
        "id": "kK6hEUzneOSu",
        "colab_type": "code",
        "colab": {}
      },
      "source": [
        "# now we will check with actuall test set for accuracy ( X_test and y_test)\n",
        "# here one hot encoding for actual test data and scaling for actual test set \n",
        "# normalize pixel values\n",
        "X_test = X_test.astype('float32')\n",
        "X_test=  X_test / 255.0\n",
        "# Convert categorical values int one hot encoding .\n",
        "#import keras\n",
        "num_classes = 10\n",
        "y_test = tf.keras.utils.to_categorical(y_test, num_classes)"
      ],
      "execution_count": 192,
      "outputs": []
    },
    {
      "cell_type": "code",
      "metadata": {
        "id": "LiegvelweOTJ",
        "colab_type": "code",
        "colab": {}
      },
      "source": [
        ""
      ],
      "execution_count": null,
      "outputs": []
    },
    {
      "cell_type": "code",
      "metadata": {
        "id": "ZIBtMWR0eOTb",
        "colab_type": "code",
        "colab": {}
      },
      "source": [
        "#net is learning with 32 convolutional filters, each of which with a 3 x 3 size. \n",
        "#activation is relu and we have a max-pooling operation with pool size 2 x 2 and a dropout at 25%.\n",
        "\n",
        "model = models.Sequential()\n",
        "model.add(layers.Conv2D(32, (3, 3), activation='relu',padding='same', input_shape=(32, 32, 3)))\n",
        "model.add(layers.Conv2D(32, (3, 3), activation='relu',padding='same'))\n",
        "model.add(layers.MaxPooling2D((2, 2)))\n",
        "model.add(BatchNormalization())\n",
        "#model.add(Dropout(0.50))\n"
      ],
      "execution_count": null,
      "outputs": []
    },
    {
      "cell_type": "code",
      "metadata": {
        "id": "afOV0eJOKbUU",
        "colab_type": "code",
        "colab": {
          "base_uri": "https://localhost:8080/",
          "height": 52
        },
        "outputId": "d64f27a0-261a-4d59-c064-322601865caf"
      },
      "source": [
        "reset model"
      ],
      "execution_count": 202,
      "outputs": [
        {
          "output_type": "stream",
          "text": [
            "Once deleted, variables cannot be recovered. Proceed (y/[n])? y\n",
            "Don't know how to reset  model, please run `%reset?` for details\n"
          ],
          "name": "stdout"
        }
      ]
    },
    {
      "cell_type": "code",
      "metadata": {
        "id": "72KBodikeOTi",
        "colab_type": "code",
        "colab": {}
      },
      "source": [
        "#net is learning 128 convolutional filters, each of which with a 3 x 3 size.  \n",
        "#folowed by another 128 convolutional filters, each of which with a 3 x 3 size and activation is also relu. \n",
        "#After that we have a avarage -pooling operation with pool size 2 x 2 and a dropout at 25%.\n",
        "\n",
        "model.add(layers.Conv2D(128, (3, 3), activation='relu',padding='same'))\n",
        "model.add(layers.Conv2D(128, (3, 3), activation='relu'))\n",
        "model.add(layers.AveragePooling2D((2, 2)))\n",
        "model.add(Dropout(0.250))\n"
      ],
      "execution_count": null,
      "outputs": []
    },
    {
      "cell_type": "code",
      "metadata": {
        "id": "sR-4cM3FeOT0",
        "colab_type": "code",
        "colab": {}
      },
      "source": [
        "# Add Dense layers on top\n",
        "# CIFAR has 10 output classes, so you use a final Dense layer with 10 outputs,drop out  and a softmax activation.\n",
        "\n",
        "model.add(layers.Flatten())\n",
        "\n",
        "model.add(layers.Dense(512, activation='relu'))\n",
        "model.add(Dropout(0.25))\n",
        "model.add(layers.Dense(512, activation='relu'))\n",
        "model.add(layers.Dense(10, activation = 'softmax'))"
      ],
      "execution_count": null,
      "outputs": []
    },
    {
      "cell_type": "code",
      "metadata": {
        "id": "tYFeT4szSW32",
        "colab_type": "code",
        "colab": {}
      },
      "source": [
        "    model = models.Sequential()\n",
        "    model.add(Conv2D(32, (3, 3), padding='same', activation='relu', input_shape=(32, 32, 3)))\n",
        "    model.add(Dropout(0.2))\n",
        " \n",
        "    model.add(Conv2D(32,(3,3),padding='same', activation='relu'))\n",
        "    model.add(MaxPooling2D(pool_size=(2,2)))\n",
        " \n",
        "    model.add(Conv2D(64,(3,3),padding='same',activation='relu'))\n",
        "    model.add(Dropout(0.2))\n",
        " \n",
        "    model.add(Conv2D(64,(3,3),padding='same',activation='relu'))\n",
        "    model.add(MaxPooling2D(pool_size=(2,2)))\n",
        " \n",
        "    model.add(Conv2D(128,(3,3),padding='same',activation='relu'))\n",
        "    model.add(Dropout(0.2))\n",
        " \n",
        "    model.add(Conv2D(128,(3,3),padding='same',activation='relu'))\n",
        "    model.add(MaxPooling2D(pool_size=(2,2)))\n",
        " \n",
        "    model.add(Flatten())\n",
        "    model.add(Dropout(0.2))\n",
        "    model.add(Dense(1024,activation='relu',kernel_constraint=maxnorm(3)))\n",
        "    model.add(Dropout(0.2))\n",
        "    model.add(Dense(num_classes, activation='softmax'))"
      ],
      "execution_count": 203,
      "outputs": []
    },
    {
      "cell_type": "code",
      "metadata": {
        "id": "Zx4fBT69eOT_",
        "colab_type": "code",
        "colab": {
          "base_uri": "https://localhost:8080/",
          "height": 745
        },
        "outputId": "514d4087-6b7f-436f-af57-20fa29fb1bec"
      },
      "source": [
        "model.summary()"
      ],
      "execution_count": 204,
      "outputs": [
        {
          "output_type": "stream",
          "text": [
            "Model: \"sequential_12\"\n",
            "_________________________________________________________________\n",
            "Layer (type)                 Output Shape              Param #   \n",
            "=================================================================\n",
            "conv2d_49 (Conv2D)           (None, 32, 32, 32)        896       \n",
            "_________________________________________________________________\n",
            "dropout_33 (Dropout)         (None, 32, 32, 32)        0         \n",
            "_________________________________________________________________\n",
            "conv2d_50 (Conv2D)           (None, 32, 32, 32)        9248      \n",
            "_________________________________________________________________\n",
            "max_pooling2d_17 (MaxPooling (None, 16, 16, 32)        0         \n",
            "_________________________________________________________________\n",
            "conv2d_51 (Conv2D)           (None, 16, 16, 64)        18496     \n",
            "_________________________________________________________________\n",
            "dropout_34 (Dropout)         (None, 16, 16, 64)        0         \n",
            "_________________________________________________________________\n",
            "conv2d_52 (Conv2D)           (None, 16, 16, 64)        36928     \n",
            "_________________________________________________________________\n",
            "max_pooling2d_18 (MaxPooling (None, 8, 8, 64)          0         \n",
            "_________________________________________________________________\n",
            "conv2d_53 (Conv2D)           (None, 8, 8, 128)         73856     \n",
            "_________________________________________________________________\n",
            "dropout_35 (Dropout)         (None, 8, 8, 128)         0         \n",
            "_________________________________________________________________\n",
            "conv2d_54 (Conv2D)           (None, 8, 8, 128)         147584    \n",
            "_________________________________________________________________\n",
            "max_pooling2d_19 (MaxPooling (None, 4, 4, 128)         0         \n",
            "_________________________________________________________________\n",
            "flatten_13 (Flatten)         (None, 2048)              0         \n",
            "_________________________________________________________________\n",
            "dropout_36 (Dropout)         (None, 2048)              0         \n",
            "_________________________________________________________________\n",
            "dense_34 (Dense)             (None, 1024)              2098176   \n",
            "_________________________________________________________________\n",
            "dropout_37 (Dropout)         (None, 1024)              0         \n",
            "_________________________________________________________________\n",
            "dense_35 (Dense)             (None, 10)                10250     \n",
            "=================================================================\n",
            "Total params: 2,395,434\n",
            "Trainable params: 2,395,434\n",
            "Non-trainable params: 0\n",
            "_________________________________________________________________\n"
          ],
          "name": "stdout"
        }
      ]
    },
    {
      "cell_type": "code",
      "metadata": {
        "id": "gCZj2Jz-eOUu",
        "colab_type": "code",
        "colab": {}
      },
      "source": [
        "number_of_round=60 ,\n",
        "#batch_size = 32"
      ],
      "execution_count": null,
      "outputs": []
    },
    {
      "cell_type": "code",
      "metadata": {
        "id": "BRDbsBGzG-Uz",
        "colab_type": "code",
        "colab": {
          "base_uri": "https://localhost:8080/",
          "height": 1000
        },
        "outputId": "b5b41d47-304e-44e7-e956-f9b329cc5b90"
      },
      "source": [
        "# Compile and train the model and validation dataset and without any image augmentation\n",
        "#opt = SGD(lr=0.01, momentum=0.9)\n",
        "#optimizer=opt\n",
        "model.compile(optimizer= 'adam',\n",
        "#              loss=tf.keras.losses.SparseCategoricalCrossentropy(from_logits=True),\n",
        "              loss = 'categorical_crossentropy',\n",
        "              metrics=['accuracy'])\n",
        "\n",
        "#history = model.fit(X_train1, y_train1, epochs = 40, shuffle = True, batch_size = 64,\n",
        "#                    validation_data=(X_test1, y_test1))\n",
        "history = model.fit(X_train1, y_train1, epochs = 40,shuffle = True, batch_size = 32,\n",
        "                     validation_split = 0.1)"
      ],
      "execution_count": 200,
      "outputs": [
        {
          "output_type": "stream",
          "text": [
            "Epoch 1/40\n",
            "1125/1125 [==============================] - 18s 16ms/step - loss: 1.6599 - accuracy: 0.3865 - val_loss: 1.3473 - val_accuracy: 0.5120\n",
            "Epoch 2/40\n",
            "1125/1125 [==============================] - 18s 16ms/step - loss: 1.2362 - accuracy: 0.5561 - val_loss: 1.1588 - val_accuracy: 0.5790\n",
            "Epoch 3/40\n",
            "1125/1125 [==============================] - 18s 16ms/step - loss: 1.0461 - accuracy: 0.6280 - val_loss: 1.0191 - val_accuracy: 0.6407\n",
            "Epoch 4/40\n",
            "1125/1125 [==============================] - 18s 16ms/step - loss: 0.9136 - accuracy: 0.6747 - val_loss: 0.9135 - val_accuracy: 0.6795\n",
            "Epoch 5/40\n",
            "1125/1125 [==============================] - 18s 16ms/step - loss: 0.8281 - accuracy: 0.7061 - val_loss: 0.8425 - val_accuracy: 0.7015\n",
            "Epoch 6/40\n",
            "1125/1125 [==============================] - 18s 16ms/step - loss: 0.7591 - accuracy: 0.7290 - val_loss: 0.8238 - val_accuracy: 0.7100\n",
            "Epoch 7/40\n",
            "1125/1125 [==============================] - 18s 16ms/step - loss: 0.7107 - accuracy: 0.7479 - val_loss: 0.7820 - val_accuracy: 0.7253\n",
            "Epoch 8/40\n",
            "1125/1125 [==============================] - 18s 16ms/step - loss: 0.6614 - accuracy: 0.7658 - val_loss: 0.7940 - val_accuracy: 0.7303\n",
            "Epoch 9/40\n",
            "1125/1125 [==============================] - 18s 16ms/step - loss: 0.6206 - accuracy: 0.7817 - val_loss: 0.7420 - val_accuracy: 0.7418\n",
            "Epoch 10/40\n",
            "1125/1125 [==============================] - 18s 16ms/step - loss: 0.5968 - accuracy: 0.7895 - val_loss: 0.7594 - val_accuracy: 0.7385\n",
            "Epoch 11/40\n",
            "1125/1125 [==============================] - 18s 16ms/step - loss: 0.5705 - accuracy: 0.7962 - val_loss: 0.7236 - val_accuracy: 0.7550\n",
            "Epoch 12/40\n",
            "1125/1125 [==============================] - 18s 16ms/step - loss: 0.5376 - accuracy: 0.8112 - val_loss: 0.7398 - val_accuracy: 0.7600\n",
            "Epoch 13/40\n",
            "1125/1125 [==============================] - 18s 16ms/step - loss: 0.5133 - accuracy: 0.8187 - val_loss: 0.7647 - val_accuracy: 0.7360\n",
            "Epoch 14/40\n",
            "1125/1125 [==============================] - 19s 17ms/step - loss: 0.5025 - accuracy: 0.8248 - val_loss: 0.7230 - val_accuracy: 0.7542\n",
            "Epoch 15/40\n",
            "1125/1125 [==============================] - 18s 16ms/step - loss: 0.4857 - accuracy: 0.8294 - val_loss: 0.7452 - val_accuracy: 0.7473\n",
            "Epoch 16/40\n",
            "1125/1125 [==============================] - 18s 16ms/step - loss: 0.4682 - accuracy: 0.8332 - val_loss: 0.7012 - val_accuracy: 0.7688\n",
            "Epoch 17/40\n",
            "1125/1125 [==============================] - 18s 16ms/step - loss: 0.4581 - accuracy: 0.8377 - val_loss: 0.7380 - val_accuracy: 0.7645\n",
            "Epoch 18/40\n",
            "1125/1125 [==============================] - 18s 16ms/step - loss: 0.4482 - accuracy: 0.8441 - val_loss: 0.7538 - val_accuracy: 0.7605\n",
            "Epoch 19/40\n",
            "1125/1125 [==============================] - 18s 16ms/step - loss: 0.4396 - accuracy: 0.8449 - val_loss: 0.7118 - val_accuracy: 0.7707\n",
            "Epoch 20/40\n",
            "1125/1125 [==============================] - 18s 16ms/step - loss: 0.4220 - accuracy: 0.8515 - val_loss: 0.8019 - val_accuracy: 0.7585\n",
            "Epoch 21/40\n",
            "1125/1125 [==============================] - 18s 16ms/step - loss: 0.4238 - accuracy: 0.8510 - val_loss: 0.7600 - val_accuracy: 0.7567\n",
            "Epoch 22/40\n",
            "1125/1125 [==============================] - 18s 16ms/step - loss: 0.4197 - accuracy: 0.8564 - val_loss: 0.7369 - val_accuracy: 0.7590\n",
            "Epoch 23/40\n",
            "1125/1125 [==============================] - 18s 16ms/step - loss: 0.4082 - accuracy: 0.8581 - val_loss: 0.7428 - val_accuracy: 0.7595\n",
            "Epoch 24/40\n",
            "1125/1125 [==============================] - 18s 16ms/step - loss: 0.4042 - accuracy: 0.8585 - val_loss: 0.7583 - val_accuracy: 0.7542\n",
            "Epoch 25/40\n",
            "1125/1125 [==============================] - 18s 16ms/step - loss: 0.3995 - accuracy: 0.8615 - val_loss: 0.7412 - val_accuracy: 0.7655\n",
            "Epoch 26/40\n",
            "1125/1125 [==============================] - 18s 16ms/step - loss: 0.3915 - accuracy: 0.8640 - val_loss: 0.7436 - val_accuracy: 0.7680\n",
            "Epoch 27/40\n",
            "1125/1125 [==============================] - 18s 16ms/step - loss: 0.3825 - accuracy: 0.8652 - val_loss: 0.7755 - val_accuracy: 0.7628\n",
            "Epoch 28/40\n",
            "1125/1125 [==============================] - 18s 16ms/step - loss: 0.3874 - accuracy: 0.8659 - val_loss: 0.7901 - val_accuracy: 0.7495\n",
            "Epoch 29/40\n",
            "1125/1125 [==============================] - 18s 16ms/step - loss: 0.3923 - accuracy: 0.8643 - val_loss: 0.7533 - val_accuracy: 0.7673\n",
            "Epoch 30/40\n",
            "1125/1125 [==============================] - 18s 16ms/step - loss: 0.3792 - accuracy: 0.8681 - val_loss: 0.7293 - val_accuracy: 0.7678\n",
            "Epoch 31/40\n",
            "1125/1125 [==============================] - 18s 16ms/step - loss: 0.3712 - accuracy: 0.8701 - val_loss: 0.7940 - val_accuracy: 0.7585\n",
            "Epoch 32/40\n",
            "1125/1125 [==============================] - 18s 16ms/step - loss: 0.3805 - accuracy: 0.8703 - val_loss: 0.7195 - val_accuracy: 0.7607\n",
            "Epoch 33/40\n",
            "1125/1125 [==============================] - 18s 16ms/step - loss: 0.3773 - accuracy: 0.8698 - val_loss: 0.7856 - val_accuracy: 0.7500\n",
            "Epoch 34/40\n",
            "1125/1125 [==============================] - 18s 16ms/step - loss: 0.3699 - accuracy: 0.8736 - val_loss: 0.7748 - val_accuracy: 0.7613\n",
            "Epoch 35/40\n",
            "1125/1125 [==============================] - 18s 16ms/step - loss: 0.3690 - accuracy: 0.8735 - val_loss: 0.7440 - val_accuracy: 0.7632\n",
            "Epoch 36/40\n",
            "1125/1125 [==============================] - 18s 16ms/step - loss: 0.3672 - accuracy: 0.8725 - val_loss: 0.7863 - val_accuracy: 0.7565\n",
            "Epoch 37/40\n",
            "1125/1125 [==============================] - 18s 16ms/step - loss: 0.3677 - accuracy: 0.8753 - val_loss: 0.8103 - val_accuracy: 0.7408\n",
            "Epoch 38/40\n",
            "1125/1125 [==============================] - 18s 16ms/step - loss: 0.3706 - accuracy: 0.8739 - val_loss: 0.7531 - val_accuracy: 0.7725\n",
            "Epoch 39/40\n",
            "1125/1125 [==============================] - 18s 16ms/step - loss: 0.3577 - accuracy: 0.8778 - val_loss: 0.7498 - val_accuracy: 0.7630\n",
            "Epoch 40/40\n",
            "1125/1125 [==============================] - 18s 16ms/step - loss: 0.3658 - accuracy: 0.8727 - val_loss: 0.7796 - val_accuracy: 0.7635\n"
          ],
          "name": "stdout"
        }
      ]
    },
    {
      "cell_type": "code",
      "metadata": {
        "id": "OPWuQVF_wZLW",
        "colab_type": "code",
        "colab": {
          "base_uri": "https://localhost:8080/",
          "height": 1000
        },
        "outputId": "0e1d9e3d-b433-43db-b985-2f8a07edf33d"
      },
      "source": [
        "# with test1 dataset \n",
        "model.compile(optimizer= 'adam',\n",
        "#              loss=tf.keras.losses.SparseCategoricalCrossentropy(from_logits=True),\n",
        "              loss = 'categorical_crossentropy',\n",
        "              metrics=['accuracy'])\n",
        "history = model.fit(X_train1, y_train1, epochs = 35, shuffle = True, batch_size = 32,\n",
        "                   validation_data=(X_test1, y_test1))"
      ],
      "execution_count": 206,
      "outputs": [
        {
          "output_type": "stream",
          "text": [
            "Epoch 1/35\n",
            "1250/1250 [==============================] - 22s 18ms/step - loss: 1.0832 - accuracy: 0.6141 - val_loss: 0.9667 - val_accuracy: 0.6563\n",
            "Epoch 2/35\n",
            "1250/1250 [==============================] - 21s 17ms/step - loss: 0.9398 - accuracy: 0.6661 - val_loss: 0.8709 - val_accuracy: 0.6921\n",
            "Epoch 3/35\n",
            "1250/1250 [==============================] - 22s 17ms/step - loss: 0.8273 - accuracy: 0.7068 - val_loss: 0.8363 - val_accuracy: 0.7080\n",
            "Epoch 4/35\n",
            "1250/1250 [==============================] - 21s 17ms/step - loss: 0.7568 - accuracy: 0.7328 - val_loss: 0.7649 - val_accuracy: 0.7297\n",
            "Epoch 5/35\n",
            "1250/1250 [==============================] - 21s 17ms/step - loss: 0.7017 - accuracy: 0.7540 - val_loss: 0.7984 - val_accuracy: 0.7296\n",
            "Epoch 6/35\n",
            "1250/1250 [==============================] - 21s 17ms/step - loss: 0.6566 - accuracy: 0.7681 - val_loss: 0.7135 - val_accuracy: 0.7525\n",
            "Epoch 7/35\n",
            "1250/1250 [==============================] - 21s 17ms/step - loss: 0.6151 - accuracy: 0.7854 - val_loss: 0.7303 - val_accuracy: 0.7534\n",
            "Epoch 8/35\n",
            "1250/1250 [==============================] - 21s 17ms/step - loss: 0.5862 - accuracy: 0.7935 - val_loss: 0.7193 - val_accuracy: 0.7575\n",
            "Epoch 9/35\n",
            "1250/1250 [==============================] - 21s 17ms/step - loss: 0.5513 - accuracy: 0.8044 - val_loss: 0.6977 - val_accuracy: 0.7622\n",
            "Epoch 10/35\n",
            "1250/1250 [==============================] - 22s 17ms/step - loss: 0.5304 - accuracy: 0.8115 - val_loss: 0.6933 - val_accuracy: 0.7646\n",
            "Epoch 11/35\n",
            "1250/1250 [==============================] - 22s 17ms/step - loss: 0.5084 - accuracy: 0.8224 - val_loss: 0.7277 - val_accuracy: 0.7544\n",
            "Epoch 12/35\n",
            "1250/1250 [==============================] - 21s 17ms/step - loss: 0.4937 - accuracy: 0.8254 - val_loss: 0.7494 - val_accuracy: 0.7455\n",
            "Epoch 13/35\n",
            "1250/1250 [==============================] - 21s 17ms/step - loss: 0.4844 - accuracy: 0.8295 - val_loss: 0.6991 - val_accuracy: 0.7696\n",
            "Epoch 14/35\n",
            "1250/1250 [==============================] - 21s 17ms/step - loss: 0.4613 - accuracy: 0.8385 - val_loss: 0.7097 - val_accuracy: 0.7632\n",
            "Epoch 15/35\n",
            "1250/1250 [==============================] - 22s 17ms/step - loss: 0.4612 - accuracy: 0.8407 - val_loss: 0.7095 - val_accuracy: 0.7671\n",
            "Epoch 16/35\n",
            "1250/1250 [==============================] - 21s 17ms/step - loss: 0.4454 - accuracy: 0.8427 - val_loss: 0.7304 - val_accuracy: 0.7593\n",
            "Epoch 17/35\n",
            "1250/1250 [==============================] - 21s 17ms/step - loss: 0.4491 - accuracy: 0.8424 - val_loss: 0.6977 - val_accuracy: 0.7713\n",
            "Epoch 18/35\n",
            "1250/1250 [==============================] - 21s 17ms/step - loss: 0.4293 - accuracy: 0.8504 - val_loss: 0.7377 - val_accuracy: 0.7552\n",
            "Epoch 19/35\n",
            "1250/1250 [==============================] - 21s 17ms/step - loss: 0.4289 - accuracy: 0.8492 - val_loss: 0.6995 - val_accuracy: 0.7760\n",
            "Epoch 20/35\n",
            "1250/1250 [==============================] - 21s 17ms/step - loss: 0.4174 - accuracy: 0.8533 - val_loss: 0.7662 - val_accuracy: 0.7555\n",
            "Epoch 21/35\n",
            "1250/1250 [==============================] - 21s 17ms/step - loss: 0.4151 - accuracy: 0.8551 - val_loss: 0.7523 - val_accuracy: 0.7676\n",
            "Epoch 22/35\n",
            "1250/1250 [==============================] - 21s 17ms/step - loss: 0.4165 - accuracy: 0.8538 - val_loss: 0.6955 - val_accuracy: 0.7770\n",
            "Epoch 23/35\n",
            "1250/1250 [==============================] - 21s 17ms/step - loss: 0.4008 - accuracy: 0.8605 - val_loss: 0.7247 - val_accuracy: 0.7745\n",
            "Epoch 24/35\n",
            "1250/1250 [==============================] - 21s 17ms/step - loss: 0.4046 - accuracy: 0.8584 - val_loss: 0.7155 - val_accuracy: 0.7725\n",
            "Epoch 25/35\n",
            "1250/1250 [==============================] - 22s 18ms/step - loss: 0.4101 - accuracy: 0.8570 - val_loss: 0.7603 - val_accuracy: 0.7612\n",
            "Epoch 26/35\n",
            "1250/1250 [==============================] - 22s 17ms/step - loss: 0.4017 - accuracy: 0.8605 - val_loss: 0.7075 - val_accuracy: 0.7731\n",
            "Epoch 27/35\n",
            "1250/1250 [==============================] - 21s 17ms/step - loss: 0.3925 - accuracy: 0.8645 - val_loss: 0.7359 - val_accuracy: 0.7670\n",
            "Epoch 28/35\n",
            "1250/1250 [==============================] - 22s 17ms/step - loss: 0.3967 - accuracy: 0.8641 - val_loss: 0.7898 - val_accuracy: 0.7552\n",
            "Epoch 29/35\n",
            "1250/1250 [==============================] - 21s 17ms/step - loss: 0.3817 - accuracy: 0.8683 - val_loss: 0.7140 - val_accuracy: 0.7751\n",
            "Epoch 30/35\n",
            "1250/1250 [==============================] - 22s 17ms/step - loss: 0.3908 - accuracy: 0.8639 - val_loss: 0.7592 - val_accuracy: 0.7584\n",
            "Epoch 31/35\n",
            "1250/1250 [==============================] - 22s 17ms/step - loss: 0.3919 - accuracy: 0.8658 - val_loss: 0.7287 - val_accuracy: 0.7683\n",
            "Epoch 32/35\n",
            "1250/1250 [==============================] - 21s 17ms/step - loss: 0.3854 - accuracy: 0.8684 - val_loss: 0.7422 - val_accuracy: 0.7547\n",
            "Epoch 33/35\n",
            "1250/1250 [==============================] - 21s 17ms/step - loss: 0.3846 - accuracy: 0.8661 - val_loss: 0.7129 - val_accuracy: 0.7723\n",
            "Epoch 34/35\n",
            "1250/1250 [==============================] - 21s 17ms/step - loss: 0.3716 - accuracy: 0.8721 - val_loss: 0.7568 - val_accuracy: 0.7664\n",
            "Epoch 35/35\n",
            "1250/1250 [==============================] - 21s 17ms/step - loss: 0.3820 - accuracy: 0.8699 - val_loss: 0.7599 - val_accuracy: 0.7623\n"
          ],
          "name": "stdout"
        }
      ]
    },
    {
      "cell_type": "code",
      "metadata": {
        "id": "bWGoEbnoACYO",
        "colab_type": "code",
        "colab": {
          "base_uri": "https://localhost:8080/",
          "height": 1000
        },
        "outputId": "4b10ed7a-6ae7-410a-8eea-61966062fd29"
      },
      "source": [
        "# with actaul test dataset\n",
        "\n",
        "model = models.Sequential()\n",
        "model.add(Conv2D(32, (3, 3), padding='same', activation='relu', input_shape=(32, 32, 3)))\n",
        "model.add(Dropout(0.2))\n",
        " \n",
        "model.add(Conv2D(32,(3,3),padding='same', activation='relu'))\n",
        "model.add(MaxPooling2D(pool_size=(2,2)))\n",
        " \n",
        "model.add(Conv2D(64,(3,3),padding='same',activation='relu'))\n",
        "model.add(Dropout(0.2))\n",
        " \n",
        "model.add(Conv2D(64,(3,3),padding='same',activation='relu'))\n",
        "model.add(MaxPooling2D(pool_size=(2,2)))\n",
        " \n",
        "model.add(Conv2D(128,(3,3),padding='same',activation='relu'))\n",
        "model.add(Dropout(0.2))\n",
        " \n",
        "model.add(Conv2D(128,(3,3),padding='same',activation='relu'))\n",
        "model.add(MaxPooling2D(pool_size=(2,2)))\n",
        " \n",
        "model.add(Flatten())\n",
        "model.add(Dropout(0.2))\n",
        "model.add(Dense(1024,activation='relu',kernel_constraint=maxnorm(3)))\n",
        "model.add(Dropout(0.2))\n",
        "model.add(Dense(num_classes, activation='softmax'))\n",
        "model.compile(optimizer= 'adam',\n",
        "#              loss=tf.keras.losses.SparseCategoricalCrossentropy(from_logits=True),\n",
        "              loss = 'categorical_crossentropy',\n",
        "              metrics=['accuracy'])\n",
        "history = model.fit(X_train1, y_train1, epochs = 35, shuffle = True, batch_size = 32,\n",
        "                   validation_data=(X_test, y_test))"
      ],
      "execution_count": 211,
      "outputs": [
        {
          "output_type": "stream",
          "text": [
            "Epoch 1/35\n",
            "1250/1250 [==============================] - 22s 17ms/step - loss: 1.6211 - accuracy: 0.3999 - val_loss: 1.3261 - val_accuracy: 0.5157\n",
            "Epoch 2/35\n",
            "1250/1250 [==============================] - 21s 17ms/step - loss: 1.1800 - accuracy: 0.5756 - val_loss: 1.0680 - val_accuracy: 0.6200\n",
            "Epoch 3/35\n",
            "1250/1250 [==============================] - 21s 17ms/step - loss: 1.0086 - accuracy: 0.6406 - val_loss: 1.0152 - val_accuracy: 0.6427\n",
            "Epoch 4/35\n",
            "1250/1250 [==============================] - 21s 17ms/step - loss: 0.8920 - accuracy: 0.6868 - val_loss: 0.8371 - val_accuracy: 0.7089\n",
            "Epoch 5/35\n",
            "1250/1250 [==============================] - 22s 17ms/step - loss: 0.8065 - accuracy: 0.7159 - val_loss: 0.8138 - val_accuracy: 0.7139\n",
            "Epoch 6/35\n",
            "1250/1250 [==============================] - 21s 17ms/step - loss: 0.7417 - accuracy: 0.7377 - val_loss: 0.7968 - val_accuracy: 0.7228\n",
            "Epoch 7/35\n",
            "1250/1250 [==============================] - 21s 17ms/step - loss: 0.6897 - accuracy: 0.7561 - val_loss: 0.7722 - val_accuracy: 0.7341\n",
            "Epoch 8/35\n",
            "1250/1250 [==============================] - 21s 17ms/step - loss: 0.6510 - accuracy: 0.7704 - val_loss: 0.7202 - val_accuracy: 0.7528\n",
            "Epoch 9/35\n",
            "1250/1250 [==============================] - 21s 17ms/step - loss: 0.6222 - accuracy: 0.7818 - val_loss: 0.7199 - val_accuracy: 0.7562\n",
            "Epoch 10/35\n",
            "1250/1250 [==============================] - 22s 17ms/step - loss: 0.5872 - accuracy: 0.7936 - val_loss: 0.7112 - val_accuracy: 0.7544\n",
            "Epoch 11/35\n",
            "1250/1250 [==============================] - 21s 17ms/step - loss: 0.5610 - accuracy: 0.8027 - val_loss: 0.6888 - val_accuracy: 0.7698\n",
            "Epoch 12/35\n",
            "1250/1250 [==============================] - 22s 17ms/step - loss: 0.5415 - accuracy: 0.8092 - val_loss: 0.7044 - val_accuracy: 0.7663\n",
            "Epoch 13/35\n",
            "1250/1250 [==============================] - 21s 17ms/step - loss: 0.5174 - accuracy: 0.8188 - val_loss: 0.7033 - val_accuracy: 0.7703\n",
            "Epoch 14/35\n",
            "1250/1250 [==============================] - 21s 17ms/step - loss: 0.5158 - accuracy: 0.8171 - val_loss: 0.7102 - val_accuracy: 0.7636\n",
            "Epoch 15/35\n",
            "1250/1250 [==============================] - 21s 17ms/step - loss: 0.4906 - accuracy: 0.8270 - val_loss: 0.7374 - val_accuracy: 0.7582\n",
            "Epoch 16/35\n",
            "1250/1250 [==============================] - 22s 17ms/step - loss: 0.4844 - accuracy: 0.8285 - val_loss: 0.6973 - val_accuracy: 0.7702\n",
            "Epoch 17/35\n",
            "1250/1250 [==============================] - 21s 17ms/step - loss: 0.4710 - accuracy: 0.8343 - val_loss: 0.7293 - val_accuracy: 0.7633\n",
            "Epoch 18/35\n",
            "1250/1250 [==============================] - 21s 17ms/step - loss: 0.4690 - accuracy: 0.8362 - val_loss: 0.7168 - val_accuracy: 0.7593\n",
            "Epoch 19/35\n",
            "1250/1250 [==============================] - 21s 17ms/step - loss: 0.4567 - accuracy: 0.8405 - val_loss: 0.7269 - val_accuracy: 0.7600\n",
            "Epoch 20/35\n",
            "1250/1250 [==============================] - 21s 17ms/step - loss: 0.4455 - accuracy: 0.8429 - val_loss: 0.7297 - val_accuracy: 0.7684\n",
            "Epoch 21/35\n",
            "1250/1250 [==============================] - 22s 17ms/step - loss: 0.4462 - accuracy: 0.8428 - val_loss: 0.7357 - val_accuracy: 0.7687\n",
            "Epoch 22/35\n",
            "1250/1250 [==============================] - 21s 17ms/step - loss: 0.4347 - accuracy: 0.8483 - val_loss: 0.7484 - val_accuracy: 0.7649\n",
            "Epoch 23/35\n",
            "1250/1250 [==============================] - 21s 17ms/step - loss: 0.4335 - accuracy: 0.8471 - val_loss: 0.7095 - val_accuracy: 0.7730\n",
            "Epoch 24/35\n",
            "1250/1250 [==============================] - 21s 17ms/step - loss: 0.4344 - accuracy: 0.8487 - val_loss: 0.7016 - val_accuracy: 0.7713\n",
            "Epoch 25/35\n",
            "1250/1250 [==============================] - 22s 17ms/step - loss: 0.4179 - accuracy: 0.8561 - val_loss: 0.7389 - val_accuracy: 0.7765\n",
            "Epoch 26/35\n",
            "1250/1250 [==============================] - 21s 17ms/step - loss: 0.4243 - accuracy: 0.8533 - val_loss: 0.7040 - val_accuracy: 0.7778\n",
            "Epoch 27/35\n",
            "1250/1250 [==============================] - 22s 17ms/step - loss: 0.4157 - accuracy: 0.8546 - val_loss: 0.7186 - val_accuracy: 0.7743\n",
            "Epoch 28/35\n",
            "1250/1250 [==============================] - 21s 17ms/step - loss: 0.4227 - accuracy: 0.8535 - val_loss: 0.7492 - val_accuracy: 0.7695\n",
            "Epoch 29/35\n",
            "1250/1250 [==============================] - 21s 17ms/step - loss: 0.4084 - accuracy: 0.8568 - val_loss: 0.7623 - val_accuracy: 0.7676\n",
            "Epoch 30/35\n",
            "1250/1250 [==============================] - 22s 17ms/step - loss: 0.4100 - accuracy: 0.8577 - val_loss: 0.7746 - val_accuracy: 0.7651\n",
            "Epoch 31/35\n",
            "1250/1250 [==============================] - 22s 17ms/step - loss: 0.4033 - accuracy: 0.8598 - val_loss: 0.7244 - val_accuracy: 0.7809\n",
            "Epoch 32/35\n",
            "1250/1250 [==============================] - 21s 17ms/step - loss: 0.3995 - accuracy: 0.8628 - val_loss: 0.7640 - val_accuracy: 0.7639\n",
            "Epoch 33/35\n",
            "1250/1250 [==============================] - 21s 17ms/step - loss: 0.4066 - accuracy: 0.8611 - val_loss: 0.7566 - val_accuracy: 0.7699\n",
            "Epoch 34/35\n",
            "1250/1250 [==============================] - 22s 17ms/step - loss: 0.4066 - accuracy: 0.8591 - val_loss: 0.7303 - val_accuracy: 0.7822\n",
            "Epoch 35/35\n",
            "1250/1250 [==============================] - 21s 17ms/step - loss: 0.4101 - accuracy: 0.8612 - val_loss: 0.7097 - val_accuracy: 0.7750\n"
          ],
          "name": "stdout"
        }
      ]
    },
    {
      "cell_type": "code",
      "metadata": {
        "id": "vf3W-V6XkUtt",
        "colab_type": "code",
        "colab": {}
      },
      "source": [
        "model = models.Sequential()\n",
        "model.add(Conv2D(32, (3, 3), padding='same', activation='relu', input_shape=(32, 32, 3)))\n",
        "model.add(Dropout(0.2))\n",
        " \n",
        "model.add(Conv2D(32,(3,3),padding='same', activation='relu'))\n",
        "model.add(MaxPooling2D(pool_size=(2,2)))\n",
        " \n",
        "model.add(Conv2D(64,(3,3),padding='same',activation='relu'))\n",
        "model.add(Dropout(0.2))\n",
        " \n",
        "model.add(Conv2D(64,(3,3),padding='same',activation='relu'))\n",
        "model.add(MaxPooling2D(pool_size=(2,2)))\n",
        " \n",
        "model.add(Conv2D(128,(3,3),padding='same',activation='relu'))\n",
        "model.add(Dropout(0.2))\n",
        " \n",
        "model.add(Conv2D(128,(3,3),padding='same',activation='relu'))\n",
        "model.add(MaxPooling2D(pool_size=(2,2)))\n",
        " \n",
        "model.add(Flatten())\n",
        "model.add(Dropout(0.2))\n",
        "model.add(Dense(1024,activation='relu',kernel_constraint=maxnorm(3)))\n",
        "model.add(Dropout(0.2))\n",
        "model.add(Dense(num_classes, activation='softmax'))\n",
        "model.compile(optimizer= 'adam',\n",
        "#              loss=tf.keras.losses.SparseCategoricalCrossentropy(from_logits=True),\n",
        "              loss = 'categorical_crossentropy',\n",
        "              metrics=['accuracy'])"
      ],
      "execution_count": 216,
      "outputs": []
    },
    {
      "cell_type": "code",
      "metadata": {
        "id": "VayAYTeDkpuP",
        "colab_type": "code",
        "colab": {}
      },
      "source": [
        ""
      ],
      "execution_count": 218,
      "outputs": []
    },
    {
      "cell_type": "code",
      "metadata": {
        "id": "TUkcBnWDfXTa",
        "colab_type": "code",
        "colab": {
          "base_uri": "https://localhost:8080/",
          "height": 52
        },
        "outputId": "65632426-e797-4346-8df2-0b507c6c8a2e"
      },
      "source": [
        "reset model"
      ],
      "execution_count": 209,
      "outputs": [
        {
          "output_type": "stream",
          "text": [
            "Once deleted, variables cannot be recovered. Proceed (y/[n])? y\n",
            "Don't know how to reset  model, please run `%reset?` for details\n"
          ],
          "name": "stdout"
        }
      ]
    },
    {
      "cell_type": "code",
      "metadata": {
        "id": "mYXfGze8eOVJ",
        "colab_type": "code",
        "colab": {}
      },
      "source": [
        "# Evaluate the model\n",
        "test_loss1, test_acc1 = model.evaluate(X_test1,  y_test1, verbose=2)"
      ],
      "execution_count": null,
      "outputs": []
    },
    {
      "cell_type": "code",
      "metadata": {
        "id": "DqVM1fRMeOVX",
        "colab_type": "code",
        "colab": {}
      },
      "source": [
        "predicted_classes = model.predict_classes(X_test1) \n",
        "predicted_classes"
      ],
      "execution_count": null,
      "outputs": []
    },
    {
      "cell_type": "code",
      "metadata": {
        "id": "mDrBwVmqeOVg",
        "colab_type": "code",
        "colab": {}
      },
      "source": [
        "# plotting model train and test accuracy \n",
        "def plotmodel(hist): \n",
        "    fig, axs = plt.subplots(1,2,figsize=(15,5)) \n",
        "    # accuracy\n",
        "    axs[0].plot(history.history['accuracy']) \n",
        "    axs[0].plot(history.history['val_accuracy']) \n",
        "    axs[0].set_title('Model Accuracy')\n",
        "    axs[0].set_ylabel('Accuracy') \n",
        "    axs[0].set_xlabel('Epoch')\n",
        "    axs[0].legend(['Train1', 'Test1'], loc='upper left')\n",
        "    # loss\n",
        "    axs[1].plot(history.history['loss']) \n",
        "    axs[1].plot(history.history['val_loss']) \n",
        "    axs[1].set_title('Model Loss')\n",
        "    axs[1].set_ylabel('Loss') \n",
        "    axs[1].set_xlabel('Epoch')\n",
        "    axs[1].legend(['Train1', 'Test1'], loc='upper left')\n",
        "    plt.show()"
      ],
      "execution_count": null,
      "outputs": []
    },
    {
      "cell_type": "code",
      "metadata": {
        "id": "oHew64a22DRd",
        "colab_type": "code",
        "colab": {
          "base_uri": "https://localhost:8080/",
          "height": 281
        },
        "outputId": "4c496620-c51d-4daf-df22-906a913c5c31"
      },
      "source": [
        "# plot loss during training\n",
        "plt.subplot(211)\n",
        "plt.title('Loss')\n",
        "plt.plot(history.history['loss'], label='train')\n",
        "plt.plot(history.history['val_loss'], label='validation dataset')\n",
        "plt.legend()\n",
        "# plot accuracy during training\n",
        "plt.subplot(212)\n",
        "plt.title('Accuracy')\n",
        "plt.plot(history.history['accuracy'], label='train')\n",
        "plt.plot(history.history['val_accuracy'], label='validation dataset')\n",
        "plt.legend()\n",
        "plt.show()"
      ],
      "execution_count": 201,
      "outputs": [
        {
          "output_type": "display_data",
          "data": {
            "image/png": "[encoded data removed]",
            "text/plain": [
              "<Figure size 432x288 with 2 Axes>"
            ]
          },
          "metadata": {
            "tags": [],
            "needs_background": "light"
          }
        }
      ]
    },
    {
      "cell_type": "code",
      "metadata": {
        "id": "AIleGeSR74Fh",
        "colab_type": "code",
        "colab": {
          "base_uri": "https://localhost:8080/",
          "height": 281
        },
        "outputId": "05fd5a8f-8b90-4d32-88bd-6ca0b3df1eda"
      },
      "source": [
        "# plot loss during training\n",
        "plt.subplot(211)\n",
        "plt.title('Loss')\n",
        "plt.plot(history.history['loss'], label='train')\n",
        "plt.plot(history.history['val_loss'], label='test1 dataset')\n",
        "plt.legend()\n",
        "# plot accuracy during training\n",
        "plt.subplot(212)\n",
        "plt.title('Accuracy')\n",
        "plt.plot(history.history['accuracy'], label='train')\n",
        "plt.plot(history.history['val_accuracy'], label='test1 dataset')\n",
        "plt.legend()\n",
        "plt.show()"
      ],
      "execution_count": 207,
      "outputs": [
        {
          "output_type": "display_data",
          "data": {
            "image/png": "[encoded data removed]",
            "text/plain": [
              "<Figure size 432x288 with 2 Axes>"
            ]
          },
          "metadata": {
            "tags": [],
            "needs_background": "light"
          }
        }
      ]
    },
    {
      "cell_type": "code",
      "metadata": {
        "id": "B5tWkA4QD9ee",
        "colab_type": "code",
        "colab": {
          "base_uri": "https://localhost:8080/",
          "height": 281
        },
        "outputId": "55f4ceda-d48c-4992-f1f2-a8b4e24b0a93"
      },
      "source": [
        " # plot loss during training\n",
        "plt.subplot(211)\n",
        "plt.title('Loss')\n",
        "plt.plot(history.history['loss'], label='train')\n",
        "plt.plot(history.history['val_loss'], label='actual test dataset')\n",
        "plt.legend()\n",
        "# plot accuracy during training\n",
        "plt.subplot(212)\n",
        "plt.title('Accuracy')\n",
        "plt.plot(history.history['accuracy'], label='train')\n",
        "plt.plot(history.history['val_accuracy'], label='actual test dataset')\n",
        "plt.legend()\n",
        "plt.show()"
      ],
      "execution_count": 212,
      "outputs": [
        {
          "output_type": "display_data",
          "data": {
            "image/png": "[encoded data removed]",
            "text/plain": [
              "<Figure size 432x288 with 2 Axes>"
            ]
          },
          "metadata": {
            "tags": [],
            "needs_background": "light"
          }
        }
      ]
    },
    {
      "cell_type": "code",
      "metadata": {
        "id": "srFyXvkqeOVq",
        "colab_type": "code",
        "colab": {}
      },
      "source": [
        "# printing , below graph shows overfitting train accuracy good but test accuracy down ,difference is there \n",
        "print(history.history.keys())\n",
        "\n",
        "plotmodel(history)"
      ],
      "execution_count": null,
      "outputs": []
    },
    {
      "cell_type": "code",
      "metadata": {
        "id": "vZXVwEvQeOWE",
        "colab_type": "code",
        "colab": {}
      },
      "source": [
        "# MODEL Training using data augmentaion "
      ],
      "execution_count": null,
      "outputs": []
    },
    {
      "cell_type": "code",
      "metadata": {
        "id": "nf6oQHrYeOWJ",
        "colab_type": "code",
        "colab": {}
      },
      "source": [
        "# generating more data using the existing data\n",
        "#Randomly Zoom by 10% some training images\n",
        "#Randomly shift images horizontally by 10% of the width\n",
        "#Randomly shift images vertically by 10% of the height\n",
        "#Randomly flip images horizontally.\n",
        "#from tf.keras.preprocessing.image import ImageDataGenerator\n",
        "\n",
        "datagen = ImageDataGenerator(zca_epsilon=0,\n",
        "                            #width_shift_range = 0.1,\n",
        "                            horizontal_flip = True,\n",
        "                            fill_mode='reflect',\n",
        "                            )\n",
        "    \n",
        "#datagen.fit(X_train1)\n",
        "\n"
      ],
      "execution_count": 213,
      "outputs": []
    },
    {
      "cell_type": "code",
      "metadata": {
        "id": "jt3ZlWgueOW8",
        "colab_type": "code",
        "colab": {}
      },
      "source": [
        "test_generator = ImageDataGenerator(zca_epsilon=0,\n",
        "                               horizontal_flip=True,\n",
        "                               fill_mode='reflect',)\n",
        "#test_generator.fit(X_test1, seed=0, augment=True)"
      ],
      "execution_count": null,
      "outputs": []
    },
    {
      "cell_type": "code",
      "metadata": {
        "id": "-j9eoEvRj4-t",
        "colab_type": "code",
        "colab": {
          "base_uri": "https://localhost:8080/",
          "height": 52
        },
        "outputId": "e3aef3f0-2da7-4bad-df55-a06c662163e1"
      },
      "source": [
        "reset model"
      ],
      "execution_count": 215,
      "outputs": [
        {
          "output_type": "stream",
          "text": [
            "Once deleted, variables cannot be recovered. Proceed (y/[n])? y\n",
            "Don't know how to reset  model, please run `%reset?` for details\n"
          ],
          "name": "stdout"
        }
      ]
    },
    {
      "cell_type": "code",
      "metadata": {
        "id": "CudpZfsheOXB",
        "colab_type": "code",
        "colab": {
          "base_uri": "https://localhost:8080/",
          "height": 1000
        },
        "outputId": "2a54cd1e-d524-47c5-f2f3-1e117ebde9b1"
      },
      "source": [
        "# retraining the model\n",
        "\n",
        "#history = model.fit_generator(datagen.flow(X_train1, y_train1, batch_size = 32), epochs = 10, validation_data=(X_test1, y_test1))\n",
        "#                                    workers=4)\n",
        "# get batch iterator for training\n",
        "train_iterator = datagen.flow(X_train1, y_train1)\n",
        "# get batch iterator for test1\n",
        "val_iterator = datagen.flow(X_test1, y_test1)\n",
        "# fit model\n",
        "history = model.fit_generator(train_iterator, validation_data=val_iterator, epochs = 30)"
      ],
      "execution_count": 219,
      "outputs": [
        {
          "output_type": "stream",
          "text": [
            "Epoch 1/30\n",
            "1250/1250 [==============================] - 22s 18ms/step - loss: 1.6503 - accuracy: 0.3924 - val_loss: 1.3075 - val_accuracy: 0.5291\n",
            "Epoch 2/30\n",
            "1250/1250 [==============================] - 21s 17ms/step - loss: 1.2342 - accuracy: 0.5546 - val_loss: 1.1097 - val_accuracy: 0.5969\n",
            "Epoch 3/30\n",
            "1250/1250 [==============================] - 21s 17ms/step - loss: 1.0602 - accuracy: 0.6222 - val_loss: 0.9666 - val_accuracy: 0.6543\n",
            "Epoch 4/30\n",
            "1250/1250 [==============================] - 21s 17ms/step - loss: 0.9518 - accuracy: 0.6633 - val_loss: 0.8978 - val_accuracy: 0.6809\n",
            "Epoch 5/30\n",
            "1250/1250 [==============================] - 22s 18ms/step - loss: 0.8822 - accuracy: 0.6902 - val_loss: 0.9063 - val_accuracy: 0.6754\n",
            "Epoch 6/30\n",
            "1250/1250 [==============================] - 22s 17ms/step - loss: 0.8247 - accuracy: 0.7104 - val_loss: 0.7705 - val_accuracy: 0.7305\n",
            "Epoch 7/30\n",
            "1250/1250 [==============================] - 22s 17ms/step - loss: 0.7815 - accuracy: 0.7262 - val_loss: 0.7552 - val_accuracy: 0.7434\n",
            "Epoch 8/30\n",
            "1250/1250 [==============================] - 22s 17ms/step - loss: 0.7491 - accuracy: 0.7355 - val_loss: 0.7325 - val_accuracy: 0.7492\n",
            "Epoch 9/30\n",
            "1250/1250 [==============================] - 22s 17ms/step - loss: 0.7179 - accuracy: 0.7473 - val_loss: 0.7380 - val_accuracy: 0.7430\n",
            "Epoch 10/30\n",
            "1250/1250 [==============================] - 22s 17ms/step - loss: 0.6965 - accuracy: 0.7551 - val_loss: 0.6977 - val_accuracy: 0.7550\n",
            "Epoch 11/30\n",
            "1250/1250 [==============================] - 22s 17ms/step - loss: 0.6808 - accuracy: 0.7615 - val_loss: 0.6745 - val_accuracy: 0.7630\n",
            "Epoch 12/30\n",
            "1250/1250 [==============================] - 22s 18ms/step - loss: 0.6656 - accuracy: 0.7651 - val_loss: 0.6686 - val_accuracy: 0.7698\n",
            "Epoch 13/30\n",
            "1250/1250 [==============================] - 22s 18ms/step - loss: 0.6533 - accuracy: 0.7731 - val_loss: 0.6396 - val_accuracy: 0.7743\n",
            "Epoch 14/30\n",
            "1250/1250 [==============================] - 22s 17ms/step - loss: 0.6377 - accuracy: 0.7774 - val_loss: 0.6798 - val_accuracy: 0.7654\n",
            "Epoch 15/30\n",
            "1250/1250 [==============================] - 22s 17ms/step - loss: 0.6298 - accuracy: 0.7813 - val_loss: 0.6659 - val_accuracy: 0.7690\n",
            "Epoch 16/30\n",
            "1250/1250 [==============================] - 22s 17ms/step - loss: 0.6170 - accuracy: 0.7850 - val_loss: 0.6524 - val_accuracy: 0.7742\n",
            "Epoch 17/30\n",
            "1250/1250 [==============================] - 22s 17ms/step - loss: 0.6079 - accuracy: 0.7894 - val_loss: 0.6328 - val_accuracy: 0.7834\n",
            "Epoch 18/30\n",
            "1250/1250 [==============================] - 21s 17ms/step - loss: 0.6027 - accuracy: 0.7897 - val_loss: 0.6685 - val_accuracy: 0.7692\n",
            "Epoch 19/30\n",
            "1250/1250 [==============================] - 21s 17ms/step - loss: 0.6009 - accuracy: 0.7912 - val_loss: 0.6198 - val_accuracy: 0.7896\n",
            "Epoch 20/30\n",
            "1250/1250 [==============================] - 21s 17ms/step - loss: 0.5900 - accuracy: 0.7944 - val_loss: 0.6179 - val_accuracy: 0.7925\n",
            "Epoch 21/30\n",
            "1250/1250 [==============================] - 21s 17ms/step - loss: 0.5856 - accuracy: 0.7964 - val_loss: 0.6386 - val_accuracy: 0.7813\n",
            "Epoch 22/30\n",
            "1250/1250 [==============================] - 22s 17ms/step - loss: 0.5821 - accuracy: 0.7966 - val_loss: 0.6378 - val_accuracy: 0.7856\n",
            "Epoch 23/30\n",
            "1250/1250 [==============================] - 21s 17ms/step - loss: 0.5771 - accuracy: 0.7982 - val_loss: 0.5994 - val_accuracy: 0.7969\n",
            "Epoch 24/30\n",
            "1250/1250 [==============================] - 21s 17ms/step - loss: 0.5741 - accuracy: 0.8021 - val_loss: 0.6107 - val_accuracy: 0.7903\n",
            "Epoch 25/30\n",
            "1250/1250 [==============================] - 22s 17ms/step - loss: 0.5603 - accuracy: 0.8037 - val_loss: 0.6227 - val_accuracy: 0.7930\n",
            "Epoch 26/30\n",
            "1250/1250 [==============================] - 22s 17ms/step - loss: 0.5702 - accuracy: 0.8021 - val_loss: 0.6305 - val_accuracy: 0.7870\n",
            "Epoch 27/30\n",
            "1250/1250 [==============================] - 22s 18ms/step - loss: 0.5610 - accuracy: 0.8060 - val_loss: 0.6458 - val_accuracy: 0.7781\n",
            "Epoch 28/30\n",
            "1250/1250 [==============================] - 22s 17ms/step - loss: 0.5559 - accuracy: 0.8078 - val_loss: 0.6412 - val_accuracy: 0.7805\n",
            "Epoch 29/30\n",
            "1250/1250 [==============================] - 22s 17ms/step - loss: 0.5584 - accuracy: 0.8038 - val_loss: 0.6593 - val_accuracy: 0.7700\n",
            "Epoch 30/30\n",
            "1250/1250 [==============================] - 22s 17ms/step - loss: 0.5489 - accuracy: 0.8101 - val_loss: 0.6342 - val_accuracy: 0.7844\n"
          ],
          "name": "stdout"
        }
      ]
    },
    {
      "cell_type": "code",
      "metadata": {
        "id": "T24rz9xQeOXf",
        "colab_type": "code",
        "colab": {
          "base_uri": "https://localhost:8080/",
          "height": 35
        },
        "outputId": "794748a4-5fec-4b43-d000-6e4591783f8b"
      },
      "source": [
        "# Evaluate the model for test data\n",
        "#test_loss, test_acc = model.evaluate(X_test1,  y_test1, verbose=2)\n",
        "# get batch iterator for testing\n",
        "test_iterator = datagen.flow(X_test, y_test)\n",
        "# evaluate model loss on test dataset\n",
        "test_loss, test_acc = model.evaluate_generator(test_iterator, verbose=2)"
      ],
      "execution_count": 222,
      "outputs": [
        {
          "output_type": "stream",
          "text": [
            "313/313 - 2s - loss: 0.6334 - accuracy: 0.7853\n"
          ],
          "name": "stdout"
        }
      ]
    },
    {
      "cell_type": "code",
      "metadata": {
        "id": "CcwNGIw9eOXo",
        "colab_type": "code",
        "colab": {}
      },
      "source": [
        "# printing , below graph shows overfitting train accuracy good but test accuracy down ,difference is there \n",
        "print(history.history.keys())\n",
        "plotmodel(history)"
      ],
      "execution_count": null,
      "outputs": []
    },
    {
      "cell_type": "code",
      "metadata": {
        "id": "YNAO7YVdnnhS",
        "colab_type": "code",
        "colab": {
          "base_uri": "https://localhost:8080/",
          "height": 281
        },
        "outputId": "d589ee13-1403-49d3-e339-fd35a3762a5e"
      },
      "source": [
        "# plot loss during training\n",
        "plt.subplot(211)\n",
        "plt.title('Loss')\n",
        "plt.plot(history.history['loss'], label='train')\n",
        "plt.plot(history.history['val_loss'], label='validation-augment dataset')\n",
        "plt.legend()\n",
        "# plot accuracy during training\n",
        "plt.subplot(212)\n",
        "plt.title('Accuracy')\n",
        "plt.plot(history.history['accuracy'], label='train')\n",
        "plt.plot(history.history['val_accuracy'], label='validation-augment dataset')\n",
        "plt.legend()\n",
        "plt.show()"
      ],
      "execution_count": 220,
      "outputs": [
        {
          "output_type": "display_data",
          "data": {
            "image/png": "[encoded data removed]",
            "text/plain": [
              "<Figure size 432x288 with 2 Axes>"
            ]
          },
          "metadata": {
            "tags": [],
            "needs_background": "light"
          }
        }
      ]
    },
    {
      "cell_type": "code",
      "metadata": {
        "id": "0iE4sdZ0uKzL",
        "colab_type": "code",
        "colab": {
          "base_uri": "https://localhost:8080/",
          "height": 281
        },
        "outputId": "8fac88d9-2faf-467b-c0df-96c0b56f2f43"
      },
      "source": [
        "# plot loss during training\n",
        "plt.subplot(211)\n",
        "plt.title('Loss')\n",
        "plt.plot(history.history['loss'], label='train')\n",
        "plt.plot(history.history['val_loss'], label='actual test-augment dataset')\n",
        "plt.legend()\n",
        "# plot accuracy during training\n",
        "plt.subplot(212)\n",
        "plt.title('Accuracy')\n",
        "plt.plot(history.history['accuracy'], label='train')\n",
        "plt.plot(history.history['val_accuracy'], label='actual test-augment dataset')\n",
        "plt.legend()\n",
        "plt.show()"
      ],
      "execution_count": 223,
      "outputs": [
        {
          "output_type": "display_data",
          "data": {
            "image/png": "[encoded data removed]",
            "text/plain": [
              "<Figure size 432x288 with 2 Axes>"
            ]
          },
          "metadata": {
            "tags": [],
            "needs_background": "light"
          }
        }
      ]
    },
    {
      "cell_type": "code",
      "metadata": {
        "id": "Z6ua6elZeOX3",
        "colab_type": "code",
        "colab": {}
      },
      "source": [
        ""
      ],
      "execution_count": null,
      "outputs": []
    }
  ]
}