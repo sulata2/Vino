{
  "nbformat": 4,
  "nbformat_minor": 0,
  "metadata": {
    "kernelspec": {
      "display_name": "Python 3",
      "language": "python",
      "name": "python3"
    },
    "language_info": {
      "codemirror_mode": {
        "name": "ipython",
        "version": 3
      },
      "file_extension": ".py",
      "mimetype": "text/x-python",
      "name": "python",
      "nbconvert_exporter": "python",
      "pygments_lexer": "ipython3",
      "version": "3.7.6"
    },
    "colab": {
      "name": "CIFAR10-keras-classification (2).ipynb",
      "provenance": []
    },
    "accelerator": "GPU"
  },
  "cells": [
    {
      "cell_type": "code",
      "metadata": {
        "id": "VM9OMIfteOJW",
        "colab_type": "code",
        "colab": {}
      },
      "source": [
        "#The CIFAR-10 dataset contains 60,000 32x32 color images in 10 different classes. \n",
        "#The 10 different classes represent airplanes, cars, birds, cats, deer, dogs, frogs, horses, ships, and trucks.\n"
      ],
      "execution_count": null,
      "outputs": []
    },
    {
      "cell_type": "code",
      "metadata": {
        "id": "o7ozw9sgeOKR",
        "colab_type": "code",
        "colab": {
          "base_uri": "https://localhost:8080/",
          "height": 89
        },
        "outputId": "7d25fd98-cfc6-4caf-8992-bdb4d9150a01"
      },
      "source": [
        "import numpy as np # linear algebra\n",
        "import pandas as pd # data processing, CSV file I/O (e.g. pd.read_csv)\n",
        "\n",
        "# import backend\n",
        "import tensorflow as  tf\n",
        "\n",
        "# Model architecture\n",
        "from sklearn.model_selection import train_test_split\n",
        "\n",
        "from tensorflow.keras import datasets, layers, models\n",
        "from tensorflow.keras.models import Sequential\n",
        "from tensorflow.keras.layers import Dense, Dropout, Flatten, Conv2D,MaxPool2D, Activation, MaxPooling2D\n",
        "#from tensorflow.keras.layers.normalization import BatchNormalization\n",
        "# \n",
        "from keras.optimizers import SGD\n",
        "from tensorflow.keras.preprocessing.image import ImageDataGenerator\n",
        "from keras.constraints import maxnorm\n",
        "# Data processing\n",
        "\n",
        "from tensorflow.keras.utils import to_categorical\n",
        "from tensorflow.keras.preprocessing import image\n",
        "# Visualization\n",
        "import matplotlib.pyplot as plt\n",
        "import seaborn as sns\n",
        "\n",
        "# Progressor\n",
        "#from tqdm import tqdm\n",
        "#import h5py\n"
      ],
      "execution_count": 4,
      "outputs": [
        {
          "output_type": "stream",
          "text": [
            "Using TensorFlow backend.\n",
            "/usr/local/lib/python3.6/dist-packages/statsmodels/tools/_testing.py:19: FutureWarning: pandas.util.testing is deprecated. Use the functions in the public API at pandas.testing instead.\n",
            "  import pandas.util.testing as tm\n"
          ],
          "name": "stderr"
        }
      ]
    },
    {
      "cell_type": "code",
      "metadata": {
        "id": "xrhf4DXLeOLX",
        "colab_type": "code",
        "colab": {}
      },
      "source": [
        "# loading the dataset \n",
        "from tensorflow.keras.datasets import cifar10\n",
        "(X_train, y_train) , (X_test, y_test) = cifar10.load_data()"
      ],
      "execution_count": 52,
      "outputs": []
    },
    {
      "cell_type": "code",
      "metadata": {
        "id": "8I8OyuY_eOLl",
        "colab_type": "code",
        "colab": {
          "base_uri": "https://localhost:8080/",
          "height": 35
        },
        "outputId": "b0425d11-d139-4e92-d17e-1ec607e743a8"
      },
      "source": [
        "y_train[0:1]"
      ],
      "execution_count": 28,
      "outputs": [
        {
          "output_type": "execute_result",
          "data": {
            "text/plain": [
              "array([[6]], dtype=uint8)"
            ]
          },
          "metadata": {
            "tags": []
          },
          "execution_count": 28
        }
      ]
    },
    {
      "cell_type": "code",
      "metadata": {
        "id": "llxi-98GeOMH",
        "colab_type": "code",
        "colab": {}
      },
      "source": [
        "type(y_train)"
      ],
      "execution_count": null,
      "outputs": []
    },
    {
      "cell_type": "code",
      "metadata": {
        "id": "7hQwBNZoeOM7",
        "colab_type": "code",
        "colab": {}
      },
      "source": [
        "X_train1, X_test1, y_train1, y_test1= train_test_split(X_train,y_train, test_size=0.2, random_state=1,stratify=y_train)\n",
        "#y_train1, y_test1  = train_test_split( y_train, test_size=0.20 ,stratify=y_train)"
      ],
      "execution_count": 53,
      "outputs": []
    },
    {
      "cell_type": "code",
      "metadata": {
        "id": "XNUAsQx_eOOI",
        "colab_type": "code",
        "colab": {}
      },
      "source": [
        "# splitting the data without strified sampling means each classes wont be equaly distributed \n",
        "#X_train1= X_train[:40000,:]\n",
        "#X_test1 = X_train[-10000:,:]\n",
        "#X_train1= X_train[:40000,:]\n",
        "#X_test1 = X_train[-10000:,:]"
      ],
      "execution_count": null,
      "outputs": []
    },
    {
      "cell_type": "code",
      "metadata": {
        "id": "uZplqMNQeOO1",
        "colab_type": "code",
        "colab": {
          "base_uri": "https://localhost:8080/",
          "height": 69
        },
        "outputId": "587f5749-323e-4940-a5c2-53cca30d22a4"
      },
      "source": [
        "# summarize loaded dataset\n",
        "print('X_train: X=%s, y=%s' % (X_train.shape, y_train.shape))\n",
        "print('X_train1: X=%s, y=%s' % (X_train1.shape, y_train1.shape))\n",
        "print('X_test1: X=%s, y=%s' % (X_test1.shape, y_test1.shape))"
      ],
      "execution_count": 8,
      "outputs": [
        {
          "output_type": "stream",
          "text": [
            "X_train: X=(50000, 32, 32, 3), y=(50000, 1)\n",
            "X_train1: X=(40000, 32, 32, 3), y=(40000, 1)\n",
            "X_test1: X=(10000, 32, 32, 3), y=(10000, 1)\n"
          ],
          "name": "stdout"
        }
      ]
    },
    {
      "cell_type": "code",
      "metadata": {
        "id": "_KKGLnsheOPZ",
        "colab_type": "code",
        "colab": {}
      },
      "source": [
        "# few image trying to display from array of image and picture clarity etc.\n",
        "class_names = ['airplane', 'automobile', 'bird', 'cat', 'deer',\n",
        "               'dog', 'frog', 'horse', 'ship', 'truck']\n",
        "\n",
        "plt.figure(figsize=(10,10))\n",
        "for i in range(5):\n",
        "    plt.subplot(5,5,i+1)\n",
        "    plt.xticks([])\n",
        "    plt.yticks([])\n",
        "    plt.grid(False)\n",
        "    plt.imshow(X_train1[i], cmap=plt.cm.binary)\n",
        "    # The CIFAR labels happen to be arrays, \n",
        "    # which is why you need the extra index\n",
        "    plt.xlabel(class_names[y_train1[i][0]])\n",
        "plt.show()"
      ],
      "execution_count": null,
      "outputs": []
    },
    {
      "cell_type": "code",
      "metadata": {
        "id": "hZmBbJwpeOPp",
        "colab_type": "code",
        "colab": {}
      },
      "source": [
        "# checking if label are in number or in binary format.\n",
        "y_test[0:2]"
      ],
      "execution_count": null,
      "outputs": []
    },
    {
      "cell_type": "code",
      "metadata": {
        "id": "tnNWM5XCeOQH",
        "colab_type": "code",
        "colab": {}
      },
      "source": [
        "# plot first few images\n",
        "for i in range(5):\n",
        "# define subplot\n",
        "   plt.subplot(330 + 1 + i)\n",
        "# plot raw pixel data\n",
        "   plt.imshow(X_train1[i])\n",
        "# show the figure\n",
        "plt.show()"
      ],
      "execution_count": null,
      "outputs": []
    },
    {
      "cell_type": "code",
      "metadata": {
        "id": "KSoSaS5NeOQi",
        "colab_type": "code",
        "colab": {}
      },
      "source": [
        "# normalize pixel values\n",
        "#X_train1, X_test1 = X_train1 / 255.0, X_test1 / 255.0\n",
        "# Function to reshape and scaling image\n",
        "def Scale_Reshape(x):\n",
        "    x_min = x.min(axis=(1, 2), keepdims=True)\n",
        "    x_max = x.max(axis=(1, 2), keepdims=True)\n",
        "\n",
        "    x = (x - x_min)/(x_max-x_min)\n",
        "    \n",
        "    x = x.reshape(-1, 32, 32, 3)\n",
        "    return x"
      ],
      "execution_count": null,
      "outputs": []
    },
    {
      "cell_type": "code",
      "metadata": {
        "id": "TUTWUdaceOQw",
        "colab_type": "code",
        "colab": {}
      },
      "source": [
        "# Training data processing\n",
        "#X_train1_scale = Scale_Reshape(X_train1)\n",
        "\n",
        "# Test data processing \n",
        "#X_test1_scale = Scale_Reshape(X_test1)\n",
        "#  actual test data scaling\n",
        "# Test data processing \n",
        "#X_test_scale = Scale_Reshape(X_test)"
      ],
      "execution_count": null,
      "outputs": []
    },
    {
      "cell_type": "code",
      "metadata": {
        "id": "4SgD3YhpeORz",
        "colab_type": "code",
        "colab": {}
      },
      "source": [
        "# Show the histogram showing the frequency of data point in each class\n",
        "# it shows in training set each class having 5k images  and test each class having 1k \n",
        "fig, axs = plt.subplots(1,3,figsize=(15,5)) \n",
        "# Count plot for training set\n",
        "sns.countplot(y_train1.ravel(), ax=axs[0])\n",
        "axs[0].set_title('frequency of data point in each class in train1')\n",
        "axs[0].set_xlabel('Classes')\n",
        "\n",
        "sns.countplot(y_test1.ravel(), ax=axs[1])\n",
        "axs[1].set_title('frequency of data point in each class in test1')\n",
        "axs[1].set_xlabel('Classes')\n",
        "\n",
        "sns.countplot(y_test.ravel(), ax=axs[2])\n",
        "axs[2].set_title('frequency of data point in each class in actual test')\n",
        "axs[2].set_xlabel('Classes')"
      ],
      "execution_count": null,
      "outputs": []
    },
    {
      "cell_type": "code",
      "metadata": {
        "id": "sMkSMcUPeOSY",
        "colab_type": "code",
        "colab": {}
      },
      "source": [
        "# normalize pixel values for validation dataset and train1 dataset\n",
        "X_train1 = X_train1.astype('float32')\n",
        "X_test1 = X_test1.astype('float32')\n",
        "X_train1, X_test1 = X_train1 / 255.0, X_test1 / 255.0"
      ],
      "execution_count": 54,
      "outputs": []
    },
    {
      "cell_type": "code",
      "metadata": {
        "id": "BzNDUzhUeOSe",
        "colab_type": "code",
        "colab": {}
      },
      "source": [
        "# Convert categorical values int one hot encoding .\n",
        "#import keras\n",
        "num_classes = 10\n",
        "y_train1 = tf.keras.utils.to_categorical(y_train1, num_classes)\n",
        "y_test1 = tf.keras.utils.to_categorical(y_test1, num_classes)"
      ],
      "execution_count": 55,
      "outputs": []
    },
    {
      "cell_type": "code",
      "metadata": {
        "id": "kK6hEUzneOSu",
        "colab_type": "code",
        "colab": {}
      },
      "source": [
        "# here one hot encoding for actual test data and scaling for actual test set \n",
        "# normalize pixel values\n",
        "X_test = X_test.astype('float32')\n",
        "X_test=  X_test / 255.0\n",
        "# Convert categorical values int one hot encoding .\n",
        "#import keras\n",
        "num_classes = 10\n",
        "y_test = tf.keras.utils.to_categorical(y_test, num_classes)"
      ],
      "execution_count": 56,
      "outputs": []
    },
    {
      "cell_type": "code",
      "metadata": {
        "id": "WrRKC68viu1O",
        "colab_type": "code",
        "colab": {}
      },
      "source": [
        "# plot loss and accuracy during training\n",
        "# plot loss during training\n",
        "def plotmodel(hist): \n",
        "    plt.subplot(211)\n",
        "    plt.title('Loss')\n",
        "    plt.plot(history.history['loss'], label='train')\n",
        "    plt.plot(history.history['val_loss'], label='validation dataset')\n",
        "    plt.legend()\n",
        "# plot accuracy during training\n",
        "    plt.subplot(212)\n",
        "    plt.title('Accuracy')\n",
        "    plt.plot(history.history['accuracy'], label='train')\n",
        "    plt.plot(history.history['val_accuracy'], label='validation dataset')\n",
        "    plt.legend()\n",
        "    plt.show()"
      ],
      "execution_count": 57,
      "outputs": []
    },
    {
      "cell_type": "code",
      "metadata": {
        "id": "tYFeT4szSW32",
        "colab_type": "code",
        "colab": {}
      },
      "source": [
        "#net is learning with 32 convolutional filters, each of which with a 3 x 3 size. \n",
        "#activation is relu and we have a max-pooling operation with pool size 2 x 2 and a dropout at 20%.\n",
        "# Add Dense layers on top\n",
        "# CIFAR has 10 output classes, so you use a final Dense layer with 10 outputs,drop out  and a softmax activation.\n",
        "def dfmodel():\n",
        "    model = models.Sequential()\n",
        "    model.add(Conv2D(32, (3, 3), padding='same', activation='relu', input_shape=(32, 32, 3)))\n",
        "    model.add(Dropout(0.2))\n",
        " \n",
        "    model.add(Conv2D(32,(3,3),padding='same', activation='relu'))\n",
        "    model.add(MaxPooling2D(pool_size=(2,2)))\n",
        " \n",
        "    model.add(Conv2D(64,(3,3),padding='same',activation='relu'))\n",
        "    model.add(Dropout(0.2))\n",
        " \n",
        "    model.add(Conv2D(64,(3,3),padding='same',activation='relu'))\n",
        "    model.add(MaxPooling2D(pool_size=(2,2)))\n",
        " \n",
        "    model.add(Conv2D(128,(3,3),padding='same',activation='relu'))\n",
        "    model.add(Dropout(0.2))\n",
        " \n",
        "    model.add(Conv2D(128,(3,3),padding='same',activation='relu'))\n",
        "    model.add(MaxPooling2D(pool_size=(2,2)))\n",
        " \n",
        "model.add(Flatten())\n",
        "model.add(Dropout(0.2))\n",
        "model.add(Dense(1024,activation='relu',kernel_constraint=maxnorm(3)))\n",
        "model.add(Dropout(0.2))\n",
        "model.add(Dense(num_classes, activation='softmax'))\n",
        "#Compile and train the model  without any image augmentation\n",
        "#opt = SGD(lr=0.01, momentum=0.9)\n",
        "#optimizer=opt\n",
        "model.compile(optimizer= 'adam',\n",
        "#              loss=tf.keras.losses.SparseCategoricalCrossentropy(from_logits=True),\n",
        "            loss = 'categorical_crossentropy',\n",
        "            metrics=['accuracy'])"
      ],
      "execution_count": null,
      "outputs": []
    },
    {
      "cell_type": "code",
      "metadata": {
        "id": "008wKSUstcWj",
        "colab_type": "code",
        "colab": {}
      },
      "source": [
        "#net is learning with 32 convolutional filters, each of which with a 3 x 3 size. \n",
        "#activation is relu and we have a max-pooling operation with pool size 2 x 2 and a dropout at 20%.\n",
        "# Add Dense layers on top\n",
        "# CIFAR has 10 output classes, so you use a final Dense layer with 10 outputs,drop out  and a softmax activation.\n",
        "model = models.Sequential()\n",
        "model.add(Conv2D(32, (3, 3), padding='same', activation='relu', input_shape=(32, 32, 3)))\n",
        "model.add(Dropout(0.2))\n",
        " \n",
        "model.add(Conv2D(32,(3,3),padding='same', activation='relu'))\n",
        "model.add(MaxPooling2D(pool_size=(2,2)))\n",
        " \n",
        "model.add(Conv2D(64,(3,3),padding='same',activation='relu'))\n",
        "model.add(Dropout(0.2))\n",
        " \n",
        "model.add(Conv2D(64,(3,3),padding='same',activation='relu'))\n",
        "model.add(MaxPooling2D(pool_size=(2,2)))\n",
        " \n",
        "model.add(Conv2D(128,(3,3),padding='same',activation='relu'))\n",
        "model.add(Dropout(0.2))\n",
        " \n",
        "model.add(Conv2D(128,(3,3),padding='same',activation='relu'))\n",
        "model.add(MaxPooling2D(pool_size=(2,2)))\n",
        " \n",
        "model.add(Flatten())\n",
        "model.add(Dropout(0.2))\n",
        "model.add(Dense(1024,activation='relu',kernel_constraint=maxnorm(3)))\n",
        "model.add(Dropout(0.2))\n",
        "model.add(Dense(num_classes, activation='softmax'))\n",
        "#Compile and train the model  without any image augmentation\n",
        "#opt = SGD(lr=0.01, momentum=0.9)\n",
        "#optimizer=opt\n",
        "model.compile(optimizer= 'adam',\n",
        "#              loss=tf.keras.losses.SparseCategoricalCrossentropy(from_logits=True),\n",
        "            loss = 'categorical_crossentropy',\n",
        "            metrics=['accuracy'])"
      ],
      "execution_count": 58,
      "outputs": []
    },
    {
      "cell_type": "code",
      "metadata": {
        "id": "Zx4fBT69eOT_",
        "colab_type": "code",
        "colab": {
          "base_uri": "https://localhost:8080/",
          "height": 745
        },
        "outputId": "75074fa7-a5e8-435a-d502-25abef19556e"
      },
      "source": [
        "model.summary()"
      ],
      "execution_count": 35,
      "outputs": [
        {
          "output_type": "stream",
          "text": [
            "Model: \"sequential_1\"\n",
            "_________________________________________________________________\n",
            "Layer (type)                 Output Shape              Param #   \n",
            "=================================================================\n",
            "conv2d_6 (Conv2D)            (None, 32, 32, 32)        896       \n",
            "_________________________________________________________________\n",
            "dropout_5 (Dropout)          (None, 32, 32, 32)        0         \n",
            "_________________________________________________________________\n",
            "conv2d_7 (Conv2D)            (None, 32, 32, 32)        9248      \n",
            "_________________________________________________________________\n",
            "max_pooling2d_3 (MaxPooling2 (None, 16, 16, 32)        0         \n",
            "_________________________________________________________________\n",
            "conv2d_8 (Conv2D)            (None, 16, 16, 64)        18496     \n",
            "_________________________________________________________________\n",
            "dropout_6 (Dropout)          (None, 16, 16, 64)        0         \n",
            "_________________________________________________________________\n",
            "conv2d_9 (Conv2D)            (None, 16, 16, 64)        36928     \n",
            "_________________________________________________________________\n",
            "max_pooling2d_4 (MaxPooling2 (None, 8, 8, 64)          0         \n",
            "_________________________________________________________________\n",
            "conv2d_10 (Conv2D)           (None, 8, 8, 128)         73856     \n",
            "_________________________________________________________________\n",
            "dropout_7 (Dropout)          (None, 8, 8, 128)         0         \n",
            "_________________________________________________________________\n",
            "conv2d_11 (Conv2D)           (None, 8, 8, 128)         147584    \n",
            "_________________________________________________________________\n",
            "max_pooling2d_5 (MaxPooling2 (None, 4, 4, 128)         0         \n",
            "_________________________________________________________________\n",
            "flatten_1 (Flatten)          (None, 2048)              0         \n",
            "_________________________________________________________________\n",
            "dropout_8 (Dropout)          (None, 2048)              0         \n",
            "_________________________________________________________________\n",
            "dense_2 (Dense)              (None, 1024)              2098176   \n",
            "_________________________________________________________________\n",
            "dropout_9 (Dropout)          (None, 1024)              0         \n",
            "_________________________________________________________________\n",
            "dense_3 (Dense)              (None, 10)                10250     \n",
            "=================================================================\n",
            "Total params: 2,395,434\n",
            "Trainable params: 2,395,434\n",
            "Non-trainable params: 0\n",
            "_________________________________________________________________\n"
          ],
          "name": "stdout"
        }
      ]
    },
    {
      "cell_type": "code",
      "metadata": {
        "id": "gCZj2Jz-eOUu",
        "colab_type": "code",
        "colab": {}
      },
      "source": [
        "number_of_round=35 ,\n",
        "#batch_size = 32\n",
        "model.save_weights('model.h5')"
      ],
      "execution_count": 36,
      "outputs": []
    },
    {
      "cell_type": "code",
      "metadata": {
        "id": "BRDbsBGzG-Uz",
        "colab_type": "code",
        "colab": {
          "base_uri": "https://localhost:8080/",
          "height": 191
        },
        "outputId": "31770f22-a6c1-4dba-fe4b-0467b0ec3ee0"
      },
      "source": [
        "# training over the train dataset and doing validation against validation 0.1 \n",
        "\n",
        "#history = model.fit(X_train1, y_train1, epochs = 40, shuffle = True, batch_size = 64,\n",
        "#                    validation_data=(X_test1, y_test1))\n",
        "history = model.fit(X_train1, y_train1, epochs = 5,shuffle = True, batch_size = 32,\n",
        "                     validation_split = 0.1)"
      ],
      "execution_count": 37,
      "outputs": [
        {
          "output_type": "stream",
          "text": [
            "Epoch 1/5\n",
            "1125/1125 [==============================] - 19s 16ms/step - loss: 1.6459 - accuracy: 0.3949 - val_loss: 1.2983 - val_accuracy: 0.5222\n",
            "Epoch 2/5\n",
            "1125/1125 [==============================] - 18s 16ms/step - loss: 1.2042 - accuracy: 0.5651 - val_loss: 1.0887 - val_accuracy: 0.6122\n",
            "Epoch 3/5\n",
            "1125/1125 [==============================] - 18s 16ms/step - loss: 1.0404 - accuracy: 0.6271 - val_loss: 0.9647 - val_accuracy: 0.6515\n",
            "Epoch 4/5\n",
            "1125/1125 [==============================] - 18s 16ms/step - loss: 0.9186 - accuracy: 0.6714 - val_loss: 0.9084 - val_accuracy: 0.6718\n",
            "Epoch 5/5\n",
            "1125/1125 [==============================] - 18s 16ms/step - loss: 0.8454 - accuracy: 0.6992 - val_loss: 0.8398 - val_accuracy: 0.7017\n"
          ],
          "name": "stdout"
        }
      ]
    },
    {
      "cell_type": "code",
      "metadata": {
        "id": "ejdrg64hi6my",
        "colab_type": "code",
        "colab": {
          "base_uri": "https://localhost:8080/",
          "height": 299
        },
        "outputId": "e95f9e6d-8290-4367-fab0-9820391261c5"
      },
      "source": [
        "# printing , below graph shows loss and accuracy for train and validation dataset \n",
        "print(history.history.keys())\n",
        "\n",
        "plotmodel(history)"
      ],
      "execution_count": 38,
      "outputs": [
        {
          "output_type": "stream",
          "text": [
            "dict_keys(['loss', 'accuracy', 'val_loss', 'val_accuracy'])\n"
          ],
          "name": "stdout"
        },
        {
          "output_type": "display_data",
          "data": {
            "image/png": "[encoded data removed]",
            "text/plain": [
              "<Figure size 432x288 with 2 Axes>"
            ]
          },
          "metadata": {
            "tags": [],
            "needs_background": "light"
          }
        }
      ]
    },
    {
      "cell_type": "code",
      "metadata": {
        "id": "N4dplH_K5bqM",
        "colab_type": "code",
        "colab": {}
      },
      "source": [
        "model.load_weights('model.h5')"
      ],
      "execution_count": 39,
      "outputs": []
    },
    {
      "cell_type": "code",
      "metadata": {
        "id": "OPWuQVF_wZLW",
        "colab_type": "code",
        "colab": {
          "base_uri": "https://localhost:8080/",
          "height": 364
        },
        "outputId": "21b06c9e-f239-46f4-bb33-66cb58b05e2b"
      },
      "source": [
        "# with test1 dataset \n",
        "\n",
        "history = model.fit(X_train1, y_train1, epochs = 10, shuffle = True, batch_size = 32,\n",
        "                   validation_data=(X_test1, y_test1))"
      ],
      "execution_count": 40,
      "outputs": [
        {
          "output_type": "stream",
          "text": [
            "Epoch 1/10\n",
            "1250/1250 [==============================] - 22s 18ms/step - loss: 1.7500 - accuracy: 0.3501 - val_loss: 1.4544 - val_accuracy: 0.4672\n",
            "Epoch 2/10\n",
            "1250/1250 [==============================] - 21s 17ms/step - loss: 1.2991 - accuracy: 0.5284 - val_loss: 1.2053 - val_accuracy: 0.5767\n",
            "Epoch 3/10\n",
            "1250/1250 [==============================] - 21s 17ms/step - loss: 1.0726 - accuracy: 0.6172 - val_loss: 0.9863 - val_accuracy: 0.6515\n",
            "Epoch 4/10\n",
            "1250/1250 [==============================] - 22s 17ms/step - loss: 0.9553 - accuracy: 0.6589 - val_loss: 0.8958 - val_accuracy: 0.6832\n",
            "Epoch 5/10\n",
            "1250/1250 [==============================] - 21s 17ms/step - loss: 0.8591 - accuracy: 0.6956 - val_loss: 0.8198 - val_accuracy: 0.7099\n",
            "Epoch 6/10\n",
            "1250/1250 [==============================] - 21s 17ms/step - loss: 0.7892 - accuracy: 0.7199 - val_loss: 0.8069 - val_accuracy: 0.7153\n",
            "Epoch 7/10\n",
            "1250/1250 [==============================] - 21s 17ms/step - loss: 0.7274 - accuracy: 0.7440 - val_loss: 0.7482 - val_accuracy: 0.7409\n",
            "Epoch 8/10\n",
            "1250/1250 [==============================] - 22s 17ms/step - loss: 0.6894 - accuracy: 0.7558 - val_loss: 0.7423 - val_accuracy: 0.7410\n",
            "Epoch 9/10\n",
            "1250/1250 [==============================] - 22s 17ms/step - loss: 0.6503 - accuracy: 0.7720 - val_loss: 0.7066 - val_accuracy: 0.7554\n",
            "Epoch 10/10\n",
            "1250/1250 [==============================] - 22s 17ms/step - loss: 0.6144 - accuracy: 0.7842 - val_loss: 0.7341 - val_accuracy: 0.7443\n"
          ],
          "name": "stdout"
        }
      ]
    },
    {
      "cell_type": "code",
      "metadata": {
        "id": "VayAYTeDkpuP",
        "colab_type": "code",
        "colab": {
          "base_uri": "https://localhost:8080/",
          "height": 299
        },
        "outputId": "65bd017f-3984-4847-b517-595adc9894d1"
      },
      "source": [
        "# printing , below graph shows loss and accuracy for train and test1 dataset \n",
        "print(history.history.keys())\n",
        "\n",
        "plotmodel(history)"
      ],
      "execution_count": 41,
      "outputs": [
        {
          "output_type": "stream",
          "text": [
            "dict_keys(['loss', 'accuracy', 'val_loss', 'val_accuracy'])\n"
          ],
          "name": "stdout"
        },
        {
          "output_type": "display_data",
          "data": {
            "image/png": "[encoded data removed]",
            "text/plain": [
              "<Figure size 432x288 with 2 Axes>"
            ]
          },
          "metadata": {
            "tags": [],
            "needs_background": "light"
          }
        }
      ]
    },
    {
      "cell_type": "code",
      "metadata": {
        "id": "mYXfGze8eOVJ",
        "colab_type": "code",
        "colab": {
          "base_uri": "https://localhost:8080/",
          "height": 35
        },
        "outputId": "24cc8f23-2f8f-458d-f354-4d5966f45137"
      },
      "source": [
        "# Evaluate the model\n",
        "test_loss1, test_acc1 = model.evaluate(X_test1,  y_test1, verbose=2)"
      ],
      "execution_count": 42,
      "outputs": [
        {
          "output_type": "stream",
          "text": [
            "313/313 - 2s - loss: 0.7341 - accuracy: 0.7443\n"
          ],
          "name": "stdout"
        }
      ]
    },
    {
      "cell_type": "code",
      "metadata": {
        "id": "DqVM1fRMeOVX",
        "colab_type": "code",
        "colab": {
          "base_uri": "https://localhost:8080/",
          "height": 107
        },
        "outputId": "41c79bf9-825a-4da2-8431-0ea6395790ab"
      },
      "source": [
        "predicted_classes = model.predict_classes(X_test1) \n",
        "predicted_classes"
      ],
      "execution_count": 43,
      "outputs": [
        {
          "output_type": "stream",
          "text": [
            "WARNING:tensorflow:From <ipython-input-43-c68055b6988f>:1: Sequential.predict_classes (from tensorflow.python.keras.engine.sequential) is deprecated and will be removed after 2021-01-01.\n",
            "Instructions for updating:\n",
            "Please use instead:* `np.argmax(model.predict(x), axis=-1)`,   if your model does multi-class classification   (e.g. if it uses a `softmax` last-layer activation).* `(model.predict(x) > 0.5).astype(\"int32\")`,   if your model does binary classification   (e.g. if it uses a `sigmoid` last-layer activation).\n"
          ],
          "name": "stdout"
        },
        {
          "output_type": "execute_result",
          "data": {
            "text/plain": [
              "array([8, 8, 8, ..., 3, 0, 9])"
            ]
          },
          "metadata": {
            "tags": []
          },
          "execution_count": 43
        }
      ]
    },
    {
      "cell_type": "code",
      "metadata": {
        "id": "oHew64a22DRd",
        "colab_type": "code",
        "colab": {}
      },
      "source": [
        "model.load_weights('model.h5')"
      ],
      "execution_count": 49,
      "outputs": []
    },
    {
      "cell_type": "code",
      "metadata": {
        "id": "P0HAqS3OsWjI",
        "colab_type": "code",
        "colab": {
          "base_uri": "https://localhost:8080/",
          "height": 191
        },
        "outputId": "9305788e-9aa2-4f8b-cefb-065b208074a6"
      },
      "source": [
        "# with actual test dataset \n",
        "\n",
        "history = model.fit(X_train1, y_train1, epochs = 5, shuffle = True, batch_size = 32,\n",
        "                   validation_data=(X_test, y_test))"
      ],
      "execution_count": 59,
      "outputs": [
        {
          "output_type": "stream",
          "text": [
            "Epoch 1/5\n",
            "1250/1250 [==============================] - 22s 17ms/step - loss: 1.6131 - accuracy: 0.4040 - val_loss: 1.2420 - val_accuracy: 0.5459\n",
            "Epoch 2/5\n",
            "1250/1250 [==============================] - 21s 17ms/step - loss: 1.1563 - accuracy: 0.5880 - val_loss: 1.0789 - val_accuracy: 0.6108\n",
            "Epoch 3/5\n",
            "1250/1250 [==============================] - 21s 17ms/step - loss: 0.9929 - accuracy: 0.6483 - val_loss: 0.9538 - val_accuracy: 0.6681\n",
            "Epoch 4/5\n",
            "1250/1250 [==============================] - 22s 17ms/step - loss: 0.8864 - accuracy: 0.6851 - val_loss: 0.8427 - val_accuracy: 0.7051\n",
            "Epoch 5/5\n",
            "1250/1250 [==============================] - 21s 17ms/step - loss: 0.8083 - accuracy: 0.7144 - val_loss: 0.8507 - val_accuracy: 0.7040\n"
          ],
          "name": "stdout"
        }
      ]
    },
    {
      "cell_type": "code",
      "metadata": {
        "id": "srFyXvkqeOVq",
        "colab_type": "code",
        "colab": {
          "base_uri": "https://localhost:8080/",
          "height": 299
        },
        "outputId": "b8e64ba1-4788-4b96-8268-f515bf3539ca"
      },
      "source": [
        "# printing , below graph shows loss and accuracy for train and test dataset \n",
        "print(history.history.keys())\n",
        "\n",
        "plotmodel(history)"
      ],
      "execution_count": 60,
      "outputs": [
        {
          "output_type": "stream",
          "text": [
            "dict_keys(['loss', 'accuracy', 'val_loss', 'val_accuracy'])\n"
          ],
          "name": "stdout"
        },
        {
          "output_type": "display_data",
          "data": {
            "image/png": "[encoded data removed]",
            "text/plain": [
              "<Figure size 432x288 with 2 Axes>"
            ]
          },
          "metadata": {
            "tags": [],
            "needs_background": "light"
          }
        }
      ]
    },
    {
      "cell_type": "code",
      "metadata": {
        "id": "0nHhvh9LtcxO",
        "colab_type": "code",
        "colab": {}
      },
      "source": [
        "# Evaluate the model\n",
        "test_loss1, test_acc1 = model.evaluate(X_test1,  y_test1, verbose=2)"
      ],
      "execution_count": null,
      "outputs": []
    },
    {
      "cell_type": "code",
      "metadata": {
        "id": "glkju1zUtndR",
        "colab_type": "code",
        "colab": {}
      },
      "source": [
        "predicted_classes = model.predict_classes(X_test1) \n",
        "predicted_classes"
      ],
      "execution_count": null,
      "outputs": []
    },
    {
      "cell_type": "code",
      "metadata": {
        "id": "F5wd_jBVtpwd",
        "colab_type": "code",
        "colab": {}
      },
      "source": [
        ""
      ],
      "execution_count": null,
      "outputs": []
    },
    {
      "cell_type": "code",
      "metadata": {
        "id": "pSJOvzRttqfn",
        "colab_type": "code",
        "colab": {}
      },
      "source": [
        "#before going for image augmentation , again retraining the madel with its intial value "
      ],
      "execution_count": null,
      "outputs": []
    },
    {
      "cell_type": "code",
      "metadata": {
        "id": "S5s6rN4WxTuH",
        "colab_type": "code",
        "colab": {}
      },
      "source": [
        "# loading the dataset \n",
        "from tensorflow.keras.datasets import cifar10\n",
        "(X_train, y_train) , (X_test, y_test) = cifar10.load_data()\n",
        "# here one hot encoding for actual test data and scaling for actual test set \n",
        "# normalize pixel values\n",
        "X_test = X_test.astype('float32')\n",
        "X_test=  X_test / 255.0\n",
        "# Convert categorical values int one hot encoding .\n",
        "#import keras\n",
        "num_classes = 10\n",
        "y_test = tf.keras.utils.to_categorical(y_test, num_classes)\n",
        "\n",
        "# here one hot encoding for actual test data and scaling for actual test set \n",
        "# normalize pixel values\n",
        "X_train = X_train.astype('float32')\n",
        "X_train =  X_train / 255.0\n",
        "# Convert categorical values int one hot encoding .\n",
        "#import keras\n",
        "num_classes = 10\n",
        "y_train = tf.keras.utils.to_categorical(y_train, num_classes)\n",
        "\n",
        "model = models.Sequential()\n",
        "model.add(Conv2D(32, (3, 3), padding='same', activation='relu', input_shape=(32, 32, 3)))\n",
        "model.add(Dropout(0.2))\n",
        " \n",
        "model.add(Conv2D(32,(3,3),padding='same', activation='relu'))\n",
        "model.add(MaxPooling2D(pool_size=(2,2)))\n",
        " \n",
        "model.add(Conv2D(64,(3,3),padding='same',activation='relu'))\n",
        "model.add(Dropout(0.2))\n",
        " \n",
        "model.add(Conv2D(64,(3,3),padding='same',activation='relu'))\n",
        "model.add(MaxPooling2D(pool_size=(2,2)))\n",
        " \n",
        "model.add(Conv2D(128,(3,3),padding='same',activation='relu'))\n",
        "model.add(Dropout(0.2))\n",
        " \n",
        "model.add(Conv2D(128,(3,3),padding='same',activation='relu'))\n",
        "model.add(MaxPooling2D(pool_size=(2,2)))\n",
        " \n",
        "model.add(Flatten())\n",
        "model.add(Dropout(0.2))\n",
        "model.add(Dense(1024,activation='relu',kernel_constraint=maxnorm(3)))\n",
        "model.add(Dropout(0.2))\n",
        "model.add(Dense(num_classes, activation='softmax'))\n",
        "#Compile and train the model  without any image augmentation\n",
        "#opt = SGD(lr=0.01, momentum=0.9)\n",
        "#optimizer=opt\n",
        "model.compile(optimizer= 'adam',\n",
        "#              loss=tf.keras.losses.SparseCategoricalCrossentropy(from_logits=True),\n",
        "            loss = 'categorical_crossentropy',\n",
        "            metrics=['accuracy'])\n",
        "model.save_weights('model.h5')\n",
        "\n"
      ],
      "execution_count": 63,
      "outputs": []
    },
    {
      "cell_type": "code",
      "metadata": {
        "id": "vZXVwEvQeOWE",
        "colab_type": "code",
        "colab": {}
      },
      "source": [
        "# MODEL Training using data augmentaion "
      ],
      "execution_count": null,
      "outputs": []
    },
    {
      "cell_type": "code",
      "metadata": {
        "id": "nf6oQHrYeOWJ",
        "colab_type": "code",
        "colab": {}
      },
      "source": [
        "# generating more data using the existing data\n",
        "#Randomly Zoom by 10% some training images\n",
        "#Randomly shift images horizontally by 10% of the width\n",
        "#Randomly shift images vertically by 10% of the height\n",
        "#Randomly flip images horizontally.\n",
        "#from tf.keras.preprocessing.image import ImageDataGenerator\n",
        "\n",
        "datagen = ImageDataGenerator(zca_epsilon=0,\n",
        "                            #width_shift_range = 0.1,\n",
        "                            horizontal_flip = True,\n",
        "                            fill_mode='reflect',\n",
        "                            )\n",
        "    \n"
      ],
      "execution_count": 64,
      "outputs": []
    },
    {
      "cell_type": "code",
      "metadata": {
        "id": "jt3ZlWgueOW8",
        "colab_type": "code",
        "colab": {}
      },
      "source": [
        "#test_generator = ImageDataGenerator(zca_epsilon=0,\n",
        "                               horizontal_flip=True,\n",
        "                               fill_mode='reflect',)\n",
        "#test_generator.fit(X_test1, seed=0, augment=True)"
      ],
      "execution_count": null,
      "outputs": []
    },
    {
      "cell_type": "code",
      "metadata": {
        "id": "CudpZfsheOXB",
        "colab_type": "code",
        "colab": {
          "base_uri": "https://localhost:8080/",
          "height": 730
        },
        "outputId": "63bef9ae-1569-4987-fef2-52cd0cd6e044"
      },
      "source": [
        "# retraining the model with image genearator\n",
        "\n",
        "#history = model.fit_generator(datagen.flow(X_train1, y_train1, batch_size = 32), epochs = 10, validation_data=(X_test1, y_test1))\n",
        "#                                    workers=4)\n",
        "# get batch iterator for training\n",
        "train_iterator = datagen.flow(X_train, y_train)\n",
        "# get batch iterator for test\n",
        "val_iterator = datagen.flow(X_test, y_test)\n",
        "# fit model\n",
        "history = model.fit_generator(train_iterator, validation_data=val_iterator, epochs = 30)"
      ],
      "execution_count": 65,
      "outputs": [
        {
          "output_type": "stream",
          "text": [
            "WARNING:tensorflow:From <ipython-input-65-bf880023f9d7>:10: Model.fit_generator (from tensorflow.python.keras.engine.training) is deprecated and will be removed in a future version.\n",
            "Instructions for updating:\n",
            "Please use Model.fit, which supports generators.\n",
            "Epoch 1/30\n",
            "1563/1563 [==============================] - 28s 18ms/step - loss: 1.6015 - accuracy: 0.4097 - val_loss: 1.2215 - val_accuracy: 0.5580\n",
            "Epoch 2/30\n",
            "1563/1563 [==============================] - 27s 17ms/step - loss: 1.1680 - accuracy: 0.5829 - val_loss: 1.0236 - val_accuracy: 0.6322\n",
            "Epoch 3/30\n",
            "1563/1563 [==============================] - 27s 17ms/step - loss: 0.9900 - accuracy: 0.6521 - val_loss: 0.9038 - val_accuracy: 0.6826\n",
            "Epoch 4/30\n",
            "1563/1563 [==============================] - 27s 17ms/step - loss: 0.8852 - accuracy: 0.6897 - val_loss: 0.8166 - val_accuracy: 0.7161\n",
            "Epoch 5/30\n",
            "1563/1563 [==============================] - 27s 17ms/step - loss: 0.8244 - accuracy: 0.7127 - val_loss: 0.7543 - val_accuracy: 0.7409\n",
            "Epoch 6/30\n",
            "1563/1563 [==============================] - 26s 17ms/step - loss: 0.7727 - accuracy: 0.7306 - val_loss: 0.7621 - val_accuracy: 0.7397\n",
            "Epoch 7/30\n",
            "1563/1563 [==============================] - 27s 17ms/step - loss: 0.7373 - accuracy: 0.7425 - val_loss: 0.7279 - val_accuracy: 0.7495\n",
            "Epoch 8/30\n",
            "1563/1563 [==============================] - 27s 17ms/step - loss: 0.7121 - accuracy: 0.7522 - val_loss: 0.7016 - val_accuracy: 0.7585\n",
            "Epoch 9/30\n",
            "1525/1563 [============================>.] - ETA: 0s - loss: 0.6853 - accuracy: 0.7603"
          ],
          "name": "stdout"
        },
        {
          "output_type": "error",
          "ename": "KeyboardInterrupt",
          "evalue": "ignored",
          "traceback": [
            "\u001b[0;31m---------------------------------------------------------------------------\u001b[0m",
            "\u001b[0;31mKeyboardInterrupt\u001b[0m                         Traceback (most recent call last)",
            "\u001b[0;32m<ipython-input-65-bf880023f9d7>\u001b[0m in \u001b[0;36m<module>\u001b[0;34m()\u001b[0m\n\u001b[1;32m      8\u001b[0m \u001b[0mval_iterator\u001b[0m \u001b[0;34m=\u001b[0m \u001b[0mdatagen\u001b[0m\u001b[0;34m.\u001b[0m\u001b[0mflow\u001b[0m\u001b[0;34m(\u001b[0m\u001b[0mX_test\u001b[0m\u001b[0;34m,\u001b[0m \u001b[0my_test\u001b[0m\u001b[0;34m)\u001b[0m\u001b[0;34m\u001b[0m\u001b[0;34m\u001b[0m\u001b[0m\n\u001b[1;32m      9\u001b[0m \u001b[0;31m# fit model\u001b[0m\u001b[0;34m\u001b[0m\u001b[0;34m\u001b[0m\u001b[0;34m\u001b[0m\u001b[0m\n\u001b[0;32m---> 10\u001b[0;31m \u001b[0mhistory\u001b[0m \u001b[0;34m=\u001b[0m \u001b[0mmodel\u001b[0m\u001b[0;34m.\u001b[0m\u001b[0mfit_generator\u001b[0m\u001b[0;34m(\u001b[0m\u001b[0mtrain_iterator\u001b[0m\u001b[0;34m,\u001b[0m \u001b[0mvalidation_data\u001b[0m\u001b[0;34m=\u001b[0m\u001b[0mval_iterator\u001b[0m\u001b[0;34m,\u001b[0m \u001b[0mepochs\u001b[0m \u001b[0;34m=\u001b[0m \u001b[0;36m30\u001b[0m\u001b[0;34m)\u001b[0m\u001b[0;34m\u001b[0m\u001b[0;34m\u001b[0m\u001b[0m\n\u001b[0m",
            "\u001b[0;32m/usr/local/lib/python3.6/dist-packages/tensorflow/python/util/deprecation.py\u001b[0m in \u001b[0;36mnew_func\u001b[0;34m(*args, **kwargs)\u001b[0m\n\u001b[1;32m    322\u001b[0m               \u001b[0;34m'in a future version'\u001b[0m \u001b[0;32mif\u001b[0m \u001b[0mdate\u001b[0m \u001b[0;32mis\u001b[0m \u001b[0;32mNone\u001b[0m \u001b[0;32melse\u001b[0m \u001b[0;34m(\u001b[0m\u001b[0;34m'after %s'\u001b[0m \u001b[0;34m%\u001b[0m \u001b[0mdate\u001b[0m\u001b[0;34m)\u001b[0m\u001b[0;34m,\u001b[0m\u001b[0;34m\u001b[0m\u001b[0;34m\u001b[0m\u001b[0m\n\u001b[1;32m    323\u001b[0m               instructions)\n\u001b[0;32m--> 324\u001b[0;31m       \u001b[0;32mreturn\u001b[0m \u001b[0mfunc\u001b[0m\u001b[0;34m(\u001b[0m\u001b[0;34m*\u001b[0m\u001b[0margs\u001b[0m\u001b[0;34m,\u001b[0m \u001b[0;34m**\u001b[0m\u001b[0mkwargs\u001b[0m\u001b[0;34m)\u001b[0m\u001b[0;34m\u001b[0m\u001b[0;34m\u001b[0m\u001b[0m\n\u001b[0m\u001b[1;32m    325\u001b[0m     return tf_decorator.make_decorator(\n\u001b[1;32m    326\u001b[0m         \u001b[0mfunc\u001b[0m\u001b[0;34m,\u001b[0m \u001b[0mnew_func\u001b[0m\u001b[0;34m,\u001b[0m \u001b[0;34m'deprecated'\u001b[0m\u001b[0;34m,\u001b[0m\u001b[0;34m\u001b[0m\u001b[0;34m\u001b[0m\u001b[0m\n",
            "\u001b[0;32m/usr/local/lib/python3.6/dist-packages/tensorflow/python/keras/engine/training.py\u001b[0m in \u001b[0;36mfit_generator\u001b[0;34m(self, generator, steps_per_epoch, epochs, verbose, callbacks, validation_data, validation_steps, validation_freq, class_weight, max_queue_size, workers, use_multiprocessing, shuffle, initial_epoch)\u001b[0m\n\u001b[1;32m   1477\u001b[0m         \u001b[0muse_multiprocessing\u001b[0m\u001b[0;34m=\u001b[0m\u001b[0muse_multiprocessing\u001b[0m\u001b[0;34m,\u001b[0m\u001b[0;34m\u001b[0m\u001b[0;34m\u001b[0m\u001b[0m\n\u001b[1;32m   1478\u001b[0m         \u001b[0mshuffle\u001b[0m\u001b[0;34m=\u001b[0m\u001b[0mshuffle\u001b[0m\u001b[0;34m,\u001b[0m\u001b[0;34m\u001b[0m\u001b[0;34m\u001b[0m\u001b[0m\n\u001b[0;32m-> 1479\u001b[0;31m         initial_epoch=initial_epoch)\n\u001b[0m\u001b[1;32m   1480\u001b[0m \u001b[0;34m\u001b[0m\u001b[0m\n\u001b[1;32m   1481\u001b[0m   @deprecation.deprecated(\n",
            "\u001b[0;32m/usr/local/lib/python3.6/dist-packages/tensorflow/python/keras/engine/training.py\u001b[0m in \u001b[0;36m_method_wrapper\u001b[0;34m(self, *args, **kwargs)\u001b[0m\n\u001b[1;32m     64\u001b[0m   \u001b[0;32mdef\u001b[0m \u001b[0m_method_wrapper\u001b[0m\u001b[0;34m(\u001b[0m\u001b[0mself\u001b[0m\u001b[0;34m,\u001b[0m \u001b[0;34m*\u001b[0m\u001b[0margs\u001b[0m\u001b[0;34m,\u001b[0m \u001b[0;34m**\u001b[0m\u001b[0mkwargs\u001b[0m\u001b[0;34m)\u001b[0m\u001b[0;34m:\u001b[0m\u001b[0;34m\u001b[0m\u001b[0;34m\u001b[0m\u001b[0m\n\u001b[1;32m     65\u001b[0m     \u001b[0;32mif\u001b[0m \u001b[0;32mnot\u001b[0m \u001b[0mself\u001b[0m\u001b[0;34m.\u001b[0m\u001b[0m_in_multi_worker_mode\u001b[0m\u001b[0;34m(\u001b[0m\u001b[0;34m)\u001b[0m\u001b[0;34m:\u001b[0m  \u001b[0;31m# pylint: disable=protected-access\u001b[0m\u001b[0;34m\u001b[0m\u001b[0;34m\u001b[0m\u001b[0m\n\u001b[0;32m---> 66\u001b[0;31m       \u001b[0;32mreturn\u001b[0m \u001b[0mmethod\u001b[0m\u001b[0;34m(\u001b[0m\u001b[0mself\u001b[0m\u001b[0;34m,\u001b[0m \u001b[0;34m*\u001b[0m\u001b[0margs\u001b[0m\u001b[0;34m,\u001b[0m \u001b[0;34m**\u001b[0m\u001b[0mkwargs\u001b[0m\u001b[0;34m)\u001b[0m\u001b[0;34m\u001b[0m\u001b[0;34m\u001b[0m\u001b[0m\n\u001b[0m\u001b[1;32m     67\u001b[0m \u001b[0;34m\u001b[0m\u001b[0m\n\u001b[1;32m     68\u001b[0m     \u001b[0;31m# Running inside `run_distribute_coordinator` already.\u001b[0m\u001b[0;34m\u001b[0m\u001b[0;34m\u001b[0m\u001b[0;34m\u001b[0m\u001b[0m\n",
            "\u001b[0;32m/usr/local/lib/python3.6/dist-packages/tensorflow/python/keras/engine/training.py\u001b[0m in \u001b[0;36mfit\u001b[0;34m(self, x, y, batch_size, epochs, verbose, callbacks, validation_split, validation_data, shuffle, class_weight, sample_weight, initial_epoch, steps_per_epoch, validation_steps, validation_batch_size, validation_freq, max_queue_size, workers, use_multiprocessing)\u001b[0m\n\u001b[1;32m    846\u001b[0m                 batch_size=batch_size):\n\u001b[1;32m    847\u001b[0m               \u001b[0mcallbacks\u001b[0m\u001b[0;34m.\u001b[0m\u001b[0mon_train_batch_begin\u001b[0m\u001b[0;34m(\u001b[0m\u001b[0mstep\u001b[0m\u001b[0;34m)\u001b[0m\u001b[0;34m\u001b[0m\u001b[0;34m\u001b[0m\u001b[0m\n\u001b[0;32m--> 848\u001b[0;31m               \u001b[0mtmp_logs\u001b[0m \u001b[0;34m=\u001b[0m \u001b[0mtrain_function\u001b[0m\u001b[0;34m(\u001b[0m\u001b[0miterator\u001b[0m\u001b[0;34m)\u001b[0m\u001b[0;34m\u001b[0m\u001b[0;34m\u001b[0m\u001b[0m\n\u001b[0m\u001b[1;32m    849\u001b[0m               \u001b[0;31m# Catch OutOfRangeError for Datasets of unknown size.\u001b[0m\u001b[0;34m\u001b[0m\u001b[0;34m\u001b[0m\u001b[0;34m\u001b[0m\u001b[0m\n\u001b[1;32m    850\u001b[0m               \u001b[0;31m# This blocks until the batch has finished executing.\u001b[0m\u001b[0;34m\u001b[0m\u001b[0;34m\u001b[0m\u001b[0;34m\u001b[0m\u001b[0m\n",
            "\u001b[0;32m/usr/local/lib/python3.6/dist-packages/tensorflow/python/eager/def_function.py\u001b[0m in \u001b[0;36m__call__\u001b[0;34m(self, *args, **kwds)\u001b[0m\n\u001b[1;32m    578\u001b[0m         \u001b[0mxla_context\u001b[0m\u001b[0;34m.\u001b[0m\u001b[0mExit\u001b[0m\u001b[0;34m(\u001b[0m\u001b[0;34m)\u001b[0m\u001b[0;34m\u001b[0m\u001b[0;34m\u001b[0m\u001b[0m\n\u001b[1;32m    579\u001b[0m     \u001b[0;32melse\u001b[0m\u001b[0;34m:\u001b[0m\u001b[0;34m\u001b[0m\u001b[0;34m\u001b[0m\u001b[0m\n\u001b[0;32m--> 580\u001b[0;31m       \u001b[0mresult\u001b[0m \u001b[0;34m=\u001b[0m \u001b[0mself\u001b[0m\u001b[0;34m.\u001b[0m\u001b[0m_call\u001b[0m\u001b[0;34m(\u001b[0m\u001b[0;34m*\u001b[0m\u001b[0margs\u001b[0m\u001b[0;34m,\u001b[0m \u001b[0;34m**\u001b[0m\u001b[0mkwds\u001b[0m\u001b[0;34m)\u001b[0m\u001b[0;34m\u001b[0m\u001b[0;34m\u001b[0m\u001b[0m\n\u001b[0m\u001b[1;32m    581\u001b[0m \u001b[0;34m\u001b[0m\u001b[0m\n\u001b[1;32m    582\u001b[0m     \u001b[0;32mif\u001b[0m \u001b[0mtracing_count\u001b[0m \u001b[0;34m==\u001b[0m \u001b[0mself\u001b[0m\u001b[0;34m.\u001b[0m\u001b[0m_get_tracing_count\u001b[0m\u001b[0;34m(\u001b[0m\u001b[0;34m)\u001b[0m\u001b[0;34m:\u001b[0m\u001b[0;34m\u001b[0m\u001b[0;34m\u001b[0m\u001b[0m\n",
            "\u001b[0;32m/usr/local/lib/python3.6/dist-packages/tensorflow/python/eager/def_function.py\u001b[0m in \u001b[0;36m_call\u001b[0;34m(self, *args, **kwds)\u001b[0m\n\u001b[1;32m    609\u001b[0m       \u001b[0;31m# In this case we have created variables on the first call, so we run the\u001b[0m\u001b[0;34m\u001b[0m\u001b[0;34m\u001b[0m\u001b[0;34m\u001b[0m\u001b[0m\n\u001b[1;32m    610\u001b[0m       \u001b[0;31m# defunned version which is guaranteed to never create variables.\u001b[0m\u001b[0;34m\u001b[0m\u001b[0;34m\u001b[0m\u001b[0;34m\u001b[0m\u001b[0m\n\u001b[0;32m--> 611\u001b[0;31m       \u001b[0;32mreturn\u001b[0m \u001b[0mself\u001b[0m\u001b[0;34m.\u001b[0m\u001b[0m_stateless_fn\u001b[0m\u001b[0;34m(\u001b[0m\u001b[0;34m*\u001b[0m\u001b[0margs\u001b[0m\u001b[0;34m,\u001b[0m \u001b[0;34m**\u001b[0m\u001b[0mkwds\u001b[0m\u001b[0;34m)\u001b[0m  \u001b[0;31m# pylint: disable=not-callable\u001b[0m\u001b[0;34m\u001b[0m\u001b[0;34m\u001b[0m\u001b[0m\n\u001b[0m\u001b[1;32m    612\u001b[0m     \u001b[0;32melif\u001b[0m \u001b[0mself\u001b[0m\u001b[0;34m.\u001b[0m\u001b[0m_stateful_fn\u001b[0m \u001b[0;32mis\u001b[0m \u001b[0;32mnot\u001b[0m \u001b[0;32mNone\u001b[0m\u001b[0;34m:\u001b[0m\u001b[0;34m\u001b[0m\u001b[0;34m\u001b[0m\u001b[0m\n\u001b[1;32m    613\u001b[0m       \u001b[0;31m# Release the lock early so that multiple threads can perform the call\u001b[0m\u001b[0;34m\u001b[0m\u001b[0;34m\u001b[0m\u001b[0;34m\u001b[0m\u001b[0m\n",
            "\u001b[0;32m/usr/local/lib/python3.6/dist-packages/tensorflow/python/eager/function.py\u001b[0m in \u001b[0;36m__call__\u001b[0;34m(self, *args, **kwargs)\u001b[0m\n\u001b[1;32m   2418\u001b[0m     \u001b[0;32mwith\u001b[0m \u001b[0mself\u001b[0m\u001b[0;34m.\u001b[0m\u001b[0m_lock\u001b[0m\u001b[0;34m:\u001b[0m\u001b[0;34m\u001b[0m\u001b[0;34m\u001b[0m\u001b[0m\n\u001b[1;32m   2419\u001b[0m       \u001b[0mgraph_function\u001b[0m\u001b[0;34m,\u001b[0m \u001b[0margs\u001b[0m\u001b[0;34m,\u001b[0m \u001b[0mkwargs\u001b[0m \u001b[0;34m=\u001b[0m \u001b[0mself\u001b[0m\u001b[0;34m.\u001b[0m\u001b[0m_maybe_define_function\u001b[0m\u001b[0;34m(\u001b[0m\u001b[0margs\u001b[0m\u001b[0;34m,\u001b[0m \u001b[0mkwargs\u001b[0m\u001b[0;34m)\u001b[0m\u001b[0;34m\u001b[0m\u001b[0;34m\u001b[0m\u001b[0m\n\u001b[0;32m-> 2420\u001b[0;31m     \u001b[0;32mreturn\u001b[0m \u001b[0mgraph_function\u001b[0m\u001b[0;34m.\u001b[0m\u001b[0m_filtered_call\u001b[0m\u001b[0;34m(\u001b[0m\u001b[0margs\u001b[0m\u001b[0;34m,\u001b[0m \u001b[0mkwargs\u001b[0m\u001b[0;34m)\u001b[0m  \u001b[0;31m# pylint: disable=protected-access\u001b[0m\u001b[0;34m\u001b[0m\u001b[0;34m\u001b[0m\u001b[0m\n\u001b[0m\u001b[1;32m   2421\u001b[0m \u001b[0;34m\u001b[0m\u001b[0m\n\u001b[1;32m   2422\u001b[0m   \u001b[0;34m@\u001b[0m\u001b[0mproperty\u001b[0m\u001b[0;34m\u001b[0m\u001b[0;34m\u001b[0m\u001b[0m\n",
            "\u001b[0;32m/usr/local/lib/python3.6/dist-packages/tensorflow/python/eager/function.py\u001b[0m in \u001b[0;36m_filtered_call\u001b[0;34m(self, args, kwargs)\u001b[0m\n\u001b[1;32m   1663\u001b[0m          if isinstance(t, (ops.Tensor,\n\u001b[1;32m   1664\u001b[0m                            resource_variable_ops.BaseResourceVariable))),\n\u001b[0;32m-> 1665\u001b[0;31m         self.captured_inputs)\n\u001b[0m\u001b[1;32m   1666\u001b[0m \u001b[0;34m\u001b[0m\u001b[0m\n\u001b[1;32m   1667\u001b[0m   \u001b[0;32mdef\u001b[0m \u001b[0m_call_flat\u001b[0m\u001b[0;34m(\u001b[0m\u001b[0mself\u001b[0m\u001b[0;34m,\u001b[0m \u001b[0margs\u001b[0m\u001b[0;34m,\u001b[0m \u001b[0mcaptured_inputs\u001b[0m\u001b[0;34m,\u001b[0m \u001b[0mcancellation_manager\u001b[0m\u001b[0;34m=\u001b[0m\u001b[0;32mNone\u001b[0m\u001b[0;34m)\u001b[0m\u001b[0;34m:\u001b[0m\u001b[0;34m\u001b[0m\u001b[0;34m\u001b[0m\u001b[0m\n",
            "\u001b[0;32m/usr/local/lib/python3.6/dist-packages/tensorflow/python/eager/function.py\u001b[0m in \u001b[0;36m_call_flat\u001b[0;34m(self, args, captured_inputs, cancellation_manager)\u001b[0m\n\u001b[1;32m   1744\u001b[0m       \u001b[0;31m# No tape is watching; skip to running the function.\u001b[0m\u001b[0;34m\u001b[0m\u001b[0;34m\u001b[0m\u001b[0;34m\u001b[0m\u001b[0m\n\u001b[1;32m   1745\u001b[0m       return self._build_call_outputs(self._inference_function.call(\n\u001b[0;32m-> 1746\u001b[0;31m           ctx, args, cancellation_manager=cancellation_manager))\n\u001b[0m\u001b[1;32m   1747\u001b[0m     forward_backward = self._select_forward_and_backward_functions(\n\u001b[1;32m   1748\u001b[0m         \u001b[0margs\u001b[0m\u001b[0;34m,\u001b[0m\u001b[0;34m\u001b[0m\u001b[0;34m\u001b[0m\u001b[0m\n",
            "\u001b[0;32m/usr/local/lib/python3.6/dist-packages/tensorflow/python/eager/function.py\u001b[0m in \u001b[0;36mcall\u001b[0;34m(self, ctx, args, cancellation_manager)\u001b[0m\n\u001b[1;32m    596\u001b[0m               \u001b[0minputs\u001b[0m\u001b[0;34m=\u001b[0m\u001b[0margs\u001b[0m\u001b[0;34m,\u001b[0m\u001b[0;34m\u001b[0m\u001b[0;34m\u001b[0m\u001b[0m\n\u001b[1;32m    597\u001b[0m               \u001b[0mattrs\u001b[0m\u001b[0;34m=\u001b[0m\u001b[0mattrs\u001b[0m\u001b[0;34m,\u001b[0m\u001b[0;34m\u001b[0m\u001b[0;34m\u001b[0m\u001b[0m\n\u001b[0;32m--> 598\u001b[0;31m               ctx=ctx)\n\u001b[0m\u001b[1;32m    599\u001b[0m         \u001b[0;32melse\u001b[0m\u001b[0;34m:\u001b[0m\u001b[0;34m\u001b[0m\u001b[0;34m\u001b[0m\u001b[0m\n\u001b[1;32m    600\u001b[0m           outputs = execute.execute_with_cancellation(\n",
            "\u001b[0;32m/usr/local/lib/python3.6/dist-packages/tensorflow/python/eager/execute.py\u001b[0m in \u001b[0;36mquick_execute\u001b[0;34m(op_name, num_outputs, inputs, attrs, ctx, name)\u001b[0m\n\u001b[1;32m     58\u001b[0m     \u001b[0mctx\u001b[0m\u001b[0;34m.\u001b[0m\u001b[0mensure_initialized\u001b[0m\u001b[0;34m(\u001b[0m\u001b[0;34m)\u001b[0m\u001b[0;34m\u001b[0m\u001b[0;34m\u001b[0m\u001b[0m\n\u001b[1;32m     59\u001b[0m     tensors = pywrap_tfe.TFE_Py_Execute(ctx._handle, device_name, op_name,\n\u001b[0;32m---> 60\u001b[0;31m                                         inputs, attrs, num_outputs)\n\u001b[0m\u001b[1;32m     61\u001b[0m   \u001b[0;32mexcept\u001b[0m \u001b[0mcore\u001b[0m\u001b[0;34m.\u001b[0m\u001b[0m_NotOkStatusException\u001b[0m \u001b[0;32mas\u001b[0m \u001b[0me\u001b[0m\u001b[0;34m:\u001b[0m\u001b[0;34m\u001b[0m\u001b[0;34m\u001b[0m\u001b[0m\n\u001b[1;32m     62\u001b[0m     \u001b[0;32mif\u001b[0m \u001b[0mname\u001b[0m \u001b[0;32mis\u001b[0m \u001b[0;32mnot\u001b[0m \u001b[0;32mNone\u001b[0m\u001b[0;34m:\u001b[0m\u001b[0;34m\u001b[0m\u001b[0;34m\u001b[0m\u001b[0m\n",
            "\u001b[0;31mKeyboardInterrupt\u001b[0m: "
          ]
        }
      ]
    },
    {
      "cell_type": "code",
      "metadata": {
        "id": "T24rz9xQeOXf",
        "colab_type": "code",
        "colab": {
          "base_uri": "https://localhost:8080/",
          "height": 107
        },
        "outputId": "4eacb0c4-3c09-42b7-fc2f-e3ea40ce277d"
      },
      "source": [
        "# Evaluate the model for test data\n",
        "#test_loss, test_acc = model.evaluate(X_test1,  y_test1, verbose=2)\n",
        "# get batch iterator for testing\n",
        "#test_iterator = datagen.flow(X_test, y_test)\n",
        "# evaluate model loss on test dataset\n",
        "test_loss, test_acc = model.evaluate_generator(val_iterator, verbose=2)"
      ],
      "execution_count": 67,
      "outputs": [
        {
          "output_type": "stream",
          "text": [
            "WARNING:tensorflow:From <ipython-input-67-367871ba9d25>:6: Model.evaluate_generator (from tensorflow.python.keras.engine.training) is deprecated and will be removed in a future version.\n",
            "Instructions for updating:\n",
            "Please use Model.evaluate, which supports generators.\n",
            "313/313 - 2s - loss: 0.6730 - accuracy: 0.7729\n"
          ],
          "name": "stdout"
        }
      ]
    },
    {
      "cell_type": "code",
      "metadata": {
        "id": "CcwNGIw9eOXo",
        "colab_type": "code",
        "colab": {
          "base_uri": "https://localhost:8080/",
          "height": 299
        },
        "outputId": "be8b25d4-ce4f-44b8-ce37-840f67a32db3"
      },
      "source": [
        "# printing , below graph shows overfitting train accuracy good but test accuracy down ,difference is there \n",
        "print(history.history.keys())\n",
        "plotmodel(history)"
      ],
      "execution_count": 68,
      "outputs": [
        {
          "output_type": "stream",
          "text": [
            "dict_keys(['loss', 'accuracy', 'val_loss', 'val_accuracy'])\n"
          ],
          "name": "stdout"
        },
        {
          "output_type": "display_data",
          "data": {
            "image/png": "[encoded data removed]",
            "text/plain": [
              "<Figure size 432x288 with 2 Axes>"
            ]
          },
          "metadata": {
            "tags": [],
            "needs_background": "light"
          }
        }
      ]
    },
    {
      "cell_type": "code",
      "metadata": {
        "id": "Z6ua6elZeOX3",
        "colab_type": "code",
        "colab": {
          "base_uri": "https://localhost:8080/",
          "height": 35
        },
        "outputId": "fb640570-19b9-495c-ccc5-e1add9fcdcfd"
      },
      "source": [
        "# Evaluate the model for test data\n",
        "\n",
        "predicted_classes = model.predict_classes(X_test) \n",
        "predicted_classes\n"
      ],
      "execution_count": 69,
      "outputs": [
        {
          "output_type": "execute_result",
          "data": {
            "text/plain": [
              "array([3, 8, 8, ..., 5, 1, 7])"
            ]
          },
          "metadata": {
            "tags": []
          },
          "execution_count": 69
        }
      ]
    },
    {
      "cell_type": "code",
      "metadata": {
        "id": "ECfmclSWzBHq",
        "colab_type": "code",
        "colab": {}
      },
      "source": [
        "# confusion matrix for all the 10 classes \n"
      ],
      "execution_count": null,
      "outputs": []
    }
  ]
}