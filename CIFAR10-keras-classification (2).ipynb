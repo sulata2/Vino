{
  "nbformat": 4,
  "nbformat_minor": 0,
  "metadata": {
    "kernelspec": {
      "display_name": "Python 3",
      "language": "python",
      "name": "python3"
    },
    "language_info": {
      "codemirror_mode": {
        "name": "ipython",
        "version": 3
      },
      "file_extension": ".py",
      "mimetype": "text/x-python",
      "name": "python",
      "nbconvert_exporter": "python",
      "pygments_lexer": "ipython3",
      "version": "3.7.6"
    },
    "colab": {
      "name": "CIFAR10-keras-classification (2).ipynb",
      "provenance": []
    },
    "accelerator": "GPU"
  },
  "cells": [
    {
      "cell_type": "code",
      "metadata": {
        "id": "VM9OMIfteOJW",
        "colab_type": "code",
        "colab": {}
      },
      "source": [
        "#The CIFAR-10 dataset contains 60,000 32x32 color images in 10 different classes. \n",
        "#The 10 different classes represent airplanes, cars, birds, cats, deer, dogs, frogs, horses, ships, and trucks.\n"
      ],
      "execution_count": 1,
      "outputs": []
    },
    {
      "cell_type": "code",
      "metadata": {
        "id": "o7ozw9sgeOKR",
        "colab_type": "code",
        "colab": {
          "base_uri": "https://localhost:8080/",
          "height": 89
        },
        "outputId": "d13950a4-b34d-4877-b695-c3f4917c7581"
      },
      "source": [
        "import numpy as np # linear algebra\n",
        "import pandas as pd # data processing, CSV file I/O (e.g. pd.read_csv)\n",
        "\n",
        "# import backend\n",
        "import tensorflow as  tf\n",
        "\n",
        "# Model architecture\n",
        "from sklearn.model_selection import train_test_split\n",
        "\n",
        "from tensorflow.keras import datasets, layers, models\n",
        "from tensorflow.keras.models import Sequential\n",
        "from tensorflow.keras.layers import Dense, Dropout, Flatten, Conv2D,MaxPool2D, Activation, MaxPooling2D\n",
        "#from tensorflow.keras.layers.normalization import BatchNormalization\n",
        "# \n",
        "from keras.optimizers import SGD\n",
        "from tensorflow.keras.preprocessing.image import ImageDataGenerator\n",
        "from keras.constraints import maxnorm\n",
        "# Data processing\n",
        "\n",
        "from tensorflow.keras.utils import to_categorical\n",
        "from tensorflow.keras.preprocessing import image\n",
        "# Visualization\n",
        "import matplotlib.pyplot as plt\n",
        "import seaborn as sns\n",
        "\n",
        "# Progressor\n",
        "#from tqdm import tqdm\n",
        "#import h5py\n"
      ],
      "execution_count": 2,
      "outputs": [
        {
          "output_type": "stream",
          "text": [
            "Using TensorFlow backend.\n",
            "/usr/local/lib/python3.6/dist-packages/statsmodels/tools/_testing.py:19: FutureWarning: pandas.util.testing is deprecated. Use the functions in the public API at pandas.testing instead.\n",
            "  import pandas.util.testing as tm\n"
          ],
          "name": "stderr"
        }
      ]
    },
    {
      "cell_type": "code",
      "metadata": {
        "id": "xrhf4DXLeOLX",
        "colab_type": "code",
        "colab": {
          "base_uri": "https://localhost:8080/",
          "height": 52
        },
        "outputId": "8fc5add8-9eca-4475-9d73-136d45269828"
      },
      "source": [
        "# loading the dataset \n",
        "from tensorflow.keras.datasets import cifar10\n",
        "(X_train, y_train) , (X_test, y_test) = cifar10.load_data()"
      ],
      "execution_count": 3,
      "outputs": [
        {
          "output_type": "stream",
          "text": [
            "Downloading data from https://www.cs.toronto.edu/~kriz/cifar-10-python.tar.gz\n",
            "170500096/170498071 [==============================] - 2s 0us/step\n"
          ],
          "name": "stdout"
        }
      ]
    },
    {
      "cell_type": "code",
      "metadata": {
        "id": "8I8OyuY_eOLl",
        "colab_type": "code",
        "colab": {}
      },
      "source": [
        "y_train[0:1]"
      ],
      "execution_count": null,
      "outputs": []
    },
    {
      "cell_type": "code",
      "metadata": {
        "id": "llxi-98GeOMH",
        "colab_type": "code",
        "colab": {}
      },
      "source": [
        "type(y_train)"
      ],
      "execution_count": null,
      "outputs": []
    },
    {
      "cell_type": "code",
      "metadata": {
        "id": "7hQwBNZoeOM7",
        "colab_type": "code",
        "colab": {}
      },
      "source": [
        "X_train1, X_test1, y_train1, y_test1= train_test_split(X_train,y_train, test_size=0.2, random_state=1,stratify=y_train)\n",
        "#y_train1, y_test1  = train_test_split( y_train, test_size=0.20 ,stratify=y_train)"
      ],
      "execution_count": 4,
      "outputs": []
    },
    {
      "cell_type": "code",
      "metadata": {
        "id": "XNUAsQx_eOOI",
        "colab_type": "code",
        "colab": {}
      },
      "source": [
        "# splitting the data without strified sampling means each classes wont be equaly distributed \n",
        "#X_train1= X_train[:40000,:]\n",
        "#X_test1 = X_train[-10000:,:]\n",
        "#X_train1= X_train[:40000,:]\n",
        "#X_test1 = X_train[-10000:,:]"
      ],
      "execution_count": null,
      "outputs": []
    },
    {
      "cell_type": "code",
      "metadata": {
        "id": "uZplqMNQeOO1",
        "colab_type": "code",
        "colab": {
          "base_uri": "https://localhost:8080/",
          "height": 69
        },
        "outputId": "331cb388-9936-41df-d189-5614337c573a"
      },
      "source": [
        "# summarize loaded dataset\n",
        "print('X_train: X=%s, y=%s' % (X_train.shape, y_train.shape))\n",
        "print('X_train1: X=%s, y=%s' % (X_train1.shape, y_train1.shape))\n",
        "print('X_test1: X=%s, y=%s' % (X_test1.shape, y_test1.shape))"
      ],
      "execution_count": 5,
      "outputs": [
        {
          "output_type": "stream",
          "text": [
            "X_train: X=(50000, 32, 32, 3), y=(50000, 1)\n",
            "X_train1: X=(40000, 32, 32, 3), y=(40000, 1)\n",
            "X_test1: X=(10000, 32, 32, 3), y=(10000, 1)\n"
          ],
          "name": "stdout"
        }
      ]
    },
    {
      "cell_type": "code",
      "metadata": {
        "id": "_KKGLnsheOPZ",
        "colab_type": "code",
        "colab": {
          "base_uri": "https://localhost:8080/",
          "height": 139
        },
        "outputId": "9dec31ed-1990-450a-924b-787be9a185f8"
      },
      "source": [
        "# few image trying to display from array of image and picture clarity etc.\n",
        "class_names = ['airplane', 'automobile', 'bird', 'cat', 'deer',\n",
        "               'dog', 'frog', 'horse', 'ship', 'truck']\n",
        "\n",
        "plt.figure(figsize=(10,10))\n",
        "for i in range(5):\n",
        "    plt.subplot(5,5,i+1)\n",
        "    plt.xticks([])\n",
        "    plt.yticks([])\n",
        "    plt.grid(False)\n",
        "    plt.imshow(X_train1[i], cmap=plt.cm.binary)\n",
        "    # The CIFAR labels happen to be arrays, \n",
        "    # which is why you need the extra index\n",
        "    plt.xlabel(class_names[y_train1[i][0]])\n",
        "plt.show()"
      ],
      "execution_count": 6,
      "outputs": [
        {
          "output_type": "display_data",
          "data": {
            "image/png": "[encoded data removed]",
            "text/plain": [
              "<Figure size 720x720 with 5 Axes>"
            ]
          },
          "metadata": {
            "tags": []
          }
        }
      ]
    },
    {
      "cell_type": "code",
      "metadata": {
        "id": "hZmBbJwpeOPp",
        "colab_type": "code",
        "colab": {}
      },
      "source": [
        "# checking if label are in number or in binary format.\n",
        "y_test[0:2]"
      ],
      "execution_count": null,
      "outputs": []
    },
    {
      "cell_type": "code",
      "metadata": {
        "id": "tnNWM5XCeOQH",
        "colab_type": "code",
        "colab": {}
      },
      "source": [
        "# plot first few images\n",
        "for i in range(5):\n",
        "# define subplot\n",
        "   plt.subplot(330 + 1 + i)\n",
        "# plot raw pixel data\n",
        "   plt.imshow(X_train1[i])\n",
        "# show the figure\n",
        "plt.show()"
      ],
      "execution_count": null,
      "outputs": []
    },
    {
      "cell_type": "code",
      "metadata": {
        "id": "KSoSaS5NeOQi",
        "colab_type": "code",
        "colab": {}
      },
      "source": [
        "# normalize pixel values\n",
        "#X_train1, X_test1 = X_train1 / 255.0, X_test1 / 255.0\n",
        "# Function to reshape and scaling image\n",
        "def Scale_Reshape(x):\n",
        "    x_min = x.min(axis=(1, 2), keepdims=True)\n",
        "    x_max = x.max(axis=(1, 2), keepdims=True)\n",
        "\n",
        "    x = (x - x_min)/(x_max-x_min)\n",
        "    \n",
        "    x = x.reshape(-1, 32, 32, 3)\n",
        "    return x"
      ],
      "execution_count": null,
      "outputs": []
    },
    {
      "cell_type": "code",
      "metadata": {
        "id": "TUTWUdaceOQw",
        "colab_type": "code",
        "colab": {}
      },
      "source": [
        "# Training data processing\n",
        "#X_train1_scale = Scale_Reshape(X_train1)\n",
        "\n",
        "# Test data processing \n",
        "#X_test1_scale = Scale_Reshape(X_test1)\n",
        "#  actual test data scaling\n",
        "# Test data processing \n",
        "#X_test_scale = Scale_Reshape(X_test)"
      ],
      "execution_count": null,
      "outputs": []
    },
    {
      "cell_type": "code",
      "metadata": {
        "id": "4SgD3YhpeORz",
        "colab_type": "code",
        "colab": {}
      },
      "source": [
        "# Show the histogram showing the frequency of data point in each class\n",
        "# it shows in training set each class having 5k images  and test each class having 1k \n",
        "fig, axs = plt.subplots(1,3,figsize=(15,5)) \n",
        "# Count plot for training set\n",
        "sns.countplot(y_train1.ravel(), ax=axs[0])\n",
        "axs[0].set_title('frequency of data point in each class in train1')\n",
        "axs[0].set_xlabel('Classes')\n",
        "\n",
        "sns.countplot(y_test1.ravel(), ax=axs[1])\n",
        "axs[1].set_title('frequency of data point in each class in test1')\n",
        "axs[1].set_xlabel('Classes')\n",
        "\n",
        "sns.countplot(y_test.ravel(), ax=axs[2])\n",
        "axs[2].set_title('frequency of data point in each class in actual test')\n",
        "axs[2].set_xlabel('Classes')"
      ],
      "execution_count": null,
      "outputs": []
    },
    {
      "cell_type": "code",
      "metadata": {
        "id": "sMkSMcUPeOSY",
        "colab_type": "code",
        "colab": {}
      },
      "source": [
        "# normalize pixel values for validation dataset and train1 dataset\n",
        "X_train1 = X_train1.astype('float32')\n",
        "X_test1 = X_test1.astype('float32')\n",
        "X_train1, X_test1 = X_train1 / 255.0, X_test1 / 255.0"
      ],
      "execution_count": 7,
      "outputs": []
    },
    {
      "cell_type": "code",
      "metadata": {
        "id": "BzNDUzhUeOSe",
        "colab_type": "code",
        "colab": {}
      },
      "source": [
        "# Convert categorical values int one hot encoding .\n",
        "#import keras\n",
        "num_classes = 10\n",
        "y_train1 = tf.keras.utils.to_categorical(y_train1, num_classes)\n",
        "y_test1 = tf.keras.utils.to_categorical(y_test1, num_classes)"
      ],
      "execution_count": 8,
      "outputs": []
    },
    {
      "cell_type": "code",
      "metadata": {
        "id": "kK6hEUzneOSu",
        "colab_type": "code",
        "colab": {}
      },
      "source": [
        "# here one hot encoding for actual test data and scaling for actual test set \n",
        "# normalize pixel values\n",
        "X_test = X_test.astype('float32')\n",
        "X_test=  X_test / 255.0\n",
        "# Convert categorical values int one hot encoding .\n",
        "#import keras\n",
        "num_classes = 10\n",
        "y_test = tf.keras.utils.to_categorical(y_test, num_classes)"
      ],
      "execution_count": 9,
      "outputs": []
    },
    {
      "cell_type": "code",
      "metadata": {
        "id": "WrRKC68viu1O",
        "colab_type": "code",
        "colab": {}
      },
      "source": [
        "# plot loss and accuracy during training\n",
        "# plot loss during training\n",
        "def plotmodel(hist): \n",
        "    plt.subplot(211)\n",
        "    plt.title('Loss')\n",
        "    plt.plot(history.history['loss'], label='train')\n",
        "    plt.plot(history.history['val_loss'], label='validation dataset')\n",
        "    plt.legend()\n",
        "# plot accuracy during training\n",
        "    plt.subplot(212)\n",
        "    plt.title('Accuracy')\n",
        "    plt.plot(history.history['accuracy'], label='train')\n",
        "    plt.plot(history.history['val_accuracy'], label='validation dataset')\n",
        "    plt.legend()\n",
        "    plt.show()"
      ],
      "execution_count": 10,
      "outputs": []
    },
    {
      "cell_type": "code",
      "metadata": {
        "id": "tYFeT4szSW32",
        "colab_type": "code",
        "colab": {}
      },
      "source": [
        "#net is learning with 32 convolutional filters, each of which with a 3 x 3 size. \n",
        "#activation is relu and we have a max-pooling operation with pool size 2 x 2 and a dropout at 20%.\n",
        "# Add Dense layers on top\n",
        "# CIFAR has 10 output classes, so you use a final Dense layer with 10 outputs,drop out  and a softmax activation.\n",
        "model = models.Sequential()\n",
        "model.add(Conv2D(32, (3, 3), padding='same', activation='relu', input_shape=(32, 32, 3)))\n",
        "model.add(Dropout(0.2))\n",
        " \n",
        "model.add(Conv2D(32,(3,3),padding='same', activation='relu'))\n",
        "model.add(MaxPooling2D(pool_size=(2,2)))\n",
        " \n",
        "model.add(Conv2D(64,(3,3),padding='same',activation='relu'))\n",
        "model.add(Dropout(0.2))\n",
        " \n",
        "model.add(Conv2D(64,(3,3),padding='same',activation='relu'))\n",
        "model.add(MaxPooling2D(pool_size=(2,2)))\n",
        " \n",
        "model.add(Conv2D(128,(3,3),padding='same',activation='relu'))\n",
        "model.add(Dropout(0.2))\n",
        " \n",
        "model.add(Conv2D(128,(3,3),padding='same',activation='relu'))\n",
        "model.add(MaxPooling2D(pool_size=(2,2)))\n",
        " \n",
        "model.add(Flatten())\n",
        "model.add(Dropout(0.2))\n",
        "model.add(Dense(1024,activation='relu',kernel_constraint=maxnorm(3)))\n",
        "model.add(Dropout(0.2))\n",
        "model.add(Dense(num_classes, activation='softmax'))\n",
        "#Compile and train the model  without any image augmentation\n",
        "#opt = SGD(lr=0.01, momentum=0.9)\n",
        "#optimizer=opt\n",
        "model.compile(optimizer= 'adam',\n",
        "#              loss=tf.keras.losses.SparseCategoricalCrossentropy(from_logits=True),\n",
        "            loss = 'categorical_crossentropy',\n",
        "            metrics=['accuracy'])"
      ],
      "execution_count": 13,
      "outputs": []
    },
    {
      "cell_type": "code",
      "metadata": {
        "id": "Zx4fBT69eOT_",
        "colab_type": "code",
        "colab": {
          "base_uri": "https://localhost:8080/",
          "height": 745
        },
        "outputId": "90c30fcb-85d1-41a9-80dd-6111ee6af781"
      },
      "source": [
        "model.summary()"
      ],
      "execution_count": 14,
      "outputs": [
        {
          "output_type": "stream",
          "text": [
            "Model: \"sequential\"\n",
            "_________________________________________________________________\n",
            "Layer (type)                 Output Shape              Param #   \n",
            "=================================================================\n",
            "conv2d (Conv2D)              (None, 32, 32, 32)        896       \n",
            "_________________________________________________________________\n",
            "dropout (Dropout)            (None, 32, 32, 32)        0         \n",
            "_________________________________________________________________\n",
            "conv2d_1 (Conv2D)            (None, 32, 32, 32)        9248      \n",
            "_________________________________________________________________\n",
            "max_pooling2d (MaxPooling2D) (None, 16, 16, 32)        0         \n",
            "_________________________________________________________________\n",
            "conv2d_2 (Conv2D)            (None, 16, 16, 64)        18496     \n",
            "_________________________________________________________________\n",
            "dropout_1 (Dropout)          (None, 16, 16, 64)        0         \n",
            "_________________________________________________________________\n",
            "conv2d_3 (Conv2D)            (None, 16, 16, 64)        36928     \n",
            "_________________________________________________________________\n",
            "max_pooling2d_1 (MaxPooling2 (None, 8, 8, 64)          0         \n",
            "_________________________________________________________________\n",
            "conv2d_4 (Conv2D)            (None, 8, 8, 128)         73856     \n",
            "_________________________________________________________________\n",
            "dropout_2 (Dropout)          (None, 8, 8, 128)         0         \n",
            "_________________________________________________________________\n",
            "conv2d_5 (Conv2D)            (None, 8, 8, 128)         147584    \n",
            "_________________________________________________________________\n",
            "max_pooling2d_2 (MaxPooling2 (None, 4, 4, 128)         0         \n",
            "_________________________________________________________________\n",
            "flatten (Flatten)            (None, 2048)              0         \n",
            "_________________________________________________________________\n",
            "dropout_3 (Dropout)          (None, 2048)              0         \n",
            "_________________________________________________________________\n",
            "dense (Dense)                (None, 1024)              2098176   \n",
            "_________________________________________________________________\n",
            "dropout_4 (Dropout)          (None, 1024)              0         \n",
            "_________________________________________________________________\n",
            "dense_1 (Dense)              (None, 10)                10250     \n",
            "=================================================================\n",
            "Total params: 2,395,434\n",
            "Trainable params: 2,395,434\n",
            "Non-trainable params: 0\n",
            "_________________________________________________________________\n"
          ],
          "name": "stdout"
        }
      ]
    },
    {
      "cell_type": "code",
      "metadata": {
        "id": "gCZj2Jz-eOUu",
        "colab_type": "code",
        "colab": {}
      },
      "source": [
        "number_of_round=35 ,\n",
        "#batch_size = 32"
      ],
      "execution_count": 15,
      "outputs": []
    },
    {
      "cell_type": "code",
      "metadata": {
        "id": "BRDbsBGzG-Uz",
        "colab_type": "code",
        "colab": {
          "base_uri": "https://localhost:8080/",
          "height": 415
        },
        "outputId": "683dcbf9-04f2-49cd-c4fc-fbb8f6dac8d1"
      },
      "source": [
        "# training over the train dataset and doing validation against validation 0.1 \n",
        "\n",
        "#history = model.fit(X_train1, y_train1, epochs = 40, shuffle = True, batch_size = 64,\n",
        "#                    validation_data=(X_test1, y_test1))\n",
        "history = model.fit(X_train1, y_train1, epochs = 5,shuffle = True, batch_size = 32,\n",
        "                     validation_split = 0.1)"
      ],
      "execution_count": 19,
      "outputs": [
        {
          "output_type": "stream",
          "text": [
            "Epoch 1/5\n",
            "1125/1125 [==============================] - 18s 16ms/step - loss: 0.7673 - accuracy: 0.7284 - val_loss: 0.7888 - val_accuracy: 0.7335\n",
            "Epoch 2/5\n",
            " 304/1125 [=======>......................] - ETA: 12s - loss: 0.6864 - accuracy: 0.7582"
          ],
          "name": "stdout"
        },
        {
          "output_type": "error",
          "ename": "KeyboardInterrupt",
          "evalue": "ignored",
          "traceback": [
            "\u001b[0;31m---------------------------------------------------------------------------\u001b[0m",
            "\u001b[0;31mKeyboardInterrupt\u001b[0m                         Traceback (most recent call last)",
            "\u001b[0;32m<ipython-input-19-e9b85736748f>\u001b[0m in \u001b[0;36m<module>\u001b[0;34m()\u001b[0m\n\u001b[1;32m      4\u001b[0m \u001b[0;31m#                    validation_data=(X_test1, y_test1))\u001b[0m\u001b[0;34m\u001b[0m\u001b[0;34m\u001b[0m\u001b[0;34m\u001b[0m\u001b[0m\n\u001b[1;32m      5\u001b[0m history0 = model.fit(X_train1, y_train1, epochs = 5,shuffle = True, batch_size = 32,\n\u001b[0;32m----> 6\u001b[0;31m                      validation_split = 0.1)\n\u001b[0m",
            "\u001b[0;32m/usr/local/lib/python3.6/dist-packages/tensorflow/python/keras/engine/training.py\u001b[0m in \u001b[0;36m_method_wrapper\u001b[0;34m(self, *args, **kwargs)\u001b[0m\n\u001b[1;32m     64\u001b[0m   \u001b[0;32mdef\u001b[0m \u001b[0m_method_wrapper\u001b[0m\u001b[0;34m(\u001b[0m\u001b[0mself\u001b[0m\u001b[0;34m,\u001b[0m \u001b[0;34m*\u001b[0m\u001b[0margs\u001b[0m\u001b[0;34m,\u001b[0m \u001b[0;34m**\u001b[0m\u001b[0mkwargs\u001b[0m\u001b[0;34m)\u001b[0m\u001b[0;34m:\u001b[0m\u001b[0;34m\u001b[0m\u001b[0;34m\u001b[0m\u001b[0m\n\u001b[1;32m     65\u001b[0m     \u001b[0;32mif\u001b[0m \u001b[0;32mnot\u001b[0m \u001b[0mself\u001b[0m\u001b[0;34m.\u001b[0m\u001b[0m_in_multi_worker_mode\u001b[0m\u001b[0;34m(\u001b[0m\u001b[0;34m)\u001b[0m\u001b[0;34m:\u001b[0m  \u001b[0;31m# pylint: disable=protected-access\u001b[0m\u001b[0;34m\u001b[0m\u001b[0;34m\u001b[0m\u001b[0m\n\u001b[0;32m---> 66\u001b[0;31m       \u001b[0;32mreturn\u001b[0m \u001b[0mmethod\u001b[0m\u001b[0;34m(\u001b[0m\u001b[0mself\u001b[0m\u001b[0;34m,\u001b[0m \u001b[0;34m*\u001b[0m\u001b[0margs\u001b[0m\u001b[0;34m,\u001b[0m \u001b[0;34m**\u001b[0m\u001b[0mkwargs\u001b[0m\u001b[0;34m)\u001b[0m\u001b[0;34m\u001b[0m\u001b[0;34m\u001b[0m\u001b[0m\n\u001b[0m\u001b[1;32m     67\u001b[0m \u001b[0;34m\u001b[0m\u001b[0m\n\u001b[1;32m     68\u001b[0m     \u001b[0;31m# Running inside `run_distribute_coordinator` already.\u001b[0m\u001b[0;34m\u001b[0m\u001b[0;34m\u001b[0m\u001b[0;34m\u001b[0m\u001b[0m\n",
            "\u001b[0;32m/usr/local/lib/python3.6/dist-packages/tensorflow/python/keras/engine/training.py\u001b[0m in \u001b[0;36mfit\u001b[0;34m(self, x, y, batch_size, epochs, verbose, callbacks, validation_split, validation_data, shuffle, class_weight, sample_weight, initial_epoch, steps_per_epoch, validation_steps, validation_batch_size, validation_freq, max_queue_size, workers, use_multiprocessing)\u001b[0m\n\u001b[1;32m    853\u001b[0m                 \u001b[0mcontext\u001b[0m\u001b[0;34m.\u001b[0m\u001b[0masync_wait\u001b[0m\u001b[0;34m(\u001b[0m\u001b[0;34m)\u001b[0m\u001b[0;34m\u001b[0m\u001b[0;34m\u001b[0m\u001b[0m\n\u001b[1;32m    854\u001b[0m               \u001b[0mlogs\u001b[0m \u001b[0;34m=\u001b[0m \u001b[0mtmp_logs\u001b[0m  \u001b[0;31m# No error, now safe to assign to logs.\u001b[0m\u001b[0;34m\u001b[0m\u001b[0;34m\u001b[0m\u001b[0m\n\u001b[0;32m--> 855\u001b[0;31m               \u001b[0mcallbacks\u001b[0m\u001b[0;34m.\u001b[0m\u001b[0mon_train_batch_end\u001b[0m\u001b[0;34m(\u001b[0m\u001b[0mstep\u001b[0m\u001b[0;34m,\u001b[0m \u001b[0mlogs\u001b[0m\u001b[0;34m)\u001b[0m\u001b[0;34m\u001b[0m\u001b[0;34m\u001b[0m\u001b[0m\n\u001b[0m\u001b[1;32m    856\u001b[0m         \u001b[0mepoch_logs\u001b[0m \u001b[0;34m=\u001b[0m \u001b[0mcopy\u001b[0m\u001b[0;34m.\u001b[0m\u001b[0mcopy\u001b[0m\u001b[0;34m(\u001b[0m\u001b[0mlogs\u001b[0m\u001b[0;34m)\u001b[0m\u001b[0;34m\u001b[0m\u001b[0;34m\u001b[0m\u001b[0m\n\u001b[1;32m    857\u001b[0m \u001b[0;34m\u001b[0m\u001b[0m\n",
            "\u001b[0;32m/usr/local/lib/python3.6/dist-packages/tensorflow/python/keras/callbacks.py\u001b[0m in \u001b[0;36mon_train_batch_end\u001b[0;34m(self, batch, logs)\u001b[0m\n\u001b[1;32m    387\u001b[0m     \"\"\"\n\u001b[1;32m    388\u001b[0m     \u001b[0;32mif\u001b[0m \u001b[0mself\u001b[0m\u001b[0;34m.\u001b[0m\u001b[0m_should_call_train_batch_hooks\u001b[0m\u001b[0;34m:\u001b[0m\u001b[0;34m\u001b[0m\u001b[0;34m\u001b[0m\u001b[0m\n\u001b[0;32m--> 389\u001b[0;31m       \u001b[0mlogs\u001b[0m \u001b[0;34m=\u001b[0m \u001b[0mself\u001b[0m\u001b[0;34m.\u001b[0m\u001b[0m_process_logs\u001b[0m\u001b[0;34m(\u001b[0m\u001b[0mlogs\u001b[0m\u001b[0;34m)\u001b[0m\u001b[0;34m\u001b[0m\u001b[0;34m\u001b[0m\u001b[0m\n\u001b[0m\u001b[1;32m    390\u001b[0m       \u001b[0mself\u001b[0m\u001b[0;34m.\u001b[0m\u001b[0m_call_batch_hook\u001b[0m\u001b[0;34m(\u001b[0m\u001b[0mModeKeys\u001b[0m\u001b[0;34m.\u001b[0m\u001b[0mTRAIN\u001b[0m\u001b[0;34m,\u001b[0m \u001b[0;34m'end'\u001b[0m\u001b[0;34m,\u001b[0m \u001b[0mbatch\u001b[0m\u001b[0;34m,\u001b[0m \u001b[0mlogs\u001b[0m\u001b[0;34m=\u001b[0m\u001b[0mlogs\u001b[0m\u001b[0;34m)\u001b[0m\u001b[0;34m\u001b[0m\u001b[0;34m\u001b[0m\u001b[0m\n\u001b[1;32m    391\u001b[0m \u001b[0;34m\u001b[0m\u001b[0m\n",
            "\u001b[0;32m/usr/local/lib/python3.6/dist-packages/tensorflow/python/keras/callbacks.py\u001b[0m in \u001b[0;36m_process_logs\u001b[0;34m(self, logs)\u001b[0m\n\u001b[1;32m    263\u001b[0m     \u001b[0;34m\"\"\"Turns tensors into numpy arrays or Python scalars.\"\"\"\u001b[0m\u001b[0;34m\u001b[0m\u001b[0;34m\u001b[0m\u001b[0m\n\u001b[1;32m    264\u001b[0m     \u001b[0;32mif\u001b[0m \u001b[0mlogs\u001b[0m\u001b[0;34m:\u001b[0m\u001b[0;34m\u001b[0m\u001b[0;34m\u001b[0m\u001b[0m\n\u001b[0;32m--> 265\u001b[0;31m       \u001b[0;32mreturn\u001b[0m \u001b[0mtf_utils\u001b[0m\u001b[0;34m.\u001b[0m\u001b[0mto_numpy_or_python_type\u001b[0m\u001b[0;34m(\u001b[0m\u001b[0mlogs\u001b[0m\u001b[0;34m)\u001b[0m\u001b[0;34m\u001b[0m\u001b[0;34m\u001b[0m\u001b[0m\n\u001b[0m\u001b[1;32m    266\u001b[0m     \u001b[0;32mreturn\u001b[0m \u001b[0;34m{\u001b[0m\u001b[0;34m}\u001b[0m\u001b[0;34m\u001b[0m\u001b[0;34m\u001b[0m\u001b[0m\n\u001b[1;32m    267\u001b[0m \u001b[0;34m\u001b[0m\u001b[0m\n",
            "\u001b[0;32m/usr/local/lib/python3.6/dist-packages/tensorflow/python/keras/utils/tf_utils.py\u001b[0m in \u001b[0;36mto_numpy_or_python_type\u001b[0;34m(tensors)\u001b[0m\n\u001b[1;32m    521\u001b[0m     \u001b[0;32mreturn\u001b[0m \u001b[0mt\u001b[0m  \u001b[0;31m# Don't turn ragged or sparse tensors to NumPy.\u001b[0m\u001b[0;34m\u001b[0m\u001b[0;34m\u001b[0m\u001b[0m\n\u001b[1;32m    522\u001b[0m \u001b[0;34m\u001b[0m\u001b[0m\n\u001b[0;32m--> 523\u001b[0;31m   \u001b[0;32mreturn\u001b[0m \u001b[0mnest\u001b[0m\u001b[0;34m.\u001b[0m\u001b[0mmap_structure\u001b[0m\u001b[0;34m(\u001b[0m\u001b[0m_to_single_numpy_or_python_type\u001b[0m\u001b[0;34m,\u001b[0m \u001b[0mtensors\u001b[0m\u001b[0;34m)\u001b[0m\u001b[0;34m\u001b[0m\u001b[0;34m\u001b[0m\u001b[0m\n\u001b[0m\u001b[1;32m    524\u001b[0m \u001b[0;34m\u001b[0m\u001b[0m\n",
            "\u001b[0;32m/usr/local/lib/python3.6/dist-packages/tensorflow/python/util/nest.py\u001b[0m in \u001b[0;36mmap_structure\u001b[0;34m(func, *structure, **kwargs)\u001b[0m\n\u001b[1;32m    615\u001b[0m \u001b[0;34m\u001b[0m\u001b[0m\n\u001b[1;32m    616\u001b[0m   return pack_sequence_as(\n\u001b[0;32m--> 617\u001b[0;31m       \u001b[0mstructure\u001b[0m\u001b[0;34m[\u001b[0m\u001b[0;36m0\u001b[0m\u001b[0;34m]\u001b[0m\u001b[0;34m,\u001b[0m \u001b[0;34m[\u001b[0m\u001b[0mfunc\u001b[0m\u001b[0;34m(\u001b[0m\u001b[0;34m*\u001b[0m\u001b[0mx\u001b[0m\u001b[0;34m)\u001b[0m \u001b[0;32mfor\u001b[0m \u001b[0mx\u001b[0m \u001b[0;32min\u001b[0m \u001b[0mentries\u001b[0m\u001b[0;34m]\u001b[0m\u001b[0;34m,\u001b[0m\u001b[0;34m\u001b[0m\u001b[0;34m\u001b[0m\u001b[0m\n\u001b[0m\u001b[1;32m    618\u001b[0m       expand_composites=expand_composites)\n\u001b[1;32m    619\u001b[0m \u001b[0;34m\u001b[0m\u001b[0m\n",
            "\u001b[0;32m/usr/local/lib/python3.6/dist-packages/tensorflow/python/util/nest.py\u001b[0m in \u001b[0;36m<listcomp>\u001b[0;34m(.0)\u001b[0m\n\u001b[1;32m    615\u001b[0m \u001b[0;34m\u001b[0m\u001b[0m\n\u001b[1;32m    616\u001b[0m   return pack_sequence_as(\n\u001b[0;32m--> 617\u001b[0;31m       \u001b[0mstructure\u001b[0m\u001b[0;34m[\u001b[0m\u001b[0;36m0\u001b[0m\u001b[0;34m]\u001b[0m\u001b[0;34m,\u001b[0m \u001b[0;34m[\u001b[0m\u001b[0mfunc\u001b[0m\u001b[0;34m(\u001b[0m\u001b[0;34m*\u001b[0m\u001b[0mx\u001b[0m\u001b[0;34m)\u001b[0m \u001b[0;32mfor\u001b[0m \u001b[0mx\u001b[0m \u001b[0;32min\u001b[0m \u001b[0mentries\u001b[0m\u001b[0;34m]\u001b[0m\u001b[0;34m,\u001b[0m\u001b[0;34m\u001b[0m\u001b[0;34m\u001b[0m\u001b[0m\n\u001b[0m\u001b[1;32m    618\u001b[0m       expand_composites=expand_composites)\n\u001b[1;32m    619\u001b[0m \u001b[0;34m\u001b[0m\u001b[0m\n",
            "\u001b[0;32m/usr/local/lib/python3.6/dist-packages/tensorflow/python/keras/utils/tf_utils.py\u001b[0m in \u001b[0;36m_to_single_numpy_or_python_type\u001b[0;34m(t)\u001b[0m\n\u001b[1;32m    517\u001b[0m   \u001b[0;32mdef\u001b[0m \u001b[0m_to_single_numpy_or_python_type\u001b[0m\u001b[0;34m(\u001b[0m\u001b[0mt\u001b[0m\u001b[0;34m)\u001b[0m\u001b[0;34m:\u001b[0m\u001b[0;34m\u001b[0m\u001b[0;34m\u001b[0m\u001b[0m\n\u001b[1;32m    518\u001b[0m     \u001b[0;32mif\u001b[0m \u001b[0misinstance\u001b[0m\u001b[0;34m(\u001b[0m\u001b[0mt\u001b[0m\u001b[0;34m,\u001b[0m \u001b[0mops\u001b[0m\u001b[0;34m.\u001b[0m\u001b[0mTensor\u001b[0m\u001b[0;34m)\u001b[0m\u001b[0;34m:\u001b[0m\u001b[0;34m\u001b[0m\u001b[0;34m\u001b[0m\u001b[0m\n\u001b[0;32m--> 519\u001b[0;31m       \u001b[0mx\u001b[0m \u001b[0;34m=\u001b[0m \u001b[0mt\u001b[0m\u001b[0;34m.\u001b[0m\u001b[0mnumpy\u001b[0m\u001b[0;34m(\u001b[0m\u001b[0;34m)\u001b[0m\u001b[0;34m\u001b[0m\u001b[0;34m\u001b[0m\u001b[0m\n\u001b[0m\u001b[1;32m    520\u001b[0m       \u001b[0;32mreturn\u001b[0m \u001b[0mx\u001b[0m\u001b[0;34m.\u001b[0m\u001b[0mitem\u001b[0m\u001b[0;34m(\u001b[0m\u001b[0;34m)\u001b[0m \u001b[0;32mif\u001b[0m \u001b[0mnp\u001b[0m\u001b[0;34m.\u001b[0m\u001b[0mndim\u001b[0m\u001b[0;34m(\u001b[0m\u001b[0mx\u001b[0m\u001b[0;34m)\u001b[0m \u001b[0;34m==\u001b[0m \u001b[0;36m0\u001b[0m \u001b[0;32melse\u001b[0m \u001b[0mx\u001b[0m\u001b[0;34m\u001b[0m\u001b[0;34m\u001b[0m\u001b[0m\n\u001b[1;32m    521\u001b[0m     \u001b[0;32mreturn\u001b[0m \u001b[0mt\u001b[0m  \u001b[0;31m# Don't turn ragged or sparse tensors to NumPy.\u001b[0m\u001b[0;34m\u001b[0m\u001b[0;34m\u001b[0m\u001b[0m\n",
            "\u001b[0;32m/usr/local/lib/python3.6/dist-packages/tensorflow/python/framework/ops.py\u001b[0m in \u001b[0;36mnumpy\u001b[0;34m(self)\u001b[0m\n\u001b[1;32m    959\u001b[0m     \"\"\"\n\u001b[1;32m    960\u001b[0m     \u001b[0;31m# TODO(slebedev): Consider avoiding a copy for non-CPU or remote tensors.\u001b[0m\u001b[0;34m\u001b[0m\u001b[0;34m\u001b[0m\u001b[0;34m\u001b[0m\u001b[0m\n\u001b[0;32m--> 961\u001b[0;31m     \u001b[0mmaybe_arr\u001b[0m \u001b[0;34m=\u001b[0m \u001b[0mself\u001b[0m\u001b[0;34m.\u001b[0m\u001b[0m_numpy\u001b[0m\u001b[0;34m(\u001b[0m\u001b[0;34m)\u001b[0m  \u001b[0;31m# pylint: disable=protected-access\u001b[0m\u001b[0;34m\u001b[0m\u001b[0;34m\u001b[0m\u001b[0m\n\u001b[0m\u001b[1;32m    962\u001b[0m     \u001b[0;32mreturn\u001b[0m \u001b[0mmaybe_arr\u001b[0m\u001b[0;34m.\u001b[0m\u001b[0mcopy\u001b[0m\u001b[0;34m(\u001b[0m\u001b[0;34m)\u001b[0m \u001b[0;32mif\u001b[0m \u001b[0misinstance\u001b[0m\u001b[0;34m(\u001b[0m\u001b[0mmaybe_arr\u001b[0m\u001b[0;34m,\u001b[0m \u001b[0mnp\u001b[0m\u001b[0;34m.\u001b[0m\u001b[0mndarray\u001b[0m\u001b[0;34m)\u001b[0m \u001b[0;32melse\u001b[0m \u001b[0mmaybe_arr\u001b[0m\u001b[0;34m\u001b[0m\u001b[0;34m\u001b[0m\u001b[0m\n\u001b[1;32m    963\u001b[0m \u001b[0;34m\u001b[0m\u001b[0m\n",
            "\u001b[0;32m/usr/local/lib/python3.6/dist-packages/tensorflow/python/framework/ops.py\u001b[0m in \u001b[0;36m_numpy\u001b[0;34m(self)\u001b[0m\n\u001b[1;32m    925\u001b[0m     \u001b[0;31m# pylint: disable=protected-access\u001b[0m\u001b[0;34m\u001b[0m\u001b[0;34m\u001b[0m\u001b[0;34m\u001b[0m\u001b[0m\n\u001b[1;32m    926\u001b[0m     \u001b[0;32mtry\u001b[0m\u001b[0;34m:\u001b[0m\u001b[0;34m\u001b[0m\u001b[0;34m\u001b[0m\u001b[0m\n\u001b[0;32m--> 927\u001b[0;31m       \u001b[0;32mreturn\u001b[0m \u001b[0mself\u001b[0m\u001b[0;34m.\u001b[0m\u001b[0m_numpy_internal\u001b[0m\u001b[0;34m(\u001b[0m\u001b[0;34m)\u001b[0m\u001b[0;34m\u001b[0m\u001b[0;34m\u001b[0m\u001b[0m\n\u001b[0m\u001b[1;32m    928\u001b[0m     \u001b[0;32mexcept\u001b[0m \u001b[0mcore\u001b[0m\u001b[0;34m.\u001b[0m\u001b[0m_NotOkStatusException\u001b[0m \u001b[0;32mas\u001b[0m \u001b[0me\u001b[0m\u001b[0;34m:\u001b[0m\u001b[0;34m\u001b[0m\u001b[0;34m\u001b[0m\u001b[0m\n\u001b[1;32m    929\u001b[0m       \u001b[0msix\u001b[0m\u001b[0;34m.\u001b[0m\u001b[0mraise_from\u001b[0m\u001b[0;34m(\u001b[0m\u001b[0mcore\u001b[0m\u001b[0;34m.\u001b[0m\u001b[0m_status_to_exception\u001b[0m\u001b[0;34m(\u001b[0m\u001b[0me\u001b[0m\u001b[0;34m.\u001b[0m\u001b[0mcode\u001b[0m\u001b[0;34m,\u001b[0m \u001b[0me\u001b[0m\u001b[0;34m.\u001b[0m\u001b[0mmessage\u001b[0m\u001b[0;34m)\u001b[0m\u001b[0;34m,\u001b[0m \u001b[0;32mNone\u001b[0m\u001b[0;34m)\u001b[0m\u001b[0;34m\u001b[0m\u001b[0;34m\u001b[0m\u001b[0m\n",
            "\u001b[0;31mKeyboardInterrupt\u001b[0m: "
          ]
        }
      ]
    },
    {
      "cell_type": "code",
      "metadata": {
        "id": "ejdrg64hi6my",
        "colab_type": "code",
        "colab": {
          "base_uri": "https://localhost:8080/",
          "height": 485
        },
        "outputId": "e7d37052-f8b0-4a36-f21b-a6a6ffc28dbd"
      },
      "source": [
        "# printing , below graph shows loss and accuracy for train and validation dataset \n",
        "print(history1.history.keys())\n",
        "\n",
        "plotmodel(history1)"
      ],
      "execution_count": 18,
      "outputs": [
        {
          "output_type": "stream",
          "text": [
            "dict_keys(['loss', 'accuracy', 'val_loss', 'val_accuracy'])\n"
          ],
          "name": "stdout"
        },
        {
          "output_type": "error",
          "ename": "NameError",
          "evalue": "ignored",
          "traceback": [
            "\u001b[0;31m---------------------------------------------------------------------------\u001b[0m",
            "\u001b[0;31mNameError\u001b[0m                                 Traceback (most recent call last)",
            "\u001b[0;32m<ipython-input-18-f94e6503f607>\u001b[0m in \u001b[0;36m<module>\u001b[0;34m()\u001b[0m\n\u001b[1;32m      2\u001b[0m \u001b[0mprint\u001b[0m\u001b[0;34m(\u001b[0m\u001b[0mhistory1\u001b[0m\u001b[0;34m.\u001b[0m\u001b[0mhistory\u001b[0m\u001b[0;34m.\u001b[0m\u001b[0mkeys\u001b[0m\u001b[0;34m(\u001b[0m\u001b[0;34m)\u001b[0m\u001b[0;34m)\u001b[0m\u001b[0;34m\u001b[0m\u001b[0;34m\u001b[0m\u001b[0m\n\u001b[1;32m      3\u001b[0m \u001b[0;34m\u001b[0m\u001b[0m\n\u001b[0;32m----> 4\u001b[0;31m \u001b[0mplotmodel\u001b[0m\u001b[0;34m(\u001b[0m\u001b[0mhistory1\u001b[0m\u001b[0;34m)\u001b[0m\u001b[0;34m\u001b[0m\u001b[0;34m\u001b[0m\u001b[0m\n\u001b[0m",
            "\u001b[0;32m<ipython-input-10-b7d7bf8230e1>\u001b[0m in \u001b[0;36mplotmodel\u001b[0;34m(hist)\u001b[0m\n\u001b[1;32m      4\u001b[0m     \u001b[0mplt\u001b[0m\u001b[0;34m.\u001b[0m\u001b[0msubplot\u001b[0m\u001b[0;34m(\u001b[0m\u001b[0;36m211\u001b[0m\u001b[0;34m)\u001b[0m\u001b[0;34m\u001b[0m\u001b[0;34m\u001b[0m\u001b[0m\n\u001b[1;32m      5\u001b[0m     \u001b[0mplt\u001b[0m\u001b[0;34m.\u001b[0m\u001b[0mtitle\u001b[0m\u001b[0;34m(\u001b[0m\u001b[0;34m'Loss'\u001b[0m\u001b[0;34m)\u001b[0m\u001b[0;34m\u001b[0m\u001b[0;34m\u001b[0m\u001b[0m\n\u001b[0;32m----> 6\u001b[0;31m     \u001b[0mplt\u001b[0m\u001b[0;34m.\u001b[0m\u001b[0mplot\u001b[0m\u001b[0;34m(\u001b[0m\u001b[0mhistory\u001b[0m\u001b[0;34m.\u001b[0m\u001b[0mhistory\u001b[0m\u001b[0;34m[\u001b[0m\u001b[0;34m'loss'\u001b[0m\u001b[0;34m]\u001b[0m\u001b[0;34m,\u001b[0m \u001b[0mlabel\u001b[0m\u001b[0;34m=\u001b[0m\u001b[0;34m'train'\u001b[0m\u001b[0;34m)\u001b[0m\u001b[0;34m\u001b[0m\u001b[0;34m\u001b[0m\u001b[0m\n\u001b[0m\u001b[1;32m      7\u001b[0m     \u001b[0mplt\u001b[0m\u001b[0;34m.\u001b[0m\u001b[0mplot\u001b[0m\u001b[0;34m(\u001b[0m\u001b[0mhistory\u001b[0m\u001b[0;34m.\u001b[0m\u001b[0mhistory\u001b[0m\u001b[0;34m[\u001b[0m\u001b[0;34m'val_loss'\u001b[0m\u001b[0;34m]\u001b[0m\u001b[0;34m,\u001b[0m \u001b[0mlabel\u001b[0m\u001b[0;34m=\u001b[0m\u001b[0;34m'validation dataset'\u001b[0m\u001b[0;34m)\u001b[0m\u001b[0;34m\u001b[0m\u001b[0;34m\u001b[0m\u001b[0m\n\u001b[1;32m      8\u001b[0m     \u001b[0mplt\u001b[0m\u001b[0;34m.\u001b[0m\u001b[0mlegend\u001b[0m\u001b[0;34m(\u001b[0m\u001b[0;34m)\u001b[0m\u001b[0;34m\u001b[0m\u001b[0;34m\u001b[0m\u001b[0m\n",
            "\u001b[0;31mNameError\u001b[0m: name 'history' is not defined"
          ]
        },
        {
          "output_type": "display_data",
          "data": {
            "image/png": "[encoded data removed]",
            "text/plain": [
              "<Figure size 432x288 with 1 Axes>"
            ]
          },
          "metadata": {
            "tags": [],
            "needs_background": "light"
          }
        }
      ]
    },
    {
      "cell_type": "code",
      "metadata": {
        "id": "OPWuQVF_wZLW",
        "colab_type": "code",
        "colab": {
          "base_uri": "https://localhost:8080/",
          "height": 1000
        },
        "outputId": "0e1d9e3d-b433-43db-b985-2f8a07edf33d"
      },
      "source": [
        "# with test1 dataset \n",
        "\n",
        "history1 = model.fit(X_train1, y_train1, epochs = 10, shuffle = True, batch_size = 32,\n",
        "                   validation_data=(X_test1, y_test1))"
      ],
      "execution_count": null,
      "outputs": [
        {
          "output_type": "stream",
          "text": [
            "Epoch 1/35\n",
            "1250/1250 [==============================] - 22s 18ms/step - loss: 1.0832 - accuracy: 0.6141 - val_loss: 0.9667 - val_accuracy: 0.6563\n",
            "Epoch 2/35\n",
            "1250/1250 [==============================] - 21s 17ms/step - loss: 0.9398 - accuracy: 0.6661 - val_loss: 0.8709 - val_accuracy: 0.6921\n",
            "Epoch 3/35\n",
            "1250/1250 [==============================] - 22s 17ms/step - loss: 0.8273 - accuracy: 0.7068 - val_loss: 0.8363 - val_accuracy: 0.7080\n",
            "Epoch 4/35\n",
            "1250/1250 [==============================] - 21s 17ms/step - loss: 0.7568 - accuracy: 0.7328 - val_loss: 0.7649 - val_accuracy: 0.7297\n",
            "Epoch 5/35\n",
            "1250/1250 [==============================] - 21s 17ms/step - loss: 0.7017 - accuracy: 0.7540 - val_loss: 0.7984 - val_accuracy: 0.7296\n",
            "Epoch 6/35\n",
            "1250/1250 [==============================] - 21s 17ms/step - loss: 0.6566 - accuracy: 0.7681 - val_loss: 0.7135 - val_accuracy: 0.7525\n",
            "Epoch 7/35\n",
            "1250/1250 [==============================] - 21s 17ms/step - loss: 0.6151 - accuracy: 0.7854 - val_loss: 0.7303 - val_accuracy: 0.7534\n",
            "Epoch 8/35\n",
            "1250/1250 [==============================] - 21s 17ms/step - loss: 0.5862 - accuracy: 0.7935 - val_loss: 0.7193 - val_accuracy: 0.7575\n",
            "Epoch 9/35\n",
            "1250/1250 [==============================] - 21s 17ms/step - loss: 0.5513 - accuracy: 0.8044 - val_loss: 0.6977 - val_accuracy: 0.7622\n",
            "Epoch 10/35\n",
            "1250/1250 [==============================] - 22s 17ms/step - loss: 0.5304 - accuracy: 0.8115 - val_loss: 0.6933 - val_accuracy: 0.7646\n",
            "Epoch 11/35\n",
            "1250/1250 [==============================] - 22s 17ms/step - loss: 0.5084 - accuracy: 0.8224 - val_loss: 0.7277 - val_accuracy: 0.7544\n",
            "Epoch 12/35\n",
            "1250/1250 [==============================] - 21s 17ms/step - loss: 0.4937 - accuracy: 0.8254 - val_loss: 0.7494 - val_accuracy: 0.7455\n",
            "Epoch 13/35\n",
            "1250/1250 [==============================] - 21s 17ms/step - loss: 0.4844 - accuracy: 0.8295 - val_loss: 0.6991 - val_accuracy: 0.7696\n",
            "Epoch 14/35\n",
            "1250/1250 [==============================] - 21s 17ms/step - loss: 0.4613 - accuracy: 0.8385 - val_loss: 0.7097 - val_accuracy: 0.7632\n",
            "Epoch 15/35\n",
            "1250/1250 [==============================] - 22s 17ms/step - loss: 0.4612 - accuracy: 0.8407 - val_loss: 0.7095 - val_accuracy: 0.7671\n",
            "Epoch 16/35\n",
            "1250/1250 [==============================] - 21s 17ms/step - loss: 0.4454 - accuracy: 0.8427 - val_loss: 0.7304 - val_accuracy: 0.7593\n",
            "Epoch 17/35\n",
            "1250/1250 [==============================] - 21s 17ms/step - loss: 0.4491 - accuracy: 0.8424 - val_loss: 0.6977 - val_accuracy: 0.7713\n",
            "Epoch 18/35\n",
            "1250/1250 [==============================] - 21s 17ms/step - loss: 0.4293 - accuracy: 0.8504 - val_loss: 0.7377 - val_accuracy: 0.7552\n",
            "Epoch 19/35\n",
            "1250/1250 [==============================] - 21s 17ms/step - loss: 0.4289 - accuracy: 0.8492 - val_loss: 0.6995 - val_accuracy: 0.7760\n",
            "Epoch 20/35\n",
            "1250/1250 [==============================] - 21s 17ms/step - loss: 0.4174 - accuracy: 0.8533 - val_loss: 0.7662 - val_accuracy: 0.7555\n",
            "Epoch 21/35\n",
            "1250/1250 [==============================] - 21s 17ms/step - loss: 0.4151 - accuracy: 0.8551 - val_loss: 0.7523 - val_accuracy: 0.7676\n",
            "Epoch 22/35\n",
            "1250/1250 [==============================] - 21s 17ms/step - loss: 0.4165 - accuracy: 0.8538 - val_loss: 0.6955 - val_accuracy: 0.7770\n",
            "Epoch 23/35\n",
            "1250/1250 [==============================] - 21s 17ms/step - loss: 0.4008 - accuracy: 0.8605 - val_loss: 0.7247 - val_accuracy: 0.7745\n",
            "Epoch 24/35\n",
            "1250/1250 [==============================] - 21s 17ms/step - loss: 0.4046 - accuracy: 0.8584 - val_loss: 0.7155 - val_accuracy: 0.7725\n",
            "Epoch 25/35\n",
            "1250/1250 [==============================] - 22s 18ms/step - loss: 0.4101 - accuracy: 0.8570 - val_loss: 0.7603 - val_accuracy: 0.7612\n",
            "Epoch 26/35\n",
            "1250/1250 [==============================] - 22s 17ms/step - loss: 0.4017 - accuracy: 0.8605 - val_loss: 0.7075 - val_accuracy: 0.7731\n",
            "Epoch 27/35\n",
            "1250/1250 [==============================] - 21s 17ms/step - loss: 0.3925 - accuracy: 0.8645 - val_loss: 0.7359 - val_accuracy: 0.7670\n",
            "Epoch 28/35\n",
            "1250/1250 [==============================] - 22s 17ms/step - loss: 0.3967 - accuracy: 0.8641 - val_loss: 0.7898 - val_accuracy: 0.7552\n",
            "Epoch 29/35\n",
            "1250/1250 [==============================] - 21s 17ms/step - loss: 0.3817 - accuracy: 0.8683 - val_loss: 0.7140 - val_accuracy: 0.7751\n",
            "Epoch 30/35\n",
            "1250/1250 [==============================] - 22s 17ms/step - loss: 0.3908 - accuracy: 0.8639 - val_loss: 0.7592 - val_accuracy: 0.7584\n",
            "Epoch 31/35\n",
            "1250/1250 [==============================] - 22s 17ms/step - loss: 0.3919 - accuracy: 0.8658 - val_loss: 0.7287 - val_accuracy: 0.7683\n",
            "Epoch 32/35\n",
            "1250/1250 [==============================] - 21s 17ms/step - loss: 0.3854 - accuracy: 0.8684 - val_loss: 0.7422 - val_accuracy: 0.7547\n",
            "Epoch 33/35\n",
            "1250/1250 [==============================] - 21s 17ms/step - loss: 0.3846 - accuracy: 0.8661 - val_loss: 0.7129 - val_accuracy: 0.7723\n",
            "Epoch 34/35\n",
            "1250/1250 [==============================] - 21s 17ms/step - loss: 0.3716 - accuracy: 0.8721 - val_loss: 0.7568 - val_accuracy: 0.7664\n",
            "Epoch 35/35\n",
            "1250/1250 [==============================] - 21s 17ms/step - loss: 0.3820 - accuracy: 0.8699 - val_loss: 0.7599 - val_accuracy: 0.7623\n"
          ],
          "name": "stdout"
        }
      ]
    },
    {
      "cell_type": "code",
      "metadata": {
        "id": "bWGoEbnoACYO",
        "colab_type": "code",
        "colab": {
          "base_uri": "https://localhost:8080/",
          "height": 1000
        },
        "outputId": "4b10ed7a-6ae7-410a-8eea-61966062fd29"
      },
      "source": [
        "# with actaul test dataset\n",
        "\n",
        "model = models.Sequential()\n",
        "model.add(Conv2D(32, (3, 3), padding='same', activation='relu', input_shape=(32, 32, 3)))\n",
        "model.add(Dropout(0.2))\n",
        " \n",
        "model.add(Conv2D(32,(3,3),padding='same', activation='relu'))\n",
        "model.add(MaxPooling2D(pool_size=(2,2)))\n",
        " \n",
        "model.add(Conv2D(64,(3,3),padding='same',activation='relu'))\n",
        "model.add(Dropout(0.2))\n",
        " \n",
        "model.add(Conv2D(64,(3,3),padding='same',activation='relu'))\n",
        "model.add(MaxPooling2D(pool_size=(2,2)))\n",
        " \n",
        "model.add(Conv2D(128,(3,3),padding='same',activation='relu'))\n",
        "model.add(Dropout(0.2))\n",
        " \n",
        "model.add(Conv2D(128,(3,3),padding='same',activation='relu'))\n",
        "model.add(MaxPooling2D(pool_size=(2,2)))\n",
        " \n",
        "model.add(Flatten())\n",
        "model.add(Dropout(0.2))\n",
        "model.add(Dense(1024,activation='relu',kernel_constraint=maxnorm(3)))\n",
        "model.add(Dropout(0.2))\n",
        "model.add(Dense(num_classes, activation='softmax'))\n",
        "model.compile(optimizer= 'adam',\n",
        "#              loss=tf.keras.losses.SparseCategoricalCrossentropy(from_logits=True),\n",
        "              loss = 'categorical_crossentropy',\n",
        "              metrics=['accuracy'])\n",
        "history = model.fit(X_train1, y_train1, epochs = 35, shuffle = True, batch_size = 32,\n",
        "                   validation_data=(X_test, y_test))"
      ],
      "execution_count": null,
      "outputs": [
        {
          "output_type": "stream",
          "text": [
            "Epoch 1/35\n",
            "1250/1250 [==============================] - 22s 17ms/step - loss: 1.6211 - accuracy: 0.3999 - val_loss: 1.3261 - val_accuracy: 0.5157\n",
            "Epoch 2/35\n",
            "1250/1250 [==============================] - 21s 17ms/step - loss: 1.1800 - accuracy: 0.5756 - val_loss: 1.0680 - val_accuracy: 0.6200\n",
            "Epoch 3/35\n",
            "1250/1250 [==============================] - 21s 17ms/step - loss: 1.0086 - accuracy: 0.6406 - val_loss: 1.0152 - val_accuracy: 0.6427\n",
            "Epoch 4/35\n",
            "1250/1250 [==============================] - 21s 17ms/step - loss: 0.8920 - accuracy: 0.6868 - val_loss: 0.8371 - val_accuracy: 0.7089\n",
            "Epoch 5/35\n",
            "1250/1250 [==============================] - 22s 17ms/step - loss: 0.8065 - accuracy: 0.7159 - val_loss: 0.8138 - val_accuracy: 0.7139\n",
            "Epoch 6/35\n",
            "1250/1250 [==============================] - 21s 17ms/step - loss: 0.7417 - accuracy: 0.7377 - val_loss: 0.7968 - val_accuracy: 0.7228\n",
            "Epoch 7/35\n",
            "1250/1250 [==============================] - 21s 17ms/step - loss: 0.6897 - accuracy: 0.7561 - val_loss: 0.7722 - val_accuracy: 0.7341\n",
            "Epoch 8/35\n",
            "1250/1250 [==============================] - 21s 17ms/step - loss: 0.6510 - accuracy: 0.7704 - val_loss: 0.7202 - val_accuracy: 0.7528\n",
            "Epoch 9/35\n",
            "1250/1250 [==============================] - 21s 17ms/step - loss: 0.6222 - accuracy: 0.7818 - val_loss: 0.7199 - val_accuracy: 0.7562\n",
            "Epoch 10/35\n",
            "1250/1250 [==============================] - 22s 17ms/step - loss: 0.5872 - accuracy: 0.7936 - val_loss: 0.7112 - val_accuracy: 0.7544\n",
            "Epoch 11/35\n",
            "1250/1250 [==============================] - 21s 17ms/step - loss: 0.5610 - accuracy: 0.8027 - val_loss: 0.6888 - val_accuracy: 0.7698\n",
            "Epoch 12/35\n",
            "1250/1250 [==============================] - 22s 17ms/step - loss: 0.5415 - accuracy: 0.8092 - val_loss: 0.7044 - val_accuracy: 0.7663\n",
            "Epoch 13/35\n",
            "1250/1250 [==============================] - 21s 17ms/step - loss: 0.5174 - accuracy: 0.8188 - val_loss: 0.7033 - val_accuracy: 0.7703\n",
            "Epoch 14/35\n",
            "1250/1250 [==============================] - 21s 17ms/step - loss: 0.5158 - accuracy: 0.8171 - val_loss: 0.7102 - val_accuracy: 0.7636\n",
            "Epoch 15/35\n",
            "1250/1250 [==============================] - 21s 17ms/step - loss: 0.4906 - accuracy: 0.8270 - val_loss: 0.7374 - val_accuracy: 0.7582\n",
            "Epoch 16/35\n",
            "1250/1250 [==============================] - 22s 17ms/step - loss: 0.4844 - accuracy: 0.8285 - val_loss: 0.6973 - val_accuracy: 0.7702\n",
            "Epoch 17/35\n",
            "1250/1250 [==============================] - 21s 17ms/step - loss: 0.4710 - accuracy: 0.8343 - val_loss: 0.7293 - val_accuracy: 0.7633\n",
            "Epoch 18/35\n",
            "1250/1250 [==============================] - 21s 17ms/step - loss: 0.4690 - accuracy: 0.8362 - val_loss: 0.7168 - val_accuracy: 0.7593\n",
            "Epoch 19/35\n",
            "1250/1250 [==============================] - 21s 17ms/step - loss: 0.4567 - accuracy: 0.8405 - val_loss: 0.7269 - val_accuracy: 0.7600\n",
            "Epoch 20/35\n",
            "1250/1250 [==============================] - 21s 17ms/step - loss: 0.4455 - accuracy: 0.8429 - val_loss: 0.7297 - val_accuracy: 0.7684\n",
            "Epoch 21/35\n",
            "1250/1250 [==============================] - 22s 17ms/step - loss: 0.4462 - accuracy: 0.8428 - val_loss: 0.7357 - val_accuracy: 0.7687\n",
            "Epoch 22/35\n",
            "1250/1250 [==============================] - 21s 17ms/step - loss: 0.4347 - accuracy: 0.8483 - val_loss: 0.7484 - val_accuracy: 0.7649\n",
            "Epoch 23/35\n",
            "1250/1250 [==============================] - 21s 17ms/step - loss: 0.4335 - accuracy: 0.8471 - val_loss: 0.7095 - val_accuracy: 0.7730\n",
            "Epoch 24/35\n",
            "1250/1250 [==============================] - 21s 17ms/step - loss: 0.4344 - accuracy: 0.8487 - val_loss: 0.7016 - val_accuracy: 0.7713\n",
            "Epoch 25/35\n",
            "1250/1250 [==============================] - 22s 17ms/step - loss: 0.4179 - accuracy: 0.8561 - val_loss: 0.7389 - val_accuracy: 0.7765\n",
            "Epoch 26/35\n",
            "1250/1250 [==============================] - 21s 17ms/step - loss: 0.4243 - accuracy: 0.8533 - val_loss: 0.7040 - val_accuracy: 0.7778\n",
            "Epoch 27/35\n",
            "1250/1250 [==============================] - 22s 17ms/step - loss: 0.4157 - accuracy: 0.8546 - val_loss: 0.7186 - val_accuracy: 0.7743\n",
            "Epoch 28/35\n",
            "1250/1250 [==============================] - 21s 17ms/step - loss: 0.4227 - accuracy: 0.8535 - val_loss: 0.7492 - val_accuracy: 0.7695\n",
            "Epoch 29/35\n",
            "1250/1250 [==============================] - 21s 17ms/step - loss: 0.4084 - accuracy: 0.8568 - val_loss: 0.7623 - val_accuracy: 0.7676\n",
            "Epoch 30/35\n",
            "1250/1250 [==============================] - 22s 17ms/step - loss: 0.4100 - accuracy: 0.8577 - val_loss: 0.7746 - val_accuracy: 0.7651\n",
            "Epoch 31/35\n",
            "1250/1250 [==============================] - 22s 17ms/step - loss: 0.4033 - accuracy: 0.8598 - val_loss: 0.7244 - val_accuracy: 0.7809\n",
            "Epoch 32/35\n",
            "1250/1250 [==============================] - 21s 17ms/step - loss: 0.3995 - accuracy: 0.8628 - val_loss: 0.7640 - val_accuracy: 0.7639\n",
            "Epoch 33/35\n",
            "1250/1250 [==============================] - 21s 17ms/step - loss: 0.4066 - accuracy: 0.8611 - val_loss: 0.7566 - val_accuracy: 0.7699\n",
            "Epoch 34/35\n",
            "1250/1250 [==============================] - 22s 17ms/step - loss: 0.4066 - accuracy: 0.8591 - val_loss: 0.7303 - val_accuracy: 0.7822\n",
            "Epoch 35/35\n",
            "1250/1250 [==============================] - 21s 17ms/step - loss: 0.4101 - accuracy: 0.8612 - val_loss: 0.7097 - val_accuracy: 0.7750\n"
          ],
          "name": "stdout"
        }
      ]
    },
    {
      "cell_type": "code",
      "metadata": {
        "id": "vf3W-V6XkUtt",
        "colab_type": "code",
        "colab": {}
      },
      "source": [
        "model = models.Sequential()\n",
        "model.add(Conv2D(32, (3, 3), padding='same', activation='relu', input_shape=(32, 32, 3)))\n",
        "model.add(Dropout(0.2))\n",
        " \n",
        "model.add(Conv2D(32,(3,3),padding='same', activation='relu'))\n",
        "model.add(MaxPooling2D(pool_size=(2,2)))\n",
        " \n",
        "model.add(Conv2D(64,(3,3),padding='same',activation='relu'))\n",
        "model.add(Dropout(0.2))\n",
        " \n",
        "model.add(Conv2D(64,(3,3),padding='same',activation='relu'))\n",
        "model.add(MaxPooling2D(pool_size=(2,2)))\n",
        " \n",
        "model.add(Conv2D(128,(3,3),padding='same',activation='relu'))\n",
        "model.add(Dropout(0.2))\n",
        " \n",
        "model.add(Conv2D(128,(3,3),padding='same',activation='relu'))\n",
        "model.add(MaxPooling2D(pool_size=(2,2)))\n",
        " \n",
        "model.add(Flatten())\n",
        "model.add(Dropout(0.2))\n",
        "model.add(Dense(1024,activation='relu',kernel_constraint=maxnorm(3)))\n",
        "model.add(Dropout(0.2))\n",
        "model.add(Dense(num_classes, activation='softmax'))\n",
        "model.compile(optimizer= 'adam',\n",
        "#              loss=tf.keras.losses.SparseCategoricalCrossentropy(from_logits=True),\n",
        "              loss = 'categorical_crossentropy',\n",
        "              metrics=['accuracy'])"
      ],
      "execution_count": null,
      "outputs": []
    },
    {
      "cell_type": "code",
      "metadata": {
        "id": "VayAYTeDkpuP",
        "colab_type": "code",
        "colab": {}
      },
      "source": [
        ""
      ],
      "execution_count": null,
      "outputs": []
    },
    {
      "cell_type": "code",
      "metadata": {
        "id": "TUkcBnWDfXTa",
        "colab_type": "code",
        "colab": {
          "base_uri": "https://localhost:8080/",
          "height": 52
        },
        "outputId": "65632426-e797-4346-8df2-0b507c6c8a2e"
      },
      "source": [
        "reset model"
      ],
      "execution_count": null,
      "outputs": [
        {
          "output_type": "stream",
          "text": [
            "Once deleted, variables cannot be recovered. Proceed (y/[n])? y\n",
            "Don't know how to reset  model, please run `%reset?` for details\n"
          ],
          "name": "stdout"
        }
      ]
    },
    {
      "cell_type": "code",
      "metadata": {
        "id": "mYXfGze8eOVJ",
        "colab_type": "code",
        "colab": {}
      },
      "source": [
        "# Evaluate the model\n",
        "test_loss1, test_acc1 = model.evaluate(X_test1,  y_test1, verbose=2)"
      ],
      "execution_count": null,
      "outputs": []
    },
    {
      "cell_type": "code",
      "metadata": {
        "id": "DqVM1fRMeOVX",
        "colab_type": "code",
        "colab": {}
      },
      "source": [
        "predicted_classes = model.predict_classes(X_test1) \n",
        "predicted_classes"
      ],
      "execution_count": null,
      "outputs": []
    },
    {
      "cell_type": "code",
      "metadata": {
        "id": "mDrBwVmqeOVg",
        "colab_type": "code",
        "colab": {}
      },
      "source": [
        "# plotting model train and test accuracy \n",
        "def plotmodel(hist): \n",
        "    fig, axs = plt.subplots(1,2,figsize=(15,5)) \n",
        "    # accuracy\n",
        "    axs[0].plot(history.history['accuracy']) \n",
        "    axs[0].plot(history.history['val_accuracy']) \n",
        "    axs[0].set_title('Model Accuracy')\n",
        "    axs[0].set_ylabel('Accuracy') \n",
        "    axs[0].set_xlabel('Epoch')\n",
        "    axs[0].legend(['Train1', 'Test1'], loc='upper left')\n",
        "    # loss\n",
        "    axs[1].plot(history.history['loss']) \n",
        "    axs[1].plot(history.history['val_loss']) \n",
        "    axs[1].set_title('Model Loss')\n",
        "    axs[1].set_ylabel('Loss') \n",
        "    axs[1].set_xlabel('Epoch')\n",
        "    axs[1].legend(['Train1', 'Test1'], loc='upper left')\n",
        "    plt.show()"
      ],
      "execution_count": null,
      "outputs": []
    },
    {
      "cell_type": "code",
      "metadata": {
        "id": "oHew64a22DRd",
        "colab_type": "code",
        "colab": {
          "base_uri": "https://localhost:8080/",
          "height": 281
        },
        "outputId": "4c496620-c51d-4daf-df22-906a913c5c31"
      },
      "source": [
        ""
      ],
      "execution_count": null,
      "outputs": [
        {
          "output_type": "display_data",
          "data": {
            "image/png": "[encoded data removed]",
            "text/plain": [
              "<Figure size 432x288 with 2 Axes>"
            ]
          },
          "metadata": {
            "tags": [],
            "needs_background": "light"
          }
        }
      ]
    },
    {
      "cell_type": "code",
      "metadata": {
        "id": "AIleGeSR74Fh",
        "colab_type": "code",
        "colab": {
          "base_uri": "https://localhost:8080/",
          "height": 281
        },
        "outputId": "05fd5a8f-8b90-4d32-88bd-6ca0b3df1eda"
      },
      "source": [
        "# plot loss during training\n",
        "plt.subplot(211)\n",
        "plt.title('Loss')\n",
        "plt.plot(history.history['loss'], label='train')\n",
        "plt.plot(history.history['val_loss'], label='test1 dataset')\n",
        "plt.legend()\n",
        "# plot accuracy during training\n",
        "plt.subplot(212)\n",
        "plt.title('Accuracy')\n",
        "plt.plot(history.history['accuracy'], label='train')\n",
        "plt.plot(history.history['val_accuracy'], label='test1 dataset')\n",
        "plt.legend()\n",
        "plt.show()"
      ],
      "execution_count": null,
      "outputs": [
        {
          "output_type": "display_data",
          "data": {
            "image/png": "[encoded data removed]",
            "text/plain": [
              "<Figure size 432x288 with 2 Axes>"
            ]
          },
          "metadata": {
            "tags": [],
            "needs_background": "light"
          }
        }
      ]
    },
    {
      "cell_type": "code",
      "metadata": {
        "id": "B5tWkA4QD9ee",
        "colab_type": "code",
        "colab": {
          "base_uri": "https://localhost:8080/",
          "height": 281
        },
        "outputId": "55f4ceda-d48c-4992-f1f2-a8b4e24b0a93"
      },
      "source": [
        "# plot loss during training\n",
        " define \n",
        "plt.subplot(211)\n",
        "plt.title('Loss')\n",
        "plt.plot(history.history['loss'], label='train')\n",
        "plt.plot(history.history['val_loss'], label='actual test dataset')\n",
        "plt.legend()\n",
        "# plot accuracy during training\n",
        "plt.subplot(212)\n",
        "plt.title('Accuracy')\n",
        "plt.plot(history.history['accuracy'], label='train')\n",
        "plt.plot(history.history['val_accuracy'], label='actual test dataset')\n",
        "plt.legend()\n",
        "plt.show()"
      ],
      "execution_count": null,
      "outputs": [
        {
          "output_type": "display_data",
          "data": {
            "image/png": "[encoded data removed]",
            "text/plain": [
              "<Figure size 432x288 with 2 Axes>"
            ]
          },
          "metadata": {
            "tags": [],
            "needs_background": "light"
          }
        }
      ]
    },
    {
      "cell_type": "code",
      "metadata": {
        "id": "srFyXvkqeOVq",
        "colab_type": "code",
        "colab": {}
      },
      "source": [
        "# printing , below graph shows loss and accuracy for train and validation dataset \n",
        "print(history.history.keys())\n",
        "\n",
        "plotmodel(history)"
      ],
      "execution_count": null,
      "outputs": []
    },
    {
      "cell_type": "code",
      "metadata": {
        "id": "vZXVwEvQeOWE",
        "colab_type": "code",
        "colab": {}
      },
      "source": [
        "# MODEL Training using data augmentaion "
      ],
      "execution_count": null,
      "outputs": []
    },
    {
      "cell_type": "code",
      "metadata": {
        "id": "nf6oQHrYeOWJ",
        "colab_type": "code",
        "colab": {}
      },
      "source": [
        "# generating more data using the existing data\n",
        "#Randomly Zoom by 10% some training images\n",
        "#Randomly shift images horizontally by 10% of the width\n",
        "#Randomly shift images vertically by 10% of the height\n",
        "#Randomly flip images horizontally.\n",
        "#from tf.keras.preprocessing.image import ImageDataGenerator\n",
        "\n",
        "datagen = ImageDataGenerator(zca_epsilon=0,\n",
        "                            #width_shift_range = 0.1,\n",
        "                            horizontal_flip = True,\n",
        "                            fill_mode='reflect',\n",
        "                            )\n",
        "    \n",
        "#datagen.fit(X_train1)\n",
        "\n"
      ],
      "execution_count": null,
      "outputs": []
    },
    {
      "cell_type": "code",
      "metadata": {
        "id": "jt3ZlWgueOW8",
        "colab_type": "code",
        "colab": {}
      },
      "source": [
        "test_generator = ImageDataGenerator(zca_epsilon=0,\n",
        "                               horizontal_flip=True,\n",
        "                               fill_mode='reflect',)\n",
        "#test_generator.fit(X_test1, seed=0, augment=True)"
      ],
      "execution_count": null,
      "outputs": []
    },
    {
      "cell_type": "code",
      "metadata": {
        "id": "-j9eoEvRj4-t",
        "colab_type": "code",
        "colab": {
          "base_uri": "https://localhost:8080/",
          "height": 52
        },
        "outputId": "e3aef3f0-2da7-4bad-df55-a06c662163e1"
      },
      "source": [
        "reset model"
      ],
      "execution_count": null,
      "outputs": [
        {
          "output_type": "stream",
          "text": [
            "Once deleted, variables cannot be recovered. Proceed (y/[n])? y\n",
            "Don't know how to reset  model, please run `%reset?` for details\n"
          ],
          "name": "stdout"
        }
      ]
    },
    {
      "cell_type": "code",
      "metadata": {
        "id": "CudpZfsheOXB",
        "colab_type": "code",
        "colab": {
          "base_uri": "https://localhost:8080/",
          "height": 1000
        },
        "outputId": "2a54cd1e-d524-47c5-f2f3-1e117ebde9b1"
      },
      "source": [
        "# retraining the model\n",
        "\n",
        "#history = model.fit_generator(datagen.flow(X_train1, y_train1, batch_size = 32), epochs = 10, validation_data=(X_test1, y_test1))\n",
        "#                                    workers=4)\n",
        "# get batch iterator for training\n",
        "train_iterator = datagen.flow(X_train1, y_train1)\n",
        "# get batch iterator for test1\n",
        "val_iterator = datagen.flow(X_test1, y_test1)\n",
        "# fit model\n",
        "history = model.fit_generator(train_iterator, validation_data=val_iterator, epochs = 30)"
      ],
      "execution_count": null,
      "outputs": [
        {
          "output_type": "stream",
          "text": [
            "Epoch 1/30\n",
            "1250/1250 [==============================] - 22s 18ms/step - loss: 1.6503 - accuracy: 0.3924 - val_loss: 1.3075 - val_accuracy: 0.5291\n",
            "Epoch 2/30\n",
            "1250/1250 [==============================] - 21s 17ms/step - loss: 1.2342 - accuracy: 0.5546 - val_loss: 1.1097 - val_accuracy: 0.5969\n",
            "Epoch 3/30\n",
            "1250/1250 [==============================] - 21s 17ms/step - loss: 1.0602 - accuracy: 0.6222 - val_loss: 0.9666 - val_accuracy: 0.6543\n",
            "Epoch 4/30\n",
            "1250/1250 [==============================] - 21s 17ms/step - loss: 0.9518 - accuracy: 0.6633 - val_loss: 0.8978 - val_accuracy: 0.6809\n",
            "Epoch 5/30\n",
            "1250/1250 [==============================] - 22s 18ms/step - loss: 0.8822 - accuracy: 0.6902 - val_loss: 0.9063 - val_accuracy: 0.6754\n",
            "Epoch 6/30\n",
            "1250/1250 [==============================] - 22s 17ms/step - loss: 0.8247 - accuracy: 0.7104 - val_loss: 0.7705 - val_accuracy: 0.7305\n",
            "Epoch 7/30\n",
            "1250/1250 [==============================] - 22s 17ms/step - loss: 0.7815 - accuracy: 0.7262 - val_loss: 0.7552 - val_accuracy: 0.7434\n",
            "Epoch 8/30\n",
            "1250/1250 [==============================] - 22s 17ms/step - loss: 0.7491 - accuracy: 0.7355 - val_loss: 0.7325 - val_accuracy: 0.7492\n",
            "Epoch 9/30\n",
            "1250/1250 [==============================] - 22s 17ms/step - loss: 0.7179 - accuracy: 0.7473 - val_loss: 0.7380 - val_accuracy: 0.7430\n",
            "Epoch 10/30\n",
            "1250/1250 [==============================] - 22s 17ms/step - loss: 0.6965 - accuracy: 0.7551 - val_loss: 0.6977 - val_accuracy: 0.7550\n",
            "Epoch 11/30\n",
            "1250/1250 [==============================] - 22s 17ms/step - loss: 0.6808 - accuracy: 0.7615 - val_loss: 0.6745 - val_accuracy: 0.7630\n",
            "Epoch 12/30\n",
            "1250/1250 [==============================] - 22s 18ms/step - loss: 0.6656 - accuracy: 0.7651 - val_loss: 0.6686 - val_accuracy: 0.7698\n",
            "Epoch 13/30\n",
            "1250/1250 [==============================] - 22s 18ms/step - loss: 0.6533 - accuracy: 0.7731 - val_loss: 0.6396 - val_accuracy: 0.7743\n",
            "Epoch 14/30\n",
            "1250/1250 [==============================] - 22s 17ms/step - loss: 0.6377 - accuracy: 0.7774 - val_loss: 0.6798 - val_accuracy: 0.7654\n",
            "Epoch 15/30\n",
            "1250/1250 [==============================] - 22s 17ms/step - loss: 0.6298 - accuracy: 0.7813 - val_loss: 0.6659 - val_accuracy: 0.7690\n",
            "Epoch 16/30\n",
            "1250/1250 [==============================] - 22s 17ms/step - loss: 0.6170 - accuracy: 0.7850 - val_loss: 0.6524 - val_accuracy: 0.7742\n",
            "Epoch 17/30\n",
            "1250/1250 [==============================] - 22s 17ms/step - loss: 0.6079 - accuracy: 0.7894 - val_loss: 0.6328 - val_accuracy: 0.7834\n",
            "Epoch 18/30\n",
            "1250/1250 [==============================] - 21s 17ms/step - loss: 0.6027 - accuracy: 0.7897 - val_loss: 0.6685 - val_accuracy: 0.7692\n",
            "Epoch 19/30\n",
            "1250/1250 [==============================] - 21s 17ms/step - loss: 0.6009 - accuracy: 0.7912 - val_loss: 0.6198 - val_accuracy: 0.7896\n",
            "Epoch 20/30\n",
            "1250/1250 [==============================] - 21s 17ms/step - loss: 0.5900 - accuracy: 0.7944 - val_loss: 0.6179 - val_accuracy: 0.7925\n",
            "Epoch 21/30\n",
            "1250/1250 [==============================] - 21s 17ms/step - loss: 0.5856 - accuracy: 0.7964 - val_loss: 0.6386 - val_accuracy: 0.7813\n",
            "Epoch 22/30\n",
            "1250/1250 [==============================] - 22s 17ms/step - loss: 0.5821 - accuracy: 0.7966 - val_loss: 0.6378 - val_accuracy: 0.7856\n",
            "Epoch 23/30\n",
            "1250/1250 [==============================] - 21s 17ms/step - loss: 0.5771 - accuracy: 0.7982 - val_loss: 0.5994 - val_accuracy: 0.7969\n",
            "Epoch 24/30\n",
            "1250/1250 [==============================] - 21s 17ms/step - loss: 0.5741 - accuracy: 0.8021 - val_loss: 0.6107 - val_accuracy: 0.7903\n",
            "Epoch 25/30\n",
            "1250/1250 [==============================] - 22s 17ms/step - loss: 0.5603 - accuracy: 0.8037 - val_loss: 0.6227 - val_accuracy: 0.7930\n",
            "Epoch 26/30\n",
            "1250/1250 [==============================] - 22s 17ms/step - loss: 0.5702 - accuracy: 0.8021 - val_loss: 0.6305 - val_accuracy: 0.7870\n",
            "Epoch 27/30\n",
            "1250/1250 [==============================] - 22s 18ms/step - loss: 0.5610 - accuracy: 0.8060 - val_loss: 0.6458 - val_accuracy: 0.7781\n",
            "Epoch 28/30\n",
            "1250/1250 [==============================] - 22s 17ms/step - loss: 0.5559 - accuracy: 0.8078 - val_loss: 0.6412 - val_accuracy: 0.7805\n",
            "Epoch 29/30\n",
            "1250/1250 [==============================] - 22s 17ms/step - loss: 0.5584 - accuracy: 0.8038 - val_loss: 0.6593 - val_accuracy: 0.7700\n",
            "Epoch 30/30\n",
            "1250/1250 [==============================] - 22s 17ms/step - loss: 0.5489 - accuracy: 0.8101 - val_loss: 0.6342 - val_accuracy: 0.7844\n"
          ],
          "name": "stdout"
        }
      ]
    },
    {
      "cell_type": "code",
      "metadata": {
        "id": "T24rz9xQeOXf",
        "colab_type": "code",
        "colab": {
          "base_uri": "https://localhost:8080/",
          "height": 35
        },
        "outputId": "794748a4-5fec-4b43-d000-6e4591783f8b"
      },
      "source": [
        "# Evaluate the model for test data\n",
        "#test_loss, test_acc = model.evaluate(X_test1,  y_test1, verbose=2)\n",
        "# get batch iterator for testing\n",
        "test_iterator = datagen.flow(X_test, y_test)\n",
        "# evaluate model loss on test dataset\n",
        "test_loss, test_acc = model.evaluate_generator(test_iterator, verbose=2)"
      ],
      "execution_count": null,
      "outputs": [
        {
          "output_type": "stream",
          "text": [
            "313/313 - 2s - loss: 0.6334 - accuracy: 0.7853\n"
          ],
          "name": "stdout"
        }
      ]
    },
    {
      "cell_type": "code",
      "metadata": {
        "id": "CcwNGIw9eOXo",
        "colab_type": "code",
        "colab": {}
      },
      "source": [
        "# printing , below graph shows overfitting train accuracy good but test accuracy down ,difference is there \n",
        "print(history.history.keys())\n",
        "plotmodel(history)"
      ],
      "execution_count": null,
      "outputs": []
    },
    {
      "cell_type": "code",
      "metadata": {
        "id": "YNAO7YVdnnhS",
        "colab_type": "code",
        "colab": {
          "base_uri": "https://localhost:8080/",
          "height": 281
        },
        "outputId": "d589ee13-1403-49d3-e339-fd35a3762a5e"
      },
      "source": [
        "# plot loss during training\n",
        "plt.subplot(211)\n",
        "plt.title('Loss')\n",
        "plt.plot(history.history['loss'], label='train')\n",
        "plt.plot(history.history['val_loss'], label='validation-augment dataset')\n",
        "plt.legend()\n",
        "# plot accuracy during training\n",
        "plt.subplot(212)\n",
        "plt.title('Accuracy')\n",
        "plt.plot(history.history['accuracy'], label='train')\n",
        "plt.plot(history.history['val_accuracy'], label='validation-augment dataset')\n",
        "plt.legend()\n",
        "plt.show()"
      ],
      "execution_count": null,
      "outputs": [
        {
          "output_type": "display_data",
          "data": {
            "image/png": "[encoded data removed]",
            "text/plain": [
              "<Figure size 432x288 with 2 Axes>"
            ]
          },
          "metadata": {
            "tags": [],
            "needs_background": "light"
          }
        }
      ]
    },
    {
      "cell_type": "code",
      "metadata": {
        "id": "0iE4sdZ0uKzL",
        "colab_type": "code",
        "colab": {
          "base_uri": "https://localhost:8080/",
          "height": 281
        },
        "outputId": "8fac88d9-2faf-467b-c0df-96c0b56f2f43"
      },
      "source": [
        "# plot loss during training\n",
        "plt.subplot(211)\n",
        "plt.title('Loss')\n",
        "plt.plot(history.history['loss'], label='train')\n",
        "plt.plot(history.history['val_loss'], label='actual test-augment dataset')\n",
        "plt.legend()\n",
        "# plot accuracy during training\n",
        "plt.subplot(212)\n",
        "plt.title('Accuracy')\n",
        "plt.plot(history.history['accuracy'], label='train')\n",
        "plt.plot(history.history['val_accuracy'], label='actual test-augment dataset')\n",
        "plt.legend()\n",
        "plt.show()"
      ],
      "execution_count": null,
      "outputs": [
        {
          "output_type": "display_data",
          "data": {
            "image/png": "[encoded data removed]",
            "text/plain": [
              "<Figure size 432x288 with 2 Axes>"
            ]
          },
          "metadata": {
            "tags": [],
            "needs_background": "light"
          }
        }
      ]
    },
    {
      "cell_type": "code",
      "metadata": {
        "id": "Z6ua6elZeOX3",
        "colab_type": "code",
        "colab": {}
      },
      "source": [
        ""
      ],
      "execution_count": null,
      "outputs": []
    }
  ]
}